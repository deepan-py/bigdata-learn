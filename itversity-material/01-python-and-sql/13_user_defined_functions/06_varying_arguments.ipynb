{
 "cells": [
  {
   "cell_type": "markdown",
   "metadata": {},
   "source": [
    "## Varying Arguments\n",
    "\n",
    "In Python we can pass different number of arguments of same type while invoking functions. Let's talk about Varying arguments.\n",
    "* At times we might want to pass values of same type as arguments and we might not know how many of them.\n",
    "* In that scenario we can leverage the concept of Varying arguments.\n",
    "* The parameter which accepts Varying arguments should have `*` at the beginning - example: `*phone_numbers`.\n",
    "* As part of the function body the type of the parameter will be `tuple`. In our case, as we will be passing phone numbers as strings, it will be of type `tuple` where each element will be of type string."
   ]
  },
  {
   "cell_type": "code",
   "execution_count": 1,
   "metadata": {},
   "outputs": [],
   "source": [
    "def get_invalid_phone_count(*phone_numbers, employee_id):\n",
    "    invalid_count = 0\n",
    "    for phone_number in phone_numbers:\n",
    "        if len(phone_number) < 10:\n",
    "            invalid_count += 1\n",
    "    return employee_id, invalid_count"
   ]
  },
  {
   "cell_type": "code",
   "execution_count": 2,
   "metadata": {},
   "outputs": [
    {
     "ename": "TypeError",
     "evalue": "get_invalid_phone_count() missing 1 required keyword-only argument: 'employee_id'",
     "output_type": "error",
     "traceback": [
      "\u001b[1;31m---------------------------------------------------------------------------\u001b[0m",
      "\u001b[1;31mTypeError\u001b[0m                                 Traceback (most recent call last)",
      "\u001b[1;32md:\\BIGDATA-LEARN\\data-engineering-spark-main\\itversity-material\\01-python-and-sql\\13_user_defined_functions\\06_varying_arguments.ipynb Cell 3\u001b[0m in \u001b[0;36m<cell line: 2>\u001b[1;34m()\u001b[0m\n\u001b[0;32m      <a href='vscode-notebook-cell:/d%3A/BIGDATA-LEARN/data-engineering-spark-main/itversity-material/01-python-and-sql/13_user_defined_functions/06_varying_arguments.ipynb#W2sZmlsZQ%3D%3D?line=0'>1</a>\u001b[0m s \u001b[39m=\u001b[39m \u001b[39m'\u001b[39m\u001b[39mEmployee \u001b[39m\u001b[39m{employee_id}\u001b[39;00m\u001b[39m have \u001b[39m\u001b[39m{invalid_count}\u001b[39;00m\u001b[39m invalid phones\u001b[39m\u001b[39m'\u001b[39m\n\u001b[1;32m----> <a href='vscode-notebook-cell:/d%3A/BIGDATA-LEARN/data-engineering-spark-main/itversity-material/01-python-and-sql/13_user_defined_functions/06_varying_arguments.ipynb#W2sZmlsZQ%3D%3D?line=1'>2</a>\u001b[0m employee_id, invalid_count \u001b[39m=\u001b[39m get_invalid_phone_count(\u001b[39m'\u001b[39;49m\u001b[39m1234\u001b[39;49m\u001b[39m'\u001b[39;49m, \u001b[39m'\u001b[39;49m\u001b[39m1234567890\u001b[39;49m\u001b[39m'\u001b[39;49m, \u001b[39m1\u001b[39;49m)\n",
      "\u001b[1;31mTypeError\u001b[0m: get_invalid_phone_count() missing 1 required keyword-only argument: 'employee_id'"
     ]
    }
   ],
   "source": [
    "s = 'Employee {employee_id} have {invalid_count} invalid phones'\n",
    "employee_id, invalid_count = get_invalid_phone_count('1234', '1234567890', 1) \n",
    "# argument by position will fail\n",
    "# Python interpreter cannot determine whether 1 is related to phone_numbers or employee_id"
   ]
  },
  {
   "cell_type": "code",
   "execution_count": 3,
   "metadata": {},
   "outputs": [
    {
     "ename": "TypeError",
     "evalue": "get_invalid_phone_count() got an unexpected keyword argument 'phone_numbers'",
     "output_type": "error",
     "traceback": [
      "\u001b[1;31m---------------------------------------------------------------------------\u001b[0m",
      "\u001b[1;31mTypeError\u001b[0m                                 Traceback (most recent call last)",
      "\u001b[1;32md:\\BIGDATA-LEARN\\data-engineering-spark-main\\itversity-material\\01-python-and-sql\\13_user_defined_functions\\06_varying_arguments.ipynb Cell 4\u001b[0m in \u001b[0;36m<cell line: 3>\u001b[1;34m()\u001b[0m\n\u001b[0;32m      <a href='vscode-notebook-cell:/d%3A/BIGDATA-LEARN/data-engineering-spark-main/itversity-material/01-python-and-sql/13_user_defined_functions/06_varying_arguments.ipynb#W3sZmlsZQ%3D%3D?line=0'>1</a>\u001b[0m s \u001b[39m=\u001b[39m \u001b[39m'\u001b[39m\u001b[39mEmployee \u001b[39m\u001b[39m{employee_id}\u001b[39;00m\u001b[39m have \u001b[39m\u001b[39m{invalid_count}\u001b[39;00m\u001b[39m invalid phones\u001b[39m\u001b[39m'\u001b[39m\n\u001b[0;32m      <a href='vscode-notebook-cell:/d%3A/BIGDATA-LEARN/data-engineering-spark-main/itversity-material/01-python-and-sql/13_user_defined_functions/06_varying_arguments.ipynb#W3sZmlsZQ%3D%3D?line=1'>2</a>\u001b[0m phone_numbers \u001b[39m=\u001b[39m (\u001b[39m'\u001b[39m\u001b[39m1234\u001b[39m\u001b[39m'\u001b[39m, \u001b[39m'\u001b[39m\u001b[39m1234567890\u001b[39m\u001b[39m'\u001b[39m,)\n\u001b[1;32m----> <a href='vscode-notebook-cell:/d%3A/BIGDATA-LEARN/data-engineering-spark-main/itversity-material/01-python-and-sql/13_user_defined_functions/06_varying_arguments.ipynb#W3sZmlsZQ%3D%3D?line=2'>3</a>\u001b[0m employee_id, invalid_count \u001b[39m=\u001b[39m get_invalid_phone_count(employee_id\u001b[39m=\u001b[39;49m\u001b[39m1\u001b[39;49m, phone_numbers\u001b[39m=\u001b[39;49mphone_numbers)\n",
      "\u001b[1;31mTypeError\u001b[0m: get_invalid_phone_count() got an unexpected keyword argument 'phone_numbers'"
     ]
    }
   ],
   "source": [
    "s = 'Employee {employee_id} have {invalid_count} invalid phones'\n",
    "phone_numbers = ('1234', '1234567890',)\n",
    "employee_id, invalid_count = get_invalid_phone_count(employee_id=1, phone_numbers=phone_numbers) \n",
    "# argument by name will fail\n",
    "# This will fail as we cannot pass varrying argument using keyword"
   ]
  },
  {
   "cell_type": "code",
   "execution_count": 5,
   "metadata": {},
   "outputs": [],
   "source": [
    "s = 'Employee {employee_id} have {invalid_count} invalid phones'\n",
    "employee_id, invalid_count = get_invalid_phone_count('1234', '1234567890', employee_id=1) "
   ]
  },
  {
   "cell_type": "code",
   "execution_count": 6,
   "metadata": {},
   "outputs": [
    {
     "name": "stdout",
     "output_type": "stream",
     "text": [
      "Employee 1 have 1 invalid phones\n"
     ]
    }
   ],
   "source": [
    "print(s.format(employee_id=employee_id, invalid_count=invalid_count))"
   ]
  },
  {
   "cell_type": "code",
   "execution_count": 10,
   "metadata": {},
   "outputs": [],
   "source": [
    "def get_invalid_phone_count(employee_id, *phone_numbers):\n",
    "    print(f'Length of phone_numbers is: {len(phone_numbers)}')\n",
    "    print(f'Type of phone_numbers is: {type(phone_numbers)}')\n",
    "    print(f'Type of each phone number is: {type(phone_numbers[0])}')\n",
    "    print(phone_numbers)\n",
    "    invalid_count = 0\n",
    "    for phone_number in phone_numbers:\n",
    "        if len(phone_number) < 10:\n",
    "            invalid_count += 1\n",
    "    return employee_id, invalid_count"
   ]
  },
  {
   "cell_type": "code",
   "execution_count": 11,
   "metadata": {},
   "outputs": [
    {
     "name": "stdout",
     "output_type": "stream",
     "text": [
      "Length of phone_numbers is: 2\n",
      "Type of phone_numbers is: <class 'tuple'>\n",
      "Type of each phone number is: <class 'str'>\n",
      "('1234', '1234567890')\n"
     ]
    }
   ],
   "source": [
    "s = 'Employee {employee_id} have {invalid_count} invalid phones'\n",
    "employee_id, invalid_count = get_invalid_phone_count(1, '1234', '1234567890') # argument by position works here"
   ]
  },
  {
   "cell_type": "code",
   "execution_count": 12,
   "metadata": {},
   "outputs": [
    {
     "name": "stdout",
     "output_type": "stream",
     "text": [
      "Employee 1 have 1 invalid phones\n"
     ]
    }
   ],
   "source": [
    "print(s.format(employee_id=employee_id, invalid_count=invalid_count))"
   ]
  },
  {
   "cell_type": "code",
   "execution_count": 13,
   "metadata": {},
   "outputs": [],
   "source": [
    "s = 'Employee {employee_id} have {invalid_count} invalid phones'\n",
    "phone_numbers = ['1234', '1234567890']"
   ]
  },
  {
   "cell_type": "code",
   "execution_count": 14,
   "metadata": {},
   "outputs": [
    {
     "name": "stdout",
     "output_type": "stream",
     "text": [
      "Length of phone_numbers is: 2\n",
      "Type of phone_numbers is: <class 'tuple'>\n",
      "Type of each phone number is: <class 'str'>\n",
      "('1234', '1234567890')\n"
     ]
    }
   ],
   "source": [
    "employee_id, invalid_count = get_invalid_phone_count(1, *phone_numbers) # argument by position works here"
   ]
  },
  {
   "cell_type": "code",
   "execution_count": 15,
   "metadata": {},
   "outputs": [
    {
     "name": "stdout",
     "output_type": "stream",
     "text": [
      "Employee 1 have 1 invalid phones\n"
     ]
    }
   ],
   "source": [
    "print(s.format(employee_id=employee_id, invalid_count=invalid_count))"
   ]
  }
 ],
 "metadata": {
  "kernelspec": {
   "display_name": "Python 3.9.7 ('.venv': venv)",
   "language": "python",
   "name": "python3"
  },
  "language_info": {
   "codemirror_mode": {
    "name": "ipython",
    "version": 3
   },
   "file_extension": ".py",
   "mimetype": "text/x-python",
   "name": "python",
   "nbconvert_exporter": "python",
   "pygments_lexer": "ipython3",
   "version": "3.9.7"
  },
  "vscode": {
   "interpreter": {
    "hash": "46f0a31c712fae978552423cd449f57e5b5d767792a57b626d08194debebc25c"
   }
  }
 },
 "nbformat": 4,
 "nbformat_minor": 4
}
