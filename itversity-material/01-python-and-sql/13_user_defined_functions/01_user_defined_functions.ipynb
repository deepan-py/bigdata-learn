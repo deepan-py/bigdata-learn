{
 "cells": [
  {
   "cell_type": "markdown",
   "metadata": {
    "pycharm": {
     "name": "#%% md"
    }
   },
   "source": [
    "# User Defined Functions\n",
    "\n",
    "Let us go through the details related to custom functions developed by users as part of the applications.\n",
    "* Defining Functions\n",
    "* Doc Strings\n",
    "* Returning Values\n",
    "* Function Parameters and Arguments\n",
    "* Varying Arguments\n",
    "* Keyword Arguments\n",
    "* Recap of User Defined Functions\n",
    "* Passing Functions as Arguments\n",
    "* Lambda Functions\n",
    "* Usage of Lambda Functions\n",
    "* Exercise - User Defined Functions"
   ]
  },
  {
   "cell_type": "code",
   "execution_count": null,
   "metadata": {},
   "outputs": [],
   "source": []
  }
 ],
 "metadata": {
  "kernelspec": {
   "display_name": "Python 3.9.7 ('.venv': venv)",
   "language": "python",
   "name": "python3"
  },
  "language_info": {
   "codemirror_mode": {
    "name": "ipython",
    "version": 3
   },
   "file_extension": ".py",
   "mimetype": "text/x-python",
   "name": "python",
   "nbconvert_exporter": "python",
   "pygments_lexer": "ipython3",
   "version": "3.9.7"
  },
  "vscode": {
   "interpreter": {
    "hash": "46f0a31c712fae978552423cd449f57e5b5d767792a57b626d08194debebc25c"
   }
  }
 },
 "nbformat": 4,
 "nbformat_minor": 4
}
