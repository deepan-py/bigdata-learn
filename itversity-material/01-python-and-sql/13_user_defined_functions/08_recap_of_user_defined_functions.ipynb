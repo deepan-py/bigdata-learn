{
 "cells": [
  {
   "cell_type": "markdown",
   "metadata": {},
   "source": [
    "## Recap of User Defined Functions\n",
    "\n",
    "As we have gone through all the key concepts related to User Defined Functions, let us recap them.\n",
    "* Defining the function with parameters\n",
    "* Relevance of Doc Strings\n",
    "* Returning one or more values\n",
    "* Defining default values to the parameters\n",
    "* Passing argument by position\n",
    "* Keyword arguments or passing argument by name\n",
    "* Different types of special arguments and how they are passed.\n",
    "  * Varying arguments are passed as tuple\n",
    "  * Varying keyword arguments are passed as dict\n",
    "\n",
    "Come back to this once you are done with collections where processing tuples, lists, dicts etc are extensively covered. When you are comfortable, create a function called as **add_employee** which will put all the concepts related to User Defined Functions in action.\n",
    "\n",
    "* Function should take **employee_id**, **employee_name**, **salary**, **phone_numbers** (variable number), **degrees** (variable keyword arguments) as parameters.\n",
    "* We should be able to pass multiple phone numbers as argument for **phone_numbers**\n",
    "* Degrees should be with specialization. There can be one or more degrees with specializations with keys **bachelors**, **masters**, **executive**, **doctorate**.\n",
    "* Make sure **salary** is defaulted to **3000**. If salary is passed and if it is less than **3000** print a message **Invalid salary: {salary}, salary should be at least 3000**\n",
    "* To get invalid phone count, create a function **get_invalid_phone_count** which takes employee_id and varrying phone numbers as argument. The function should return **employee_id** and **invalid_phone_count**.\n",
    "* A phone number which have 10 digits or characters is valid otherwise it is invalid.\n",
    "* Call get_invalid_phone_count and check if **invalid_phone_count** is greater than 0. If invalid phone count is greater than 0, print a message **{l_invalid_count} phone numbers out of {len(phone_numbers)} are not valid**\n",
    "* Get count of degrees by processing variable keyword argument. If there are any invalid degrees print **One or more degrees are not valid**\n",
    "* If all the values passed as arguments are valid  print **Employee {employee_id} with {number} of degrees is successfully added and his salary is {}**"
   ]
  },
  {
   "cell_type": "code",
   "execution_count": 1,
   "metadata": {},
   "outputs": [],
   "source": [
    "def get_invalid_phone_count(employee_id, *phone_numbers):\n",
    "    invalid_count = 0\n",
    "    for phone_number in phone_numbers:\n",
    "        if len(phone_number) != 10:\n",
    "            invalid_count += 1\n",
    "    return employee_id, invalid_count"
   ]
  },
  {
   "cell_type": "code",
   "execution_count": 13,
   "metadata": {},
   "outputs": [],
   "source": [
    "def add_employee(employee_id, employee_name, *phone_numbers, salary=3000, **degrees):\n",
    "    print(salary)\n",
    "    print(phone_numbers)\n",
    "    degree_types = ('bachelors', 'masters', 'executive', 'doctorate')\n",
    "    invalid_degree_flag = False\n",
    "    invalid_salary_flag = False\n",
    "    l_employee_id, l_invalid_count = get_invalid_phone_count(employee_id, *phone_numbers)\n",
    "    if l_invalid_count != 0:\n",
    "        print(f'{l_invalid_count} phone numbers out of {len(phone_numbers)} are not valid')    \n",
    "\n",
    "    if salary < 3000:\n",
    "        invalid_salary_flag = True\n",
    "        print(f'Invalid salary: {salary}, salary should be at least 3000')\n",
    "\n",
    "    for degree_key in degrees:\n",
    "        if degree_key not in degree_types:\n",
    "            invalid_degree_flag = True\n",
    "    \n",
    "    if l_invalid_count != 0 or invalid_degree_flag or invalid_salary_flag:\n",
    "        if invalid_degree_flag: print('One or more degrees are not valid')\n",
    "        return\n",
    "\n",
    "    print('Employee {} with {} degrees is successfully added and his salary is {}'.format(employee_id, len(degrees), salary))\n",
    "    return\n"
   ]
  },
  {
   "cell_type": "code",
   "execution_count": 14,
   "metadata": {},
   "outputs": [
    {
     "name": "stdout",
     "output_type": "stream",
     "text": [
      "3000\n",
      "('1234567890', '1234567890', 5000)\n"
     ]
    },
    {
     "ename": "TypeError",
     "evalue": "object of type 'int' has no len()",
     "output_type": "error",
     "traceback": [
      "\u001b[1;31m---------------------------------------------------------------------------\u001b[0m",
      "\u001b[1;31mTypeError\u001b[0m                                 Traceback (most recent call last)",
      "\u001b[1;32md:\\BIGDATA-LEARN\\data-engineering-spark-main\\itversity-material\\01-python-and-sql\\13_user_defined_functions\\08_recap_of_user_defined_functions.ipynb Cell 4\u001b[0m in \u001b[0;36m<cell line: 1>\u001b[1;34m()\u001b[0m\n\u001b[1;32m----> <a href='vscode-notebook-cell:/d%3A/BIGDATA-LEARN/data-engineering-spark-main/itversity-material/01-python-and-sql/13_user_defined_functions/08_recap_of_user_defined_functions.ipynb#X13sZmlsZQ%3D%3D?line=0'>1</a>\u001b[0m add_employee(\u001b[39m1\u001b[39;49m, \u001b[39m'\u001b[39;49m\u001b[39mIT\u001b[39;49m\u001b[39m'\u001b[39;49m, \u001b[39m'\u001b[39;49m\u001b[39m1234567890\u001b[39;49m\u001b[39m'\u001b[39;49m, \u001b[39m'\u001b[39;49m\u001b[39m1234567890\u001b[39;49m\u001b[39m'\u001b[39;49m, \u001b[39m5000\u001b[39;49m, b\u001b[39m=\u001b[39;49m\u001b[39m'\u001b[39;49m\u001b[39mB. Sc\u001b[39;49m\u001b[39m'\u001b[39;49m, m\u001b[39m=\u001b[39;49m\u001b[39m'\u001b[39;49m\u001b[39mM. C. A\u001b[39;49m\u001b[39m'\u001b[39;49m)\n",
      "\u001b[1;32md:\\BIGDATA-LEARN\\data-engineering-spark-main\\itversity-material\\01-python-and-sql\\13_user_defined_functions\\08_recap_of_user_defined_functions.ipynb Cell 4\u001b[0m in \u001b[0;36madd_employee\u001b[1;34m(employee_id, employee_name, salary, *phone_numbers, **degrees)\u001b[0m\n\u001b[0;32m      <a href='vscode-notebook-cell:/d%3A/BIGDATA-LEARN/data-engineering-spark-main/itversity-material/01-python-and-sql/13_user_defined_functions/08_recap_of_user_defined_functions.ipynb#X13sZmlsZQ%3D%3D?line=4'>5</a>\u001b[0m invalid_degree_flag \u001b[39m=\u001b[39m \u001b[39mFalse\u001b[39;00m\n\u001b[0;32m      <a href='vscode-notebook-cell:/d%3A/BIGDATA-LEARN/data-engineering-spark-main/itversity-material/01-python-and-sql/13_user_defined_functions/08_recap_of_user_defined_functions.ipynb#X13sZmlsZQ%3D%3D?line=5'>6</a>\u001b[0m invalid_salary_flag \u001b[39m=\u001b[39m \u001b[39mFalse\u001b[39;00m\n\u001b[1;32m----> <a href='vscode-notebook-cell:/d%3A/BIGDATA-LEARN/data-engineering-spark-main/itversity-material/01-python-and-sql/13_user_defined_functions/08_recap_of_user_defined_functions.ipynb#X13sZmlsZQ%3D%3D?line=6'>7</a>\u001b[0m l_employee_id, l_invalid_count \u001b[39m=\u001b[39m get_invalid_phone_count(employee_id, \u001b[39m*\u001b[39;49mphone_numbers)\n\u001b[0;32m      <a href='vscode-notebook-cell:/d%3A/BIGDATA-LEARN/data-engineering-spark-main/itversity-material/01-python-and-sql/13_user_defined_functions/08_recap_of_user_defined_functions.ipynb#X13sZmlsZQ%3D%3D?line=7'>8</a>\u001b[0m \u001b[39mif\u001b[39;00m l_invalid_count \u001b[39m!=\u001b[39m \u001b[39m0\u001b[39m:\n\u001b[0;32m      <a href='vscode-notebook-cell:/d%3A/BIGDATA-LEARN/data-engineering-spark-main/itversity-material/01-python-and-sql/13_user_defined_functions/08_recap_of_user_defined_functions.ipynb#X13sZmlsZQ%3D%3D?line=8'>9</a>\u001b[0m     \u001b[39mprint\u001b[39m(\u001b[39mf\u001b[39m\u001b[39m'\u001b[39m\u001b[39m{\u001b[39;00ml_invalid_count\u001b[39m}\u001b[39;00m\u001b[39m phone numbers out of \u001b[39m\u001b[39m{\u001b[39;00m\u001b[39mlen\u001b[39m(phone_numbers)\u001b[39m}\u001b[39;00m\u001b[39m are not valid\u001b[39m\u001b[39m'\u001b[39m)    \n",
      "\u001b[1;32md:\\BIGDATA-LEARN\\data-engineering-spark-main\\itversity-material\\01-python-and-sql\\13_user_defined_functions\\08_recap_of_user_defined_functions.ipynb Cell 4\u001b[0m in \u001b[0;36mget_invalid_phone_count\u001b[1;34m(employee_id, *phone_numbers)\u001b[0m\n\u001b[0;32m      <a href='vscode-notebook-cell:/d%3A/BIGDATA-LEARN/data-engineering-spark-main/itversity-material/01-python-and-sql/13_user_defined_functions/08_recap_of_user_defined_functions.ipynb#X13sZmlsZQ%3D%3D?line=1'>2</a>\u001b[0m invalid_count \u001b[39m=\u001b[39m \u001b[39m0\u001b[39m\n\u001b[0;32m      <a href='vscode-notebook-cell:/d%3A/BIGDATA-LEARN/data-engineering-spark-main/itversity-material/01-python-and-sql/13_user_defined_functions/08_recap_of_user_defined_functions.ipynb#X13sZmlsZQ%3D%3D?line=2'>3</a>\u001b[0m \u001b[39mfor\u001b[39;00m phone_number \u001b[39min\u001b[39;00m phone_numbers:\n\u001b[1;32m----> <a href='vscode-notebook-cell:/d%3A/BIGDATA-LEARN/data-engineering-spark-main/itversity-material/01-python-and-sql/13_user_defined_functions/08_recap_of_user_defined_functions.ipynb#X13sZmlsZQ%3D%3D?line=3'>4</a>\u001b[0m     \u001b[39mif\u001b[39;00m \u001b[39mlen\u001b[39;49m(phone_number) \u001b[39m!=\u001b[39m \u001b[39m10\u001b[39m:\n\u001b[0;32m      <a href='vscode-notebook-cell:/d%3A/BIGDATA-LEARN/data-engineering-spark-main/itversity-material/01-python-and-sql/13_user_defined_functions/08_recap_of_user_defined_functions.ipynb#X13sZmlsZQ%3D%3D?line=4'>5</a>\u001b[0m         invalid_count \u001b[39m+\u001b[39m\u001b[39m=\u001b[39m \u001b[39m1\u001b[39m\n\u001b[0;32m      <a href='vscode-notebook-cell:/d%3A/BIGDATA-LEARN/data-engineering-spark-main/itversity-material/01-python-and-sql/13_user_defined_functions/08_recap_of_user_defined_functions.ipynb#X13sZmlsZQ%3D%3D?line=5'>6</a>\u001b[0m \u001b[39mreturn\u001b[39;00m employee_id, invalid_count\n",
      "\u001b[1;31mTypeError\u001b[0m: object of type 'int' has no len()"
     ]
    }
   ],
   "source": [
    "add_employee(1, 'IT', '1234567890', '1234567890', 5000, b='B. Sc', m='M. C. A')"
   ]
  },
  {
   "cell_type": "code",
   "execution_count": 15,
   "metadata": {},
   "outputs": [
    {
     "name": "stdout",
     "output_type": "stream",
     "text": [
      "5000\n",
      "('1234567890', '1234567890')\n",
      "One or more degrees are not valid\n"
     ]
    }
   ],
   "source": [
    "add_employee(1, 'IT', '1234567890', '1234567890', salary=5000, b='B. Sc', m='M. C. A')"
   ]
  },
  {
   "cell_type": "code",
   "execution_count": 16,
   "metadata": {},
   "outputs": [
    {
     "name": "stdout",
     "output_type": "stream",
     "text": [
      "5000\n",
      "('12345678', '1234567890')\n",
      "1 phone numbers out of 2 are not valid\n",
      "One or more degrees are not valid\n"
     ]
    }
   ],
   "source": [
    "add_employee(1, 'IT', '12345678', '1234567890', salary=5000, b='B. Sc', masters='M. C. A')"
   ]
  },
  {
   "cell_type": "code",
   "execution_count": 17,
   "metadata": {},
   "outputs": [
    {
     "name": "stdout",
     "output_type": "stream",
     "text": [
      "2000\n",
      "('12345678', '1234567890')\n",
      "1 phone numbers out of 2 are not valid\n",
      "Invalid salary: 2000, salary should be at least 3000\n"
     ]
    }
   ],
   "source": [
    "add_employee(1, 'IT', '12345678', '1234567890', salary=2000, bachelors='B. Sc', masters='M. C. A')"
   ]
  },
  {
   "cell_type": "code",
   "execution_count": 18,
   "metadata": {},
   "outputs": [
    {
     "name": "stdout",
     "output_type": "stream",
     "text": [
      "5000\n",
      "('1234567890', '1234567890')\n",
      "Employee 1 with 2 degrees is successfully added and his salary is 5000\n"
     ]
    }
   ],
   "source": [
    "add_employee(1, 'IT', '1234567890', '1234567890', salary=5000, bachelors='B. Sc', masters='M. C. A')"
   ]
  },
  {
   "cell_type": "code",
   "execution_count": 19,
   "metadata": {},
   "outputs": [],
   "source": [
    "def add_employee(employee_id, employee_name, *phone_numbers, salary=3000, **degrees):\n",
    "    \"\"\"Example using pre defined exception ValueError\"\"\"\n",
    "    degree_types = ('bachelors', 'masters', 'executive', 'doctorate')\n",
    "    try:\n",
    "        l_employee_id, l_invalid_count = get_invalid_phone_count(employee_id, *phone_numbers)\n",
    "        if l_invalid_count != 0 or salary < 3000:\n",
    "            raise ValueError\n",
    "              \n",
    "        for degree_key in degrees:\n",
    "            if degree_key not in degree_types:\n",
    "                raise ValueError\n",
    "\n",
    "        print('Employee {} with {} degrees is successfully added and his salary is {}'.format(employee_id, len(degrees), salary))\n",
    "\n",
    "    except ValueError as ve:\n",
    "        print('Either one or more phone numbers are not valid or invalid salary, salary should be at least 3000 or one or more degrees are not correct')"
   ]
  },
  {
   "cell_type": "code",
   "execution_count": 20,
   "metadata": {},
   "outputs": [
    {
     "name": "stdout",
     "output_type": "stream",
     "text": [
      "Either one or more phone numbers are not valid or invalid salary, salary should be at least 3000 or one or more degrees are not correct\n"
     ]
    }
   ],
   "source": [
    "add_employee(1, 'IT', '1234567890', '1234567890', salary=5000, b='B. Sc', masters='M. C. A')"
   ]
  },
  {
   "cell_type": "code",
   "execution_count": 21,
   "metadata": {},
   "outputs": [
    {
     "name": "stdout",
     "output_type": "stream",
     "text": [
      "Employee 1 with 2 degrees is successfully added and his salary is 5000\n"
     ]
    }
   ],
   "source": [
    "add_employee(1, 'IT', '1234567890', '1234567890', salary=5000, bachelors='B. Sc', masters='M. C. A')"
   ]
  },
  {
   "cell_type": "code",
   "execution_count": 26,
   "metadata": {},
   "outputs": [
    {
     "name": "stdout",
     "output_type": "stream",
     "text": [
      "5\n",
      "{'c': 56, 'd': 46}\n"
     ]
    }
   ],
   "source": [
    "def a(b,**c):\n",
    "    print(b)\n",
    "    print(c)\n",
    "\n",
    "a(5,c=56,d=46)"
   ]
  },
  {
   "cell_type": "code",
   "execution_count": 24,
   "metadata": {},
   "outputs": [
    {
     "ename": "SyntaxError",
     "evalue": "positional argument follows keyword argument (2941847375.py, line 1)",
     "output_type": "error",
     "traceback": [
      "\u001b[1;36m  Input \u001b[1;32mIn [24]\u001b[1;36m\u001b[0m\n\u001b[1;33m    a(5,c=56,d=46,11)\u001b[0m\n\u001b[1;37m                    ^\u001b[0m\n\u001b[1;31mSyntaxError\u001b[0m\u001b[1;31m:\u001b[0m positional argument follows keyword argument\n"
     ]
    }
   ],
   "source": [
    "a(5,c=56,d=46,11)"
   ]
  }
 ],
 "metadata": {
  "kernelspec": {
   "display_name": "Python 3.9.7 ('.venv': venv)",
   "language": "python",
   "name": "python3"
  },
  "language_info": {
   "codemirror_mode": {
    "name": "ipython",
    "version": 3
   },
   "file_extension": ".py",
   "mimetype": "text/x-python",
   "name": "python",
   "nbconvert_exporter": "python",
   "pygments_lexer": "ipython3",
   "version": "3.9.7"
  },
  "vscode": {
   "interpreter": {
    "hash": "46f0a31c712fae978552423cd449f57e5b5d767792a57b626d08194debebc25c"
   }
  }
 },
 "nbformat": 4,
 "nbformat_minor": 4
}
