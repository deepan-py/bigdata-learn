{
  "cells": [
    {
      "cell_type": "markdown",
      "id": "0dc6a8c1",
      "metadata": {},
      "source": [
        "## Filter for mobiles by RAM and Storage\n",
        "\n",
        "Develop a function to get mobile details for given specifications such as RAM and storage.\n",
        "* The input data will be given in list of dicts with mobile phone specifications.\n",
        "* The output should contains mobiles based up on the given ram and storage.\n",
        "* The function should take 3 arguments - list of mobile details, RAM as well as storage.\n",
        "* The output should be in form of list of dicts. It should be sorted in the ascending order by company followed by model."
      ]
    },
    {
      "cell_type": "code",
      "execution_count": 1,
      "id": "563f8262",
      "metadata": {},
      "outputs": [],
      "source": [
        "mobile_details = [{'company': 'Apple',\n",
        "  'model': 'Iphone 12',\n",
        "  'ram': 4,\n",
        "  'storage': 256,\n",
        "  'os': 'iOS'},\n",
        " {'company': 'Xiaomi',\n",
        "  'model': 'Redmi 9',\n",
        "  'ram': 4,\n",
        "  'storage': 64,\n",
        "  'os': 'android'},\n",
        " {'company': 'One plus',\n",
        "  'model': 'One plus 9R',\n",
        "  'ram': 6,\n",
        "  'storage': 128,\n",
        "  'os': 'android'},\n",
        " {'company': 'Samsung',\n",
        "  'model': 'Galaxy M32',\n",
        "  'ram': 4,\n",
        "  'storage': 64,\n",
        "  'os': 'android'},\n",
        " {'company': 'Xiaomi',\n",
        "  'model': 'Redmi note 10 pro',\n",
        "  'ram': 8,\n",
        "  'storage': 128,\n",
        "  'os': 'android'},\n",
        " {'company': 'One plus',\n",
        "  'model': 'One plus Nord',\n",
        "  'ram': 4,\n",
        "  'storage': 128,\n",
        "  'os': 'android'},\n",
        " {'company': 'Apple',\n",
        "  'model': 'Iphone X',\n",
        "  'ram': 4,\n",
        "  'storage': 256,\n",
        "  'os': 'android'},\n",
        " {'company': 'Oppo',\n",
        "  'model': 'Oppo A31',\n",
        "  'ram': 4,\n",
        "  'storage': 64,\n",
        "  'os': 'iOS'}]"
      ]
    },
    {
      "cell_type": "markdown",
      "id": "8c8fca5a",
      "metadata": {},
      "source": [
        "### Step 1: Preview the data\n",
        "* Let us first preview the data."
      ]
    },
    {
      "cell_type": "code",
      "execution_count": 2,
      "id": "1d7e68a9",
      "metadata": {},
      "outputs": [
        {
          "data": {
            "text/plain": [
              "[{'company': 'Apple',\n",
              "  'model': 'Iphone 12',\n",
              "  'ram': 4,\n",
              "  'storage': 256,\n",
              "  'os': 'iOS'},\n",
              " {'company': 'Xiaomi',\n",
              "  'model': 'Redmi 9',\n",
              "  'ram': 4,\n",
              "  'storage': 64,\n",
              "  'os': 'android'},\n",
              " {'company': 'One plus',\n",
              "  'model': 'One plus 9R',\n",
              "  'ram': 6,\n",
              "  'storage': 128,\n",
              "  'os': 'android'}]"
            ]
          },
          "execution_count": 2,
          "metadata": {},
          "output_type": "execute_result"
        }
      ],
      "source": [
        "mobile_details[:3]"
      ]
    },
    {
      "cell_type": "code",
      "execution_count": 3,
      "id": "56fad361",
      "metadata": {},
      "outputs": [
        {
          "data": {
            "text/plain": [
              "list"
            ]
          },
          "execution_count": 3,
          "metadata": {},
          "output_type": "execute_result"
        }
      ],
      "source": [
        "type(mobile_details)"
      ]
    },
    {
      "cell_type": "code",
      "execution_count": 4,
      "id": "d2d67646",
      "metadata": {},
      "outputs": [
        {
          "data": {
            "text/plain": [
              "8"
            ]
          },
          "execution_count": 4,
          "metadata": {},
          "output_type": "execute_result"
        }
      ],
      "source": [
        "len(mobile_details)"
      ]
    },
    {
      "cell_type": "code",
      "execution_count": 5,
      "id": "6030eecb",
      "metadata": {},
      "outputs": [
        {
          "data": {
            "text/plain": [
              "{'company': 'Apple',\n",
              " 'model': 'Iphone 12',\n",
              " 'ram': 4,\n",
              " 'storage': 256,\n",
              " 'os': 'iOS'}"
            ]
          },
          "execution_count": 5,
          "metadata": {},
          "output_type": "execute_result"
        }
      ],
      "source": [
        "mobile_details[0]"
      ]
    },
    {
      "cell_type": "code",
      "execution_count": 6,
      "id": "b8ffad68",
      "metadata": {},
      "outputs": [
        {
          "data": {
            "text/plain": [
              "dict"
            ]
          },
          "execution_count": 6,
          "metadata": {},
          "output_type": "execute_result"
        }
      ],
      "source": [
        "type(mobile_details[0])"
      ]
    },
    {
      "cell_type": "code",
      "execution_count": 7,
      "id": "b6bf9a81",
      "metadata": {},
      "outputs": [
        {
          "data": {
            "text/plain": [
              "5"
            ]
          },
          "execution_count": 7,
          "metadata": {},
          "output_type": "execute_result"
        }
      ],
      "source": [
        "len(mobile_details[0])"
      ]
    },
    {
      "cell_type": "markdown",
      "id": "b349e225",
      "metadata": {},
      "source": [
        "### Step 2: Provide the solution\n",
        "Now come up with the solution by developing the required logic. Once the function is developed, go to the next step to take care of the validation."
      ]
    },
    {
      "cell_type": "code",
      "execution_count": 8,
      "id": "5bd2a6b5",
      "metadata": {},
      "outputs": [],
      "source": [
        "def get_mobile_details(mobile_details, ram, storage):\n",
        "    mobiles_filtered = list(filter(lambda x:x['ram']==ram and x['storage']==storage, mobile_details))\n",
        "    return mobiles_filtered"
      ]
    },
    {
      "cell_type": "markdown",
      "id": "5f1e8ebc",
      "metadata": {},
      "source": [
        "### Step 3: Validate the function\n",
        "\n",
        "Here is the expected output.\n",
        "\n",
        "```python\n",
        "[{'company': 'Oppo',\n",
        "  'model': 'Oppo A31',\n",
        "  'ram': 4,\n",
        "  'storage': 64,\n",
        "  'os': 'iOS'},\n",
        " {'company': 'Samsung',\n",
        "  'model': 'Galaxy M32',\n",
        "  'ram': 4,\n",
        "  'storage': 64,\n",
        "  'os': 'android'},\n",
        " {'company': 'Xiaomi',\n",
        "  'model': 'Redmi 9',\n",
        "  'ram': 4,\n",
        "  'storage': 64,\n",
        "  'os': 'android'}]\n",
        "```"
      ]
    },
    {
      "cell_type": "code",
      "execution_count": 9,
      "id": "6b5c713b",
      "metadata": {},
      "outputs": [],
      "source": [
        "mobile_details = get_mobile_details(mobile_details, 4, 64)"
      ]
    },
    {
      "cell_type": "code",
      "execution_count": 10,
      "id": "5234e3c2",
      "metadata": {},
      "outputs": [
        {
          "data": {
            "text/plain": [
              "[{'company': 'Xiaomi',\n",
              "  'model': 'Redmi 9',\n",
              "  'ram': 4,\n",
              "  'storage': 64,\n",
              "  'os': 'android'},\n",
              " {'company': 'Samsung',\n",
              "  'model': 'Galaxy M32',\n",
              "  'ram': 4,\n",
              "  'storage': 64,\n",
              "  'os': 'android'},\n",
              " {'company': 'Oppo',\n",
              "  'model': 'Oppo A31',\n",
              "  'ram': 4,\n",
              "  'storage': 64,\n",
              "  'os': 'iOS'}]"
            ]
          },
          "execution_count": 10,
          "metadata": {},
          "output_type": "execute_result"
        }
      ],
      "source": [
        "mobile_details"
      ]
    },
    {
      "cell_type": "code",
      "execution_count": 11,
      "id": "aca28389",
      "metadata": {},
      "outputs": [
        {
          "data": {
            "text/plain": [
              "list"
            ]
          },
          "execution_count": 11,
          "metadata": {},
          "output_type": "execute_result"
        }
      ],
      "source": [
        "type(mobile_details) # list"
      ]
    },
    {
      "cell_type": "code",
      "execution_count": 12,
      "id": "cb12e402",
      "metadata": {},
      "outputs": [
        {
          "data": {
            "text/plain": [
              "3"
            ]
          },
          "execution_count": 12,
          "metadata": {},
          "output_type": "execute_result"
        }
      ],
      "source": [
        "len(mobile_details) # 3"
      ]
    }
  ],
  "metadata": {
    "kernelspec": {
      "display_name": "Python 3.9.7 ('.venv': venv)",
      "language": "python",
      "name": "python3"
    },
    "language_info": {
      "codemirror_mode": {
        "name": "ipython",
        "version": 3
      },
      "file_extension": ".py",
      "mimetype": "text/x-python",
      "name": "python",
      "nbconvert_exporter": "python",
      "pygments_lexer": "ipython3",
      "version": "3.9.7"
    },
    "vscode": {
      "interpreter": {
        "hash": "46f0a31c712fae978552423cd449f57e5b5d767792a57b626d08194debebc25c"
      }
    }
  },
  "nbformat": 4,
  "nbformat_minor": 5
}
