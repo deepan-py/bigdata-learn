{
  "cells": [
    {
      "cell_type": "markdown",
      "id": "0ba32cdd",
      "metadata": {},
      "source": [
        "## Get Top Student by Total Score\n",
        "\n",
        "Develop a function to get the top student by total score. This is primarily to test the ability to manipulate collections, sort the data and get the ranks.\n",
        "* We will provide list of tuples with student id followed by scores for different subjects.\n",
        "* Develop a function which takes students as input and return the topper with highest total score.\n",
        "\n",
        "**Restrictions: Solve this problem either by using conventional loops or first class functions such as `map`. You are not supposed to use Pandas.**"
      ]
    },
    {
      "cell_type": "code",
      "execution_count": 1,
      "id": "5db4bb73",
      "metadata": {},
      "outputs": [],
      "source": [
        "students = [(1, 72, 72, 74), (2, 69, 90, 88), (3, 90, 95, 93), (4, 47, 47, 44), (5, 76, 78, 75), (6, 71, 83, 78)]"
      ]
    },
    {
      "cell_type": "markdown",
      "id": "44371aeb",
      "metadata": {},
      "source": [
        "### Step 1: Preview the data\n",
        "\n",
        "Let us first preview the data."
      ]
    },
    {
      "cell_type": "code",
      "execution_count": 2,
      "id": "91f9e762",
      "metadata": {},
      "outputs": [
        {
          "data": {
            "text/plain": [
              "[(1, 72, 72, 74),\n",
              " (2, 69, 90, 88),\n",
              " (3, 90, 95, 93),\n",
              " (4, 47, 47, 44),\n",
              " (5, 76, 78, 75),\n",
              " (6, 71, 83, 78)]"
            ]
          },
          "execution_count": 2,
          "metadata": {},
          "output_type": "execute_result"
        }
      ],
      "source": [
        "students"
      ]
    },
    {
      "cell_type": "code",
      "execution_count": 3,
      "id": "fb83bd1f",
      "metadata": {},
      "outputs": [
        {
          "data": {
            "text/plain": [
              "list"
            ]
          },
          "execution_count": 3,
          "metadata": {},
          "output_type": "execute_result"
        }
      ],
      "source": [
        "type(students)"
      ]
    },
    {
      "cell_type": "code",
      "execution_count": 4,
      "id": "5dc6b885",
      "metadata": {},
      "outputs": [
        {
          "data": {
            "text/plain": [
              "6"
            ]
          },
          "execution_count": 4,
          "metadata": {},
          "output_type": "execute_result"
        }
      ],
      "source": [
        "len(students)"
      ]
    },
    {
      "cell_type": "markdown",
      "id": "9147518f",
      "metadata": {},
      "source": [
        "### Step 2: Provide the solution\n",
        "\n",
        "Now come up with the solution by developing the required logic. Once the function is developed, go to the next step to take care of the validation."
      ]
    },
    {
      "cell_type": "code",
      "execution_count": 16,
      "id": "f0b5cf56",
      "metadata": {},
      "outputs": [],
      "source": [
        "def get_topper_by_total_score(students):\n",
        "    topper_by_total_score = sorted(map(lambda x:(x[0], sum(x[0:])), students), key=lambda x:-x[1])[0][0]\n",
        "    return topper_by_total_score"
      ]
    },
    {
      "cell_type": "markdown",
      "id": "a6d20d0b",
      "metadata": {},
      "source": [
        "### Step 3: Validate the function\n",
        "\n",
        "Let us validate the function by running below cells.\n",
        "* The student id with highest total score is **3**."
      ]
    },
    {
      "cell_type": "code",
      "execution_count": 17,
      "id": "2f0631c3",
      "metadata": {},
      "outputs": [
        {
          "data": {
            "text/plain": [
              "3"
            ]
          },
          "execution_count": 17,
          "metadata": {},
          "output_type": "execute_result"
        }
      ],
      "source": [
        "topper_by_total_score = get_topper_by_total_score(students)\n",
        "topper_by_total_score"
      ]
    },
    {
      "cell_type": "code",
      "execution_count": 18,
      "id": "275ec79a",
      "metadata": {},
      "outputs": [
        {
          "data": {
            "text/plain": [
              "int"
            ]
          },
          "execution_count": 18,
          "metadata": {},
          "output_type": "execute_result"
        }
      ],
      "source": [
        "type(topper_by_total_score) # int"
      ]
    }
  ],
  "metadata": {
    "kernelspec": {
      "display_name": "Python 3.9.7 ('.venv': venv)",
      "language": "python",
      "name": "python3"
    },
    "language_info": {
      "codemirror_mode": {
        "name": "ipython",
        "version": 3
      },
      "file_extension": ".py",
      "mimetype": "text/x-python",
      "name": "python",
      "nbconvert_exporter": "python",
      "pygments_lexer": "ipython3",
      "version": "3.9.7"
    },
    "vscode": {
      "interpreter": {
        "hash": "46f0a31c712fae978552423cd449f57e5b5d767792a57b626d08194debebc25c"
      }
    }
  },
  "nbformat": 4,
  "nbformat_minor": 5
}
