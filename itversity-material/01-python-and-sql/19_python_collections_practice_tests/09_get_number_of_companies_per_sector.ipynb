{
  "cells": [
    {
      "cell_type": "markdown",
      "id": "e6f3f187",
      "metadata": {},
      "source": [
        "## Get number of companies per sector\n",
        "\n",
        "Develop the function to get the number of companies per sector. As part of this Python Practice Test, we are primarily evaluating the ability to manipulate the dicts especially to group by a key and perform aggregations.\n",
        "* This scanerio can be solved by the help of conventional loops or itertools.\n",
        "* The input dictionary contains the name of company and it's sector.\n",
        "* The output dictionary should contain sector as key and number of companies per sector as it's values. \n",
        "* The output dictionary should be sorted in ascending order by sector name."
      ]
    },
    {
      "cell_type": "code",
      "execution_count": 1,
      "id": "a0e15a06",
      "metadata": {},
      "outputs": [],
      "source": [
        "companies={\n",
        "    'Accenture': 'IT',\n",
        "    'Apple': 'IT',\n",
        "    'Adobe Systems Inc': 'IT',\n",
        "    'Alphabet': 'IT',\n",
        "    'Bank of America Corp': 'Financials',\n",
        "    'Biogen Inc': 'Health Care',\n",
        "    'Campbell Soup': 'Consumer Staples',\n",
        "    'Dr Pepper Snapple Group': 'Consumer Staples',\n",
        "    'ebay Inc': 'IT',\n",
        "    'FedEx Corporation': 'Industrials',\n",
        "    'Ford Motors': 'Consumer Products',\n",
        "    'General Motors': 'Consumer Products',\n",
        "    'Harley-Davidson': 'Consumer Products',\n",
        "    'Hewlett Packard Enterprise': 'IT',\n",
        "    'Intel Corp': 'IT',\n",
        "    'JP Morgan': 'Financials',\n",
        "    'Johnson & Johnson': 'Health Care',\n",
        "    'Microsft Corp': 'IT',\n",
        "    'Netflix Inc': 'IT',\n",
        "    'Nike': 'Consumer Products'}"
      ]
    },
    {
      "cell_type": "markdown",
      "id": "3c78d24c",
      "metadata": {},
      "source": [
        "### Step 1: Preview the data\n",
        "\n",
        "Let us first preview the data."
      ]
    },
    {
      "cell_type": "code",
      "execution_count": 2,
      "id": "24fd08f9",
      "metadata": {},
      "outputs": [
        {
          "data": {
            "text/plain": [
              "{'Accenture': 'IT',\n",
              " 'Apple': 'IT',\n",
              " 'Adobe Systems Inc': 'IT',\n",
              " 'Alphabet': 'IT',\n",
              " 'Bank of America Corp': 'Financials',\n",
              " 'Biogen Inc': 'Health Care',\n",
              " 'Campbell Soup': 'Consumer Staples',\n",
              " 'Dr Pepper Snapple Group': 'Consumer Staples',\n",
              " 'ebay Inc': 'IT',\n",
              " 'FedEx Corporation': 'Industrials',\n",
              " 'Ford Motors': 'Consumer Products',\n",
              " 'General Motors': 'Consumer Products',\n",
              " 'Harley-Davidson': 'Consumer Products',\n",
              " 'Hewlett Packard Enterprise': 'IT',\n",
              " 'Intel Corp': 'IT',\n",
              " 'JP Morgan': 'Financials',\n",
              " 'Johnson & Johnson': 'Health Care',\n",
              " 'Microsft Corp': 'IT',\n",
              " 'Netflix Inc': 'IT',\n",
              " 'Nike': 'Consumer Products'}"
            ]
          },
          "execution_count": 2,
          "metadata": {},
          "output_type": "execute_result"
        }
      ],
      "source": [
        "companies"
      ]
    },
    {
      "cell_type": "code",
      "execution_count": 3,
      "id": "4f50b172",
      "metadata": {},
      "outputs": [
        {
          "data": {
            "text/plain": [
              "dict"
            ]
          },
          "execution_count": 3,
          "metadata": {},
          "output_type": "execute_result"
        }
      ],
      "source": [
        "type(companies)"
      ]
    },
    {
      "cell_type": "code",
      "execution_count": 4,
      "id": "68221599",
      "metadata": {},
      "outputs": [
        {
          "data": {
            "text/plain": [
              "20"
            ]
          },
          "execution_count": 4,
          "metadata": {},
          "output_type": "execute_result"
        }
      ],
      "source": [
        "len(companies)"
      ]
    },
    {
      "cell_type": "markdown",
      "id": "5015b4ff",
      "metadata": {},
      "source": [
        "### Step 2: Provide the solution\n",
        "\n",
        "Now come up with the solution by developing the required logic. Once the function is developed, go to the next step to take care of the validation."
      ]
    },
    {
      "cell_type": "code",
      "execution_count": 5,
      "id": "89526249",
      "metadata": {},
      "outputs": [],
      "source": [
        "from itertools import groupby"
      ]
    },
    {
      "cell_type": "code",
      "execution_count": 6,
      "id": "40a46afe",
      "metadata": {},
      "outputs": [],
      "source": [
        "def get_company_count_per_sector(companies):\n",
        "    lst = sorted(companies.items(),key=lambda x:x[1])\n",
        "    company_count_per_sector = {i:len(list(j)) for i,j in groupby(lst,key=lambda x:x[1])}\n",
        "    return company_count_per_sector"
      ]
    },
    {
      "cell_type": "markdown",
      "id": "01512293",
      "metadata": {},
      "source": [
        "### Step 3: Validate the function\n",
        "\n",
        "Let us validate the function by running below cells.\n",
        "* Here is the expected output.\n",
        "\n",
        "```python\n",
        "{'Consumer Products': 4,\n",
        "'Consumer Staples': 2,\n",
        "'Financials': 2,\n",
        "'Health Care': 2,\n",
        "'Industrials': 1,\n",
        "'IT': 9}\n",
        "```"
      ]
    },
    {
      "cell_type": "code",
      "execution_count": 7,
      "id": "4bd28486",
      "metadata": {},
      "outputs": [
        {
          "data": {
            "text/plain": [
              "{'Consumer Products': 4,\n",
              " 'Consumer Staples': 2,\n",
              " 'Financials': 2,\n",
              " 'Health Care': 2,\n",
              " 'IT': 9,\n",
              " 'Industrials': 1}"
            ]
          },
          "execution_count": 7,
          "metadata": {},
          "output_type": "execute_result"
        }
      ],
      "source": [
        "company_count_per_sector = get_company_count_per_sector(companies)\n",
        "company_count_per_sector"
      ]
    },
    {
      "cell_type": "code",
      "execution_count": 8,
      "id": "0f75ed65",
      "metadata": {},
      "outputs": [
        {
          "data": {
            "text/plain": [
              "dict"
            ]
          },
          "execution_count": 8,
          "metadata": {},
          "output_type": "execute_result"
        }
      ],
      "source": [
        "type(company_count_per_sector) # dict"
      ]
    },
    {
      "cell_type": "code",
      "execution_count": 9,
      "id": "00b09428",
      "metadata": {},
      "outputs": [
        {
          "data": {
            "text/plain": [
              "9"
            ]
          },
          "execution_count": 9,
          "metadata": {},
          "output_type": "execute_result"
        }
      ],
      "source": [
        "company_count_per_sector['IT'] # 9"
      ]
    }
  ],
  "metadata": {
    "kernelspec": {
      "display_name": "Python 3.9.7 ('.venv': venv)",
      "language": "python",
      "name": "python3"
    },
    "language_info": {
      "codemirror_mode": {
        "name": "ipython",
        "version": 3
      },
      "file_extension": ".py",
      "mimetype": "text/x-python",
      "name": "python",
      "nbconvert_exporter": "python",
      "pygments_lexer": "ipython3",
      "version": "3.9.7"
    },
    "vscode": {
      "interpreter": {
        "hash": "46f0a31c712fae978552423cd449f57e5b5d767792a57b626d08194debebc25c"
      }
    }
  },
  "nbformat": 4,
  "nbformat_minor": 5
}
