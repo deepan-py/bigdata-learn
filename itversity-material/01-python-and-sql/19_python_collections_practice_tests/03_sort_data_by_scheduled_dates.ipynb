{
  "cells": [
    {
      "cell_type": "markdown",
      "id": "b168e197",
      "metadata": {},
      "source": [
        "## Sort Data by Scheduled Dates\n",
        "\n",
        "Develop logic to sort the data by scheduled dates. We will be providing list of tuples which contain Name, Location, Scheduled Date.\n",
        "* Create a function which take list (which contain tuples) as argument and return sorted list with tuples.\n",
        "* Data should be sorted in ascending order by date and then in ascending order by name.\n",
        "\n",
        "**Hint: Use `sorted` function to come up with the solution**"
      ]
    },
    {
      "cell_type": "code",
      "execution_count": 1,
      "id": "f30552d0",
      "metadata": {},
      "outputs": [],
      "source": [
        "aspirants = [('Pardha Saradhi', 'India', '7/31/2021'),\n",
        " ('Asasri', 'India', '8/10/2021'),\n",
        " ('Sai Akshith', 'India', '7/30/2021'),\n",
        " ('Anmol', 'India', '7/5/2021'),\n",
        " ('Shravan', 'India', '7/28/2021'),\n",
        " ('Aditya', 'USA', '7/31/2021'),\n",
        " ('Prasanth ', 'USA', '8/14/2021'),\n",
        " ('Sahana', 'India', '7/26/2021'),\n",
        " ('Surendranatha Reddy', 'India', '7/25/2021'),\n",
        " ('Venkat ', 'USA', '7/26/2021')]"
      ]
    },
    {
      "cell_type": "markdown",
      "id": "0008cbe7",
      "metadata": {},
      "source": [
        "### Step 1: Preview the data\n",
        "\n",
        "Let us first preview the data."
      ]
    },
    {
      "cell_type": "code",
      "execution_count": 2,
      "id": "c07152ab",
      "metadata": {},
      "outputs": [
        {
          "data": {
            "text/plain": [
              "[('Pardha Saradhi', 'India', '7/31/2021'),\n",
              " ('Asasri', 'India', '8/10/2021'),\n",
              " ('Sai Akshith', 'India', '7/30/2021'),\n",
              " ('Anmol', 'India', '7/5/2021'),\n",
              " ('Shravan', 'India', '7/28/2021'),\n",
              " ('Aditya', 'USA', '7/31/2021'),\n",
              " ('Prasanth ', 'USA', '8/14/2021'),\n",
              " ('Sahana', 'India', '7/26/2021'),\n",
              " ('Surendranatha Reddy', 'India', '7/25/2021'),\n",
              " ('Venkat ', 'USA', '7/26/2021')]"
            ]
          },
          "execution_count": 2,
          "metadata": {},
          "output_type": "execute_result"
        }
      ],
      "source": [
        "aspirants"
      ]
    },
    {
      "cell_type": "code",
      "execution_count": 3,
      "id": "39fba91c",
      "metadata": {},
      "outputs": [
        {
          "data": {
            "text/plain": [
              "list"
            ]
          },
          "execution_count": 3,
          "metadata": {},
          "output_type": "execute_result"
        }
      ],
      "source": [
        "type(aspirants)"
      ]
    },
    {
      "cell_type": "code",
      "execution_count": 4,
      "id": "a5a06a85",
      "metadata": {},
      "outputs": [
        {
          "data": {
            "text/plain": [
              "10"
            ]
          },
          "execution_count": 4,
          "metadata": {},
          "output_type": "execute_result"
        }
      ],
      "source": [
        "len(aspirants)"
      ]
    },
    {
      "cell_type": "code",
      "execution_count": 5,
      "id": "0e91f1ca",
      "metadata": {},
      "outputs": [
        {
          "name": "stdout",
          "output_type": "stream",
          "text": [
            "The type of value ('Pardha Saradhi', 'India', '7/31/2021') is <class 'tuple'>\n",
            "The type of value ('Asasri', 'India', '8/10/2021') is <class 'tuple'>\n",
            "The type of value ('Sai Akshith', 'India', '7/30/2021') is <class 'tuple'>\n",
            "The type of value ('Anmol', 'India', '7/5/2021') is <class 'tuple'>\n",
            "The type of value ('Shravan', 'India', '7/28/2021') is <class 'tuple'>\n",
            "The type of value ('Aditya', 'USA', '7/31/2021') is <class 'tuple'>\n",
            "The type of value ('Prasanth ', 'USA', '8/14/2021') is <class 'tuple'>\n",
            "The type of value ('Sahana', 'India', '7/26/2021') is <class 'tuple'>\n",
            "The type of value ('Surendranatha Reddy', 'India', '7/25/2021') is <class 'tuple'>\n",
            "The type of value ('Venkat ', 'USA', '7/26/2021') is <class 'tuple'>\n"
          ]
        }
      ],
      "source": [
        "for aspirant in aspirants:\n",
        "    print(f'The type of value {aspirant} is {type(aspirant)}')"
      ]
    },
    {
      "cell_type": "markdown",
      "id": "1befa4cd",
      "metadata": {},
      "source": [
        "### Step 2: Provide the solution\n",
        "\n",
        "Now come up with the solution by developing the required logic. Once the function is developed, go to the next step to take care of the validation."
      ]
    },
    {
      "cell_type": "code",
      "execution_count": 11,
      "id": "91107223",
      "metadata": {},
      "outputs": [],
      "source": [
        "# The logic should go here\n",
        "def sort_data_by_scheduled_date(aspirants):\n",
        "    sorted_aspirants = sorted(aspirants, key=lambda x:x[2])\n",
        "    return sorted_aspirants"
      ]
    },
    {
      "cell_type": "markdown",
      "id": "deec8a70",
      "metadata": {},
      "source": [
        "### Step 3: Validate the function\n",
        "\n",
        "Let us validate the function by running below cells.\n",
        "* Here is the expected output.\n",
        "\n",
        "```python\n",
        "[('Anmol', 'India', '7/5/2021'),\n",
        " ('Surendranatha Reddy', 'India', '7/25/2021'),\n",
        " ('Sahana', 'India', '7/26/2021'),\n",
        " ('Venkat ', 'USA', '7/26/2021'),\n",
        " ('Shravan', 'India', '7/28/2021'),\n",
        " ('Sai Akshith', 'India', '7/30/2021'),\n",
        " ('Aditya', 'USA', '7/31/2021'),\n",
        " ('Pardha Saradhi', 'India', '7/31/2021'),\n",
        " ('Asasri', 'India', '8/10/2021'),\n",
        " ('Prasanth ', 'USA', '8/14/2021')]\n",
        "```"
      ]
    },
    {
      "cell_type": "code",
      "execution_count": 12,
      "id": "1df087dc",
      "metadata": {},
      "outputs": [
        {
          "data": {
            "text/plain": [
              "[('Surendranatha Reddy', 'India', '7/25/2021'),\n",
              " ('Sahana', 'India', '7/26/2021'),\n",
              " ('Venkat ', 'USA', '7/26/2021'),\n",
              " ('Shravan', 'India', '7/28/2021'),\n",
              " ('Sai Akshith', 'India', '7/30/2021'),\n",
              " ('Pardha Saradhi', 'India', '7/31/2021'),\n",
              " ('Aditya', 'USA', '7/31/2021'),\n",
              " ('Anmol', 'India', '7/5/2021'),\n",
              " ('Asasri', 'India', '8/10/2021'),\n",
              " ('Prasanth ', 'USA', '8/14/2021')]"
            ]
          },
          "execution_count": 12,
          "metadata": {},
          "output_type": "execute_result"
        }
      ],
      "source": [
        "sorted_aspirants = sort_data_by_scheduled_date(aspirants)\n",
        "sorted_aspirants"
      ]
    },
    {
      "cell_type": "code",
      "execution_count": 13,
      "id": "cbf46988",
      "metadata": {},
      "outputs": [
        {
          "data": {
            "text/plain": [
              "list"
            ]
          },
          "execution_count": 13,
          "metadata": {},
          "output_type": "execute_result"
        }
      ],
      "source": [
        "type(sorted_aspirants) # It should be list"
      ]
    },
    {
      "cell_type": "code",
      "execution_count": 14,
      "id": "be2e2477",
      "metadata": {},
      "outputs": [
        {
          "data": {
            "text/plain": [
              "10"
            ]
          },
          "execution_count": 14,
          "metadata": {},
          "output_type": "execute_result"
        }
      ],
      "source": [
        "len(sorted_aspirants) # It should be 10"
      ]
    },
    {
      "cell_type": "code",
      "execution_count": 15,
      "id": "542983cc",
      "metadata": {},
      "outputs": [
        {
          "data": {
            "text/plain": [
              "tuple"
            ]
          },
          "execution_count": 15,
          "metadata": {},
          "output_type": "execute_result"
        }
      ],
      "source": [
        "type(sorted_aspirants[0]) # It should be tuple."
      ]
    }
  ],
  "metadata": {
    "kernelspec": {
      "display_name": "Python 3.9.7 ('.venv': venv)",
      "language": "python",
      "name": "python3"
    },
    "language_info": {
      "codemirror_mode": {
        "name": "ipython",
        "version": 3
      },
      "file_extension": ".py",
      "mimetype": "text/x-python",
      "name": "python",
      "nbconvert_exporter": "python",
      "pygments_lexer": "ipython3",
      "version": "3.9.7"
    },
    "vscode": {
      "interpreter": {
        "hash": "46f0a31c712fae978552423cd449f57e5b5d767792a57b626d08194debebc25c"
      }
    }
  },
  "nbformat": 4,
  "nbformat_minor": 5
}
