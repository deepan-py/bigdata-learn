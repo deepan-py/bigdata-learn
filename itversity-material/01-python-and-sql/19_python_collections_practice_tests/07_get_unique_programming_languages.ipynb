{
  "cells": [
    {
      "cell_type": "markdown",
      "id": "b3150489",
      "metadata": {},
      "source": [
        "## Get unique programming languages\n",
        "\n",
        "Develop a function which takes a delimited string as input and returns unique values ignoring the case.\n",
        "* We have a string of programming languages which are delimited by `,`.\n",
        "* However the programming languages might be in mixed case. Also some of the programming languages have spaces in the beginning or the end.\n",
        "* We need to ignore spaces and also ignore the case to get unique list of programming languages.\n",
        "* Output should all be lower case, without leading or trailing spaces. The data type of the output should be `list`. Data should be sorted in ascending order."
      ]
    },
    {
      "cell_type": "code",
      "execution_count": 1,
      "id": "23a93da7",
      "metadata": {},
      "outputs": [],
      "source": [
        "programming_languages = 'Python, Java , java,python, Scala, java script, python, Go, scala,java, Ruby, go, ruby, Java Script'"
      ]
    },
    {
      "cell_type": "markdown",
      "id": "f9056cd2",
      "metadata": {},
      "source": [
        "### Step 1: Preview the data\n",
        "* Let us first preview the data."
      ]
    },
    {
      "cell_type": "code",
      "execution_count": 2,
      "id": "8abf6c74",
      "metadata": {},
      "outputs": [
        {
          "data": {
            "text/plain": [
              "'Python, Java , java,python, Scala, java script, python, Go, scala,java, Ruby, go, ruby, Java Script'"
            ]
          },
          "execution_count": 2,
          "metadata": {},
          "output_type": "execute_result"
        }
      ],
      "source": [
        "programming_languages"
      ]
    },
    {
      "cell_type": "code",
      "execution_count": 3,
      "id": "6708cd73",
      "metadata": {},
      "outputs": [
        {
          "data": {
            "text/plain": [
              "str"
            ]
          },
          "execution_count": 3,
          "metadata": {},
          "output_type": "execute_result"
        }
      ],
      "source": [
        "type(programming_languages)"
      ]
    },
    {
      "cell_type": "markdown",
      "id": "54a1ef78",
      "metadata": {},
      "source": [
        "### Step 2: Provide the solution\n",
        "Now come up with the solution by developing the required logic. Once the function is developed, go to the next step to take care of the validation."
      ]
    },
    {
      "cell_type": "code",
      "execution_count": 8,
      "id": "9fbb67f7",
      "metadata": {},
      "outputs": [],
      "source": [
        "def get_unique_programming_languages(programming_languages):\n",
        "    unique_programming_languages = {i.strip().lower() for i in programming_languages.split(',')}\n",
        "    return unique_programming_languages"
      ]
    },
    {
      "cell_type": "markdown",
      "id": "50642b80",
      "metadata": {},
      "source": [
        "### Step 3: Validate the function\n",
        "\n",
        "Here is the expected output.\n",
        "\n",
        "```python\n",
        "['go', 'java', 'java script', 'python', 'ruby', 'scala']\n",
        "```"
      ]
    },
    {
      "cell_type": "code",
      "execution_count": 9,
      "id": "05e6b9d7",
      "metadata": {},
      "outputs": [
        {
          "data": {
            "text/plain": [
              "{'go', 'java', 'java script', 'python', 'ruby', 'scala'}"
            ]
          },
          "execution_count": 9,
          "metadata": {},
          "output_type": "execute_result"
        }
      ],
      "source": [
        "unique_programming_languages = get_unique_programming_languages(programming_languages)\n",
        "unique_programming_languages"
      ]
    },
    {
      "cell_type": "code",
      "execution_count": 10,
      "id": "2b855201",
      "metadata": {},
      "outputs": [
        {
          "data": {
            "text/plain": [
              "set"
            ]
          },
          "execution_count": 10,
          "metadata": {},
          "output_type": "execute_result"
        }
      ],
      "source": [
        "type(unique_programming_languages) # list"
      ]
    },
    {
      "cell_type": "code",
      "execution_count": 11,
      "id": "8939726c",
      "metadata": {},
      "outputs": [
        {
          "data": {
            "text/plain": [
              "6"
            ]
          },
          "execution_count": 11,
          "metadata": {},
          "output_type": "execute_result"
        }
      ],
      "source": [
        "len(unique_programming_languages) # 6"
      ]
    }
  ],
  "metadata": {
    "kernelspec": {
      "display_name": "Python 3.9.7 ('.venv': venv)",
      "language": "python",
      "name": "python3"
    },
    "language_info": {
      "codemirror_mode": {
        "name": "ipython",
        "version": 3
      },
      "file_extension": ".py",
      "mimetype": "text/x-python",
      "name": "python",
      "nbconvert_exporter": "python",
      "pygments_lexer": "ipython3",
      "version": "3.9.7"
    },
    "vscode": {
      "interpreter": {
        "hash": "46f0a31c712fae978552423cd449f57e5b5d767792a57b626d08194debebc25c"
      }
    }
  },
  "nbformat": 4,
  "nbformat_minor": 5
}
