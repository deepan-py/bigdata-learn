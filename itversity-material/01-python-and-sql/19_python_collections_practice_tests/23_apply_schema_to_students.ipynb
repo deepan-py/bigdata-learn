{
  "cells": [
    {
      "cell_type": "markdown",
      "id": "60cca0b2",
      "metadata": {},
      "source": [
        "## Apply Schema to Students\n",
        "\n",
        "Develop a function to convert the list of tuples to dict by using zip funtion. As part of this Python Practice Test, we are primarily evaluating the ability to understand zip function as well as manipulating collections.\n",
        "* We will provide list of tuples and the attributes are **student_id**, **math_score**, **reading_score** and **writing_score**.\n",
        "* Develop a function which takes students as input and the output should be a dict where keys are based up on the attributes provided.\n",
        "* The output should be sorted in descending order by total.\n",
        "* This scenario can be easily solved by zip finction.\n",
        "\n",
        "**Restrictions: Solve this problem either by using conventional loops or first class functions such as `map`. You are not supposed to use Pandas.**"
      ]
    },
    {
      "cell_type": "code",
      "execution_count": 1,
      "id": "925f9eab",
      "metadata": {},
      "outputs": [],
      "source": [
        "students = [(1, 72, 72, 74), (2, 69, 90, 88), (3, 90, 95, 93), (4, 47, 47, 44), (5, 76, 78, 75), (6, 71, 83, 78)]"
      ]
    },
    {
      "cell_type": "markdown",
      "id": "92b4f384",
      "metadata": {},
      "source": [
        "### Step 1: Preview the data\n",
        "\n",
        "Let us first preview the data."
      ]
    },
    {
      "cell_type": "code",
      "execution_count": 2,
      "id": "b5b736c9",
      "metadata": {},
      "outputs": [
        {
          "data": {
            "text/plain": [
              "[(1, 72, 72, 74),\n",
              " (2, 69, 90, 88),\n",
              " (3, 90, 95, 93),\n",
              " (4, 47, 47, 44),\n",
              " (5, 76, 78, 75),\n",
              " (6, 71, 83, 78)]"
            ]
          },
          "execution_count": 2,
          "metadata": {},
          "output_type": "execute_result"
        }
      ],
      "source": [
        "students"
      ]
    },
    {
      "cell_type": "code",
      "execution_count": 3,
      "id": "36fb51f6",
      "metadata": {},
      "outputs": [
        {
          "data": {
            "text/plain": [
              "list"
            ]
          },
          "execution_count": 3,
          "metadata": {},
          "output_type": "execute_result"
        }
      ],
      "source": [
        "type(students)"
      ]
    },
    {
      "cell_type": "code",
      "execution_count": 4,
      "id": "77f8f25e",
      "metadata": {},
      "outputs": [
        {
          "data": {
            "text/plain": [
              "6"
            ]
          },
          "execution_count": 4,
          "metadata": {},
          "output_type": "execute_result"
        }
      ],
      "source": [
        "len(students)"
      ]
    },
    {
      "cell_type": "markdown",
      "id": "6b21fdac",
      "metadata": {},
      "source": [
        "### Step 2: Provide the solution\n",
        "\n",
        "Now come up with the solution by developing the required logic. Once the function is developed, go to the next step to take care of the validation."
      ]
    },
    {
      "cell_type": "code",
      "execution_count": 5,
      "id": "aea68cb0",
      "metadata": {},
      "outputs": [],
      "source": [
        "def get_students_with_schema(students):\n",
        "    ## your code should go here\n",
        "    attrs = ('student_id', 'math_score', 'reading_score', 'writing_score')\n",
        "    students_with_schema = list(\n",
        "        map(\n",
        "            lambda student: dict(zip(attrs, student)),\n",
        "            sorted(\n",
        "                students,\n",
        "                key=lambda student: sum(student[1:3]),\n",
        "                reverse=True\n",
        "            )\n",
        "        )\n",
        "    )\n",
        "    return students_with_schema"
      ]
    },
    {
      "cell_type": "markdown",
      "id": "54e4c3f0",
      "metadata": {},
      "source": [
        "### Step 3: Validate the function\n",
        "\n",
        "Let us validate the function by running below cells.\n",
        "* Here is the expected output.\n",
        "\n",
        "```python\n",
        "[{'student_id': 3, 'math_score': 90, 'reading_score': 95, 'writing_score': 93},\n",
        " {'student_id': 2, 'math_score': 69, 'reading_score': 90, 'writing_score': 88},\n",
        " {'student_id': 6, 'math_score': 71, 'reading_score': 83, 'writing_score': 78},\n",
        " {'student_id': 5, 'math_score': 76, 'reading_score': 78, 'writing_score': 75},\n",
        " {'student_id': 1, 'math_score': 72, 'reading_score': 72, 'writing_score': 74},\n",
        " {'student_id': 4, 'math_score': 47, 'reading_score': 47, 'writing_score': 44}]\n",
        "```"
      ]
    },
    {
      "cell_type": "code",
      "execution_count": 6,
      "id": "cee62c25",
      "metadata": {},
      "outputs": [
        {
          "data": {
            "text/plain": [
              "[{'student_id': 3, 'math_score': 90, 'reading_score': 95, 'writing_score': 93},\n",
              " {'student_id': 2, 'math_score': 69, 'reading_score': 90, 'writing_score': 88},\n",
              " {'student_id': 5, 'math_score': 76, 'reading_score': 78, 'writing_score': 75},\n",
              " {'student_id': 6, 'math_score': 71, 'reading_score': 83, 'writing_score': 78},\n",
              " {'student_id': 1, 'math_score': 72, 'reading_score': 72, 'writing_score': 74},\n",
              " {'student_id': 4, 'math_score': 47, 'reading_score': 47, 'writing_score': 44}]"
            ]
          },
          "execution_count": 6,
          "metadata": {},
          "output_type": "execute_result"
        }
      ],
      "source": [
        "students_with_schema = get_students_with_schema(students)\n",
        "students_with_schema"
      ]
    },
    {
      "cell_type": "code",
      "execution_count": 7,
      "id": "fc0bfa73",
      "metadata": {},
      "outputs": [
        {
          "data": {
            "text/plain": [
              "6"
            ]
          },
          "execution_count": 7,
          "metadata": {},
          "output_type": "execute_result"
        }
      ],
      "source": [
        "len(students_with_schema) # 6"
      ]
    },
    {
      "cell_type": "code",
      "execution_count": 8,
      "id": "c57aba13",
      "metadata": {},
      "outputs": [
        {
          "data": {
            "text/plain": [
              "list"
            ]
          },
          "execution_count": 8,
          "metadata": {},
          "output_type": "execute_result"
        }
      ],
      "source": [
        "type(students_with_schema) # list"
      ]
    },
    {
      "cell_type": "code",
      "execution_count": 9,
      "id": "ce5c8ac6",
      "metadata": {},
      "outputs": [
        {
          "data": {
            "text/plain": [
              "dict"
            ]
          },
          "execution_count": 9,
          "metadata": {},
          "output_type": "execute_result"
        }
      ],
      "source": [
        "type(students_with_schema[0]) # dict"
      ]
    }
  ],
  "metadata": {
    "kernelspec": {
      "display_name": "Python 3.9.7 ('.venv': venv)",
      "language": "python",
      "name": "python3"
    },
    "language_info": {
      "codemirror_mode": {
        "name": "ipython",
        "version": 3
      },
      "file_extension": ".py",
      "mimetype": "text/x-python",
      "name": "python",
      "nbconvert_exporter": "python",
      "pygments_lexer": "ipython3",
      "version": "3.9.7"
    },
    "vscode": {
      "interpreter": {
        "hash": "46f0a31c712fae978552423cd449f57e5b5d767792a57b626d08194debebc25c"
      }
    }
  },
  "nbformat": 4,
  "nbformat_minor": 5
}
