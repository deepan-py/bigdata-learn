{
  "cells": [
    {
      "cell_type": "markdown",
      "metadata": {},
      "source": [
        "## Pandas Data Structures – Overview\n",
        "\n",
        "Let us understand the details with respect to Pandas.\n",
        "* Pandas is not a core Python module and hence we need to install using pip - `pip install pandas`.\n",
        "* It has 2 types of data structures - `Series` and `DataFrame`.\n",
        "* `Series` is a one dimension array while `DataFrame` is a two dimension array.\n",
        "* `Series` only contains index for each row and one attribute or column.\n",
        "* `DataFrame` contains index for each row and multiple columns.\n",
        "* Each attribute in the DataFrame is nothing but a Series.\n",
        "* We can perform all standard transformations using Pandas APIs\n",
        "* We also have SQL based wrappers on top of Pandas where we can write queries.\n",
        "Here are the steps to get started with Pandas Data Structures:\n",
        "* Make sure Pandas library is installed using `pip`.\n",
        "* Import Pandas library - `import pandas as pd`\n",
        "* We need to have a collection or data in a file to create Pandas Data Structures.\n",
        "* Use appropriate APIs on the data to create Pandas Data Structures.\n",
        "  * `Series` for single dimension array.\n",
        "  * `DataFrame` for two dimension array.\n",
        "\n",
        "```{note}\n",
        "Typically we use `Series` for list of regular objects or dict and `DataFrame` for list of tuples or list of dicts. Let us use list for `Series` and list of dicts for `DataFrame`.\n",
        "```"
      ]
    },
    {
      "cell_type": "code",
      "execution_count": null,
      "metadata": {},
      "outputs": [],
      "source": [
        "%pip install pandas"
      ]
    },
    {
      "cell_type": "code",
      "execution_count": 1,
      "metadata": {},
      "outputs": [],
      "source": [
        "import pandas as pd"
      ]
    },
    {
      "cell_type": "code",
      "execution_count": 2,
      "metadata": {},
      "outputs": [],
      "source": [
        "sals_l = [1500.0, 2000.0, 2200.00]"
      ]
    },
    {
      "cell_type": "code",
      "execution_count": 3,
      "metadata": {},
      "outputs": [
        {
          "name": "stdout",
          "output_type": "stream",
          "text": [
            "\u001b[1;31mInit signature:\u001b[0m\n",
            "\u001b[0mpd\u001b[0m\u001b[1;33m.\u001b[0m\u001b[0mSeries\u001b[0m\u001b[1;33m(\u001b[0m\u001b[1;33m\n",
            "\u001b[0m    \u001b[0mdata\u001b[0m\u001b[1;33m=\u001b[0m\u001b[1;32mNone\u001b[0m\u001b[1;33m,\u001b[0m\u001b[1;33m\n",
            "\u001b[0m    \u001b[0mindex\u001b[0m\u001b[1;33m=\u001b[0m\u001b[1;32mNone\u001b[0m\u001b[1;33m,\u001b[0m\u001b[1;33m\n",
            "\u001b[0m    \u001b[0mdtype\u001b[0m\u001b[1;33m:\u001b[0m \u001b[1;34m'Dtype | None'\u001b[0m \u001b[1;33m=\u001b[0m \u001b[1;32mNone\u001b[0m\u001b[1;33m,\u001b[0m\u001b[1;33m\n",
            "\u001b[0m    \u001b[0mname\u001b[0m\u001b[1;33m=\u001b[0m\u001b[1;32mNone\u001b[0m\u001b[1;33m,\u001b[0m\u001b[1;33m\n",
            "\u001b[0m    \u001b[0mcopy\u001b[0m\u001b[1;33m:\u001b[0m \u001b[1;34m'bool'\u001b[0m \u001b[1;33m=\u001b[0m \u001b[1;32mFalse\u001b[0m\u001b[1;33m,\u001b[0m\u001b[1;33m\n",
            "\u001b[0m    \u001b[0mfastpath\u001b[0m\u001b[1;33m:\u001b[0m \u001b[1;34m'bool'\u001b[0m \u001b[1;33m=\u001b[0m \u001b[1;32mFalse\u001b[0m\u001b[1;33m,\u001b[0m\u001b[1;33m\n",
            "\u001b[0m\u001b[1;33m)\u001b[0m\u001b[1;33m\u001b[0m\u001b[1;33m\u001b[0m\u001b[0m\n",
            "\u001b[1;31mDocstring:\u001b[0m     \n",
            "One-dimensional ndarray with axis labels (including time series).\n",
            "\n",
            "Labels need not be unique but must be a hashable type. The object\n",
            "supports both integer- and label-based indexing and provides a host of\n",
            "methods for performing operations involving the index. Statistical\n",
            "methods from ndarray have been overridden to automatically exclude\n",
            "missing data (currently represented as NaN).\n",
            "\n",
            "Operations between Series (+, -, /, *, **) align values based on their\n",
            "associated index values-- they need not be the same length. The result\n",
            "index will be the sorted union of the two indexes.\n",
            "\n",
            "Parameters\n",
            "----------\n",
            "data : array-like, Iterable, dict, or scalar value\n",
            "    Contains data stored in Series. If data is a dict, argument order is\n",
            "    maintained.\n",
            "index : array-like or Index (1d)\n",
            "    Values must be hashable and have the same length as `data`.\n",
            "    Non-unique index values are allowed. Will default to\n",
            "    RangeIndex (0, 1, 2, ..., n) if not provided. If data is dict-like\n",
            "    and index is None, then the keys in the data are used as the index. If the\n",
            "    index is not None, the resulting Series is reindexed with the index values.\n",
            "dtype : str, numpy.dtype, or ExtensionDtype, optional\n",
            "    Data type for the output Series. If not specified, this will be\n",
            "    inferred from `data`.\n",
            "    See the :ref:`user guide <basics.dtypes>` for more usages.\n",
            "name : str, optional\n",
            "    The name to give to the Series.\n",
            "copy : bool, default False\n",
            "    Copy input data. Only affects Series or 1d ndarray input. See examples.\n",
            "\n",
            "Examples\n",
            "--------\n",
            "Constructing Series from a dictionary with an Index specified\n",
            "\n",
            ">>> d = {'a': 1, 'b': 2, 'c': 3}\n",
            ">>> ser = pd.Series(data=d, index=['a', 'b', 'c'])\n",
            ">>> ser\n",
            "a   1\n",
            "b   2\n",
            "c   3\n",
            "dtype: int64\n",
            "\n",
            "The keys of the dictionary match with the Index values, hence the Index\n",
            "values have no effect.\n",
            "\n",
            ">>> d = {'a': 1, 'b': 2, 'c': 3}\n",
            ">>> ser = pd.Series(data=d, index=['x', 'y', 'z'])\n",
            ">>> ser\n",
            "x   NaN\n",
            "y   NaN\n",
            "z   NaN\n",
            "dtype: float64\n",
            "\n",
            "Note that the Index is first build with the keys from the dictionary.\n",
            "After this the Series is reindexed with the given Index values, hence we\n",
            "get all NaN as a result.\n",
            "\n",
            "Constructing Series from a list with `copy=False`.\n",
            "\n",
            ">>> r = [1, 2]\n",
            ">>> ser = pd.Series(r, copy=False)\n",
            ">>> ser.iloc[0] = 999\n",
            ">>> r\n",
            "[1, 2]\n",
            ">>> ser\n",
            "0    999\n",
            "1      2\n",
            "dtype: int64\n",
            "\n",
            "Due to input data type the Series has a `copy` of\n",
            "the original data even though `copy=False`, so\n",
            "the data is unchanged.\n",
            "\n",
            "Constructing Series from a 1d ndarray with `copy=False`.\n",
            "\n",
            ">>> r = np.array([1, 2])\n",
            ">>> ser = pd.Series(r, copy=False)\n",
            ">>> ser.iloc[0] = 999\n",
            ">>> r\n",
            "array([999,   2])\n",
            ">>> ser\n",
            "0    999\n",
            "1      2\n",
            "dtype: int64\n",
            "\n",
            "Due to input data type the Series has a `view` on\n",
            "the original data, so\n",
            "the data is changed as well.\n",
            "\u001b[1;31mFile:\u001b[0m           d:\\bigdata_learn\\bigdata-learn\\.venv1\\lib\\site-packages\\pandas\\core\\series.py\n",
            "\u001b[1;31mType:\u001b[0m           type\n",
            "\u001b[1;31mSubclasses:\u001b[0m     SubclassedSeries\n"
          ]
        }
      ],
      "source": [
        "pd.Series?"
      ]
    },
    {
      "cell_type": "code",
      "execution_count": 4,
      "metadata": {},
      "outputs": [],
      "source": [
        "sals_s = pd.Series(sals_l, name='sal')"
      ]
    },
    {
      "cell_type": "code",
      "execution_count": 5,
      "metadata": {},
      "outputs": [
        {
          "data": {
            "text/plain": [
              "0    1500.0\n",
              "1    2000.0\n",
              "2    2200.0\n",
              "Name: sal, dtype: float64"
            ]
          },
          "execution_count": 5,
          "metadata": {},
          "output_type": "execute_result"
        }
      ],
      "source": [
        "sals_s"
      ]
    },
    {
      "cell_type": "code",
      "execution_count": 6,
      "metadata": {},
      "outputs": [
        {
          "data": {
            "text/plain": [
              "0    1500.0\n",
              "1    2000.0\n",
              "Name: sal, dtype: float64"
            ]
          },
          "execution_count": 6,
          "metadata": {},
          "output_type": "execute_result"
        }
      ],
      "source": [
        "sals_s[:2]"
      ]
    },
    {
      "cell_type": "code",
      "execution_count": 7,
      "metadata": {},
      "outputs": [],
      "source": [
        "sals_ld = [(1, 1500.0), (2, 2000.0), (3, 2200.00)]"
      ]
    },
    {
      "cell_type": "code",
      "execution_count": 8,
      "metadata": {},
      "outputs": [
        {
          "name": "stdout",
          "output_type": "stream",
          "text": [
            "\u001b[1;31mInit signature:\u001b[0m\n",
            "\u001b[0mpd\u001b[0m\u001b[1;33m.\u001b[0m\u001b[0mDataFrame\u001b[0m\u001b[1;33m(\u001b[0m\u001b[1;33m\n",
            "\u001b[0m    \u001b[0mdata\u001b[0m\u001b[1;33m=\u001b[0m\u001b[1;32mNone\u001b[0m\u001b[1;33m,\u001b[0m\u001b[1;33m\n",
            "\u001b[0m    \u001b[0mindex\u001b[0m\u001b[1;33m:\u001b[0m \u001b[1;34m'Axes | None'\u001b[0m \u001b[1;33m=\u001b[0m \u001b[1;32mNone\u001b[0m\u001b[1;33m,\u001b[0m\u001b[1;33m\n",
            "\u001b[0m    \u001b[0mcolumns\u001b[0m\u001b[1;33m:\u001b[0m \u001b[1;34m'Axes | None'\u001b[0m \u001b[1;33m=\u001b[0m \u001b[1;32mNone\u001b[0m\u001b[1;33m,\u001b[0m\u001b[1;33m\n",
            "\u001b[0m    \u001b[0mdtype\u001b[0m\u001b[1;33m:\u001b[0m \u001b[1;34m'Dtype | None'\u001b[0m \u001b[1;33m=\u001b[0m \u001b[1;32mNone\u001b[0m\u001b[1;33m,\u001b[0m\u001b[1;33m\n",
            "\u001b[0m    \u001b[0mcopy\u001b[0m\u001b[1;33m:\u001b[0m \u001b[1;34m'bool | None'\u001b[0m \u001b[1;33m=\u001b[0m \u001b[1;32mNone\u001b[0m\u001b[1;33m,\u001b[0m\u001b[1;33m\n",
            "\u001b[0m\u001b[1;33m)\u001b[0m\u001b[1;33m\u001b[0m\u001b[1;33m\u001b[0m\u001b[0m\n",
            "\u001b[1;31mDocstring:\u001b[0m     \n",
            "Two-dimensional, size-mutable, potentially heterogeneous tabular data.\n",
            "\n",
            "Data structure also contains labeled axes (rows and columns).\n",
            "Arithmetic operations align on both row and column labels. Can be\n",
            "thought of as a dict-like container for Series objects. The primary\n",
            "pandas data structure.\n",
            "\n",
            "Parameters\n",
            "----------\n",
            "data : ndarray (structured or homogeneous), Iterable, dict, or DataFrame\n",
            "    Dict can contain Series, arrays, constants, dataclass or list-like objects. If\n",
            "    data is a dict, column order follows insertion-order.\n",
            "\n",
            "    .. versionchanged:: 0.25.0\n",
            "       If data is a list of dicts, column order follows insertion-order.\n",
            "\n",
            "index : Index or array-like\n",
            "    Index to use for resulting frame. Will default to RangeIndex if\n",
            "    no indexing information part of input data and no index provided.\n",
            "columns : Index or array-like\n",
            "    Column labels to use for resulting frame when data does not have them,\n",
            "    defaulting to RangeIndex(0, 1, 2, ..., n). If data contains column labels,\n",
            "    will perform column selection instead.\n",
            "dtype : dtype, default None\n",
            "    Data type to force. Only a single dtype is allowed. If None, infer.\n",
            "copy : bool or None, default None\n",
            "    Copy data from inputs.\n",
            "    For dict data, the default of None behaves like ``copy=True``.  For DataFrame\n",
            "    or 2d ndarray input, the default of None behaves like ``copy=False``.\n",
            "\n",
            "    .. versionchanged:: 1.3.0\n",
            "\n",
            "See Also\n",
            "--------\n",
            "DataFrame.from_records : Constructor from tuples, also record arrays.\n",
            "DataFrame.from_dict : From dicts of Series, arrays, or dicts.\n",
            "read_csv : Read a comma-separated values (csv) file into DataFrame.\n",
            "read_table : Read general delimited file into DataFrame.\n",
            "read_clipboard : Read text from clipboard into DataFrame.\n",
            "\n",
            "Examples\n",
            "--------\n",
            "Constructing DataFrame from a dictionary.\n",
            "\n",
            ">>> d = {'col1': [1, 2], 'col2': [3, 4]}\n",
            ">>> df = pd.DataFrame(data=d)\n",
            ">>> df\n",
            "   col1  col2\n",
            "0     1     3\n",
            "1     2     4\n",
            "\n",
            "Notice that the inferred dtype is int64.\n",
            "\n",
            ">>> df.dtypes\n",
            "col1    int64\n",
            "col2    int64\n",
            "dtype: object\n",
            "\n",
            "To enforce a single dtype:\n",
            "\n",
            ">>> df = pd.DataFrame(data=d, dtype=np.int8)\n",
            ">>> df.dtypes\n",
            "col1    int8\n",
            "col2    int8\n",
            "dtype: object\n",
            "\n",
            "Constructing DataFrame from numpy ndarray:\n",
            "\n",
            ">>> df2 = pd.DataFrame(np.array([[1, 2, 3], [4, 5, 6], [7, 8, 9]]),\n",
            "...                    columns=['a', 'b', 'c'])\n",
            ">>> df2\n",
            "   a  b  c\n",
            "0  1  2  3\n",
            "1  4  5  6\n",
            "2  7  8  9\n",
            "\n",
            "Constructing DataFrame from a numpy ndarray that has labeled columns:\n",
            "\n",
            ">>> data = np.array([(1, 2, 3), (4, 5, 6), (7, 8, 9)],\n",
            "...                 dtype=[(\"a\", \"i4\"), (\"b\", \"i4\"), (\"c\", \"i4\")])\n",
            ">>> df3 = pd.DataFrame(data, columns=['c', 'a'])\n",
            "...\n",
            ">>> df3\n",
            "   c  a\n",
            "0  3  1\n",
            "1  6  4\n",
            "2  9  7\n",
            "\n",
            "Constructing DataFrame from dataclass:\n",
            "\n",
            ">>> from dataclasses import make_dataclass\n",
            ">>> Point = make_dataclass(\"Point\", [(\"x\", int), (\"y\", int)])\n",
            ">>> pd.DataFrame([Point(0, 0), Point(0, 3), Point(2, 3)])\n",
            "   x  y\n",
            "0  0  0\n",
            "1  0  3\n",
            "2  2  3\n",
            "\u001b[1;31mFile:\u001b[0m           d:\\bigdata_learn\\bigdata-learn\\.venv1\\lib\\site-packages\\pandas\\core\\frame.py\n",
            "\u001b[1;31mType:\u001b[0m           type\n",
            "\u001b[1;31mSubclasses:\u001b[0m     SubclassedDataFrame\n"
          ]
        }
      ],
      "source": [
        "pd.DataFrame?"
      ]
    },
    {
      "cell_type": "code",
      "execution_count": 9,
      "metadata": {},
      "outputs": [],
      "source": [
        "sals_df = pd.DataFrame(sals_ld, columns=['id', 'sal'])"
      ]
    },
    {
      "cell_type": "code",
      "execution_count": 10,
      "metadata": {},
      "outputs": [
        {
          "data": {
            "text/html": [
              "<div>\n",
              "<style scoped>\n",
              "    .dataframe tbody tr th:only-of-type {\n",
              "        vertical-align: middle;\n",
              "    }\n",
              "\n",
              "    .dataframe tbody tr th {\n",
              "        vertical-align: top;\n",
              "    }\n",
              "\n",
              "    .dataframe thead th {\n",
              "        text-align: right;\n",
              "    }\n",
              "</style>\n",
              "<table border=\"1\" class=\"dataframe\">\n",
              "  <thead>\n",
              "    <tr style=\"text-align: right;\">\n",
              "      <th></th>\n",
              "      <th>id</th>\n",
              "      <th>sal</th>\n",
              "    </tr>\n",
              "  </thead>\n",
              "  <tbody>\n",
              "    <tr>\n",
              "      <th>0</th>\n",
              "      <td>1</td>\n",
              "      <td>1500.0</td>\n",
              "    </tr>\n",
              "    <tr>\n",
              "      <th>1</th>\n",
              "      <td>2</td>\n",
              "      <td>2000.0</td>\n",
              "    </tr>\n",
              "    <tr>\n",
              "      <th>2</th>\n",
              "      <td>3</td>\n",
              "      <td>2200.0</td>\n",
              "    </tr>\n",
              "  </tbody>\n",
              "</table>\n",
              "</div>"
            ],
            "text/plain": [
              "   id     sal\n",
              "0   1  1500.0\n",
              "1   2  2000.0\n",
              "2   3  2200.0"
            ]
          },
          "execution_count": 10,
          "metadata": {},
          "output_type": "execute_result"
        }
      ],
      "source": [
        "sals_df"
      ]
    },
    {
      "cell_type": "code",
      "execution_count": 11,
      "metadata": {},
      "outputs": [
        {
          "data": {
            "text/plain": [
              "0    1\n",
              "1    2\n",
              "2    3\n",
              "Name: id, dtype: int64"
            ]
          },
          "execution_count": 11,
          "metadata": {},
          "output_type": "execute_result"
        }
      ],
      "source": [
        "sals_df['id']"
      ]
    },
    {
      "cell_type": "code",
      "execution_count": null,
      "metadata": {},
      "outputs": [],
      "source": []
    }
  ],
  "metadata": {
    "kernelspec": {
      "display_name": "Python 3.9.12 ('.venv1': venv)",
      "language": "python",
      "name": "python3"
    },
    "language_info": {
      "codemirror_mode": {
        "name": "ipython",
        "version": 3
      },
      "file_extension": ".py",
      "mimetype": "text/x-python",
      "name": "python",
      "nbconvert_exporter": "python",
      "pygments_lexer": "ipython3",
      "version": "3.9.12"
    },
    "vscode": {
      "interpreter": {
        "hash": "cd701a206b363937aec8a42b48fdfe0fa56765986269d978ed7a344224b01851"
      }
    }
  },
  "nbformat": 4,
  "nbformat_minor": 4
}
