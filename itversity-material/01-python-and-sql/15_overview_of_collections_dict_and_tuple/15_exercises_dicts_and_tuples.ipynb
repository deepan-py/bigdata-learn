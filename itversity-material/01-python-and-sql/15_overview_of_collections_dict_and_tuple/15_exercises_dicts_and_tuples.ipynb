{
 "cells": [
  {
   "cell_type": "markdown",
   "id": "3bd9b9ed",
   "metadata": {
    "tags": []
   },
   "source": [
    "## Exercises - Dicts and Tuples\n",
    "\n",
    "Let us go through some exercises related to dict and tuple."
   ]
  },
  {
   "cell_type": "markdown",
   "id": "cc8a952e",
   "metadata": {
    "tags": []
   },
   "source": [
    "### Exercise 1 - Access all the values\n",
    "\n",
    "Get the values from the below dict in the form of a list."
   ]
  },
  {
   "cell_type": "code",
   "execution_count": 1,
   "id": "bc00e0ad",
   "metadata": {},
   "outputs": [],
   "source": [
    "d = {\n",
    "    'order_id': 1,\n",
    "    'order_date': '2013-07-25',\n",
    "    'order_customer_id': 100,\n",
    "    'order_status': 'COMPLETE'\n",
    "}"
   ]
  },
  {
   "cell_type": "code",
   "execution_count": 5,
   "id": "9077f25a",
   "metadata": {},
   "outputs": [],
   "source": [
    "def get_values(d):\n",
    "    return list(d.values())"
   ]
  },
  {
   "cell_type": "code",
   "execution_count": 6,
   "id": "1738bc0a",
   "metadata": {},
   "outputs": [
    {
     "data": {
      "text/plain": [
       "[1, '2013-07-25', 100, 'COMPLETE']"
      ]
     },
     "execution_count": 6,
     "metadata": {},
     "output_type": "execute_result"
    }
   ],
   "source": [
    "get_values(d) # Desired output: [1, '2013-07-25', 100, 'COMPLETE']"
   ]
  },
  {
   "cell_type": "code",
   "execution_count": 7,
   "id": "99f3cfbb",
   "metadata": {},
   "outputs": [
    {
     "data": {
      "text/plain": [
       "list"
      ]
     },
     "execution_count": 7,
     "metadata": {},
     "output_type": "execute_result"
    }
   ],
   "source": [
    "type(get_values(d)) # list"
   ]
  },
  {
   "cell_type": "markdown",
   "id": "9c6fa3b9",
   "metadata": {},
   "source": [
    "### Exercise 2 - Get Data types of values\n",
    "\n",
    "Continue on previous exercise and print data type of each value returned by get_values."
   ]
  },
  {
   "cell_type": "code",
   "execution_count": 9,
   "id": "2415c433",
   "metadata": {},
   "outputs": [],
   "source": [
    "l = get_values(d)"
   ]
  },
  {
   "cell_type": "markdown",
   "id": "0c05985a",
   "metadata": {},
   "source": [
    "* As l is list, you will be able to use `for` loop to access the elements from l. Here is the desired output.\n",
    "\n",
    "```\n",
    "<class 'int'>\n",
    "<class 'str'>\n",
    "<class 'int'>\n",
    "<class 'str'>\n",
    "```"
   ]
  },
  {
   "cell_type": "code",
   "execution_count": 10,
   "id": "ef88bd8c",
   "metadata": {},
   "outputs": [
    {
     "name": "stdout",
     "output_type": "stream",
     "text": [
      "<class 'int'>\n",
      "<class 'str'>\n",
      "<class 'int'>\n",
      "<class 'str'>\n"
     ]
    }
   ],
   "source": [
    "for e in l: print(type(e))"
   ]
  },
  {
   "cell_type": "markdown",
   "id": "bc9ccaac",
   "metadata": {},
   "source": [
    "### Exercise 3 - Data Type Conversion\n",
    "\n",
    "As part of the below dict object, order_date is of type string. You need to convert the data type of **order_date** to date type."
   ]
  },
  {
   "cell_type": "code",
   "execution_count": 11,
   "id": "5e784fbf",
   "metadata": {},
   "outputs": [],
   "source": [
    "d = {\n",
    "    'order_id': 1,\n",
    "    'order_date': '2013-07-25',\n",
    "    'order_customer_id': 100,\n",
    "    'order_status': 'COMPLETE'\n",
    "}"
   ]
  },
  {
   "cell_type": "code",
   "execution_count": 20,
   "id": "aa772cd7",
   "metadata": {},
   "outputs": [],
   "source": [
    "import datetime\n",
    "\n",
    "def convert_date_type(d):\n",
    "    t = {}\n",
    "    for i,j in d.items():\n",
    "        try:\n",
    "            t[i]=datetime.datetime.strptime(j,'%Y-%m-%d')\n",
    "            print(j)\n",
    "        except:\n",
    "            t[i]=j\n",
    "    return t"
   ]
  },
  {
   "cell_type": "markdown",
   "id": "3661bd38",
   "metadata": {},
   "source": [
    "* Run below cell to validate the output. Here is the desired output.\n",
    "\n",
    "```python\n",
    "{'order_id': 1,\n",
    " 'order_date': datetime.datetime(2013, 7, 25, 0, 0),\n",
    " 'order_customer_id': 100,\n",
    " 'order_status': 'COMPLETE'}\n",
    "```"
   ]
  },
  {
   "cell_type": "code",
   "execution_count": 21,
   "id": "2c29794b",
   "metadata": {},
   "outputs": [
    {
     "name": "stdout",
     "output_type": "stream",
     "text": [
      "2013-07-25\n"
     ]
    },
    {
     "data": {
      "text/plain": [
       "{'order_id': 1,\n",
       " 'order_date': datetime.datetime(2013, 7, 25, 0, 0),\n",
       " 'order_customer_id': 100,\n",
       " 'order_status': 'COMPLETE'}"
      ]
     },
     "execution_count": 21,
     "metadata": {},
     "output_type": "execute_result"
    }
   ],
   "source": [
    "d_converted = convert_date_type(d)\n",
    "d_converted"
   ]
  },
  {
   "cell_type": "code",
   "execution_count": 22,
   "id": "6577ab3d",
   "metadata": {},
   "outputs": [
    {
     "data": {
      "text/plain": [
       "datetime.datetime"
      ]
     },
     "execution_count": 22,
     "metadata": {},
     "output_type": "execute_result"
    }
   ],
   "source": [
    "type(d_converted['order_date']) # Output: datetime.datetime"
   ]
  },
  {
   "cell_type": "markdown",
   "id": "8f040cc9",
   "metadata": {},
   "source": [
    "### Exercise 4 - Create list of dicts\n",
    "\n",
    "Create list of dicts for the following data.\n",
    "* Each element in the list should be of type dict.\n",
    "* The dict should contain **order_item_order_id** and **order_item_subtotal** as keys.\n",
    "\n",
    "|order_item_order_id|order_item_subtotal|\n",
    "|---|---|\n",
    "|1|299.98|\n",
    "|2|199.99|\n",
    "|2|250.0|\n",
    "|2|129.99|\n",
    "|4|49.98|\n",
    "|4|299.95|\n",
    "|4|150.0|\n",
    "|4|199.92|"
   ]
  },
  {
   "cell_type": "markdown",
   "id": "7867112c",
   "metadata": {},
   "source": [
    "### Exercise 5: Dict with max value\n",
    "\n",
    "Create a dict with order id and max order item subtotal using the below dict. The below dict contains order id as key and order item subtotals list as corresponding value."
   ]
  },
  {
   "cell_type": "code",
   "execution_count": 23,
   "id": "57a16494",
   "metadata": {},
   "outputs": [],
   "source": [
    "order_item_subtotals = {\n",
    "    1: [299.98],\n",
    "    2: [199.99, 250.0, 129.99],\n",
    "    4: [49.98, 150.0, 199.92],\n",
    "    5: [299.98, 299.95, 99.96, 299.98, 129.99],\n",
    "    7: [199.99, 299.98, 79.95],\n",
    "    8: [179.97, 299.95, 199.92, 50.0]\n",
    "}"
   ]
  },
  {
   "cell_type": "code",
   "execution_count": 27,
   "id": "4b613118",
   "metadata": {},
   "outputs": [
    {
     "data": {
      "text/plain": [
       "{1: 299.98, 2: 250.0, 4: 199.92, 5: 299.98, 7: 299.98, 8: 299.95}"
      ]
     },
     "execution_count": 27,
     "metadata": {},
     "output_type": "execute_result"
    }
   ],
   "source": [
    "# Your solution should go here\n",
    "max_subtotals = []\n",
    "for item in order_item_subtotals.items():\n",
    "    max_subtotals.append((item[0], max(item[1])))\n",
    "\n",
    "# make sure this is out of for loop. By now max_subtotals is list of tuples.\n",
    "# But the expectation is to create a dict\n",
    "dict(max_subtotals)"
   ]
  },
  {
   "cell_type": "markdown",
   "id": "9c8e16c1",
   "metadata": {},
   "source": [
    "* Here is the desired output.\n",
    "\n",
    "```python\n",
    "{1: 299.98, 2: 250.0, 4: 199.92, 5: 299.98, 7: 299.98, 8: 299.95}\n",
    "```"
   ]
  },
  {
   "cell_type": "markdown",
   "id": "e9548094",
   "metadata": {},
   "source": [
    "### Exercise 6: Dict with order revenue\n",
    "\n",
    "Create a dict with order item id and order item subtotal. The input dict will contain order item id as key and quantity along with price as value. **order item subtotal** is product of quantity and price."
   ]
  },
  {
   "cell_type": "code",
   "execution_count": 29,
   "id": "cdd8b376",
   "metadata": {},
   "outputs": [],
   "source": [
    "order_items = {1: (1, 299.98),\n",
    " 2: (1, 199.99),\n",
    " 3: (5, 50.0),\n",
    " 4: (1, 129.99),\n",
    " 5: (2, 24.99),\n",
    " 6: (5, 59.99),\n",
    " 7: (3, 50.0),\n",
    " 8: (4, 49.98),\n",
    " 9: (1, 299.98),\n",
    " 10: (5, 59.99)}"
   ]
  },
  {
   "cell_type": "code",
   "execution_count": 30,
   "id": "c62129fb",
   "metadata": {},
   "outputs": [
    {
     "data": {
      "text/plain": [
       "{1: 299.98,\n",
       " 2: 199.99,\n",
       " 3: 250.0,\n",
       " 4: 129.99,\n",
       " 5: 49.98,\n",
       " 6: 299.95,\n",
       " 7: 150.0,\n",
       " 8: 199.92,\n",
       " 9: 299.98,\n",
       " 10: 299.95}"
      ]
     },
     "execution_count": 30,
     "metadata": {},
     "output_type": "execute_result"
    }
   ],
   "source": [
    "# Your solution should go here\n",
    "order_revenues = []\n",
    "for item in order_items.items():\n",
    "    order_revenues.append((item[0], item[1][0] * item[1][1]))\n",
    "\n",
    "# make sure this is out of for loop. By now order_revenues is list of tuples.\n",
    "# But the expectation is to create a dict\n",
    "dict(order_revenues)"
   ]
  },
  {
   "cell_type": "markdown",
   "id": "cdb5a151",
   "metadata": {},
   "source": [
    "* Here is the expected output.\n",
    "\n",
    "```python\n",
    "{1: 299.98,\n",
    " 2: 199.99,\n",
    " 3: 250.0,\n",
    " 4: 129.99,\n",
    " 5: 49.98,\n",
    " 6: 299.95,\n",
    " 7: 150.0,\n",
    " 8: 199.92,\n",
    " 9: 299.98,\n",
    " 10: 299.95}\n",
    "```"
   ]
  }
 ],
 "metadata": {
  "kernelspec": {
   "display_name": "Python 3.9.7 ('.venv': venv)",
   "language": "python",
   "name": "python3"
  },
  "language_info": {
   "codemirror_mode": {
    "name": "ipython",
    "version": 3
   },
   "file_extension": ".py",
   "mimetype": "text/x-python",
   "name": "python",
   "nbconvert_exporter": "python",
   "pygments_lexer": "ipython3",
   "version": "3.9.7"
  },
  "vscode": {
   "interpreter": {
    "hash": "46f0a31c712fae978552423cd449f57e5b5d767792a57b626d08194debebc25c"
   }
  }
 },
 "nbformat": 4,
 "nbformat_minor": 5
}
