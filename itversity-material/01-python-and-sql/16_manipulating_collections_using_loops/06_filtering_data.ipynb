{
  "cells": [
    {
      "cell_type": "markdown",
      "metadata": {},
      "source": [
        "## Filtering Data\n",
        "\n",
        "Let us perform few tasks to understand how to filter the data in collections using loops and conditionals.\n",
        "\n",
        "Here are the details about orders.\n",
        "* Data is in text file format\n",
        "* Each line in the file contains one record.\n",
        "* Each record contains 4 attributes which are separated by “,”\n",
        "  * order_id\n",
        "  * order_date\n",
        "  * order_customer_id\n",
        "  * order_status"
      ]
    },
    {
      "cell_type": "code",
      "execution_count": null,
      "metadata": {},
      "outputs": [],
      "source": [
        "%%sh\n",
        "\n",
        "ls -ltr /data/retail_db/orders/part-00000"
      ]
    },
    {
      "cell_type": "code",
      "execution_count": null,
      "metadata": {},
      "outputs": [],
      "source": [
        "%%sh\n",
        "\n",
        "tail /data/retail_db/orders/part-00000"
      ]
    },
    {
      "cell_type": "code",
      "execution_count": 1,
      "metadata": {},
      "outputs": [],
      "source": [
        "path = 'D:\\\\BIGDATA-LEARN\\\\data-engineering-spark-main\\\\data\\\\retail_db\\orders\\part-00000'\n",
        "# C:\\\\users\\\\itversity\\\\Research\\\\data\\\\retail_db\\\\orders\\\\part-00000\n",
        "orders_file = open(path)"
      ]
    },
    {
      "cell_type": "code",
      "execution_count": 2,
      "metadata": {},
      "outputs": [
        {
          "data": {
            "text/plain": [
              "_io.TextIOWrapper"
            ]
          },
          "execution_count": 2,
          "metadata": {},
          "output_type": "execute_result"
        }
      ],
      "source": [
        "type(orders_file)"
      ]
    },
    {
      "cell_type": "code",
      "execution_count": 3,
      "metadata": {},
      "outputs": [],
      "source": [
        "orders_raw = orders_file.read()"
      ]
    },
    {
      "cell_type": "code",
      "execution_count": 4,
      "metadata": {},
      "outputs": [
        {
          "data": {
            "text/plain": [
              "str"
            ]
          },
          "execution_count": 4,
          "metadata": {},
          "output_type": "execute_result"
        }
      ],
      "source": [
        "type(orders_raw)"
      ]
    },
    {
      "cell_type": "code",
      "execution_count": 5,
      "metadata": {},
      "outputs": [
        {
          "name": "stdout",
          "output_type": "stream",
          "text": [
            "\u001b[1;31mSignature:\u001b[0m \u001b[0morders_raw\u001b[0m\u001b[1;33m.\u001b[0m\u001b[0msplitlines\u001b[0m\u001b[1;33m(\u001b[0m\u001b[0mkeepends\u001b[0m\u001b[1;33m=\u001b[0m\u001b[1;32mFalse\u001b[0m\u001b[1;33m)\u001b[0m\u001b[1;33m\u001b[0m\u001b[1;33m\u001b[0m\u001b[0m\n",
            "\u001b[1;31mDocstring:\u001b[0m\n",
            "Return a list of the lines in the string, breaking at line boundaries.\n",
            "\n",
            "Line breaks are not included in the resulting list unless keepends is given and\n",
            "true.\n",
            "\u001b[1;31mType:\u001b[0m      builtin_function_or_method\n"
          ]
        }
      ],
      "source": [
        "orders_raw.splitlines?"
      ]
    },
    {
      "cell_type": "code",
      "execution_count": 6,
      "metadata": {},
      "outputs": [],
      "source": [
        "orders = orders_raw.splitlines()"
      ]
    },
    {
      "cell_type": "code",
      "execution_count": 7,
      "metadata": {},
      "outputs": [
        {
          "data": {
            "text/plain": [
              "list"
            ]
          },
          "execution_count": 7,
          "metadata": {},
          "output_type": "execute_result"
        }
      ],
      "source": [
        "type(orders)"
      ]
    },
    {
      "cell_type": "code",
      "execution_count": 8,
      "metadata": {},
      "outputs": [
        {
          "data": {
            "text/plain": [
              "['1,2013-07-25 00:00:00.0,11599,CLOSED',\n",
              " '2,2013-07-25 00:00:00.0,256,PENDING_PAYMENT',\n",
              " '3,2013-07-25 00:00:00.0,12111,COMPLETE',\n",
              " '4,2013-07-25 00:00:00.0,8827,CLOSED',\n",
              " '5,2013-07-25 00:00:00.0,11318,COMPLETE',\n",
              " '6,2013-07-25 00:00:00.0,7130,COMPLETE',\n",
              " '7,2013-07-25 00:00:00.0,4530,COMPLETE',\n",
              " '8,2013-07-25 00:00:00.0,2911,PROCESSING',\n",
              " '9,2013-07-25 00:00:00.0,5657,PENDING_PAYMENT',\n",
              " '10,2013-07-25 00:00:00.0,5648,PENDING_PAYMENT']"
            ]
          },
          "execution_count": 8,
          "metadata": {},
          "output_type": "execute_result"
        }
      ],
      "source": [
        "orders[:10]"
      ]
    },
    {
      "cell_type": "code",
      "execution_count": 9,
      "metadata": {},
      "outputs": [
        {
          "data": {
            "text/plain": [
              "str"
            ]
          },
          "execution_count": 9,
          "metadata": {},
          "output_type": "execute_result"
        }
      ],
      "source": [
        "type(orders[0])"
      ]
    },
    {
      "cell_type": "code",
      "execution_count": 10,
      "metadata": {},
      "outputs": [
        {
          "data": {
            "text/plain": [
              "68883"
            ]
          },
          "execution_count": 10,
          "metadata": {},
          "output_type": "execute_result"
        }
      ],
      "source": [
        "len(orders)"
      ]
    },
    {
      "cell_type": "code",
      "execution_count": 11,
      "metadata": {},
      "outputs": [
        {
          "name": "stdout",
          "output_type": "stream",
          "text": [
            "Couldn't find program: 'sh'\n"
          ]
        }
      ],
      "source": [
        "%%sh\n",
        "\n",
        "wc -l /data/retail_db/orders/part-00000"
      ]
    },
    {
      "cell_type": "markdown",
      "metadata": {},
      "source": [
        "### Task 1\n",
        "Create a function by name get_customer_orders which take orders list and customer_id as arguments and return all the orders placed by customer_id"
      ]
    },
    {
      "cell_type": "code",
      "execution_count": 12,
      "metadata": {},
      "outputs": [
        {
          "data": {
            "text/plain": [
              "['1,2013-07-25 00:00:00.0,11599,CLOSED',\n",
              " '2,2013-07-25 00:00:00.0,256,PENDING_PAYMENT',\n",
              " '3,2013-07-25 00:00:00.0,12111,COMPLETE',\n",
              " '4,2013-07-25 00:00:00.0,8827,CLOSED',\n",
              " '5,2013-07-25 00:00:00.0,11318,COMPLETE',\n",
              " '6,2013-07-25 00:00:00.0,7130,COMPLETE',\n",
              " '7,2013-07-25 00:00:00.0,4530,COMPLETE',\n",
              " '8,2013-07-25 00:00:00.0,2911,PROCESSING',\n",
              " '9,2013-07-25 00:00:00.0,5657,PENDING_PAYMENT',\n",
              " '10,2013-07-25 00:00:00.0,5648,PENDING_PAYMENT']"
            ]
          },
          "execution_count": 12,
          "metadata": {},
          "output_type": "execute_result"
        }
      ],
      "source": [
        "orders[:10]"
      ]
    },
    {
      "cell_type": "code",
      "execution_count": 13,
      "metadata": {},
      "outputs": [],
      "source": [
        "order = '3,2013-07-25 00:00:00.0,12111,COMPLETE'"
      ]
    },
    {
      "cell_type": "code",
      "execution_count": 14,
      "metadata": {},
      "outputs": [
        {
          "data": {
            "text/plain": [
              "True"
            ]
          },
          "execution_count": 14,
          "metadata": {},
          "output_type": "execute_result"
        }
      ],
      "source": [
        "int(order.split(',')[2]) == 12111"
      ]
    },
    {
      "cell_type": "code",
      "execution_count": 15,
      "metadata": {},
      "outputs": [],
      "source": [
        "def get_customer_orders(orders, customer_id):\n",
        "    orders_filtered = []\n",
        "    for order in orders:\n",
        "        if int(order.split(',')[2]) == customer_id:\n",
        "            orders_filtered.append(order)\n",
        "    return orders_filtered"
      ]
    },
    {
      "cell_type": "code",
      "execution_count": 16,
      "metadata": {},
      "outputs": [
        {
          "data": {
            "text/plain": [
              "['3774,2013-08-16 00:00:00.0,12431,CANCELED',\n",
              " '3870,2013-08-17 00:00:00.0,12431,PENDING_PAYMENT',\n",
              " '4032,2013-08-17 00:00:00.0,12431,ON_HOLD',\n",
              " '22812,2013-12-12 00:00:00.0,12431,PENDING',\n",
              " '22927,2013-12-13 00:00:00.0,12431,CLOSED',\n",
              " '25614,2013-12-30 00:00:00.0,12431,CLOSED',\n",
              " '27585,2014-01-12 00:00:00.0,12431,PROCESSING',\n",
              " '28244,2014-01-15 00:00:00.0,12431,PENDING_PAYMENT',\n",
              " '29109,2014-01-21 00:00:00.0,12431,ON_HOLD',\n",
              " '29232,2014-01-21 00:00:00.0,12431,ON_HOLD',\n",
              " '45894,2014-05-06 00:00:00.0,12431,CLOSED',\n",
              " '46217,2014-05-07 00:00:00.0,12431,CLOSED',\n",
              " '49678,2014-05-31 00:00:00.0,12431,PENDING',\n",
              " '51865,2014-06-15 00:00:00.0,12431,PROCESSING',\n",
              " '63146,2014-02-13 00:00:00.0,12431,PENDING_PAYMENT',\n",
              " '67110,2014-07-14 00:00:00.0,12431,PENDING']"
            ]
          },
          "execution_count": 16,
          "metadata": {},
          "output_type": "execute_result"
        }
      ],
      "source": [
        "# Use the function and get all the orders which are placed by customer with id 12431\n",
        "get_customer_orders(orders, 12431)"
      ]
    },
    {
      "cell_type": "code",
      "execution_count": 17,
      "metadata": {},
      "outputs": [
        {
          "data": {
            "text/plain": [
              "16"
            ]
          },
          "execution_count": 17,
          "metadata": {},
          "output_type": "execute_result"
        }
      ],
      "source": [
        "len(get_customer_orders(orders, 12431))"
      ]
    },
    {
      "cell_type": "markdown",
      "metadata": {},
      "source": [
        "### Task 2\n",
        "\n",
        "Create a function by name get_customer_orders_for_month which take orders list, customer_id and month in the format YYYY-MM as arguments and return all the orders placed by customer_id for a given month."
      ]
    },
    {
      "cell_type": "code",
      "execution_count": 18,
      "metadata": {},
      "outputs": [],
      "source": [
        "order = '3,2013-07-25 00:00:00.0,12111,COMPLETE'"
      ]
    },
    {
      "cell_type": "code",
      "execution_count": 19,
      "metadata": {},
      "outputs": [
        {
          "data": {
            "text/plain": [
              "True"
            ]
          },
          "execution_count": 19,
          "metadata": {},
          "output_type": "execute_result"
        }
      ],
      "source": [
        "int(order.split(',')[2]) == 12111"
      ]
    },
    {
      "cell_type": "code",
      "execution_count": 20,
      "metadata": {},
      "outputs": [
        {
          "data": {
            "text/plain": [
              "True"
            ]
          },
          "execution_count": 20,
          "metadata": {},
          "output_type": "execute_result"
        }
      ],
      "source": [
        "order.split(',')[1].startswith('2013-07')"
      ]
    },
    {
      "cell_type": "code",
      "execution_count": 21,
      "metadata": {},
      "outputs": [],
      "source": [
        "import datetime as dt\n",
        "d = dt.datetime.strptime(order.split(',')[1], '%Y-%m-%d %H:%M:%S.%f')"
      ]
    },
    {
      "cell_type": "code",
      "execution_count": 22,
      "metadata": {},
      "outputs": [
        {
          "data": {
            "text/plain": [
              "True"
            ]
          },
          "execution_count": 22,
          "metadata": {},
          "output_type": "execute_result"
        }
      ],
      "source": [
        "d.year == 2013 and d.month == 7"
      ]
    },
    {
      "cell_type": "code",
      "execution_count": 23,
      "metadata": {},
      "outputs": [
        {
          "data": {
            "text/plain": [
              "True"
            ]
          },
          "execution_count": 23,
          "metadata": {},
          "output_type": "execute_result"
        }
      ],
      "source": [
        "int(order.split(',')[2]) == 12111 and order.split(',')[1].startswith('2013-07')"
      ]
    },
    {
      "cell_type": "code",
      "execution_count": 24,
      "metadata": {},
      "outputs": [],
      "source": [
        "def get_customer_orders_for_month(orders, customer_id, order_month):\n",
        "    orders_filtered = []\n",
        "    for order in orders:\n",
        "        order_elements = order.split(',')\n",
        "        if (int(order_elements[2]) == customer_id and\n",
        "            order_elements[1].startswith(order_month)):\n",
        "            orders_filtered.append(order)\n",
        "    return orders_filtered"
      ]
    },
    {
      "cell_type": "code",
      "execution_count": 25,
      "metadata": {},
      "outputs": [
        {
          "data": {
            "text/plain": [
              "['27585,2014-01-12 00:00:00.0,12431,PROCESSING',\n",
              " '28244,2014-01-15 00:00:00.0,12431,PENDING_PAYMENT',\n",
              " '29109,2014-01-21 00:00:00.0,12431,ON_HOLD',\n",
              " '29232,2014-01-21 00:00:00.0,12431,ON_HOLD']"
            ]
          },
          "execution_count": 25,
          "metadata": {},
          "output_type": "execute_result"
        }
      ],
      "source": [
        "# Use the function and get all the orders which are placed by customer with id 12431 in January 2014\n",
        "get_customer_orders_for_month(orders, 12431, '2014-01')"
      ]
    },
    {
      "cell_type": "markdown",
      "metadata": {},
      "source": [
        "### Task 3\n",
        "Write ad hoc code to get all the orders which are placed by customer with id 12431 in January 2014 and status is in PENDING_PAYMENT or PROCESSING"
      ]
    },
    {
      "cell_type": "code",
      "execution_count": 26,
      "metadata": {},
      "outputs": [
        {
          "name": "stdout",
          "output_type": "stream",
          "text": [
            "27585,2014-01-12 00:00:00.0,12431,PROCESSING\n",
            "28244,2014-01-15 00:00:00.0,12431,PENDING_PAYMENT\n"
          ]
        }
      ],
      "source": [
        "for order in orders:\n",
        "    order_elements = order.split(',')\n",
        "    if int(order_elements[2]) == 12431 \\\n",
        "        and order_elements[1].startswith('2014-01') \\\n",
        "        and (order_elements[3] in ('PROCESSING', 'PENDING_PAYMENT')):\n",
        "        print(order)"
      ]
    }
  ],
  "metadata": {
    "kernelspec": {
      "display_name": "Python 3.9.7 ('.venv': venv)",
      "language": "python",
      "name": "python3"
    },
    "language_info": {
      "codemirror_mode": {
        "name": "ipython",
        "version": 3
      },
      "file_extension": ".py",
      "mimetype": "text/x-python",
      "name": "python",
      "nbconvert_exporter": "python",
      "pygments_lexer": "ipython3",
      "version": "3.9.7"
    },
    "vscode": {
      "interpreter": {
        "hash": "46f0a31c712fae978552423cd449f57e5b5d767792a57b626d08194debebc25c"
      }
    }
  },
  "nbformat": 4,
  "nbformat_minor": 4
}
