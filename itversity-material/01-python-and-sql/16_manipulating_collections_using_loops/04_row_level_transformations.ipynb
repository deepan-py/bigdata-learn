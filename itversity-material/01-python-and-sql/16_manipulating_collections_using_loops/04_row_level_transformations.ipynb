{
  "cells": [
    {
      "cell_type": "markdown",
      "metadata": {},
      "source": [
        "## Row level transformations\n",
        "\n",
        "Let us understand how to perform row level transformations using orders data set. Here are the details about orders.\n",
        "* Data is in text file format\n",
        "* Each line in the file contains one record.\n",
        "* Each record contains 4 attributes which are separated by “,”\n",
        "  * order_id\n",
        "  * order_date\n",
        "  * order_customer_id\n",
        "  * order_status"
      ]
    },
    {
      "cell_type": "code",
      "execution_count": null,
      "metadata": {},
      "outputs": [],
      "source": [
        "%%sh\n",
        "\n",
        "ls -ltr /data/retail_db/orders/part-00000"
      ]
    },
    {
      "cell_type": "code",
      "execution_count": null,
      "metadata": {},
      "outputs": [],
      "source": [
        "%%sh\n",
        "\n",
        "tail /data/retail_db/orders/part-00000"
      ]
    },
    {
      "cell_type": "code",
      "execution_count": 1,
      "metadata": {},
      "outputs": [],
      "source": [
        "path = 'D:\\\\BIGDATA-LEARN\\\\data-engineering-spark-main\\\\data\\\\retail_db\\orders\\part-00000'\n",
        "# C:\\\\users\\\\itversity\\\\Research\\\\data\\\\retail_db\\\\orders\\\\part-00000\n",
        "orders_file = open(path)"
      ]
    },
    {
      "cell_type": "code",
      "execution_count": 2,
      "metadata": {},
      "outputs": [
        {
          "data": {
            "text/plain": [
              "_io.TextIOWrapper"
            ]
          },
          "execution_count": 2,
          "metadata": {},
          "output_type": "execute_result"
        }
      ],
      "source": [
        "type(orders_file)"
      ]
    },
    {
      "cell_type": "code",
      "execution_count": 3,
      "metadata": {},
      "outputs": [],
      "source": [
        "orders_raw = orders_file.read()"
      ]
    },
    {
      "cell_type": "code",
      "execution_count": 4,
      "metadata": {},
      "outputs": [
        {
          "data": {
            "text/plain": [
              "str"
            ]
          },
          "execution_count": 4,
          "metadata": {},
          "output_type": "execute_result"
        }
      ],
      "source": [
        "type(orders_raw)"
      ]
    },
    {
      "cell_type": "code",
      "execution_count": 5,
      "metadata": {},
      "outputs": [
        {
          "name": "stdout",
          "output_type": "stream",
          "text": [
            "\u001b[1;31mSignature:\u001b[0m \u001b[0morders_raw\u001b[0m\u001b[1;33m.\u001b[0m\u001b[0msplitlines\u001b[0m\u001b[1;33m(\u001b[0m\u001b[0mkeepends\u001b[0m\u001b[1;33m=\u001b[0m\u001b[1;32mFalse\u001b[0m\u001b[1;33m)\u001b[0m\u001b[1;33m\u001b[0m\u001b[1;33m\u001b[0m\u001b[0m\n",
            "\u001b[1;31mDocstring:\u001b[0m\n",
            "Return a list of the lines in the string, breaking at line boundaries.\n",
            "\n",
            "Line breaks are not included in the resulting list unless keepends is given and\n",
            "true.\n",
            "\u001b[1;31mType:\u001b[0m      builtin_function_or_method\n"
          ]
        }
      ],
      "source": [
        "orders_raw.splitlines?"
      ]
    },
    {
      "cell_type": "code",
      "execution_count": 6,
      "metadata": {},
      "outputs": [],
      "source": [
        "orders = orders_raw.splitlines()"
      ]
    },
    {
      "cell_type": "code",
      "execution_count": 7,
      "metadata": {},
      "outputs": [
        {
          "data": {
            "text/plain": [
              "list"
            ]
          },
          "execution_count": 7,
          "metadata": {},
          "output_type": "execute_result"
        }
      ],
      "source": [
        "type(orders)"
      ]
    },
    {
      "cell_type": "code",
      "execution_count": 8,
      "metadata": {},
      "outputs": [
        {
          "data": {
            "text/plain": [
              "['1,2013-07-25 00:00:00.0,11599,CLOSED',\n",
              " '2,2013-07-25 00:00:00.0,256,PENDING_PAYMENT',\n",
              " '3,2013-07-25 00:00:00.0,12111,COMPLETE',\n",
              " '4,2013-07-25 00:00:00.0,8827,CLOSED',\n",
              " '5,2013-07-25 00:00:00.0,11318,COMPLETE',\n",
              " '6,2013-07-25 00:00:00.0,7130,COMPLETE',\n",
              " '7,2013-07-25 00:00:00.0,4530,COMPLETE',\n",
              " '8,2013-07-25 00:00:00.0,2911,PROCESSING',\n",
              " '9,2013-07-25 00:00:00.0,5657,PENDING_PAYMENT',\n",
              " '10,2013-07-25 00:00:00.0,5648,PENDING_PAYMENT']"
            ]
          },
          "execution_count": 8,
          "metadata": {},
          "output_type": "execute_result"
        }
      ],
      "source": [
        "orders[:10]"
      ]
    },
    {
      "cell_type": "code",
      "execution_count": 9,
      "metadata": {},
      "outputs": [
        {
          "data": {
            "text/plain": [
              "str"
            ]
          },
          "execution_count": 9,
          "metadata": {},
          "output_type": "execute_result"
        }
      ],
      "source": [
        "type(orders[0])"
      ]
    },
    {
      "cell_type": "code",
      "execution_count": 10,
      "metadata": {},
      "outputs": [
        {
          "data": {
            "text/plain": [
              "68883"
            ]
          },
          "execution_count": 10,
          "metadata": {},
          "output_type": "execute_result"
        }
      ],
      "source": [
        "len(orders)"
      ]
    },
    {
      "cell_type": "code",
      "execution_count": 11,
      "metadata": {},
      "outputs": [
        {
          "name": "stdout",
          "output_type": "stream",
          "text": [
            "Couldn't find program: 'sh'\n"
          ]
        }
      ],
      "source": [
        "%%sh\n",
        "\n",
        "wc -l /data/retail_db/orders/part-00000"
      ]
    },
    {
      "cell_type": "markdown",
      "metadata": {},
      "source": [
        "### Task 1\n",
        "\n",
        "Get all order ids and associated statuses. Each record in the output should be comma separated string."
      ]
    },
    {
      "cell_type": "code",
      "execution_count": 12,
      "metadata": {},
      "outputs": [],
      "source": [
        "order = '1,2013-07-25 00:00:00.0,11599,CLOSED' # -> '1,CLOSED'"
      ]
    },
    {
      "cell_type": "code",
      "execution_count": 13,
      "metadata": {},
      "outputs": [],
      "source": [
        "# We invokde join on delimiter"
      ]
    },
    {
      "cell_type": "code",
      "execution_count": 14,
      "metadata": {},
      "outputs": [
        {
          "name": "stdout",
          "output_type": "stream",
          "text": [
            "\u001b[1;31mSignature:\u001b[0m \u001b[0mstr\u001b[0m\u001b[1;33m.\u001b[0m\u001b[0mjoin\u001b[0m\u001b[1;33m(\u001b[0m\u001b[0mself\u001b[0m\u001b[1;33m,\u001b[0m \u001b[0miterable\u001b[0m\u001b[1;33m,\u001b[0m \u001b[1;33m/\u001b[0m\u001b[1;33m)\u001b[0m\u001b[1;33m\u001b[0m\u001b[1;33m\u001b[0m\u001b[0m\n",
            "\u001b[1;31mDocstring:\u001b[0m\n",
            "Concatenate any number of strings.\n",
            "\n",
            "The string whose method is called is inserted in between each given string.\n",
            "The result is returned as a new string.\n",
            "\n",
            "Example: '.'.join(['ab', 'pq', 'rs']) -> 'ab.pq.rs'\n",
            "\u001b[1;31mType:\u001b[0m      method_descriptor\n"
          ]
        }
      ],
      "source": [
        "str.join?"
      ]
    },
    {
      "cell_type": "code",
      "execution_count": 15,
      "metadata": {},
      "outputs": [
        {
          "data": {
            "text/plain": [
              "'1:2:3:4'"
            ]
          },
          "execution_count": 15,
          "metadata": {},
          "output_type": "execute_result"
        }
      ],
      "source": [
        "':'.join(['1', '2', '3', '4'])"
      ]
    },
    {
      "cell_type": "code",
      "execution_count": 16,
      "metadata": {},
      "outputs": [
        {
          "data": {
            "text/plain": [
              "'1'"
            ]
          },
          "execution_count": 16,
          "metadata": {},
          "output_type": "execute_result"
        }
      ],
      "source": [
        "order.split(',')[0]"
      ]
    },
    {
      "cell_type": "code",
      "execution_count": 17,
      "metadata": {},
      "outputs": [
        {
          "data": {
            "text/plain": [
              "'CLOSED'"
            ]
          },
          "execution_count": 17,
          "metadata": {},
          "output_type": "execute_result"
        }
      ],
      "source": [
        "order.split(',')[3]"
      ]
    },
    {
      "cell_type": "code",
      "execution_count": 18,
      "metadata": {},
      "outputs": [
        {
          "data": {
            "text/plain": [
              "['1', 'CLOSED']"
            ]
          },
          "execution_count": 18,
          "metadata": {},
          "output_type": "execute_result"
        }
      ],
      "source": [
        "[order.split(',')[0], order.split(',')[3]]"
      ]
    },
    {
      "cell_type": "code",
      "execution_count": 19,
      "metadata": {},
      "outputs": [
        {
          "data": {
            "text/plain": [
              "'1,CLOSED'"
            ]
          },
          "execution_count": 19,
          "metadata": {},
          "output_type": "execute_result"
        }
      ],
      "source": [
        "','.join([order.split(',')[0], order.split(',')[3]])"
      ]
    },
    {
      "cell_type": "code",
      "execution_count": 20,
      "metadata": {},
      "outputs": [],
      "source": [
        "l = [1]"
      ]
    },
    {
      "cell_type": "code",
      "execution_count": 21,
      "metadata": {},
      "outputs": [],
      "source": [
        "l.append(2)"
      ]
    },
    {
      "cell_type": "code",
      "execution_count": 22,
      "metadata": {},
      "outputs": [
        {
          "data": {
            "text/plain": [
              "[1, 2]"
            ]
          },
          "execution_count": 22,
          "metadata": {},
          "output_type": "execute_result"
        }
      ],
      "source": [
        "l"
      ]
    },
    {
      "cell_type": "code",
      "execution_count": 23,
      "metadata": {},
      "outputs": [],
      "source": [
        "order_statuses = []\n",
        "for order in orders:\n",
        "    order_statuses.append(','.join([order.split(',')[0], order.split(',')[3]]))"
      ]
    },
    {
      "cell_type": "code",
      "execution_count": 24,
      "metadata": {},
      "outputs": [
        {
          "data": {
            "text/plain": [
              "['1,CLOSED',\n",
              " '2,PENDING_PAYMENT',\n",
              " '3,COMPLETE',\n",
              " '4,CLOSED',\n",
              " '5,COMPLETE',\n",
              " '6,COMPLETE',\n",
              " '7,COMPLETE',\n",
              " '8,PROCESSING',\n",
              " '9,PENDING_PAYMENT',\n",
              " '10,PENDING_PAYMENT']"
            ]
          },
          "execution_count": 24,
          "metadata": {},
          "output_type": "execute_result"
        }
      ],
      "source": [
        "order_statuses[:10]"
      ]
    },
    {
      "cell_type": "code",
      "execution_count": 25,
      "metadata": {},
      "outputs": [
        {
          "data": {
            "text/plain": [
              "68883"
            ]
          },
          "execution_count": 25,
          "metadata": {},
          "output_type": "execute_result"
        }
      ],
      "source": [
        "len(order_statuses)"
      ]
    },
    {
      "cell_type": "code",
      "execution_count": 26,
      "metadata": {},
      "outputs": [],
      "source": [
        "order_statuses = [','.join([order.split(',')[0], order.split(',')[3]]) for order in orders] # alternative solution"
      ]
    },
    {
      "cell_type": "code",
      "execution_count": 27,
      "metadata": {},
      "outputs": [
        {
          "data": {
            "text/plain": [
              "['1,CLOSED',\n",
              " '2,PENDING_PAYMENT',\n",
              " '3,COMPLETE',\n",
              " '4,CLOSED',\n",
              " '5,COMPLETE',\n",
              " '6,COMPLETE',\n",
              " '7,COMPLETE',\n",
              " '8,PROCESSING',\n",
              " '9,PENDING_PAYMENT',\n",
              " '10,PENDING_PAYMENT']"
            ]
          },
          "execution_count": 27,
          "metadata": {},
          "output_type": "execute_result"
        }
      ],
      "source": [
        "order_statuses[:10]"
      ]
    },
    {
      "cell_type": "code",
      "execution_count": 28,
      "metadata": {},
      "outputs": [
        {
          "data": {
            "text/plain": [
              "68883"
            ]
          },
          "execution_count": 28,
          "metadata": {},
          "output_type": "execute_result"
        }
      ],
      "source": [
        "len(order_statuses)"
      ]
    },
    {
      "cell_type": "markdown",
      "metadata": {},
      "source": [
        "### Task 2\n",
        "\n",
        "Get all order ids, the dates on which order is placed and order status. Each record in the output should be dict with following column names as keys.\n",
        "* order_id\n",
        "* order_date\n",
        "* order_status"
      ]
    },
    {
      "cell_type": "code",
      "execution_count": 29,
      "metadata": {},
      "outputs": [
        {
          "data": {
            "text/plain": [
              "{'order_id': 1, 'order_date': '2020-12-22', 'order_status': 'COMPLETE'}"
            ]
          },
          "execution_count": 29,
          "metadata": {},
          "output_type": "execute_result"
        }
      ],
      "source": [
        "{'order_id': 1, 'order_date': '2020-12-22', 'order_status': 'COMPLETE'}"
      ]
    },
    {
      "cell_type": "code",
      "execution_count": 30,
      "metadata": {},
      "outputs": [],
      "source": [
        "def get_order_details(order):\n",
        "    \"\"\"Extract order details such as id, date as well as status and return as dict\"\"\"\n",
        "    order_values = order.split(',')\n",
        "    return ({\n",
        "        'order_id': int(order_values[0]),\n",
        "        'order_date': order_values[1],\n",
        "        'order_status': order_values[3]\n",
        "    })"
      ]
    },
    {
      "cell_type": "code",
      "execution_count": 31,
      "metadata": {},
      "outputs": [
        {
          "data": {
            "text/plain": [
              "{'order_id': 1,\n",
              " 'order_date': '2013-07-25 00:00:00.0',\n",
              " 'order_status': 'CLOSED'}"
            ]
          },
          "execution_count": 31,
          "metadata": {},
          "output_type": "execute_result"
        }
      ],
      "source": [
        "get_order_details('1,2013-07-25 00:00:00.0,11599,CLOSED')"
      ]
    },
    {
      "cell_type": "code",
      "execution_count": 32,
      "metadata": {},
      "outputs": [],
      "source": [
        "order_details = []\n",
        "for order in orders:\n",
        "    order_details.append(get_order_details(order))"
      ]
    },
    {
      "cell_type": "code",
      "execution_count": 33,
      "metadata": {},
      "outputs": [
        {
          "data": {
            "text/plain": [
              "[{'order_id': 1,\n",
              "  'order_date': '2013-07-25 00:00:00.0',\n",
              "  'order_status': 'CLOSED'},\n",
              " {'order_id': 2,\n",
              "  'order_date': '2013-07-25 00:00:00.0',\n",
              "  'order_status': 'PENDING_PAYMENT'},\n",
              " {'order_id': 3,\n",
              "  'order_date': '2013-07-25 00:00:00.0',\n",
              "  'order_status': 'COMPLETE'},\n",
              " {'order_id': 4,\n",
              "  'order_date': '2013-07-25 00:00:00.0',\n",
              "  'order_status': 'CLOSED'},\n",
              " {'order_id': 5,\n",
              "  'order_date': '2013-07-25 00:00:00.0',\n",
              "  'order_status': 'COMPLETE'},\n",
              " {'order_id': 6,\n",
              "  'order_date': '2013-07-25 00:00:00.0',\n",
              "  'order_status': 'COMPLETE'},\n",
              " {'order_id': 7,\n",
              "  'order_date': '2013-07-25 00:00:00.0',\n",
              "  'order_status': 'COMPLETE'},\n",
              " {'order_id': 8,\n",
              "  'order_date': '2013-07-25 00:00:00.0',\n",
              "  'order_status': 'PROCESSING'},\n",
              " {'order_id': 9,\n",
              "  'order_date': '2013-07-25 00:00:00.0',\n",
              "  'order_status': 'PENDING_PAYMENT'},\n",
              " {'order_id': 10,\n",
              "  'order_date': '2013-07-25 00:00:00.0',\n",
              "  'order_status': 'PENDING_PAYMENT'}]"
            ]
          },
          "execution_count": 33,
          "metadata": {},
          "output_type": "execute_result"
        }
      ],
      "source": [
        "order_details[:10]"
      ]
    },
    {
      "cell_type": "code",
      "execution_count": 34,
      "metadata": {},
      "outputs": [
        {
          "data": {
            "text/plain": [
              "68883"
            ]
          },
          "execution_count": 34,
          "metadata": {},
          "output_type": "execute_result"
        }
      ],
      "source": [
        "len(order_details)"
      ]
    },
    {
      "cell_type": "code",
      "execution_count": 35,
      "metadata": {},
      "outputs": [],
      "source": [
        "order_details = [get_order_details(order) for order in orders]"
      ]
    },
    {
      "cell_type": "code",
      "execution_count": 36,
      "metadata": {},
      "outputs": [
        {
          "data": {
            "text/plain": [
              "[{'order_id': 1,\n",
              "  'order_date': '2013-07-25 00:00:00.0',\n",
              "  'order_status': 'CLOSED'},\n",
              " {'order_id': 2,\n",
              "  'order_date': '2013-07-25 00:00:00.0',\n",
              "  'order_status': 'PENDING_PAYMENT'},\n",
              " {'order_id': 3,\n",
              "  'order_date': '2013-07-25 00:00:00.0',\n",
              "  'order_status': 'COMPLETE'},\n",
              " {'order_id': 4,\n",
              "  'order_date': '2013-07-25 00:00:00.0',\n",
              "  'order_status': 'CLOSED'},\n",
              " {'order_id': 5,\n",
              "  'order_date': '2013-07-25 00:00:00.0',\n",
              "  'order_status': 'COMPLETE'},\n",
              " {'order_id': 6,\n",
              "  'order_date': '2013-07-25 00:00:00.0',\n",
              "  'order_status': 'COMPLETE'},\n",
              " {'order_id': 7,\n",
              "  'order_date': '2013-07-25 00:00:00.0',\n",
              "  'order_status': 'COMPLETE'},\n",
              " {'order_id': 8,\n",
              "  'order_date': '2013-07-25 00:00:00.0',\n",
              "  'order_status': 'PROCESSING'},\n",
              " {'order_id': 9,\n",
              "  'order_date': '2013-07-25 00:00:00.0',\n",
              "  'order_status': 'PENDING_PAYMENT'},\n",
              " {'order_id': 10,\n",
              "  'order_date': '2013-07-25 00:00:00.0',\n",
              "  'order_status': 'PENDING_PAYMENT'}]"
            ]
          },
          "execution_count": 36,
          "metadata": {},
          "output_type": "execute_result"
        }
      ],
      "source": [
        "order_details[:10]"
      ]
    },
    {
      "cell_type": "code",
      "execution_count": 37,
      "metadata": {},
      "outputs": [
        {
          "data": {
            "text/plain": [
              "68883"
            ]
          },
          "execution_count": 37,
          "metadata": {},
          "output_type": "execute_result"
        }
      ],
      "source": [
        "len(order_details)"
      ]
    }
  ],
  "metadata": {
    "kernelspec": {
      "display_name": "Python 3.9.7 ('.venv': venv)",
      "language": "python",
      "name": "python3"
    },
    "language_info": {
      "codemirror_mode": {
        "name": "ipython",
        "version": 3
      },
      "file_extension": ".py",
      "mimetype": "text/x-python",
      "name": "python",
      "nbconvert_exporter": "python",
      "pygments_lexer": "ipython3",
      "version": "3.9.7"
    },
    "vscode": {
      "interpreter": {
        "hash": "46f0a31c712fae978552423cd449f57e5b5d767792a57b626d08194debebc25c"
      }
    }
  },
  "nbformat": 4,
  "nbformat_minor": 4
}
