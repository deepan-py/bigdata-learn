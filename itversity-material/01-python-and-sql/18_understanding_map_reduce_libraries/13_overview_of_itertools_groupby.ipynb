{
 "cells": [
  {
   "cell_type": "markdown",
   "metadata": {},
   "source": [
    "## Overview of itertools groupby\n",
    "\n",
    "Let us understand how we can use `itertools.groupby` to take care of aggregations by key.\n",
    "\n",
    "* `itertools.groupby` can be used to get the data grouped by a key.\n",
    "* It can be used to take care of use cases similar to following by using aggregate functions after grouping by key.\n",
    "  * Get count by order status.\n",
    "  * Get revenue for each order.\n",
    "  * Get order count by month.\n",
    "* We need to ensure data is pre-sorted by the key, so that all the values associated with each key are grouped together."
   ]
  },
  {
   "cell_type": "code",
   "execution_count": 1,
   "metadata": {},
   "outputs": [],
   "source": [
    "import itertools as iter"
   ]
  },
  {
   "cell_type": "code",
   "execution_count": 2,
   "metadata": {},
   "outputs": [
    {
     "name": "stdout",
     "output_type": "stream",
     "text": [
      "\u001b[1;31mInit signature:\u001b[0m \u001b[0miter\u001b[0m\u001b[1;33m.\u001b[0m\u001b[0mgroupby\u001b[0m\u001b[1;33m(\u001b[0m\u001b[0miterable\u001b[0m\u001b[1;33m,\u001b[0m \u001b[0mkey\u001b[0m\u001b[1;33m=\u001b[0m\u001b[1;32mNone\u001b[0m\u001b[1;33m)\u001b[0m\u001b[1;33m\u001b[0m\u001b[1;33m\u001b[0m\u001b[0m\n",
      "\u001b[1;31mDocstring:\u001b[0m     \n",
      "make an iterator that returns consecutive keys and groups from the iterable\n",
      "\n",
      "iterable\n",
      "  Elements to divide into groups according to the key function.\n",
      "key\n",
      "  A function for computing the group category for each element.\n",
      "  If the key function is not specified or is None, the element itself\n",
      "  is used for grouping.\n",
      "\u001b[1;31mType:\u001b[0m           type\n",
      "\u001b[1;31mSubclasses:\u001b[0m     \n"
     ]
    }
   ],
   "source": [
    "iter.groupby?"
   ]
  },
  {
   "cell_type": "code",
   "execution_count": 3,
   "metadata": {},
   "outputs": [],
   "source": [
    "l = [1, 1, 3, 2, 1, 3, 2]"
   ]
  },
  {
   "cell_type": "code",
   "execution_count": 4,
   "metadata": {},
   "outputs": [],
   "source": [
    "l_grouped = iter.groupby(l)"
   ]
  },
  {
   "cell_type": "code",
   "execution_count": 5,
   "metadata": {},
   "outputs": [
    {
     "data": {
      "text/plain": [
       "itertools.groupby"
      ]
     },
     "execution_count": 5,
     "metadata": {},
     "output_type": "execute_result"
    }
   ],
   "source": [
    "type(l_grouped)"
   ]
  },
  {
   "cell_type": "code",
   "execution_count": 6,
   "metadata": {},
   "outputs": [
    {
     "data": {
      "text/plain": [
       "[(1, <itertools._grouper at 0x1eb971f9dc0>),\n",
       " (3, <itertools._grouper at 0x1eb971f9ac0>),\n",
       " (2, <itertools._grouper at 0x1eb971f99a0>),\n",
       " (1, <itertools._grouper at 0x1eb971f9c40>),\n",
       " (3, <itertools._grouper at 0x1eb971ffe20>),\n",
       " (2, <itertools._grouper at 0x1eb971ffb20>)]"
      ]
     },
     "execution_count": 6,
     "metadata": {},
     "output_type": "execute_result"
    }
   ],
   "source": [
    "list(l_grouped)"
   ]
  },
  {
   "cell_type": "code",
   "execution_count": 8,
   "metadata": {},
   "outputs": [
    {
     "data": {
      "text/plain": [
       "[1, 1, 1, 2, 2, 3, 3]"
      ]
     },
     "execution_count": 8,
     "metadata": {},
     "output_type": "execute_result"
    }
   ],
   "source": [
    "l_sorted = sorted(l)\n",
    "l_sorted"
   ]
  },
  {
   "cell_type": "code",
   "execution_count": 9,
   "metadata": {},
   "outputs": [],
   "source": [
    "ls_grouped = iter.groupby(l_sorted)"
   ]
  },
  {
   "cell_type": "code",
   "execution_count": 10,
   "metadata": {},
   "outputs": [
    {
     "data": {
      "text/plain": [
       "[(1, <itertools._grouper at 0x1eb971f97c0>),\n",
       " (2, <itertools._grouper at 0x1eb971f9340>),\n",
       " (3, <itertools._grouper at 0x1eb971f9940>)]"
      ]
     },
     "execution_count": 10,
     "metadata": {},
     "output_type": "execute_result"
    }
   ],
   "source": [
    "list(ls_grouped)"
   ]
  },
  {
   "cell_type": "markdown",
   "metadata": {},
   "source": [
    "```{note}\n",
    "Rebuilding l_sorted and ls_grouped as ls_grouped will be flushed out after being read by `list(ls_grouped)`.\n",
    "```"
   ]
  },
  {
   "cell_type": "code",
   "execution_count": 11,
   "metadata": {},
   "outputs": [],
   "source": [
    "l_sorted = sorted(l)"
   ]
  },
  {
   "cell_type": "code",
   "execution_count": 12,
   "metadata": {},
   "outputs": [],
   "source": [
    "ls_grouped = iter.groupby(l_sorted)"
   ]
  },
  {
   "cell_type": "code",
   "execution_count": 13,
   "metadata": {},
   "outputs": [
    {
     "name": "stdout",
     "output_type": "stream",
     "text": [
      "[1, 1, 1]\n",
      "[2, 2]\n",
      "[3, 3]\n"
     ]
    }
   ],
   "source": [
    "for e in ls_grouped:\n",
    "    print(list(e[1]))"
   ]
  },
  {
   "cell_type": "code",
   "execution_count": 14,
   "metadata": {},
   "outputs": [
    {
     "data": {
      "text/plain": [
       "[(1, 3), (2, 2), (3, 2)]"
      ]
     },
     "execution_count": 14,
     "metadata": {},
     "output_type": "execute_result"
    }
   ],
   "source": [
    "l_sorted = sorted(l)\n",
    "ls_grouped = iter.groupby(l_sorted)\n",
    "list(iter.starmap(lambda key, values: (key, len(list(values))), ls_grouped))"
   ]
  },
  {
   "cell_type": "code",
   "execution_count": null,
   "metadata": {},
   "outputs": [],
   "source": []
  }
 ],
 "metadata": {
  "kernelspec": {
   "display_name": "Python 3.9.7 ('.venv': venv)",
   "language": "python",
   "name": "python3"
  },
  "language_info": {
   "codemirror_mode": {
    "name": "ipython",
    "version": 3
   },
   "file_extension": ".py",
   "mimetype": "text/x-python",
   "name": "python",
   "nbconvert_exporter": "python",
   "pygments_lexer": "ipython3",
   "version": "3.9.7"
  },
  "vscode": {
   "interpreter": {
    "hash": "46f0a31c712fae978552423cd449f57e5b5d767792a57b626d08194debebc25c"
   }
  }
 },
 "nbformat": 4,
 "nbformat_minor": 4
}
