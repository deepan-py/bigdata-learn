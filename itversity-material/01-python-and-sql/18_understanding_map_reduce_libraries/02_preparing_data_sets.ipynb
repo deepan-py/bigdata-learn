{
  "cells": [
    {
      "cell_type": "markdown",
      "metadata": {},
      "source": [
        "## Preparing Data Sets\n",
        "\n",
        "We will be primarily using orders and order_items data set to understand about manipulating collections.\n",
        "* orders is available at path **/data/retail_db/orders/part-00000**\n",
        "* order_items is available at path **/data/retail_db/order_items/part-00000**\n",
        "* orders - columns\n",
        "  * order_id - it is of type integer and unique\n",
        "  * order_date - it can be considered as string\n",
        "  * order_customer_id - it is of type integer\n",
        "  * order_status - it is of type string\n",
        "* order_items - columns\n",
        "  * order_item_id - it is of type integer and unique\n",
        "  * order_item_order_id - it is of type integer and refers to orders.order_id\n",
        "  * order_item_product_id - it is of type integer and refers to products.product_id\n",
        "  * order_item_quantity - it is of type integer and represents number of products as an order item with in an order.\n",
        "  * order_item_subtotal - it is item level revenue (product of order_item_quantity and order_item_product_price)\n",
        "  * order_item_product_price - it is product price for each item with in an order.\n",
        "* orders is parent data set to order_items and will contain one record per order. Each order can contain multiple items.\n",
        "* order_items is child data set to orders and can contain multiple entries for a given order_item_order_id.\n",
        "### Task 1 - Read orders into collection\n",
        "Let us read orders data set into the collection called as **orders**. This will be used later."
      ]
    },
    {
      "cell_type": "code",
      "execution_count": 1,
      "metadata": {},
      "outputs": [],
      "source": [
        "orders_path = 'D:\\\\BIGDATA-LEARN\\\\data-engineering-spark-main\\\\data\\\\retail_db\\\\orders\\part-00000'\n",
        "# C:\\\\users\\\\itversity\\\\Research\\\\data\\\\retail_db\\\\orders\\\\part-00000\n",
        "orders_file = open(orders_path)"
      ]
    },
    {
      "cell_type": "code",
      "execution_count": 2,
      "metadata": {},
      "outputs": [],
      "source": [
        "orders_raw = orders_file.read()"
      ]
    },
    {
      "cell_type": "code",
      "execution_count": 3,
      "metadata": {},
      "outputs": [],
      "source": [
        "orders = orders_raw.splitlines()"
      ]
    },
    {
      "cell_type": "code",
      "execution_count": 4,
      "metadata": {},
      "outputs": [
        {
          "data": {
            "text/plain": [
              "['1,2013-07-25 00:00:00.0,11599,CLOSED',\n",
              " '2,2013-07-25 00:00:00.0,256,PENDING_PAYMENT',\n",
              " '3,2013-07-25 00:00:00.0,12111,COMPLETE',\n",
              " '4,2013-07-25 00:00:00.0,8827,CLOSED',\n",
              " '5,2013-07-25 00:00:00.0,11318,COMPLETE']"
            ]
          },
          "execution_count": 4,
          "metadata": {},
          "output_type": "execute_result"
        }
      ],
      "source": [
        "orders[:5]"
      ]
    },
    {
      "cell_type": "code",
      "execution_count": 5,
      "metadata": {},
      "outputs": [
        {
          "data": {
            "text/plain": [
              "68883"
            ]
          },
          "execution_count": 5,
          "metadata": {},
          "output_type": "execute_result"
        }
      ],
      "source": [
        "len(orders) # same as number of records in the file"
      ]
    },
    {
      "cell_type": "markdown",
      "metadata": {},
      "source": [
        "### Task 2 - Read order_items into collection\n",
        "Let us read order_items data set into the collection called as **order_items**. This will be used later."
      ]
    },
    {
      "cell_type": "code",
      "execution_count": 6,
      "metadata": {},
      "outputs": [],
      "source": [
        "order_items_path = 'D:\\\\BIGDATA-LEARN\\\\data-engineering-spark-main\\\\data\\\\retail_db\\\\order_items\\part-00000'\n",
        "# C:\\\\users\\\\itversity\\\\Research\\\\data\\\\retail_db\\\\order_items\\\\part-00000\n",
        "order_items_file = open(order_items_path)"
      ]
    },
    {
      "cell_type": "code",
      "execution_count": 7,
      "metadata": {},
      "outputs": [],
      "source": [
        "order_items_raw = order_items_file.read()"
      ]
    },
    {
      "cell_type": "code",
      "execution_count": 8,
      "metadata": {},
      "outputs": [],
      "source": [
        "order_items = order_items_raw.splitlines()"
      ]
    },
    {
      "cell_type": "code",
      "execution_count": 9,
      "metadata": {},
      "outputs": [
        {
          "data": {
            "text/plain": [
              "['1,1,957,1,299.98,299.98',\n",
              " '2,2,1073,1,199.99,199.99',\n",
              " '3,2,502,5,250.0,50.0',\n",
              " '4,2,403,1,129.99,129.99',\n",
              " '5,4,897,2,49.98,24.99']"
            ]
          },
          "execution_count": 9,
          "metadata": {},
          "output_type": "execute_result"
        }
      ],
      "source": [
        "order_items[:5]"
      ]
    },
    {
      "cell_type": "code",
      "execution_count": 10,
      "metadata": {},
      "outputs": [
        {
          "data": {
            "text/plain": [
              "172198"
            ]
          },
          "execution_count": 10,
          "metadata": {},
          "output_type": "execute_result"
        }
      ],
      "source": [
        "len(order_items) # same as number of records in the file"
      ]
    },
    {
      "cell_type": "code",
      "execution_count": null,
      "metadata": {},
      "outputs": [],
      "source": []
    }
  ],
  "metadata": {
    "kernelspec": {
      "display_name": "Python 3.9.7 ('.venv': venv)",
      "language": "python",
      "name": "python3"
    },
    "language_info": {
      "codemirror_mode": {
        "name": "ipython",
        "version": 3
      },
      "file_extension": ".py",
      "mimetype": "text/x-python",
      "name": "python",
      "nbconvert_exporter": "python",
      "pygments_lexer": "ipython3",
      "version": "3.9.7"
    },
    "vscode": {
      "interpreter": {
        "hash": "46f0a31c712fae978552423cd449f57e5b5d767792a57b626d08194debebc25c"
      }
    }
  },
  "nbformat": 4,
  "nbformat_minor": 4
}
