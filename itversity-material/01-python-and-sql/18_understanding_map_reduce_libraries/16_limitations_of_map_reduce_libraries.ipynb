{
 "cells": [
  {
   "cell_type": "markdown",
   "metadata": {},
   "source": [
    "## Limitations of Map Reduce Libraries\n",
    "\n",
    "Here are some of the limitations of using Map Reduce Libraries.\n",
    "* We cannot refer attributes with names directly.\n",
    "* Functions are scattered and lack consistency.\n",
    "* Readability and maintainability are addressed using libraries such as Pandas.\n",
    "* Libraries such as PySpark takes care of scalability.\n",
    "\n",
    "```{note}\n",
    "We use the approach of loops or itertools as part of mobile or web application development. For Data Engineering applications we prefer Pandas or PySpark.\n",
    "```"
   ]
  }
 ],
 "metadata": {
  "kernelspec": {
   "display_name": "Python 3.9.7 ('.venv': venv)",
   "language": "python",
   "name": "python3"
  },
  "language_info": {
   "codemirror_mode": {
    "name": "ipython",
    "version": 3
   },
   "file_extension": ".py",
   "mimetype": "text/x-python",
   "name": "python",
   "nbconvert_exporter": "python",
   "pygments_lexer": "ipython3",
   "version": "3.9.7"
  },
  "vscode": {
   "interpreter": {
    "hash": "46f0a31c712fae978552423cd449f57e5b5d767792a57b626d08194debebc25c"
   }
  }
 },
 "nbformat": 4,
 "nbformat_minor": 4
}
