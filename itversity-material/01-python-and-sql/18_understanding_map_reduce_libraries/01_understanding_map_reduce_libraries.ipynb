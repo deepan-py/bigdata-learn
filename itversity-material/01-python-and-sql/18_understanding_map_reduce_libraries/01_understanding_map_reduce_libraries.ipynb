{
  "cells": [
    {
      "cell_type": "markdown",
      "metadata": {
        "pycharm": {
          "name": "#%% md"
        }
      },
      "source": [
        "# Understanding Python Map Reduce Libraries\n",
        "\n",
        "Let us go through Map Reduce libraries that are available as part of Python to manipulate collections.\n",
        "\n",
        "* Filtering Data using filter\n",
        "* Projecting Data using map\n",
        "* Row level transformations using map\n",
        "* Aggregations using reduce\n",
        "* Overview of itertools\n",
        "* Using groupby\n",
        "* Limitations of Map Reduce Libraries"
      ]
    }
  ],
  "metadata": {
    "kernelspec": {
      "display_name": "Python 3.9.7 ('.venv': venv)",
      "language": "python",
      "name": "python3"
    },
    "language_info": {
      "codemirror_mode": {
        "name": "ipython",
        "version": 3
      },
      "file_extension": ".py",
      "mimetype": "text/x-python",
      "name": "python",
      "nbconvert_exporter": "python",
      "pygments_lexer": "ipython3",
      "version": "3.9.7"
    },
    "vscode": {
      "interpreter": {
        "hash": "46f0a31c712fae978552423cd449f57e5b5d767792a57b626d08194debebc25c"
      }
    }
  },
  "nbformat": 4,
  "nbformat_minor": 4
}
