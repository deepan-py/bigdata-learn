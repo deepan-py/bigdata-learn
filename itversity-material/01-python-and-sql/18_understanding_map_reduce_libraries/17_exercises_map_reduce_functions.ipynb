{
 "cells": [
  {
   "cell_type": "markdown",
   "metadata": {},
   "source": [
    "## Exercises - Map Reduce Functions\n",
    "Here are the same exercises which you have solved before. Try to solve these using out-of-the-box Map Reduce APIs.\n",
    "\n",
    "* Get number of COMPLETE orders placed by each customer\n",
    "* Get total number of PENDING or PENDING_PAYMENT orders for the month of 2014 January.\n",
    "* Get outstanding amount for each month considering orders with status PAYMENT_REVIEW, PENDING, PENDING_PAYMENT and PROCESSING."
   ]
  },
  {
   "cell_type": "markdown",
   "metadata": {},
   "source": [
    "### Details of Data\n",
    "\n",
    "Here are the details about the orders data which you can leverage to take care of these exercises.\n",
    "* Location: `/data/retail_db/orders/part-00000`\n",
    "* Each record is line separated or line delimited.\n",
    "* Attribute in each record is comma separated.\n",
    "* Here are the columns in the orders data set.\n",
    "  * order_id\n",
    "  * order_date\n",
    "  * order_customer_id\n",
    "  * order_status"
   ]
  },
  {
   "cell_type": "code",
   "execution_count": null,
   "metadata": {},
   "outputs": [],
   "source": [
    "# Get the details about file\n",
    "!ls -ltr /data/retail_db/orders/part-00000"
   ]
  },
  {
   "cell_type": "code",
   "execution_count": null,
   "metadata": {},
   "outputs": [],
   "source": [
    "# Get first five lines from the file\n",
    "!head -5 /data/retail_db/orders/part-00000"
   ]
  },
  {
   "cell_type": "code",
   "execution_count": null,
   "metadata": {},
   "outputs": [],
   "source": [
    "# Get number of lines from the file\n",
    "# We can use linux command wc with -l\n",
    "!wc -l /data/retail_db/orders/part-00000"
   ]
  },
  {
   "cell_type": "markdown",
   "metadata": {},
   "source": [
    "Here are the details about the order_items data which you can leverage to take care of these exercises.\n",
    "* Location: `/data/retail_db/order_items/part-00000`\n",
    "* Each record is line separated or line delimited.\n",
    "* Attribute in each record is comma separated.\n",
    "* Here are the columns in the order_items data set.\n",
    "  * order_item_id\n",
    "  * order_item_order_id\n",
    "  * order_item_product_id\n",
    "  * order_item_quantity\n",
    "  * order_item_subtotal\n",
    "  * order_item_product_price"
   ]
  },
  {
   "cell_type": "code",
   "execution_count": null,
   "metadata": {},
   "outputs": [],
   "source": [
    "# Get the details about file\n",
    "!ls -ltr /data/retail_db/order_items/part-00000"
   ]
  },
  {
   "cell_type": "code",
   "execution_count": null,
   "metadata": {},
   "outputs": [],
   "source": [
    "# Get first five lines from the file\n",
    "!head -5 /data/retail_db/order_items/part-00000"
   ]
  },
  {
   "cell_type": "code",
   "execution_count": null,
   "metadata": {},
   "outputs": [],
   "source": [
    "# Get number of lines from the file\n",
    "# We can use linux command wc with -l\n",
    "!wc -l /data/retail_db/order_items/part-00000"
   ]
  },
  {
   "cell_type": "markdown",
   "metadata": {},
   "source": [
    "### Exercise 1 - Read data from file\n",
    "Before getting into problem statement, develop the code to read the file into list of elements.\n",
    "* We should be able to use this function to read any file with text data using line as record delimiter."
   ]
  },
  {
   "cell_type": "code",
   "execution_count": 2,
   "metadata": {},
   "outputs": [],
   "source": [
    "# Update the logic here\n",
    "def get_list_from_file(file_path):\n",
    "    data_list = open(file_path).read().splitlines()\n",
    "    return data_list"
   ]
  },
  {
   "cell_type": "markdown",
   "metadata": {},
   "source": [
    "* Run below cells to validate the function\n",
    "* You should see 68883 records as part of the output for the cell with `len(orders)` below.\n",
    "* You should see 172198 records as part of the output for the cell with `len(order_items)` below."
   ]
  },
  {
   "cell_type": "code",
   "execution_count": 3,
   "metadata": {},
   "outputs": [],
   "source": [
    "orders = get_list_from_file('D:\\\\BIGDATA-LEARN\\\\data-engineering-spark-main\\\\data\\\\retail_db\\\\orders\\\\part-00000')"
   ]
  },
  {
   "cell_type": "code",
   "execution_count": 4,
   "metadata": {},
   "outputs": [
    {
     "data": {
      "text/plain": [
       "['1,2013-07-25 00:00:00.0,11599,CLOSED',\n",
       " '2,2013-07-25 00:00:00.0,256,PENDING_PAYMENT',\n",
       " '3,2013-07-25 00:00:00.0,12111,COMPLETE',\n",
       " '4,2013-07-25 00:00:00.0,8827,CLOSED',\n",
       " '5,2013-07-25 00:00:00.0,11318,COMPLETE']"
      ]
     },
     "execution_count": 4,
     "metadata": {},
     "output_type": "execute_result"
    }
   ],
   "source": [
    "orders[:5]"
   ]
  },
  {
   "cell_type": "code",
   "execution_count": 5,
   "metadata": {},
   "outputs": [
    {
     "data": {
      "text/plain": [
       "68883"
      ]
     },
     "execution_count": 5,
     "metadata": {},
     "output_type": "execute_result"
    }
   ],
   "source": [
    "len(orders)"
   ]
  },
  {
   "cell_type": "code",
   "execution_count": 6,
   "metadata": {},
   "outputs": [],
   "source": [
    "order_items = get_list_from_file('D:\\\\BIGDATA-LEARN\\\\data-engineering-spark-main\\\\data\\\\retail_db\\\\order_items\\\\part-00000')"
   ]
  },
  {
   "cell_type": "code",
   "execution_count": 8,
   "metadata": {},
   "outputs": [
    {
     "data": {
      "text/plain": [
       "['1,1,957,1,299.98,299.98',\n",
       " '2,2,1073,1,199.99,199.99',\n",
       " '3,2,502,5,250.0,50.0',\n",
       " '4,2,403,1,129.99,129.99',\n",
       " '5,4,897,2,49.98,24.99']"
      ]
     },
     "execution_count": 8,
     "metadata": {},
     "output_type": "execute_result"
    }
   ],
   "source": [
    "order_items[:5]"
   ]
  },
  {
   "cell_type": "code",
   "execution_count": 9,
   "metadata": {},
   "outputs": [
    {
     "data": {
      "text/plain": [
       "172198"
      ]
     },
     "execution_count": 9,
     "metadata": {},
     "output_type": "execute_result"
    }
   ],
   "source": [
    "len(order_items)"
   ]
  },
  {
   "cell_type": "markdown",
   "metadata": {},
   "source": [
    "### Exercise 2 - Complete Order Count by Customer\n",
    "\n",
    "Get number of COMPLETE orders placed by each customer. Develop a function which read the orders data and get us complete order count by each customer using **order_customer_id**.\n",
    "* The function should take the complete order list as argument and return count of complete orders by customer. The function should return **dict** type object.\n",
    "* The order is said to be complete if the **order_status** is **COMPLETE**.\n",
    "* You can review structure of the data under **Details of Data** section in this notebook."
   ]
  },
  {
   "cell_type": "code",
   "execution_count": 18,
   "metadata": {},
   "outputs": [],
   "source": [
    "# Update the logic here\n",
    "# You can use `filter` and `len` to solve this problem.\n",
    "def get_complete_order_count_by_customer(orders):\n",
    "    order_filter = filter(lambda x:x.split(',')[3]=='COMPLETE', orders)\n",
    "    order_map = sorted(list(map(lambda x:(x.split(',')[2],1), order_filter)), key=lambda x:x[0])\n",
    "    order_count_by_customer = {}\n",
    "    for i,j in order_map:\n",
    "        order_count_by_customer[i]=order_count_by_customer.get(i,j)+1\n",
    "    return order_count_by_customer"
   ]
  },
  {
   "cell_type": "markdown",
   "metadata": {},
   "source": [
    "* Run below cell to validate the function. You should get **22899** as output."
   ]
  },
  {
   "cell_type": "code",
   "execution_count": 19,
   "metadata": {},
   "outputs": [],
   "source": [
    "orders = get_list_from_file('D:\\\\BIGDATA-LEARN\\\\data-engineering-spark-main\\\\data\\\\retail_db\\\\orders\\\\part-00000')"
   ]
  },
  {
   "cell_type": "code",
   "execution_count": 20,
   "metadata": {},
   "outputs": [],
   "source": [
    "complete_order_count_by_customer = get_complete_order_count_by_customer(orders)"
   ]
  },
  {
   "cell_type": "code",
   "execution_count": 21,
   "metadata": {},
   "outputs": [
    {
     "data": {
      "text/plain": [
       "dict"
      ]
     },
     "execution_count": 21,
     "metadata": {},
     "output_type": "execute_result"
    }
   ],
   "source": [
    "# This should return dict\n",
    "type(complete_order_count_by_customer)"
   ]
  },
  {
   "cell_type": "code",
   "execution_count": 22,
   "metadata": {},
   "outputs": [
    {
     "data": {
      "text/plain": [
       "10538"
      ]
     },
     "execution_count": 22,
     "metadata": {},
     "output_type": "execute_result"
    }
   ],
   "source": [
    "# This should return 10538\n",
    "len(complete_order_count_by_customer)"
   ]
  },
  {
   "cell_type": "markdown",
   "metadata": {},
   "source": [
    "* Run below cell to preview the data."
   ]
  },
  {
   "cell_type": "code",
   "execution_count": 23,
   "metadata": {},
   "outputs": [
    {
     "name": "stdout",
     "output_type": "stream",
     "text": [
      "('1', 2)\n",
      "('10', 3)\n",
      "('100', 4)\n",
      "('1000', 5)\n",
      "('10000', 3)\n"
     ]
    }
   ],
   "source": [
    "for e in sorted(complete_order_count_by_customer.items())[:5]:\n",
    "    print(e)"
   ]
  },
  {
   "cell_type": "markdown",
   "metadata": {},
   "source": [
    "### Exercise 3 - Pending Order Count\n",
    "\n",
    "Get total number of PENDING or PENDING_PAYMENT orders for the month of 2014 January. Develop a function which read the orders data and get us pending order count.\n",
    "* The function should take the complete order list as argument and return count of pending orders.\n",
    "* The order is said to be complete if the status is **PENDING** or **PENDING_PAYMENT**. We should only consider the orders placed in the month of 2014 January.\n",
    "* The second element in each comma separated record gives us the date\n",
    "* The 4th or last element in each comma separated record gives us the order status.\n",
    "* This problem can also be solved using `filter` and `len`."
   ]
  },
  {
   "cell_type": "code",
   "execution_count": 26,
   "metadata": {},
   "outputs": [],
   "source": [
    "# Update the logic here\n",
    "# You need to use myFilter and myReduce for this\n",
    "def get_pending_order_count(orders):\n",
    "    order_filter = filter(lambda x:x.split(',')[3] in ['PENDING','PENDING_PAYMENT'] and x.split(',')[1].startswith('2014-01'), orders)\n",
    "    return len(list(order_filter))"
   ]
  },
  {
   "cell_type": "markdown",
   "metadata": {},
   "source": [
    "* Run below cell to validate your function. You should get **1969** as output."
   ]
  },
  {
   "cell_type": "code",
   "execution_count": 27,
   "metadata": {},
   "outputs": [
    {
     "data": {
      "text/plain": [
       "1969"
      ]
     },
     "execution_count": 27,
     "metadata": {},
     "output_type": "execute_result"
    }
   ],
   "source": [
    "get_pending_order_count(orders)"
   ]
  },
  {
   "cell_type": "markdown",
   "metadata": {},
   "source": [
    "* You can also validate results using simple linux scripts."
   ]
  },
  {
   "cell_type": "code",
   "execution_count": null,
   "metadata": {},
   "outputs": [],
   "source": [
    "!egrep -w '(PENDING|PENDING_PAYMENT)' /data/retail_db/orders/part-00000|grep 2014-01|wc -l"
   ]
  },
  {
   "cell_type": "markdown",
   "metadata": {},
   "source": [
    "### Exercise 4 - Get Outstanding Revenue\n",
    "\n",
    "Get outstanding amount for each month considering orders with status PAYMENT_REVIEW, PENDING, PENDING_PAYMENT and PROCESSING.\n",
    "* You can use **order_item_subtotal** to compute the outstanding amount.\n",
    "* Here are the instructions for the solution.\n",
    "  * Create a list of tuples by name `pending_orders` for pending orders using `filter`. \n",
    "  * Use `map` function to convert the `pending_orders` to list of tuples so that we can join with order items data. Each tuple in the list should contain order_id and hard coded value 1. You can overwrite the `pending_orders` with this new list of tuples.\n",
    "  * Create a list of tuples by name `order_item` for order_items in which each tuple contain `order_id` and `order_item_subtotal`. You can use `map` function for this.\n",
    "  * Use the `myJoin` function which is developed as part of the previous section or module. It is provided as part of next cell.\n",
    "  * Create a new list by name `order_item_subtotals` by invoking `myJoin` using `pending_orders` and `order_items`. \n",
    "  * `order_item_subtotals` is of type `list` of tuples where first element in each tuple is order_id and second element is a nested tuple which contain elements related to `pending_orders` and `order_items`..\n",
    "  * We can then use `map` function to get `order_item_subtotal` and then use `sum` to get the outstanding revenue.\n",
    "  * Make sure to use `round` to round off to 2 decimals.\n",
    "* Review **Details of Data** section to get more details of columns."
   ]
  },
  {
   "cell_type": "code",
   "execution_count": 94,
   "metadata": {},
   "outputs": [],
   "source": [
    "def myJoin(c1, c2):\n",
    "    c1_dict = dict(c1) # dict with first element as key and second element as value\n",
    "    results = [] # Initializing empty list\n",
    "    for c2_item in c2: \n",
    "        if c2_item[0] in c1_dict:\n",
    "            results.append((c1_dict[c2_item[0]], c2_item[1]))\n",
    "    return results"
   ]
  },
  {
   "cell_type": "code",
   "execution_count": 95,
   "metadata": {},
   "outputs": [
    {
     "data": {
      "text/plain": [
       "[('2', '2013-07'),\n",
       " ('8', '2013-07'),\n",
       " ('9', '2013-07'),\n",
       " ('10', '2013-07'),\n",
       " ('11', '2013-07')]"
      ]
     },
     "execution_count": 95,
     "metadata": {},
     "output_type": "execute_result"
    }
   ],
   "source": [
    "pending_orders = filter(lambda x:x.split(',')[3] in ['PENDING','PENDING_PAYMENT','PROCESSING','PAYMENT_REVIEW'], orders)\n",
    "pending_orders = list(map(lambda x:(x.split(',')[0], x.split(',')[1][:7]), pending_orders))\n",
    "pending_orders[:5]"
   ]
  },
  {
   "cell_type": "code",
   "execution_count": 96,
   "metadata": {},
   "outputs": [
    {
     "data": {
      "text/plain": [
       "[('1', '299.98'),\n",
       " ('2', '199.99'),\n",
       " ('2', '50.0'),\n",
       " ('2', '129.99'),\n",
       " ('4', '24.99')]"
      ]
     },
     "execution_count": 96,
     "metadata": {},
     "output_type": "execute_result"
    }
   ],
   "source": [
    "order_item = list(map(lambda x:(x.split(',')[1],x.split(',')[-1]), order_items))\n",
    "order_item[:5]"
   ]
  },
  {
   "cell_type": "code",
   "execution_count": 97,
   "metadata": {},
   "outputs": [],
   "source": [
    "from itertools import groupby, starmap"
   ]
  },
  {
   "cell_type": "code",
   "execution_count": 98,
   "metadata": {},
   "outputs": [],
   "source": [
    "date_merge = sorted(myJoin(pending_orders, order_item), key=lambda x:x[0])"
   ]
  },
  {
   "cell_type": "code",
   "execution_count": 99,
   "metadata": {},
   "outputs": [],
   "source": [
    "order_grouped_date = groupby(date_merge, lambda x:x[0])"
   ]
  },
  {
   "cell_type": "code",
   "execution_count": 100,
   "metadata": {},
   "outputs": [
    {
     "name": "stdout",
     "output_type": "stream",
     "text": [
      "[('2013-07', 248116.42), ('2013-08', 887216.53), ('2013-09', 888593.5), ('2013-10', 805947.91), ('2013-11', 992644.85)]\n"
     ]
    }
   ],
   "source": [
    "month_revenue = starmap(lambda k,v: (k, round(sum(list(map(lambda x:float(x[1]), v))), 2)),\n",
    "                        order_grouped_date)\n",
    "print(list(month_revenue)[:5])"
   ]
  }
 ],
 "metadata": {
  "kernelspec": {
   "display_name": "Python 3.9.7 ('.venv': venv)",
   "language": "python",
   "name": "python3"
  },
  "language_info": {
   "codemirror_mode": {
    "name": "ipython",
    "version": 3
   },
   "file_extension": ".py",
   "mimetype": "text/x-python",
   "name": "python",
   "nbconvert_exporter": "python",
   "pygments_lexer": "ipython3",
   "version": "3.9.7"
  },
  "vscode": {
   "interpreter": {
    "hash": "46f0a31c712fae978552423cd449f57e5b5d767792a57b626d08194debebc25c"
   }
  }
 },
 "nbformat": 4,
 "nbformat_minor": 4
}
