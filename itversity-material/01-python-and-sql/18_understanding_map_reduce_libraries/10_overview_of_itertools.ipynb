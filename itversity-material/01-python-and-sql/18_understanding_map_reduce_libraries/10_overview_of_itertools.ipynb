{
 "cells": [
  {
   "cell_type": "markdown",
   "metadata": {},
   "source": [
    "## Overview of itertools\n",
    "\n",
    "Let us go through one of the important library to manipulate collections called as `itertools`.\n",
    "* Functions such as `filter` and `map` are part of core Python libraries.\n",
    "* `reduce` is part of `functools`.\n",
    "* It is not possible to use these functions to perform advanced operations such as grouped aggregations, joins etc.\n",
    "* Python have several higher level libraries which provide required functionality to perform advanced aggregations such as grouped aggregations, joins etc. `itertools` is one of the popular library to manipulate collections for such advanced operations."
   ]
  },
  {
   "cell_type": "code",
   "execution_count": 2,
   "metadata": {},
   "outputs": [],
   "source": [
    "import itertools as iter"
   ]
  },
  {
   "cell_type": "code",
   "execution_count": 4,
   "metadata": {},
   "outputs": [
    {
     "name": "stdout",
     "output_type": "stream",
     "text": [
      "\u001b[1;31mType:\u001b[0m        module\n",
      "\u001b[1;31mString form:\u001b[0m <module 'itertools' (built-in)>\n",
      "\u001b[1;31mDocstring:\u001b[0m  \n",
      "Functional tools for creating and using iterators.\n",
      "\n",
      "Infinite iterators:\n",
      "count(start=0, step=1) --> start, start+step, start+2*step, ...\n",
      "cycle(p) --> p0, p1, ... plast, p0, p1, ...\n",
      "repeat(elem [,n]) --> elem, elem, elem, ... endlessly or up to n times\n",
      "\n",
      "Iterators terminating on the shortest input sequence:\n",
      "accumulate(p[, func]) --> p0, p0+p1, p0+p1+p2\n",
      "chain(p, q, ...) --> p0, p1, ... plast, q0, q1, ...\n",
      "chain.from_iterable([p, q, ...]) --> p0, p1, ... plast, q0, q1, ...\n",
      "compress(data, selectors) --> (d[0] if s[0]), (d[1] if s[1]), ...\n",
      "dropwhile(pred, seq) --> seq[n], seq[n+1], starting when pred fails\n",
      "groupby(iterable[, keyfunc]) --> sub-iterators grouped by value of keyfunc(v)\n",
      "filterfalse(pred, seq) --> elements of seq where pred(elem) is False\n",
      "islice(seq, [start,] stop [, step]) --> elements from\n",
      "       seq[start:stop:step]\n",
      "starmap(fun, seq) --> fun(*seq[0]), fun(*seq[1]), ...\n",
      "tee(it, n=2) --> (it1, it2 , ... itn) splits one iterator into n\n",
      "takewhile(pred, seq) --> seq[0], seq[1], until pred fails\n",
      "zip_longest(p, q, ...) --> (p[0], q[0]), (p[1], q[1]), ...\n",
      "\n",
      "Combinatoric generators:\n",
      "product(p, q, ... [repeat=1]) --> cartesian product\n",
      "permutations(p[, r])\n",
      "combinations(p, r)\n",
      "combinations_with_replacement(p, r)\n"
     ]
    }
   ],
   "source": [
    "iter?"
   ]
  },
  {
   "cell_type": "code",
   "execution_count": 3,
   "metadata": {},
   "outputs": [
    {
     "name": "stdout",
     "output_type": "stream",
     "text": [
      "\u001b[1;31mInit signature:\u001b[0m \u001b[0miter\u001b[0m\u001b[1;33m.\u001b[0m\u001b[0mchain\u001b[0m\u001b[1;33m(\u001b[0m\u001b[0mself\u001b[0m\u001b[1;33m,\u001b[0m \u001b[1;33m/\u001b[0m\u001b[1;33m,\u001b[0m \u001b[1;33m*\u001b[0m\u001b[0margs\u001b[0m\u001b[1;33m,\u001b[0m \u001b[1;33m**\u001b[0m\u001b[0mkwargs\u001b[0m\u001b[1;33m)\u001b[0m\u001b[1;33m\u001b[0m\u001b[1;33m\u001b[0m\u001b[0m\n",
      "\u001b[1;31mDocstring:\u001b[0m     \n",
      "chain(*iterables) --> chain object\n",
      "\n",
      "Return a chain object whose .__next__() method returns elements from the\n",
      "first iterable until it is exhausted, then elements from the next\n",
      "iterable, until all of the iterables are exhausted.\n",
      "\u001b[1;31mType:\u001b[0m           type\n",
      "\u001b[1;31mSubclasses:\u001b[0m     \n"
     ]
    }
   ],
   "source": [
    "iter.chain?"
   ]
  },
  {
   "cell_type": "code",
   "execution_count": 5,
   "metadata": {},
   "outputs": [
    {
     "data": {
      "text/plain": [
       "<itertools.chain at 0x1b18db61cd0>"
      ]
     },
     "execution_count": 5,
     "metadata": {},
     "output_type": "execute_result"
    }
   ],
   "source": [
    "l1 = [1, 2, 3, 4]\n",
    "l2 = [4, 5, 6]\n",
    "\n",
    "iter.chain(l1, l2)"
   ]
  },
  {
   "cell_type": "code",
   "execution_count": 6,
   "metadata": {},
   "outputs": [
    {
     "data": {
      "text/plain": [
       "[1, 2, 3, 4, 4, 5, 6]"
      ]
     },
     "execution_count": 6,
     "metadata": {},
     "output_type": "execute_result"
    }
   ],
   "source": [
    "list(iter.chain(l1, l2))"
   ]
  },
  {
   "cell_type": "code",
   "execution_count": 4,
   "metadata": {},
   "outputs": [
    {
     "data": {
      "text/plain": [
       "['A', 'b', 'c', 'd', 'e', 'f']"
      ]
     },
     "execution_count": 4,
     "metadata": {},
     "output_type": "execute_result"
    }
   ],
   "source": [
    "list(iter.chain.from_iterable(['Abc','def']))"
   ]
  }
 ],
 "metadata": {
  "kernelspec": {
   "display_name": "Python 3.9.7 ('.venv': venv)",
   "language": "python",
   "name": "python3"
  },
  "language_info": {
   "codemirror_mode": {
    "name": "ipython",
    "version": 3
   },
   "file_extension": ".py",
   "mimetype": "text/x-python",
   "name": "python",
   "nbconvert_exporter": "python",
   "pygments_lexer": "ipython3",
   "version": "3.9.7"
  },
  "vscode": {
   "interpreter": {
    "hash": "46f0a31c712fae978552423cd449f57e5b5d767792a57b626d08194debebc25c"
   }
  }
 },
 "nbformat": 4,
 "nbformat_minor": 4
}
