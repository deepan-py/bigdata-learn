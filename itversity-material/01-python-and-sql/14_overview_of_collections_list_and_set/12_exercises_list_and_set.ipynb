{
 "cells": [
  {
   "cell_type": "markdown",
   "metadata": {},
   "source": [
    "## Exercises - list and set\n",
    "\n",
    "Let us go through some exercises related to list and set."
   ]
  },
  {
   "cell_type": "markdown",
   "metadata": {},
   "source": [
    "## Get second largest integer\n",
    "\n",
    "Develop a code snippet using list and set manipulation functions to get second largest element from the list.\n",
    "* List: `[1, 5, 2, 1, 7, 5, 7, 3]`\n",
    "* Answer: **5**"
   ]
  },
  {
   "cell_type": "code",
   "execution_count": 1,
   "metadata": {},
   "outputs": [
    {
     "data": {
      "text/plain": [
       "5"
      ]
     },
     "execution_count": 1,
     "metadata": {},
     "output_type": "execute_result"
    }
   ],
   "source": [
    "# Your code should go here\n",
    "sorted(set([1, 5, 2, 1, 7, 5, 7, 3]))[-2]"
   ]
  },
  {
   "cell_type": "markdown",
   "metadata": {},
   "source": [
    "## Get unique values from the list\n",
    "\n",
    "Develop a code to use the below list and generate new list of unique values.\n",
    "* List: `[1, 5, 2, 1, 7, 5, 7, 3]`\n",
    "* Answer: `[1, 2, 3, 5, 7]`\n",
    "* Check the type of the new variable. It should be `list`."
   ]
  },
  {
   "cell_type": "code",
   "execution_count": 2,
   "metadata": {},
   "outputs": [
    {
     "data": {
      "text/plain": [
       "[1, 5, 2, 7, 3]"
      ]
     },
     "execution_count": 2,
     "metadata": {},
     "output_type": "execute_result"
    }
   ],
   "source": [
    "# Your code should go here\n",
    "l = [1,5,2,1,7,5,7,3]\n",
    "a = []\n",
    "for i in l:\n",
    "    if i not in a:\n",
    "        a.append(i)\n",
    "a"
   ]
  },
  {
   "cell_type": "markdown",
   "metadata": {},
   "source": [
    "## Extract list of integers\n",
    "\n",
    "Develop a function which take a list as argument and return a new list with only integers. You can develop this using loops.\n",
    "* The list might contain data with different data types.\n",
    "* The new list with only integers should be sorted in descending order.\n",
    "* The new list should only contain unique values"
   ]
  },
  {
   "cell_type": "code",
   "execution_count": 3,
   "metadata": {},
   "outputs": [
    {
     "name": "stdout",
     "output_type": "stream",
     "text": [
      "1\n",
      "Hello\n",
      "None\n",
      "5\n",
      "0.15\n",
      "1\n",
      "5\n"
     ]
    }
   ],
   "source": [
    "# Here is how you can access elements in the list using loops.\n",
    "\n",
    "for e in [1, 'Hello', None, 5, 0.15, 1, 5]:\n",
    "    print(e)"
   ]
  },
  {
   "cell_type": "code",
   "execution_count": 6,
   "metadata": {},
   "outputs": [],
   "source": [
    "# You should add the logic here\n",
    "def extract_integers(l):\n",
    "    l_ints = [i for i in l if isinstance(i,int)]\n",
    "    l_ints = sorted(set(l_ints))\n",
    "    return l_ints"
   ]
  },
  {
   "cell_type": "code",
   "execution_count": 7,
   "metadata": {},
   "outputs": [
    {
     "data": {
      "text/plain": [
       "[1, 5]"
      ]
     },
     "execution_count": 7,
     "metadata": {},
     "output_type": "execute_result"
    }
   ],
   "source": [
    "extract_integers([1, 'Hello', None, 5, 0.15, 1, 5]) # Answer: [5, 1]"
   ]
  },
  {
   "cell_type": "markdown",
   "metadata": {},
   "source": [
    "## Get top n salaries\n",
    "\n",
    "Develop a function which take a list of salaries and give us top n salaries. Solve the problem with out using loops.\n",
    "* The function should take 2 arguments - list of salaries and the top n.\n",
    "* Based up on the value passed as part of second argument, you should get those many top salaries.\n",
    "* We should get only unique top n salaries"
   ]
  },
  {
   "cell_type": "code",
   "execution_count": 15,
   "metadata": {},
   "outputs": [],
   "source": [
    "# You should add the logic here\n",
    "def top_n_salaries(salaries, top_n):\n",
    "    salaries_top_n = sorted(salaries, reverse=True)[:top_n]\n",
    "    return salaries_top_n"
   ]
  },
  {
   "cell_type": "code",
   "execution_count": 11,
   "metadata": {},
   "outputs": [],
   "source": [
    "salaries = [\n",
    "    18732.8, 12842.28, 13391.69, 14061.23,\n",
    "    25509.77, 13636.95, 11841.63, 11519.12,\n",
    "    16719.45, 25066.37, 12842.28, 25066.37\n",
    "]"
   ]
  },
  {
   "cell_type": "code",
   "execution_count": 12,
   "metadata": {},
   "outputs": [
    {
     "data": {
      "text/plain": [
       "[25509.77, 25066.37, 25066.37]"
      ]
     },
     "execution_count": 12,
     "metadata": {},
     "output_type": "execute_result"
    }
   ],
   "source": [
    "top_n_salaries(salaries, 3)\n",
    "# Output: [25509.77, 25066.37, 18732.8]"
   ]
  },
  {
   "cell_type": "code",
   "execution_count": 16,
   "metadata": {},
   "outputs": [
    {
     "data": {
      "text/plain": [
       "[25509.77, 25066.37, 25066.37, 18732.8, 16719.45]"
      ]
     },
     "execution_count": 16,
     "metadata": {},
     "output_type": "execute_result"
    }
   ],
   "source": [
    "# [25509.77, 25066.37, 18732.8, 16719.45, 14061.23]\n",
    "top_n_salaries(salaries, 5)"
   ]
  }
 ],
 "metadata": {
  "kernelspec": {
   "display_name": "Python 3.9.7 ('.venv': venv)",
   "language": "python",
   "name": "python3"
  },
  "language_info": {
   "codemirror_mode": {
    "name": "ipython",
    "version": 3
   },
   "file_extension": ".py",
   "mimetype": "text/x-python",
   "name": "python",
   "nbconvert_exporter": "python",
   "pygments_lexer": "ipython3",
   "version": "3.9.7"
  },
  "vscode": {
   "interpreter": {
    "hash": "46f0a31c712fae978552423cd449f57e5b5d767792a57b626d08194debebc25c"
   }
  }
 },
 "nbformat": 4,
 "nbformat_minor": 4
}
