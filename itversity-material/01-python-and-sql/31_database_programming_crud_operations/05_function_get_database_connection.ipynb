{
 "cells": [
  {
   "cell_type": "markdown",
   "metadata": {},
   "source": [
    "## Function - Get Database Connection\n",
    "\n",
    "Let us develop function to get Database Connection so that we can reuse in subsequent topics to perform CRUD Operations.\n",
    "* `get_connection` will take required paramters to establish a connection to the database and return connection object.\n",
    "* We can invoke that function and create required connection objects such as `sms_connection` so that we can perform database operations.\n",
    "* `sms_connection` is the connection object for our hypothetical **sms** database.\n",
    "* We can trigger this notebook from other notebooks by using `%run`.\n",
    "* The function as well as objects such as `sms_connection` can be used in the other notebooks from which this notebook is triggered.\n",
    "* In the similar lines we can have connection object `retail_connection` for retail database."
   ]
  },
  {
   "cell_type": "code",
   "execution_count": 1,
   "metadata": {},
   "outputs": [],
   "source": [
    "import psycopg2\n",
    "\n",
    "def get_connection(host, port, database, user, password):\n",
    "    connection = None\n",
    "    try:\n",
    "        connection = psycopg2.connect(\n",
    "            host=host,\n",
    "            port=port,\n",
    "            database=database,\n",
    "            user=user,\n",
    "            password=password\n",
    "        )\n",
    "    except Exception as e:\n",
    "        raise(e)\n",
    "    \n",
    "    return connection"
   ]
  },
  {
   "cell_type": "code",
   "execution_count": 2,
   "metadata": {},
   "outputs": [],
   "source": [
    "host = 'localhost'\n",
    "port = '5432'\n",
    "database = 'sms_db'\n",
    "user = 'deepan'\n",
    "password = 'DB_PASSWORD'\n",
    "\n",
    "sms_connection = get_connection(\n",
    "    host=host,\n",
    "    port=port,\n",
    "    database=database,\n",
    "    user=user,\n",
    "    password=password\n",
    ")"
   ]
  },
  {
   "cell_type": "code",
   "execution_count": 4,
   "metadata": {},
   "outputs": [],
   "source": [
    "host = 'localhost'\n",
    "port = '5432'\n",
    "database = 'itversity_retail_db'\n",
    "user = 'deepan'\n",
    "password = 'DB_PASSWORD'\n",
    "\n",
    "retail_connection = get_connection(\n",
    "    host=host,\n",
    "    port=port,\n",
    "    database=database,\n",
    "    user=user,\n",
    "    password=password\n",
    ")"
   ]
  },
  {
   "cell_type": "code",
   "execution_count": null,
   "metadata": {},
   "outputs": [],
   "source": []
  }
 ],
 "metadata": {
  "kernelspec": {
   "display_name": "Python 3.9.12 ('.venv1': venv)",
   "language": "python",
   "name": "python3"
  },
  "language_info": {
   "codemirror_mode": {
    "name": "ipython",
    "version": 3
   },
   "file_extension": ".py",
   "mimetype": "text/x-python",
   "name": "python",
   "nbconvert_exporter": "python",
   "pygments_lexer": "ipython3",
   "version": "3.9.12"
  },
  "vscode": {
   "interpreter": {
    "hash": "cd701a206b363937aec8a42b48fdfe0fa56765986269d978ed7a344224b01851"
   }
  }
 },
 "nbformat": 4,
 "nbformat_minor": 4
}
