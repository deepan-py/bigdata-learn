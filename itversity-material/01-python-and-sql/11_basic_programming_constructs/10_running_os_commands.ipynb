{
 "cells": [
  {
   "cell_type": "markdown",
   "metadata": {},
   "source": [
    "## Running OS Commands\n",
    "\n",
    "Let us understand how to run OS commands using Python using libraries such as `os` and `subprocess`.* Python provides several libraries which can be used to run OS commands. `os` and `subprocess` are most popular ones.\n",
    "* We can import the libraries such as `os` and `subprocess` to start using them.\n",
    "* There are bunch of commands to create directories, change ownership, change permission, run general system commands etc.\n",
    "* `os` library is extensively used to read environment variables at run time of the application. It is used to pass keys and credentials to work with databases, external applications etc.\n",
    "* Typically keys and credentials should not be part of the source code.\n",
    "* `subprocess` can be used to run the commands and also to process the output."
   ]
  },
  {
   "cell_type": "code",
   "execution_count": 1,
   "metadata": {
    "collapsed": false,
    "jupyter": {
     "outputs_hidden": false
    },
    "pycharm": {
     "name": "#%%\n"
    }
   },
   "outputs": [],
   "source": [
    "import os"
   ]
  },
  {
   "cell_type": "markdown",
   "metadata": {},
   "source": [
    "* Get current working directory."
   ]
  },
  {
   "cell_type": "code",
   "execution_count": 2,
   "metadata": {
    "collapsed": false,
    "jupyter": {
     "outputs_hidden": false
    },
    "pycharm": {
     "name": "#%%\n"
    }
   },
   "outputs": [
    {
     "data": {
      "text/plain": [
       "'d:\\\\BIGDATA-LEARN\\\\data-engineering-spark-main\\\\itversity-material\\\\01-python-and-sql\\\\11_basic_programming_constructs'"
      ]
     },
     "execution_count": 2,
     "metadata": {},
     "output_type": "execute_result"
    }
   ],
   "source": [
    "os.getcwd()"
   ]
  },
  {
   "cell_type": "markdown",
   "metadata": {},
   "source": [
    "* Read environment variables"
   ]
  },
  {
   "cell_type": "code",
   "execution_count": null,
   "metadata": {
    "collapsed": false,
    "jupyter": {
     "outputs_hidden": false
    },
    "pycharm": {
     "name": "#%%\n"
    }
   },
   "outputs": [],
   "source": [
    "os.environ.get('PATH')"
   ]
  },
  {
   "cell_type": "code",
   "execution_count": 4,
   "metadata": {
    "collapsed": false,
    "jupyter": {
     "outputs_hidden": false
    },
    "pycharm": {
     "name": "#%%\n"
    }
   },
   "outputs": [],
   "source": [
    "os.environ.get('USER')"
   ]
  },
  {
   "cell_type": "code",
   "execution_count": 5,
   "metadata": {
    "collapsed": false,
    "jupyter": {
     "outputs_hidden": false
    },
    "pycharm": {
     "name": "#%%\n"
    }
   },
   "outputs": [],
   "source": [
    "os.environ.get('HOME')"
   ]
  },
  {
   "cell_type": "code",
   "execution_count": 7,
   "metadata": {},
   "outputs": [
    {
     "name": "stdout",
     "output_type": "stream",
     "text": [
      "Couldn't find program: 'sh'\n"
     ]
    }
   ],
   "source": [
    "%%sh\n",
    "\n",
    "# works in linux\n",
    "\n",
    "env|grep -v JUPYTER|grep -v TOKEN|grep -v PASSWORD"
   ]
  },
  {
   "cell_type": "code",
   "execution_count": 8,
   "metadata": {},
   "outputs": [
    {
     "name": "stdout",
     "output_type": "stream",
     "text": [
      "\u001b[1;31mSignature:\u001b[0m \u001b[0mos\u001b[0m\u001b[1;33m.\u001b[0m\u001b[0menviron\u001b[0m\u001b[1;33m.\u001b[0m\u001b[0mget\u001b[0m\u001b[1;33m(\u001b[0m\u001b[0mkey\u001b[0m\u001b[1;33m,\u001b[0m \u001b[0mdefault\u001b[0m\u001b[1;33m=\u001b[0m\u001b[1;32mNone\u001b[0m\u001b[1;33m)\u001b[0m\u001b[1;33m\u001b[0m\u001b[1;33m\u001b[0m\u001b[0m\n",
      "\u001b[1;31mDocstring:\u001b[0m D.get(k[,d]) -> D[k] if k in D, else d.  d defaults to None.\n",
      "\u001b[1;31mFile:\u001b[0m      c:\\programdata\\anaconda3\\lib\\_collections_abc.py\n",
      "\u001b[1;31mType:\u001b[0m      method\n"
     ]
    }
   ],
   "source": [
    "os.environ.get?"
   ]
  },
  {
   "cell_type": "code",
   "execution_count": 1,
   "metadata": {},
   "outputs": [
    {
     "data": {
      "text/plain": [
       "'Passwords should be confidential'"
      ]
     },
     "execution_count": 1,
     "metadata": {},
     "output_type": "execute_result"
    }
   ],
   "source": [
    "os.environ.get('PASSWORD', 'Passwords should be confidential')"
   ]
  },
  {
   "cell_type": "markdown",
   "metadata": {},
   "source": [
    "* Run `ls -ltr` command to get list of files in the current directory."
   ]
  },
  {
   "cell_type": "code",
   "execution_count": 2,
   "metadata": {},
   "outputs": [],
   "source": [
    "import subprocess"
   ]
  },
  {
   "cell_type": "code",
   "execution_count": null,
   "metadata": {},
   "outputs": [],
   "source": [
    "%%cmd\n",
    "\n",
    "dir"
   ]
  },
  {
   "cell_type": "code",
   "execution_count": null,
   "metadata": {},
   "outputs": [],
   "source": [
    "output = subprocess.check_call(['ls', '-ltr'])"
   ]
  },
  {
   "cell_type": "code",
   "execution_count": 12,
   "metadata": {},
   "outputs": [
    {
     "data": {
      "text/plain": [
       "0"
      ]
     },
     "execution_count": 12,
     "metadata": {},
     "output_type": "execute_result"
    }
   ],
   "source": [
    "output"
   ]
  },
  {
   "cell_type": "code",
   "execution_count": 13,
   "metadata": {},
   "outputs": [],
   "source": [
    "output = subprocess.check_output(['ls', '-ltr'])"
   ]
  },
  {
   "cell_type": "code",
   "execution_count": 14,
   "metadata": {},
   "outputs": [
    {
     "data": {
      "text/plain": [
       "b'total 80\\n-rw-r--r-- 1 itversity itversity  1040 Nov  9 18:06 01_basic_programming_constructs.ipynb\\n-rw-r--r-- 1 itversity itversity  2781 Nov  9 18:06 02_getting_help.ipynb\\n-rw-r--r-- 1 itversity itversity  4157 Nov  9 18:06 03_variables_and_objects.ipynb\\n-rw-r--r-- 1 itversity itversity  1629 Nov  9 18:06 04_data_types_commonly_used.ipynb\\n-rw-r--r-- 1 itversity itversity  3487 Nov  9 18:06 05_overview_of_boolean_type.ipynb\\n-rw-r--r-- 1 itversity itversity 10190 Nov  9 18:06 06_operators_in_python.ipynb\\n-rw-r--r-- 1 itversity itversity  4070 Nov  9 18:06 07_comments_and_doc_strings.ipynb\\n-rw-r--r-- 1 itversity itversity  7291 Nov  9 18:06 08_conditionals.ipynb\\n-rw-r--r-- 1 itversity itversity  9804 Nov  9 18:06 09_all_about_for_loops.ipynb\\n-rw-r--r-- 1 itversity itversity  7027 Nov  9 18:06 10_running_os_commands.ipynb\\n-rw-r--r-- 1 itversity itversity  4366 Nov  9 18:06 11_exercises_basic_programming_constructs.ipynb\\n-rw-r--r-- 1 itversity itversity  2452 Nov  9 18:06 12_eval_and_exec.ipynb\\n'"
      ]
     },
     "execution_count": 14,
     "metadata": {},
     "output_type": "execute_result"
    }
   ],
   "source": [
    "output # output is of type binary"
   ]
  },
  {
   "cell_type": "code",
   "execution_count": 15,
   "metadata": {},
   "outputs": [
    {
     "data": {
      "text/plain": [
       "bytes"
      ]
     },
     "execution_count": 15,
     "metadata": {},
     "output_type": "execute_result"
    }
   ],
   "source": [
    "type(output)"
   ]
  },
  {
   "cell_type": "code",
   "execution_count": 16,
   "metadata": {},
   "outputs": [
    {
     "data": {
      "text/plain": [
       "'total 80\\n-rw-r--r-- 1 itversity itversity  1040 Nov  9 18:06 01_basic_programming_constructs.ipynb\\n-rw-r--r-- 1 itversity itversity  2781 Nov  9 18:06 02_getting_help.ipynb\\n-rw-r--r-- 1 itversity itversity  4157 Nov  9 18:06 03_variables_and_objects.ipynb\\n-rw-r--r-- 1 itversity itversity  1629 Nov  9 18:06 04_data_types_commonly_used.ipynb\\n-rw-r--r-- 1 itversity itversity  3487 Nov  9 18:06 05_overview_of_boolean_type.ipynb\\n-rw-r--r-- 1 itversity itversity 10190 Nov  9 18:06 06_operators_in_python.ipynb\\n-rw-r--r-- 1 itversity itversity  4070 Nov  9 18:06 07_comments_and_doc_strings.ipynb\\n-rw-r--r-- 1 itversity itversity  7291 Nov  9 18:06 08_conditionals.ipynb\\n-rw-r--r-- 1 itversity itversity  9804 Nov  9 18:06 09_all_about_for_loops.ipynb\\n-rw-r--r-- 1 itversity itversity  7027 Nov  9 18:06 10_running_os_commands.ipynb\\n-rw-r--r-- 1 itversity itversity  4366 Nov  9 18:06 11_exercises_basic_programming_constructs.ipynb\\n-rw-r--r-- 1 itversity itversity  2452 Nov  9 18:06 12_eval_and_exec.ipynb\\n'"
      ]
     },
     "execution_count": 16,
     "metadata": {},
     "output_type": "execute_result"
    }
   ],
   "source": [
    "output.decode('utf-8') # converts to string of type utf-8"
   ]
  },
  {
   "cell_type": "code",
   "execution_count": 17,
   "metadata": {},
   "outputs": [
    {
     "data": {
      "text/plain": [
       "str"
      ]
     },
     "execution_count": 17,
     "metadata": {},
     "output_type": "execute_result"
    }
   ],
   "source": [
    "type(output.decode('utf-8'))"
   ]
  },
  {
   "cell_type": "markdown",
   "metadata": {},
   "source": [
    "```{note}\n",
    "Let us convert string into list of strings. Once it is broken into list of strings we can process the data as per our requirements either by using Map Reduce libraries or Pandas based libraries.\n",
    "```"
   ]
  },
  {
   "cell_type": "code",
   "execution_count": 18,
   "metadata": {},
   "outputs": [
    {
     "data": {
      "text/plain": [
       "['total 80',\n",
       " '-rw-r--r-- 1 itversity itversity  1040 Nov  9 18:06 01_basic_programming_constructs.ipynb',\n",
       " '-rw-r--r-- 1 itversity itversity  2781 Nov  9 18:06 02_getting_help.ipynb',\n",
       " '-rw-r--r-- 1 itversity itversity  4157 Nov  9 18:06 03_variables_and_objects.ipynb',\n",
       " '-rw-r--r-- 1 itversity itversity  1629 Nov  9 18:06 04_data_types_commonly_used.ipynb',\n",
       " '-rw-r--r-- 1 itversity itversity  3487 Nov  9 18:06 05_overview_of_boolean_type.ipynb',\n",
       " '-rw-r--r-- 1 itversity itversity 10190 Nov  9 18:06 06_operators_in_python.ipynb',\n",
       " '-rw-r--r-- 1 itversity itversity  4070 Nov  9 18:06 07_comments_and_doc_strings.ipynb',\n",
       " '-rw-r--r-- 1 itversity itversity  7291 Nov  9 18:06 08_conditionals.ipynb',\n",
       " '-rw-r--r-- 1 itversity itversity  9804 Nov  9 18:06 09_all_about_for_loops.ipynb',\n",
       " '-rw-r--r-- 1 itversity itversity  7027 Nov  9 18:06 10_running_os_commands.ipynb',\n",
       " '-rw-r--r-- 1 itversity itversity  4366 Nov  9 18:06 11_exercises_basic_programming_constructs.ipynb',\n",
       " '-rw-r--r-- 1 itversity itversity  2452 Nov  9 18:06 12_eval_and_exec.ipynb']"
      ]
     },
     "execution_count": 18,
     "metadata": {},
     "output_type": "execute_result"
    }
   ],
   "source": [
    "output.decode('utf-8').splitlines()"
   ]
  },
  {
   "cell_type": "code",
   "execution_count": 19,
   "metadata": {},
   "outputs": [
    {
     "data": {
      "text/plain": [
       "list"
      ]
     },
     "execution_count": 19,
     "metadata": {},
     "output_type": "execute_result"
    }
   ],
   "source": [
    "type(output.decode('utf-8').splitlines())"
   ]
  },
  {
   "cell_type": "code",
   "execution_count": 20,
   "metadata": {},
   "outputs": [
    {
     "name": "stdout",
     "output_type": "stream",
     "text": [
      "total 80\n",
      "-rw-r--r-- 1 itversity itversity  1040 Nov  9 18:06 01_basic_programming_constructs.ipynb\n",
      "-rw-r--r-- 1 itversity itversity  2781 Nov  9 18:06 02_getting_help.ipynb\n",
      "-rw-r--r-- 1 itversity itversity  4157 Nov  9 18:06 03_variables_and_objects.ipynb\n",
      "-rw-r--r-- 1 itversity itversity  1629 Nov  9 18:06 04_data_types_commonly_used.ipynb\n",
      "-rw-r--r-- 1 itversity itversity  3487 Nov  9 18:06 05_overview_of_boolean_type.ipynb\n",
      "-rw-r--r-- 1 itversity itversity 10190 Nov  9 18:06 06_operators_in_python.ipynb\n",
      "-rw-r--r-- 1 itversity itversity  4070 Nov  9 18:06 07_comments_and_doc_strings.ipynb\n",
      "-rw-r--r-- 1 itversity itversity  7291 Nov  9 18:06 08_conditionals.ipynb\n",
      "-rw-r--r-- 1 itversity itversity  9804 Nov  9 18:06 09_all_about_for_loops.ipynb\n",
      "-rw-r--r-- 1 itversity itversity  7027 Nov  9 18:06 10_running_os_commands.ipynb\n",
      "-rw-r--r-- 1 itversity itversity  4366 Nov  9 18:06 11_exercises_basic_programming_constructs.ipynb\n",
      "-rw-r--r-- 1 itversity itversity  2452 Nov  9 18:06 12_eval_and_exec.ipynb\n"
     ]
    }
   ],
   "source": [
    "# splitlines is the function available on string type\n",
    "# It converts string with line breaks into list of strings\n",
    "for rec in output.decode('utf-8').splitlines():\n",
    "    print(rec)"
   ]
  },
  {
   "cell_type": "code",
   "execution_count": null,
   "metadata": {},
   "outputs": [],
   "source": []
  }
 ],
 "metadata": {
  "kernelspec": {
   "display_name": "Python 3.9.7 ('.venv': venv)",
   "language": "python",
   "name": "python3"
  },
  "language_info": {
   "codemirror_mode": {
    "name": "ipython",
    "version": 3
   },
   "file_extension": ".py",
   "mimetype": "text/x-python",
   "name": "python",
   "nbconvert_exporter": "python",
   "pygments_lexer": "ipython3",
   "version": "3.9.7"
  },
  "vscode": {
   "interpreter": {
    "hash": "46f0a31c712fae978552423cd449f57e5b5d767792a57b626d08194debebc25c"
   }
  }
 },
 "nbformat": 4,
 "nbformat_minor": 4
}
