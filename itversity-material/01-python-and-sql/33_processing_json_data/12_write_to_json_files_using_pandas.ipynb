{
  "cells": [
    {
      "cell_type": "markdown",
      "id": "dda5e01e",
      "metadata": {},
      "source": [
        "## Write to JSON files using pandas\n",
        "\n",
        "Let us understand how to write to JSON files using `pandas` module.\n",
        "* We can use `to_json` to write to JSON file using `pandas`."
      ]
    },
    {
      "cell_type": "code",
      "execution_count": 1,
      "id": "27e4db62",
      "metadata": {},
      "outputs": [],
      "source": [
        "import pandas as pd"
      ]
    },
    {
      "cell_type": "code",
      "execution_count": 2,
      "id": "17f4d889",
      "metadata": {},
      "outputs": [],
      "source": [
        "courses = [{'course_name': 'Programming using Python',\n",
        "  'course_author': 'Bob Dillon',\n",
        "  'course_status': 'published',\n",
        "  'course_published_dt': '2020-09-30'},\n",
        " {'course_name': 'Data Engineering using Python',\n",
        "  'course_author': 'Bob Dillon',\n",
        "  'course_status': 'published',\n",
        "  'course_published_dt': '2020-07-15'}]"
      ]
    },
    {
      "cell_type": "code",
      "execution_count": 3,
      "id": "b0c76aa7",
      "metadata": {},
      "outputs": [],
      "source": [
        "df = pd.DataFrame(courses)"
      ]
    },
    {
      "cell_type": "code",
      "execution_count": 4,
      "id": "0ee2afe5",
      "metadata": {},
      "outputs": [
        {
          "data": {
            "text/html": [
              "<div>\n",
              "<style scoped>\n",
              "    .dataframe tbody tr th:only-of-type {\n",
              "        vertical-align: middle;\n",
              "    }\n",
              "\n",
              "    .dataframe tbody tr th {\n",
              "        vertical-align: top;\n",
              "    }\n",
              "\n",
              "    .dataframe thead th {\n",
              "        text-align: right;\n",
              "    }\n",
              "</style>\n",
              "<table border=\"1\" class=\"dataframe\">\n",
              "  <thead>\n",
              "    <tr style=\"text-align: right;\">\n",
              "      <th></th>\n",
              "      <th>course_name</th>\n",
              "      <th>course_author</th>\n",
              "      <th>course_status</th>\n",
              "      <th>course_published_dt</th>\n",
              "    </tr>\n",
              "  </thead>\n",
              "  <tbody>\n",
              "    <tr>\n",
              "      <th>0</th>\n",
              "      <td>Programming using Python</td>\n",
              "      <td>Bob Dillon</td>\n",
              "      <td>published</td>\n",
              "      <td>2020-09-30</td>\n",
              "    </tr>\n",
              "    <tr>\n",
              "      <th>1</th>\n",
              "      <td>Data Engineering using Python</td>\n",
              "      <td>Bob Dillon</td>\n",
              "      <td>published</td>\n",
              "      <td>2020-07-15</td>\n",
              "    </tr>\n",
              "  </tbody>\n",
              "</table>\n",
              "</div>"
            ],
            "text/plain": [
              "                     course_name course_author course_status  \\\n",
              "0       Programming using Python    Bob Dillon     published   \n",
              "1  Data Engineering using Python    Bob Dillon     published   \n",
              "\n",
              "  course_published_dt  \n",
              "0          2020-09-30  \n",
              "1          2020-07-15  "
            ]
          },
          "execution_count": 4,
          "metadata": {},
          "output_type": "execute_result"
        }
      ],
      "source": [
        "df"
      ]
    },
    {
      "cell_type": "code",
      "execution_count": null,
      "id": "637f4b6a",
      "metadata": {},
      "outputs": [],
      "source": [
        "df.to_json?"
      ]
    },
    {
      "cell_type": "markdown",
      "id": "9d6d3e9b",
      "metadata": {},
      "source": [
        "* Dumping a JSON documents into a file with one JSON document per line."
      ]
    },
    {
      "cell_type": "code",
      "execution_count": 5,
      "id": "15829a0a",
      "metadata": {},
      "outputs": [],
      "source": [
        "courses = [{'course_name': 'Programming using Python',\n",
        "  'course_author': 'Bob Dillon',\n",
        "  'course_status': 'published',\n",
        "  'course_published_dt': '2020-09-30'},\n",
        " {'course_name': 'Data Engineering using Python',\n",
        "  'course_author': 'Bob Dillon',\n",
        "  'course_status': 'published',\n",
        "  'course_published_dt': '2020-07-15'},\n",
        " {'course_name': 'Data Engineering using Scala',\n",
        "  'course_author': 'Elvis Presley',\n",
        "  'course_status': 'draft',\n",
        "  'course_published_dt': None},\n",
        " {'course_name': 'Programming using Scala',\n",
        "  'course_author': 'Elvis Presley',\n",
        "  'course_status': 'published',\n",
        "  'course_published_dt': '2020-05-12'},\n",
        " {'course_name': 'Programming using Java',\n",
        "  'course_author': 'Mike Jack',\n",
        "  'course_status': 'inactive',\n",
        "  'course_published_dt': '2020-08-10'},\n",
        " {'course_name': 'Web Applications - Python Flask',\n",
        "  'course_author': 'Bob Dillon',\n",
        "  'course_status': 'inactive',\n",
        "  'course_published_dt': '2020-07-20'},\n",
        " {'course_name': 'Web Applications - Java Spring',\n",
        "  'course_author': 'Mike Jack',\n",
        "  'course_status': 'draft',\n",
        "  'course_published_dt': None},\n",
        " {'course_name': 'Pipeline Orchestration - Python',\n",
        "  'course_author': 'Bob Dillon',\n",
        "  'course_status': 'draft',\n",
        "  'course_published_dt': None},\n",
        " {'course_name': 'Streaming Pipelines - Python',\n",
        "  'course_author': 'Bob Dillon',\n",
        "  'course_status': 'published',\n",
        "  'course_published_dt': '2020-10-05'},\n",
        " {'course_name': 'Web Applications - Scala Play',\n",
        "  'course_author': 'Elvis Presley',\n",
        "  'course_status': 'inactive',\n",
        "  'course_published_dt': '2020-09-30'},\n",
        " {'course_name': 'Web Applications - Python Django',\n",
        "  'course_author': 'Bob Dillon',\n",
        "  'course_status': 'published',\n",
        "  'course_published_dt': '2020-06-23'},\n",
        " {'course_name': 'Server Automation - Ansible',\n",
        "  'course_author': 'Uncle Sam',\n",
        "  'course_status': 'published',\n",
        "  'course_published_dt': '2020-07-05'}]"
      ]
    },
    {
      "cell_type": "code",
      "execution_count": null,
      "id": "72d77ed6",
      "metadata": {},
      "outputs": [],
      "source": [
        "!rm data/courses/courses.json"
      ]
    },
    {
      "cell_type": "code",
      "execution_count": 6,
      "id": "18598a74",
      "metadata": {},
      "outputs": [],
      "source": [
        "import pandas as pd"
      ]
    },
    {
      "cell_type": "code",
      "execution_count": 7,
      "id": "89ad5260",
      "metadata": {},
      "outputs": [],
      "source": [
        "courses_df = pd.DataFrame(courses)"
      ]
    },
    {
      "cell_type": "code",
      "execution_count": 8,
      "id": "1c0ed51a",
      "metadata": {},
      "outputs": [
        {
          "data": {
            "text/html": [
              "<div>\n",
              "<style scoped>\n",
              "    .dataframe tbody tr th:only-of-type {\n",
              "        vertical-align: middle;\n",
              "    }\n",
              "\n",
              "    .dataframe tbody tr th {\n",
              "        vertical-align: top;\n",
              "    }\n",
              "\n",
              "    .dataframe thead th {\n",
              "        text-align: right;\n",
              "    }\n",
              "</style>\n",
              "<table border=\"1\" class=\"dataframe\">\n",
              "  <thead>\n",
              "    <tr style=\"text-align: right;\">\n",
              "      <th></th>\n",
              "      <th>course_name</th>\n",
              "      <th>course_author</th>\n",
              "      <th>course_status</th>\n",
              "      <th>course_published_dt</th>\n",
              "    </tr>\n",
              "  </thead>\n",
              "  <tbody>\n",
              "    <tr>\n",
              "      <th>0</th>\n",
              "      <td>Programming using Python</td>\n",
              "      <td>Bob Dillon</td>\n",
              "      <td>published</td>\n",
              "      <td>2020-09-30</td>\n",
              "    </tr>\n",
              "    <tr>\n",
              "      <th>1</th>\n",
              "      <td>Data Engineering using Python</td>\n",
              "      <td>Bob Dillon</td>\n",
              "      <td>published</td>\n",
              "      <td>2020-07-15</td>\n",
              "    </tr>\n",
              "    <tr>\n",
              "      <th>2</th>\n",
              "      <td>Data Engineering using Scala</td>\n",
              "      <td>Elvis Presley</td>\n",
              "      <td>draft</td>\n",
              "      <td>None</td>\n",
              "    </tr>\n",
              "    <tr>\n",
              "      <th>3</th>\n",
              "      <td>Programming using Scala</td>\n",
              "      <td>Elvis Presley</td>\n",
              "      <td>published</td>\n",
              "      <td>2020-05-12</td>\n",
              "    </tr>\n",
              "    <tr>\n",
              "      <th>4</th>\n",
              "      <td>Programming using Java</td>\n",
              "      <td>Mike Jack</td>\n",
              "      <td>inactive</td>\n",
              "      <td>2020-08-10</td>\n",
              "    </tr>\n",
              "    <tr>\n",
              "      <th>5</th>\n",
              "      <td>Web Applications - Python Flask</td>\n",
              "      <td>Bob Dillon</td>\n",
              "      <td>inactive</td>\n",
              "      <td>2020-07-20</td>\n",
              "    </tr>\n",
              "    <tr>\n",
              "      <th>6</th>\n",
              "      <td>Web Applications - Java Spring</td>\n",
              "      <td>Mike Jack</td>\n",
              "      <td>draft</td>\n",
              "      <td>None</td>\n",
              "    </tr>\n",
              "    <tr>\n",
              "      <th>7</th>\n",
              "      <td>Pipeline Orchestration - Python</td>\n",
              "      <td>Bob Dillon</td>\n",
              "      <td>draft</td>\n",
              "      <td>None</td>\n",
              "    </tr>\n",
              "    <tr>\n",
              "      <th>8</th>\n",
              "      <td>Streaming Pipelines - Python</td>\n",
              "      <td>Bob Dillon</td>\n",
              "      <td>published</td>\n",
              "      <td>2020-10-05</td>\n",
              "    </tr>\n",
              "    <tr>\n",
              "      <th>9</th>\n",
              "      <td>Web Applications - Scala Play</td>\n",
              "      <td>Elvis Presley</td>\n",
              "      <td>inactive</td>\n",
              "      <td>2020-09-30</td>\n",
              "    </tr>\n",
              "    <tr>\n",
              "      <th>10</th>\n",
              "      <td>Web Applications - Python Django</td>\n",
              "      <td>Bob Dillon</td>\n",
              "      <td>published</td>\n",
              "      <td>2020-06-23</td>\n",
              "    </tr>\n",
              "    <tr>\n",
              "      <th>11</th>\n",
              "      <td>Server Automation - Ansible</td>\n",
              "      <td>Uncle Sam</td>\n",
              "      <td>published</td>\n",
              "      <td>2020-07-05</td>\n",
              "    </tr>\n",
              "  </tbody>\n",
              "</table>\n",
              "</div>"
            ],
            "text/plain": [
              "                         course_name  course_author course_status  \\\n",
              "0           Programming using Python     Bob Dillon     published   \n",
              "1      Data Engineering using Python     Bob Dillon     published   \n",
              "2       Data Engineering using Scala  Elvis Presley         draft   \n",
              "3            Programming using Scala  Elvis Presley     published   \n",
              "4             Programming using Java      Mike Jack      inactive   \n",
              "5    Web Applications - Python Flask     Bob Dillon      inactive   \n",
              "6     Web Applications - Java Spring      Mike Jack         draft   \n",
              "7    Pipeline Orchestration - Python     Bob Dillon         draft   \n",
              "8       Streaming Pipelines - Python     Bob Dillon     published   \n",
              "9      Web Applications - Scala Play  Elvis Presley      inactive   \n",
              "10  Web Applications - Python Django     Bob Dillon     published   \n",
              "11       Server Automation - Ansible      Uncle Sam     published   \n",
              "\n",
              "   course_published_dt  \n",
              "0           2020-09-30  \n",
              "1           2020-07-15  \n",
              "2                 None  \n",
              "3           2020-05-12  \n",
              "4           2020-08-10  \n",
              "5           2020-07-20  \n",
              "6                 None  \n",
              "7                 None  \n",
              "8           2020-10-05  \n",
              "9           2020-09-30  \n",
              "10          2020-06-23  \n",
              "11          2020-07-05  "
            ]
          },
          "execution_count": 8,
          "metadata": {},
          "output_type": "execute_result"
        }
      ],
      "source": [
        "courses_df"
      ]
    },
    {
      "cell_type": "code",
      "execution_count": 9,
      "id": "9263df45",
      "metadata": {},
      "outputs": [],
      "source": [
        "courses_df.to_json('data/courses/courses.json', orient='records', lines=True)"
      ]
    },
    {
      "cell_type": "code",
      "execution_count": null,
      "id": "87e1c0ec",
      "metadata": {},
      "outputs": [],
      "source": [
        "!ls -ltr data/courses/courses.json"
      ]
    },
    {
      "cell_type": "code",
      "execution_count": null,
      "id": "dbef391e",
      "metadata": {},
      "outputs": [],
      "source": [
        "!cat data/courses/courses.json"
      ]
    },
    {
      "cell_type": "markdown",
      "id": "9a6eea5f",
      "metadata": {},
      "source": [
        "* We can also write Pandas dataframe to json file with orient split."
      ]
    },
    {
      "cell_type": "code",
      "execution_count": 10,
      "id": "a51f1d3e",
      "metadata": {},
      "outputs": [
        {
          "data": {
            "text/html": [
              "<div>\n",
              "<style scoped>\n",
              "    .dataframe tbody tr th:only-of-type {\n",
              "        vertical-align: middle;\n",
              "    }\n",
              "\n",
              "    .dataframe tbody tr th {\n",
              "        vertical-align: top;\n",
              "    }\n",
              "\n",
              "    .dataframe thead th {\n",
              "        text-align: right;\n",
              "    }\n",
              "</style>\n",
              "<table border=\"1\" class=\"dataframe\">\n",
              "  <thead>\n",
              "    <tr style=\"text-align: right;\">\n",
              "      <th></th>\n",
              "      <th>course_name</th>\n",
              "      <th>course_author</th>\n",
              "      <th>course_status</th>\n",
              "      <th>course_published_dt</th>\n",
              "    </tr>\n",
              "  </thead>\n",
              "  <tbody>\n",
              "    <tr>\n",
              "      <th>0</th>\n",
              "      <td>Programming using Python</td>\n",
              "      <td>Bob Dillon</td>\n",
              "      <td>published</td>\n",
              "      <td>2020-09-30</td>\n",
              "    </tr>\n",
              "    <tr>\n",
              "      <th>1</th>\n",
              "      <td>Data Engineering using Python</td>\n",
              "      <td>Bob Dillon</td>\n",
              "      <td>published</td>\n",
              "      <td>2020-07-15</td>\n",
              "    </tr>\n",
              "    <tr>\n",
              "      <th>2</th>\n",
              "      <td>Data Engineering using Scala</td>\n",
              "      <td>Elvis Presley</td>\n",
              "      <td>draft</td>\n",
              "      <td>None</td>\n",
              "    </tr>\n",
              "    <tr>\n",
              "      <th>3</th>\n",
              "      <td>Programming using Scala</td>\n",
              "      <td>Elvis Presley</td>\n",
              "      <td>published</td>\n",
              "      <td>2020-05-12</td>\n",
              "    </tr>\n",
              "    <tr>\n",
              "      <th>4</th>\n",
              "      <td>Programming using Java</td>\n",
              "      <td>Mike Jack</td>\n",
              "      <td>inactive</td>\n",
              "      <td>2020-08-10</td>\n",
              "    </tr>\n",
              "    <tr>\n",
              "      <th>5</th>\n",
              "      <td>Web Applications - Python Flask</td>\n",
              "      <td>Bob Dillon</td>\n",
              "      <td>inactive</td>\n",
              "      <td>2020-07-20</td>\n",
              "    </tr>\n",
              "    <tr>\n",
              "      <th>6</th>\n",
              "      <td>Web Applications - Java Spring</td>\n",
              "      <td>Mike Jack</td>\n",
              "      <td>draft</td>\n",
              "      <td>None</td>\n",
              "    </tr>\n",
              "    <tr>\n",
              "      <th>7</th>\n",
              "      <td>Pipeline Orchestration - Python</td>\n",
              "      <td>Bob Dillon</td>\n",
              "      <td>draft</td>\n",
              "      <td>None</td>\n",
              "    </tr>\n",
              "    <tr>\n",
              "      <th>8</th>\n",
              "      <td>Streaming Pipelines - Python</td>\n",
              "      <td>Bob Dillon</td>\n",
              "      <td>published</td>\n",
              "      <td>2020-10-05</td>\n",
              "    </tr>\n",
              "    <tr>\n",
              "      <th>9</th>\n",
              "      <td>Web Applications - Scala Play</td>\n",
              "      <td>Elvis Presley</td>\n",
              "      <td>inactive</td>\n",
              "      <td>2020-09-30</td>\n",
              "    </tr>\n",
              "    <tr>\n",
              "      <th>10</th>\n",
              "      <td>Web Applications - Python Django</td>\n",
              "      <td>Bob Dillon</td>\n",
              "      <td>published</td>\n",
              "      <td>2020-06-23</td>\n",
              "    </tr>\n",
              "    <tr>\n",
              "      <th>11</th>\n",
              "      <td>Server Automation - Ansible</td>\n",
              "      <td>Uncle Sam</td>\n",
              "      <td>published</td>\n",
              "      <td>2020-07-05</td>\n",
              "    </tr>\n",
              "  </tbody>\n",
              "</table>\n",
              "</div>"
            ],
            "text/plain": [
              "                         course_name  course_author course_status  \\\n",
              "0           Programming using Python     Bob Dillon     published   \n",
              "1      Data Engineering using Python     Bob Dillon     published   \n",
              "2       Data Engineering using Scala  Elvis Presley         draft   \n",
              "3            Programming using Scala  Elvis Presley     published   \n",
              "4             Programming using Java      Mike Jack      inactive   \n",
              "5    Web Applications - Python Flask     Bob Dillon      inactive   \n",
              "6     Web Applications - Java Spring      Mike Jack         draft   \n",
              "7    Pipeline Orchestration - Python     Bob Dillon         draft   \n",
              "8       Streaming Pipelines - Python     Bob Dillon     published   \n",
              "9      Web Applications - Scala Play  Elvis Presley      inactive   \n",
              "10  Web Applications - Python Django     Bob Dillon     published   \n",
              "11       Server Automation - Ansible      Uncle Sam     published   \n",
              "\n",
              "   course_published_dt  \n",
              "0           2020-09-30  \n",
              "1           2020-07-15  \n",
              "2                 None  \n",
              "3           2020-05-12  \n",
              "4           2020-08-10  \n",
              "5           2020-07-20  \n",
              "6                 None  \n",
              "7                 None  \n",
              "8           2020-10-05  \n",
              "9           2020-09-30  \n",
              "10          2020-06-23  \n",
              "11          2020-07-05  "
            ]
          },
          "execution_count": 10,
          "metadata": {},
          "output_type": "execute_result"
        }
      ],
      "source": [
        "courses_df"
      ]
    },
    {
      "cell_type": "code",
      "execution_count": null,
      "id": "b334e4a3",
      "metadata": {},
      "outputs": [],
      "source": [
        "courses_df.to_json('data/courses/courses.json', orient='split')"
      ]
    },
    {
      "cell_type": "code",
      "execution_count": null,
      "id": "ef3c2297",
      "metadata": {},
      "outputs": [],
      "source": [
        "!ls -ltr data/courses/courses.json"
      ]
    },
    {
      "cell_type": "code",
      "execution_count": null,
      "id": "7141a2d8",
      "metadata": {},
      "outputs": [],
      "source": [
        "!cat data/courses/courses.json"
      ]
    },
    {
      "cell_type": "markdown",
      "id": "51ea8ff0",
      "metadata": {},
      "source": [
        "* We can also write Pandas dataframe to json file with orient records. It will generate string with valid JSON array."
      ]
    },
    {
      "cell_type": "code",
      "execution_count": null,
      "id": "fbf135ec",
      "metadata": {},
      "outputs": [],
      "source": [
        "courses_df.to_json('data/courses/courses.json', orient='records')"
      ]
    },
    {
      "cell_type": "code",
      "execution_count": null,
      "id": "af1854cd",
      "metadata": {},
      "outputs": [],
      "source": [
        "!ls -ltr data/courses/courses.json"
      ]
    },
    {
      "cell_type": "code",
      "execution_count": null,
      "id": "b65b73de",
      "metadata": {},
      "outputs": [],
      "source": [
        "!cat data/courses/courses.json"
      ]
    }
  ],
  "metadata": {
    "kernelspec": {
      "display_name": "Python 3.9.12 ('.venv1': venv)",
      "language": "python",
      "name": "python3"
    },
    "language_info": {
      "codemirror_mode": {
        "name": "ipython",
        "version": 3
      },
      "file_extension": ".py",
      "mimetype": "text/x-python",
      "name": "python",
      "nbconvert_exporter": "python",
      "pygments_lexer": "ipython3",
      "version": "3.9.12"
    },
    "vscode": {
      "interpreter": {
        "hash": "cd701a206b363937aec8a42b48fdfe0fa56765986269d978ed7a344224b01851"
      }
    }
  },
  "nbformat": 4,
  "nbformat_minor": 5
}
