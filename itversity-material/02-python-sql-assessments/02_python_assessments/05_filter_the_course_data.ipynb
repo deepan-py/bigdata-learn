{
 "cells": [
  {
   "cell_type": "markdown",
   "id": "93ce9d88",
   "metadata": {},
   "source": [
    "## Filter the course data\n",
    "\n",
    "Develop logic to filter for published courses and sort the output by date in descending order.\n",
    "* We will provide courses data which will be of type list of dicts.\n",
    "* Get the courses which are published.\n",
    "* Sort the output by course_published_dt in descendig order."
   ]
  },
  {
   "cell_type": "code",
   "execution_count": 1,
   "id": "e7ddbd9b",
   "metadata": {},
   "outputs": [],
   "source": [
    "courses = [{'course_name': 'Programming using Python',\n",
    "  'course_author': 'Bob Dillon',\n",
    "  'course_status': 'published',\n",
    "  'course_published_dt': '2020-09-30'},\n",
    " {'course_name': 'Data Engineering using Python',\n",
    "  'course_author': 'Bob Dillon',\n",
    "  'course_status': 'published',\n",
    "  'course_published_dt': '2020-07-15'},\n",
    " {'course_name': 'Data Engineering using Scala',\n",
    "  'course_author': 'Elvis Presley',\n",
    "  'course_status': 'draft',\n",
    "  'course_published_dt': None},\n",
    " {'course_name': 'Programming using Scala',\n",
    "  'course_author': 'Elvis Presley',\n",
    "  'course_status': 'published',\n",
    "  'course_published_dt': '2020-05-12'},\n",
    " {'course_name': 'Programming using Java',\n",
    "  'course_author': 'Mike Jack',\n",
    "  'course_status': 'inactive',\n",
    "  'course_published_dt': '2020-08-10'},\n",
    " {'course_name': 'Web Applications - Python Flask',\n",
    "  'course_author': 'Bob Dillon',\n",
    "  'course_status': 'inactive',\n",
    "  'course_published_dt': '2020-07-20'},\n",
    " {'course_name': 'Web Applications - Java Spring',\n",
    "  'course_author': 'Mike Jack',\n",
    "  'course_status': 'draft',\n",
    "  'course_published_dt': None},\n",
    " {'course_name': 'Pipeline Orchestration - Python',\n",
    "  'course_author': 'Bob Dillon',\n",
    "  'course_status': 'draft',\n",
    "  'course_published_dt': None},\n",
    " {'course_name': 'Streaming Pipelines - Python',\n",
    "  'course_author': 'Bob Dillon',\n",
    "  'course_status': 'published',\n",
    "  'course_published_dt': '2020-10-05'},\n",
    " {'course_name': 'Web Applications - Scala Play',\n",
    "  'course_author': 'Elvis Presley',\n",
    "  'course_status': 'inactive',\n",
    "  'course_published_dt': '2020-09-30'},\n",
    " {'course_name': 'Web Applications - Python Django',\n",
    "  'course_author': 'Bob Dillon',\n",
    "  'course_status': 'published',\n",
    "  'course_published_dt': '2020-06-23'},\n",
    " {'course_name': 'Server Automation - Ansible',\n",
    "  'course_author': 'Uncle Sam',\n",
    "  'course_status': 'published',\n",
    "  'course_published_dt': '2020-07-05'}]"
   ]
  },
  {
   "cell_type": "code",
   "execution_count": 10,
   "id": "50bdba68",
   "metadata": {},
   "outputs": [],
   "source": [
    "# The logic should go here\n",
    "def get_published_courses(courses):\n",
    "    published_courses = sorted(filter(lambda x:x['course_status']=='published', courses), key=lambda x:x['course_published_dt'], reverse=True)\n",
    "    return published_courses"
   ]
  },
  {
   "cell_type": "code",
   "execution_count": 11,
   "id": "6a341621",
   "metadata": {},
   "outputs": [
    {
     "data": {
      "text/plain": [
       "[{'course_name': 'Streaming Pipelines - Python',\n",
       "  'course_author': 'Bob Dillon',\n",
       "  'course_status': 'published',\n",
       "  'course_published_dt': '2020-10-05'},\n",
       " {'course_name': 'Programming using Python',\n",
       "  'course_author': 'Bob Dillon',\n",
       "  'course_status': 'published',\n",
       "  'course_published_dt': '2020-09-30'},\n",
       " {'course_name': 'Data Engineering using Python',\n",
       "  'course_author': 'Bob Dillon',\n",
       "  'course_status': 'published',\n",
       "  'course_published_dt': '2020-07-15'},\n",
       " {'course_name': 'Server Automation - Ansible',\n",
       "  'course_author': 'Uncle Sam',\n",
       "  'course_status': 'published',\n",
       "  'course_published_dt': '2020-07-05'},\n",
       " {'course_name': 'Web Applications - Python Django',\n",
       "  'course_author': 'Bob Dillon',\n",
       "  'course_status': 'published',\n",
       "  'course_published_dt': '2020-06-23'},\n",
       " {'course_name': 'Programming using Scala',\n",
       "  'course_author': 'Elvis Presley',\n",
       "  'course_status': 'published',\n",
       "  'course_published_dt': '2020-05-12'}]"
      ]
     },
     "execution_count": 11,
     "metadata": {},
     "output_type": "execute_result"
    }
   ],
   "source": [
    "published_courses = get_published_courses(courses)\n",
    "published_courses"
   ]
  },
  {
   "cell_type": "code",
   "execution_count": 12,
   "id": "19b37b7f",
   "metadata": {},
   "outputs": [
    {
     "data": {
      "text/plain": [
       "list"
      ]
     },
     "execution_count": 12,
     "metadata": {},
     "output_type": "execute_result"
    }
   ],
   "source": [
    "type(published_courses) # It should be list"
   ]
  },
  {
   "cell_type": "code",
   "execution_count": 13,
   "id": "48e4483f",
   "metadata": {},
   "outputs": [
    {
     "data": {
      "text/plain": [
       "6"
      ]
     },
     "execution_count": 13,
     "metadata": {},
     "output_type": "execute_result"
    }
   ],
   "source": [
    "len(published_courses) # It should be 6"
   ]
  },
  {
   "cell_type": "code",
   "execution_count": 14,
   "id": "7802f09f",
   "metadata": {},
   "outputs": [
    {
     "data": {
      "text/plain": [
       "dict"
      ]
     },
     "execution_count": 14,
     "metadata": {},
     "output_type": "execute_result"
    }
   ],
   "source": [
    "type(published_courses[0]) # It should be dict"
   ]
  },
  {
   "cell_type": "markdown",
   "id": "c5306934",
   "metadata": {},
   "source": [
    "* Here is the sample record\n",
    "\n",
    "```python\n",
    "{'course_name': 'Streaming Pipelines - Python',\n",
    " 'course_author': 'Bob Dillon',\n",
    " 'course_status': 'published',\n",
    " 'course_published_dt': '2020-10-05'}\n",
    "```"
   ]
  },
  {
   "cell_type": "code",
   "execution_count": 15,
   "id": "cbc2aa71",
   "metadata": {},
   "outputs": [
    {
     "data": {
      "text/plain": [
       "{'course_name': 'Streaming Pipelines - Python',\n",
       " 'course_author': 'Bob Dillon',\n",
       " 'course_status': 'published',\n",
       " 'course_published_dt': '2020-10-05'}"
      ]
     },
     "execution_count": 15,
     "metadata": {},
     "output_type": "execute_result"
    }
   ],
   "source": [
    "published_courses[0]"
   ]
  },
  {
   "cell_type": "markdown",
   "id": "bb35f9b8",
   "metadata": {},
   "source": [
    "* Confirming that data is sorted in descending order. Run the below cell and compare.\n",
    "\n",
    "```python\n",
    "[{'course_name': 'Streaming Pipelines - Python',\n",
    "  'course_author': 'Bob Dillon',\n",
    "  'course_status': 'published',\n",
    "  'course_published_dt': '2020-10-05'},\n",
    " {'course_name': 'Programming using Python',\n",
    "  'course_author': 'Bob Dillon',\n",
    "  'course_status': 'published',\n",
    "  'course_published_dt': '2020-09-30'},\n",
    " {'course_name': 'Data Engineering using Python',\n",
    "  'course_author': 'Bob Dillon',\n",
    "  'course_status': 'published',\n",
    "  'course_published_dt': '2020-07-15'},\n",
    " {'course_name': 'Server Automation - Ansible',\n",
    "  'course_author': 'Uncle Sam',\n",
    "  'course_status': 'published',\n",
    "  'course_published_dt': '2020-07-05'},\n",
    " {'course_name': 'Web Applications - Python Django',\n",
    "  'course_author': 'Bob Dillon',\n",
    "  'course_status': 'published',\n",
    "  'course_published_dt': '2020-06-23'},\n",
    " {'course_name': 'Programming using Scala',\n",
    "  'course_author': 'Elvis Presley',\n",
    "  'course_status': 'published',\n",
    "  'course_published_dt': '2020-05-12'}]\n",
    "```"
   ]
  },
  {
   "cell_type": "code",
   "execution_count": 16,
   "id": "a95611dd",
   "metadata": {},
   "outputs": [
    {
     "data": {
      "text/plain": [
       "[{'course_name': 'Streaming Pipelines - Python',\n",
       "  'course_author': 'Bob Dillon',\n",
       "  'course_status': 'published',\n",
       "  'course_published_dt': '2020-10-05'},\n",
       " {'course_name': 'Programming using Python',\n",
       "  'course_author': 'Bob Dillon',\n",
       "  'course_status': 'published',\n",
       "  'course_published_dt': '2020-09-30'},\n",
       " {'course_name': 'Data Engineering using Python',\n",
       "  'course_author': 'Bob Dillon',\n",
       "  'course_status': 'published',\n",
       "  'course_published_dt': '2020-07-15'},\n",
       " {'course_name': 'Server Automation - Ansible',\n",
       "  'course_author': 'Uncle Sam',\n",
       "  'course_status': 'published',\n",
       "  'course_published_dt': '2020-07-05'},\n",
       " {'course_name': 'Web Applications - Python Django',\n",
       "  'course_author': 'Bob Dillon',\n",
       "  'course_status': 'published',\n",
       "  'course_published_dt': '2020-06-23'},\n",
       " {'course_name': 'Programming using Scala',\n",
       "  'course_author': 'Elvis Presley',\n",
       "  'course_status': 'published',\n",
       "  'course_published_dt': '2020-05-12'}]"
      ]
     },
     "execution_count": 16,
     "metadata": {},
     "output_type": "execute_result"
    }
   ],
   "source": [
    "[course for course in published_courses]"
   ]
  },
  {
   "cell_type": "code",
   "execution_count": null,
   "id": "2c32a5e7",
   "metadata": {},
   "outputs": [],
   "source": []
  }
 ],
 "metadata": {
  "kernelspec": {
   "display_name": "Python 3.9.12 ('.venv1': venv)",
   "language": "python",
   "name": "python3"
  },
  "language_info": {
   "codemirror_mode": {
    "name": "ipython",
    "version": 3
   },
   "file_extension": ".py",
   "mimetype": "text/x-python",
   "name": "python",
   "nbconvert_exporter": "python",
   "pygments_lexer": "ipython3",
   "version": "3.9.12"
  },
  "vscode": {
   "interpreter": {
    "hash": "cd701a206b363937aec8a42b48fdfe0fa56765986269d978ed7a344224b01851"
   }
  }
 },
 "nbformat": 4,
 "nbformat_minor": 5
}
