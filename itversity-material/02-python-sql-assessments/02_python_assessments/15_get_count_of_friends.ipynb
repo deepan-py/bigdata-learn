{
 "cells": [
  {
   "cell_type": "markdown",
   "id": "46a9e3a6",
   "metadata": {},
   "source": [
    "## Get count of friends\n",
    "\n",
    "Develop the logic to get the count of friends for each user.\n",
    "* Data is in **14_user_data.json**.\n",
    "* We will provide the logic of loading json data from file to list of dicts.\n",
    "* The exercise is to get the count of friends for each user using list of dicts.\n",
    "* Output should contain user_id and count and data should be descending order by count. If the count is same, then data should be further sorted in ascending order by user_id."
   ]
  },
  {
   "cell_type": "code",
   "execution_count": 1,
   "id": "39b37c76",
   "metadata": {},
   "outputs": [],
   "source": [
    "# Logic to load json data into dict\n",
    "\n",
    "import json\n",
    "users = json.load(open('14_user_data.json'))"
   ]
  },
  {
   "cell_type": "code",
   "execution_count": 2,
   "id": "477a3657",
   "metadata": {},
   "outputs": [
    {
     "data": {
      "text/plain": [
       "list"
      ]
     },
     "execution_count": 2,
     "metadata": {},
     "output_type": "execute_result"
    }
   ],
   "source": [
    "type(users)"
   ]
  },
  {
   "cell_type": "code",
   "execution_count": 3,
   "id": "e15e620b",
   "metadata": {},
   "outputs": [
    {
     "data": {
      "text/plain": [
       "dict"
      ]
     },
     "execution_count": 3,
     "metadata": {},
     "output_type": "execute_result"
    }
   ],
   "source": [
    "type(users[0])"
   ]
  },
  {
   "cell_type": "code",
   "execution_count": 4,
   "id": "a6cbfeba",
   "metadata": {},
   "outputs": [
    {
     "data": {
      "text/plain": [
       "[{'user_id': '7pIUGJ224G589mfGZaUJmg',\n",
       "  'friends': ['CvUbB1TxiBXq4NPCKmmL3g',\n",
       "   '67_HTBMewJrk5H9uUmfIrQ',\n",
       "   'aMk8ame2hT9IJbeUNgTbQw',\n",
       "   '_3svKG4SAV4YMvl9p7iHLg']},\n",
       " {'user_id': 'KLgBbAHOWumaXjEQwUDpmA',\n",
       "  'friends': ['GV4zpumMlIENZNN-Vz5LGg',\n",
       "   'ZWD8UH1T7QXQr0Eq-mcWYg',\n",
       "   'hBNkrO0XeRpiIA9Ft0eg3g']},\n",
       " {'user_id': 'vNx3FrO1zRkXTKGkypcDEA',\n",
       "  'friends': ['gMNsz8pM0aEF0tpX6UI9og',\n",
       "   'Gia44mwpBA1OMaDGGGDp9w',\n",
       "   '5qr4Mg3VDST_13pzGNiEzA']},\n",
       " {'user_id': 'CX3zVZCP6_TO9c-AHkDG0Q',\n",
       "  'friends': ['be8hFRSzakhqt37ojP308g',\n",
       "   'OXcPA1D29hhsD1LizJFY-A',\n",
       "   'vSPFyA7tTCXlgsn6Cf-G5A',\n",
       "   '6bqYJdaf2DpRVlmYutLfDw',\n",
       "   '6pwVH0a1iKN3nxRDRrEvKg']},\n",
       " {'user_id': '_6CTDWsw4Fdr6R9ZzKvLZQ',\n",
       "  'friends': ['eEgeuz6Gg12HZkFZTfbb8A',\n",
       "   'crsofThakzXFjJLr9q1mWQ',\n",
       "   'WeVkkF5L39888IPPlRhNpg',\n",
       "   'CQ67NJigSe5-uBDX3b_CUw']},\n",
       " {'user_id': 'a7QBKnU1ygMoxFmJKoiR3g',\n",
       "  'friends': ['NChoafiEzwQ7YmH4_zkRXQ',\n",
       "   'r0-7mgzZL4Me3Pc903KRcg',\n",
       "   '14MwjyfuzoQOdwXlnUgsKw',\n",
       "   'e6iCOIhtupBCiw-VwBvJ4A']},\n",
       " {'user_id': 'V0b6qQt_mF21xg_--BFw5Q', 'friends': ['FtiWTklEUa-w1lQpBB6-XA']},\n",
       " {'user_id': 'dMtkqy7SpggEFAGFkCbyDQ',\n",
       "  'friends': ['1GMARV8H68WPPlP9dblwvQ',\n",
       "   'qv1pdQfv1xKj2MZNkR32lQ',\n",
       "   'PNK243RqZRHWHNCWpoqigw',\n",
       "   '2jsF8rVMiPw4C908tj04BQ',\n",
       "   'sxy4SK2nr8rFvcfMRsqM2Q']},\n",
       " {'user_id': 'PA2MNztWmRx9JBvbz9wd4A', 'friends': ['rL8CaZKnhIlilwUjb8yJIw']},\n",
       " {'user_id': 'RdGxKWUqrkqmnSEhzBgiig',\n",
       "  'friends': ['CyOjizbfMb2hxkLIwE76Ow',\n",
       "   'SkWtSYepLxr00LFTevIrAA',\n",
       "   'G9JMNGUMSzWjf8SgMuP8XA',\n",
       "   'KYpkZqDaFbAdoLLUePstFg']}]"
      ]
     },
     "execution_count": 4,
     "metadata": {},
     "output_type": "execute_result"
    }
   ],
   "source": [
    "users"
   ]
  },
  {
   "cell_type": "markdown",
   "id": "f333bc3b",
   "metadata": {},
   "source": [
    "* Using **users**, get the count by friends."
   ]
  },
  {
   "cell_type": "code",
   "execution_count": 15,
   "id": "eb3c4af9",
   "metadata": {},
   "outputs": [],
   "source": [
    "# Your logic should go here\n",
    "\n",
    "def get_friend_count(users):\n",
    "    friend_count = list(map(lambda x:{'user_id':x['user_id'], \"friend_count\":len(x['friends'])}, users))\n",
    "    return sorted(friend_count, key=lambda x:(-x['friend_count'], x['user_id']))"
   ]
  },
  {
   "cell_type": "markdown",
   "id": "5d8bbcbf",
   "metadata": {},
   "source": [
    "* You can validate by running below cells. Here is the desired output.\n",
    "\n",
    "```python\n",
    "[{'user_id': 'CX3zVZCP6_TO9c-AHkDG0Q', 'friend_count': 5},\n",
    " {'user_id': 'dMtkqy7SpggEFAGFkCbyDQ', 'friend_count': 5},\n",
    " {'user_id': '7pIUGJ224G589mfGZaUJmg', 'friend_count': 4},\n",
    " {'user_id': 'RdGxKWUqrkqmnSEhzBgiig', 'friend_count': 4},\n",
    " {'user_id': '_6CTDWsw4Fdr6R9ZzKvLZQ', 'friend_count': 4},\n",
    " {'user_id': 'a7QBKnU1ygMoxFmJKoiR3g', 'friend_count': 4},\n",
    " {'user_id': 'KLgBbAHOWumaXjEQwUDpmA', 'friend_count': 3},\n",
    " {'user_id': 'vNx3FrO1zRkXTKGkypcDEA', 'friend_count': 3},\n",
    " {'user_id': 'PA2MNztWmRx9JBvbz9wd4A', 'friend_count': 1},\n",
    " {'user_id': 'V0b6qQt_mF21xg_--BFw5Q', 'friend_count': 1}]\n",
    "```"
   ]
  },
  {
   "cell_type": "code",
   "execution_count": 16,
   "id": "115fa522",
   "metadata": {},
   "outputs": [
    {
     "data": {
      "text/plain": [
       "[{'user_id': 'CX3zVZCP6_TO9c-AHkDG0Q', 'friend_count': 5},\n",
       " {'user_id': 'dMtkqy7SpggEFAGFkCbyDQ', 'friend_count': 5},\n",
       " {'user_id': '7pIUGJ224G589mfGZaUJmg', 'friend_count': 4},\n",
       " {'user_id': 'RdGxKWUqrkqmnSEhzBgiig', 'friend_count': 4},\n",
       " {'user_id': '_6CTDWsw4Fdr6R9ZzKvLZQ', 'friend_count': 4},\n",
       " {'user_id': 'a7QBKnU1ygMoxFmJKoiR3g', 'friend_count': 4},\n",
       " {'user_id': 'KLgBbAHOWumaXjEQwUDpmA', 'friend_count': 3},\n",
       " {'user_id': 'vNx3FrO1zRkXTKGkypcDEA', 'friend_count': 3},\n",
       " {'user_id': 'PA2MNztWmRx9JBvbz9wd4A', 'friend_count': 1},\n",
       " {'user_id': 'V0b6qQt_mF21xg_--BFw5Q', 'friend_count': 1}]"
      ]
     },
     "execution_count": 16,
     "metadata": {},
     "output_type": "execute_result"
    }
   ],
   "source": [
    "get_friend_count(users)"
   ]
  },
  {
   "cell_type": "code",
   "execution_count": null,
   "id": "365f8e38",
   "metadata": {},
   "outputs": [],
   "source": []
  }
 ],
 "metadata": {
  "kernelspec": {
   "display_name": "Python 3.9.12 ('.venv1': venv)",
   "language": "python",
   "name": "python3"
  },
  "language_info": {
   "codemirror_mode": {
    "name": "ipython",
    "version": 3
   },
   "file_extension": ".py",
   "mimetype": "text/x-python",
   "name": "python",
   "nbconvert_exporter": "python",
   "pygments_lexer": "ipython3",
   "version": "3.9.12"
  },
  "vscode": {
   "interpreter": {
    "hash": "cd701a206b363937aec8a42b48fdfe0fa56765986269d978ed7a344224b01851"
   }
  }
 },
 "nbformat": 4,
 "nbformat_minor": 5
}
