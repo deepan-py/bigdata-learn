{
 "cells": [
  {
   "cell_type": "markdown",
   "id": "15c11658",
   "metadata": {},
   "source": [
    "## Read Data from file\n",
    "\n",
    "Develop logic to read the data from tab delimited file into list of tuples.\n",
    "* The file which you are supposed to use is **03_courses.csv** in the current folder.\n",
    "* It is a text file where lines are delimited by new line character.\n",
    "* Each line contain data for multiple attributes related to courses table. Each attribute value in each line is separated by '\\t' (tab) character.\n",
    "* You need to develop a function which will return list of tuples with all the values from the file.\n",
    "\n",
    "**Hint: Using Pandas or csv will facilitate you to come up with the solution faster**"
   ]
  },
  {
   "cell_type": "code",
   "execution_count": 9,
   "id": "7eba8862",
   "metadata": {},
   "outputs": [],
   "source": [
    "# Provide the solution here\n",
    "import pandas as pd\n",
    "\n",
    "def get_courses(path):\n",
    "    courses = pd.read_csv(path, delimiter='\\t').values\n",
    "    courses = list(map(tuple, courses))\n",
    "    return courses"
   ]
  },
  {
   "cell_type": "code",
   "execution_count": 10,
   "id": "de1cf391",
   "metadata": {},
   "outputs": [
    {
     "data": {
      "text/plain": [
       "[('Programming using Python', 'Bob Dillon', 'published', '2020-09-30'),\n",
       " ('Data Engineering using Python', 'Bob Dillon', 'published', '2020-07-15'),\n",
       " ('Data Engineering using Scala', 'Elvis Presley', 'draft', nan),\n",
       " ('Programming using Scala', 'Elvis Presley', 'published', '2020-05-12'),\n",
       " ('Programming using Java', 'Mike Jack', 'inactive', '2020-08-10'),\n",
       " ('Web Applications - Python Flask', 'Bob Dillon', 'inactive', '2020-07-20'),\n",
       " ('Web Applications - Java Spring', 'Mike Jack', 'draft', nan),\n",
       " ('Pipeline Orchestration - Python', 'Bob Dillon', 'draft', nan),\n",
       " ('Streaming Pipelines - Python', 'Bob Dillon', 'published', '2020-10-05'),\n",
       " ('Web Applications - Scala Play', 'Elvis Presley', 'inactive', '2020-09-30'),\n",
       " ('Web Applications - Python Django', 'Bob Dillon', 'published', '2020-06-23'),\n",
       " ('Server Automation - Ansible', 'Uncle Sam', 'published', '2020-07-05')]"
      ]
     },
     "execution_count": 10,
     "metadata": {},
     "output_type": "execute_result"
    }
   ],
   "source": [
    "courses = get_courses('03_courses.csv')\n",
    "courses"
   ]
  },
  {
   "cell_type": "code",
   "execution_count": 11,
   "id": "ccbd4f99",
   "metadata": {},
   "outputs": [
    {
     "data": {
      "text/plain": [
       "list"
      ]
     },
     "execution_count": 11,
     "metadata": {},
     "output_type": "execute_result"
    }
   ],
   "source": [
    "type(courses) # should be list"
   ]
  },
  {
   "cell_type": "code",
   "execution_count": 12,
   "id": "ea7cc235",
   "metadata": {},
   "outputs": [
    {
     "data": {
      "text/plain": [
       "12"
      ]
     },
     "execution_count": 12,
     "metadata": {},
     "output_type": "execute_result"
    }
   ],
   "source": [
    "len(courses) # should be 12"
   ]
  },
  {
   "cell_type": "code",
   "execution_count": 13,
   "id": "83e4d3ea",
   "metadata": {},
   "outputs": [
    {
     "data": {
      "text/plain": [
       "('Programming using Python', 'Bob Dillon', 'published', '2020-09-30')"
      ]
     },
     "execution_count": 13,
     "metadata": {},
     "output_type": "execute_result"
    }
   ],
   "source": [
    "courses[0] # Output: ('Programming using Python', 'Bob Dillon', 'published', '2020-09-30')"
   ]
  },
  {
   "cell_type": "code",
   "execution_count": 14,
   "id": "e8e6aeaa",
   "metadata": {},
   "outputs": [
    {
     "data": {
      "text/plain": [
       "tuple"
      ]
     },
     "execution_count": 14,
     "metadata": {},
     "output_type": "execute_result"
    }
   ],
   "source": [
    "type(courses[0]) # tuple"
   ]
  },
  {
   "cell_type": "code",
   "execution_count": null,
   "id": "fed699c4",
   "metadata": {},
   "outputs": [],
   "source": []
  }
 ],
 "metadata": {
  "kernelspec": {
   "display_name": "Python 3.9.12 ('.venv1': venv)",
   "language": "python",
   "name": "python3"
  },
  "language_info": {
   "codemirror_mode": {
    "name": "ipython",
    "version": 3
   },
   "file_extension": ".py",
   "mimetype": "text/x-python",
   "name": "python",
   "nbconvert_exporter": "python",
   "pygments_lexer": "ipython3",
   "version": "3.9.12"
  },
  "vscode": {
   "interpreter": {
    "hash": "cd701a206b363937aec8a42b48fdfe0fa56765986269d978ed7a344224b01851"
   }
  }
 },
 "nbformat": 4,
 "nbformat_minor": 5
}
