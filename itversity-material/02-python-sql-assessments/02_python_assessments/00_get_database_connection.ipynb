{
 "cells": [
  {
   "cell_type": "markdown",
   "metadata": {},
   "source": [
    "## Get Database Connection\n",
    "\n",
    "This notebook will be run from other notebooks. It contains the logic for a function called as `get_pg_connection`. You will be invoking this function in other notebooks.\n",
    "\n",
    "We will provide the required information. You can use the labs password which is assigned to you."
   ]
  },
  {
   "cell_type": "code",
   "execution_count": null,
   "metadata": {},
   "outputs": [],
   "source": [
    "import psycopg2\n",
    "\n",
    "def get_pg_connection(host, port, database, user, password):\n",
    "    connection = None\n",
    "    try:\n",
    "        connection = psycopg2.connect(\n",
    "            host='localhost',\n",
    "            port=5432,\n",
    "            database=database,\n",
    "            user='deepan',\n",
    "            password='DB_PASSWORD'\n",
    "        )\n",
    "    except Exception as e:\n",
    "        raise(e)\n",
    "    \n",
    "    return connection"
   ]
  }
 ],
 "metadata": {
  "kernelspec": {
   "display_name": "Python 3.9.12 ('.venv1': venv)",
   "language": "python",
   "name": "python3"
  },
  "language_info": {
   "codemirror_mode": {
    "name": "ipython",
    "version": 3
   },
   "file_extension": ".py",
   "mimetype": "text/x-python",
   "name": "python",
   "nbconvert_exporter": "python",
   "pygments_lexer": "ipython3",
   "version": "3.9.12"
  },
  "vscode": {
   "interpreter": {
    "hash": "cd701a206b363937aec8a42b48fdfe0fa56765986269d978ed7a344224b01851"
   }
  }
 },
 "nbformat": 4,
 "nbformat_minor": 4
}
