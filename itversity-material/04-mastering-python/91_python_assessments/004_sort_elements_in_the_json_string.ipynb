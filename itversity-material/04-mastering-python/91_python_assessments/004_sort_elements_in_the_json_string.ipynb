{
 "cells": [
  {
   "cell_type": "markdown",
   "metadata": {},
   "source": [
    "## Sort elements in the JSON String\n",
    "\n",
    "Develop a program to sort elements in JSON String. This is primarily to assess the understanding of processing of JSON as well as sorting the elements in a JSON.\n",
    "* Here is the JSON String."
   ]
  },
  {
   "cell_type": "code",
   "execution_count": null,
   "metadata": {},
   "outputs": [],
   "source": [
    "contacts_string = '''[{\"id\":1,\"first_name\":\"Frasco\",\"last_name\":\"Necolds\",\"email\":\"fnecolds0@vk.com\",\"gender\":\"Male\",\"ip_address\":\"243.67.63.34\"},\n",
    "{\"id\":2,\"first_name\":\"Dulce\",\"last_name\":\"Santos\",\"email\":\"dsantos1@mashable.com\",\"gender\":\"Female\",\"ip_address\":\"60.30.246.227\"},\n",
    "{\"id\":3,\"first_name\":\"Prissie\",\"last_name\":\"Tebbett\",\"email\":\"ptebbett2@infoseek.co.jp\",\"gender\":\"Genderfluid\",\"ip_address\":\"22.21.162.56\"},\n",
    "{\"id\":4,\"first_name\":\"Schuyler\",\"last_name\":\"Coppledike\",\"email\":\"scoppledike3@gnu.org\",\"gender\":\"Agender\",\"ip_address\":\"120.35.186.161\"},\n",
    "{\"id\":5,\"first_name\":\"Leopold\",\"last_name\":\"Jarred\",\"email\":\"ljarred4@wp.com\",\"gender\":\"Agender\",\"ip_address\":\"30.119.34.4\"},\n",
    "{\"id\":6,\"first_name\":\"Joanna\",\"last_name\":\"Teager\",\"email\":\"jteager5@apache.org\",\"gender\":\"Bigender\",\"ip_address\":\"245.221.176.34\"},\n",
    "{\"id\":7,\"first_name\":\"Lion\",\"last_name\":\"Beere\",\"email\":\"lbeere6@bloomberg.com\",\"gender\":\"Polygender\",\"ip_address\":\"105.54.139.46\"},\n",
    "{\"id\":8,\"first_name\":\"Marabel\",\"last_name\":\"Wornum\",\"email\":\"mwornum7@posterous.com\",\"gender\":\"Polygender\",\"ip_address\":\"247.229.14.25\"},\n",
    "{\"id\":9,\"first_name\":\"Helenka\",\"last_name\":\"Mullender\",\"email\":\"hmullender8@cloudflare.com\",\"gender\":\"Non-binary\",\"ip_address\":\"133.216.118.88\"},\n",
    "{\"id\":10,\"first_name\":\"Christine\",\"last_name\":\"Swane\",\"email\":\"cswane9@shop-pro.jp\",\"gender\":\"Polygender\",\"ip_address\":\"86.16.210.164\"}]'''"
   ]
  },
  {
   "cell_type": "markdown",
   "metadata": {},
   "source": [
    "* Sort the data by email and convert the sorted data to string."
   ]
  },
  {
   "cell_type": "code",
   "execution_count": null,
   "metadata": {},
   "outputs": [],
   "source": [
    "# Your code should go here"
   ]
  },
  {
   "cell_type": "markdown",
   "metadata": {},
   "source": [
    "* Here is the desired output.\n",
    "\n",
    "```python\n",
    "'[{\"id\": 10, \"first_name\": \"Christine\", \"last_name\": \"Swane\", \"email\": \"cswane9@shop-pro.jp\", \"gender\": \"Polygender\", \"ip_address\": \"86.16.210.164\"}, {\"id\": 2, \"first_name\": \"Dulce\", \"last_name\": \"Santos\", \"email\": \"dsantos1@mashable.com\", \"gender\": \"Female\", \"ip_address\": \"60.30.246.227\"}, {\"id\": 1, \"first_name\": \"Frasco\", \"last_name\": \"Necolds\", \"email\": \"fnecolds0@vk.com\", \"gender\": \"Male\", \"ip_address\": \"243.67.63.34\"}, {\"id\": 9, \"first_name\": \"Helenka\", \"last_name\": \"Mullender\", \"email\": \"hmullender8@cloudflare.com\", \"gender\": \"Non-binary\", \"ip_address\": \"133.216.118.88\"}, {\"id\": 6, \"first_name\": \"Joanna\", \"last_name\": \"Teager\", \"email\": \"jteager5@apache.org\", \"gender\": \"Bigender\", \"ip_address\": \"245.221.176.34\"}, {\"id\": 7, \"first_name\": \"Lion\", \"last_name\": \"Beere\", \"email\": \"lbeere6@bloomberg.com\", \"gender\": \"Polygender\", \"ip_address\": \"105.54.139.46\"}, {\"id\": 5, \"first_name\": \"Leopold\", \"last_name\": \"Jarred\", \"email\": \"ljarred4@wp.com\", \"gender\": \"Agender\", \"ip_address\": \"30.119.34.4\"}, {\"id\": 8, \"first_name\": \"Marabel\", \"last_name\": \"Wornum\", \"email\": \"mwornum7@posterous.com\", \"gender\": \"Polygender\", \"ip_address\": \"247.229.14.25\"}, {\"id\": 3, \"first_name\": \"Prissie\", \"last_name\": \"Tebbett\", \"email\": \"ptebbett2@infoseek.co.jp\", \"gender\": \"Genderfluid\", \"ip_address\": \"22.21.162.56\"}, {\"id\": 4, \"first_name\": \"Schuyler\", \"last_name\": \"Coppledike\", \"email\": \"scoppledike3@gnu.org\", \"gender\": \"Agender\", \"ip_address\": \"120.35.186.161\"}]'\n",
    "```"
   ]
  },
  {
   "cell_type": "code",
   "execution_count": null,
   "metadata": {},
   "outputs": [],
   "source": []
  }
 ],
 "metadata": {
  "kernelspec": {
   "display_name": "Python 3",
   "language": "python",
   "name": "python3"
  },
  "language_info": {
   "codemirror_mode": {
    "name": "ipython",
    "version": 3
   },
   "file_extension": ".py",
   "mimetype": "text/x-python",
   "name": "python",
   "nbconvert_exporter": "python",
   "pygments_lexer": "ipython3",
   "version": "3.7.10"
  }
 },
 "nbformat": 4,
 "nbformat_minor": 4
}
