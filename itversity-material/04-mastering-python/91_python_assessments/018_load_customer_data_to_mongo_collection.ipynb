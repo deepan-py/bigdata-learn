{
 "cells": [
  {
   "cell_type": "markdown",
   "metadata": {},
   "source": [
    "## Load Customer Data to Mongo Collection\n",
    "\n",
    "Develop a function to store the customer data from a file into Mongo DB Collection.\n",
    "* Let us go through the details about the actual usage.\n",
    "  * An eCommerce platform will be a mobile app or web app. Using eCommerce platform we typically sell products to the customers. The data will be typically in RDBMS database such as Postgres, MySQL, Oracle, SQL Server etc.\n",
    "  * However, the eCommerce company who runs the platform want to run the loyalty program. For that they build an application using MongoDB database.\n",
    "  * Now we need to integrate the customer data in RDBMS database into the MongoDB database built for loyalty program application.\n",
    "  * We can either integrate data between the eCommerce Platform and loyalty program in batch mode or real time.\n",
    "  * Batch mode means the data from the eCommerce Platform database will be sent once every day in the form of files and we should have a scheduled job which will load this data into the target MongoDB database built for loyalty program.\n",
    "* Let us assume that data is sent every day into the location **/data/ecomm/customers** for previous day.\n",
    "* Here is the file naming convention - **part-00000**. The name of the file will be incremented for each of the new file added with incremental data.\n",
    "* For now, we have customer data available under **/data/ecomm/customers/part-00000**.\n",
    "* Make sure to understand characteristics of the data.\n",
    "* Use appropriate Pandas API to read the data.\n",
    "* Use MongoDB Bulk Insert to insert the data into Mongo Collection.\n",
    "* Use this piece of code to determine the **database name** and **user name** you are supposed to use."
   ]
  },
  {
   "cell_type": "code",
   "execution_count": null,
   "metadata": {},
   "outputs": [],
   "source": [
    "import getpass\n",
    "username = getpass.getuser()\n",
    "\n",
    "db_name = f'{username}_scratch_db'\n",
    "db_user = f'{username}_scratch_user'\n",
    "db_host = 'pylabsmd.itversity.com'\n",
    "db_port = 27017"
   ]
  },
  {
   "cell_type": "markdown",
   "metadata": {},
   "source": [
    "* Use this piece of code to get the password from the **/home/itversity/.jupyterenv** file. "
   ]
  },
  {
   "cell_type": "code",
   "execution_count": null,
   "metadata": {},
   "outputs": [],
   "source": [
    "import configparser\n",
    "\n",
    "config = configparser.ConfigParser()\n",
    "config.read('/home/itversity/.jupyterenv')\n",
    "\n",
    "db_pass = config['DEFAULT']['MONGO_SCRATCH_PASS']"
   ]
  },
  {
   "cell_type": "markdown",
   "metadata": {},
   "source": [
    "* Develop multiple functions which will read the data from **/data/ecomm/customers/part-00000** and then write to a collection in the database called as **customers**.\n",
    "  * Step 1: Create Mongo Client\n",
    "  * Step 2: Read the data from file to list of dicts\n",
    "  * Step 3: Write list of dicts to Mongo Collection\n",
    "* You neeed to modularize the code."
   ]
  },
  {
   "cell_type": "markdown",
   "metadata": {},
   "source": [
    "### Step 1: Create Mongo Client\n",
    "\n",
    "Develop a function by name **get_mongo_client** which takes all the arguments to build a client and return client object."
   ]
  },
  {
   "cell_type": "code",
   "execution_count": null,
   "metadata": {},
   "outputs": [],
   "source": [
    "# Your code should go here\n",
    "# The function should return the mongo client object.\n",
    "\n",
    "import pymongo\n",
    "def get_mongo_client(db_host, db_port, db_user, db_pass, db_auth_source='admin'):\n",
    "    # Make sure to pass authSource argument while creatig mongo client\n",
    "\n",
    "    return client"
   ]
  },
  {
   "cell_type": "markdown",
   "metadata": {},
   "source": [
    "* Validate **get_mongo_client** using this piece of code. You might or might not see the collections in the database."
   ]
  },
  {
   "cell_type": "code",
   "execution_count": null,
   "metadata": {},
   "outputs": [],
   "source": [
    "client = get_mongo_client(\n",
    "    db_host=db_host,\n",
    "    db_port=db_port,\n",
    "    db_user=db_user,\n",
    "    db_pass=db_pass,\n",
    "    db_auth_source='admin'\n",
    ")\n",
    "\n",
    "client[f'{db_name}'].list_collection_names()"
   ]
  },
  {
   "cell_type": "markdown",
   "metadata": {},
   "source": [
    "### Step 2: Read the data from file to list of dicts\n",
    "\n",
    "Develop a function read the data from the file at the path passed and return list of dicts."
   ]
  },
  {
   "cell_type": "code",
   "execution_count": null,
   "metadata": {},
   "outputs": [],
   "source": [
    "# Your code should go here\n",
    "# Make sure to return the list of dicts\n",
    "\n",
    "import pandas as pd\n",
    "def read_file_into_collection(file_path):\n",
    "\n",
    "    return data_list"
   ]
  },
  {
   "cell_type": "markdown",
   "metadata": {},
   "source": [
    "* Validate **read_file_into_collection** using this piece of code.\n",
    "* The file contain 20 records and also you should be able to see couple of records as output."
   ]
  },
  {
   "cell_type": "code",
   "execution_count": null,
   "metadata": {},
   "outputs": [],
   "source": [
    "data_list = read_file_into_collection('/data/ecomm/customers/part-00000')"
   ]
  },
  {
   "cell_type": "code",
   "execution_count": null,
   "metadata": {},
   "outputs": [],
   "source": [
    "len(data_list)"
   ]
  },
  {
   "cell_type": "code",
   "execution_count": null,
   "metadata": {},
   "outputs": [],
   "source": [
    "data_list[:2]"
   ]
  },
  {
   "cell_type": "markdown",
   "metadata": {},
   "source": [
    "### Step 3: Write list of dicts to Mongo Collection\n",
    "\n",
    "Develop a function to write the list of dicts into Mongo collection by name **customers** in chunks."
   ]
  },
  {
   "cell_type": "code",
   "execution_count": null,
   "metadata": {},
   "outputs": [],
   "source": [
    "# Your code should go here\n",
    "# In each database insert, it should populate the number records passed to chunk_size\n",
    "def write_to_customers(data_list, collection_name, mongo_client, chunk_size=6):\n",
    "\n",
    "    return"
   ]
  },
  {
   "cell_type": "markdown",
   "metadata": {},
   "source": [
    "* Validate **write_to_customers** using this piece of code."
   ]
  },
  {
   "cell_type": "code",
   "execution_count": null,
   "metadata": {},
   "outputs": [],
   "source": [
    "client[f'{db_name}'].list_collection_names()"
   ]
  },
  {
   "cell_type": "code",
   "execution_count": null,
   "metadata": {},
   "outputs": [],
   "source": [
    "cust_collection = client[f'{db_name}'].get_collection('customers')"
   ]
  },
  {
   "cell_type": "code",
   "execution_count": null,
   "metadata": {},
   "outputs": [],
   "source": [
    "# Deleting all the documents from customers collection\n",
    "cust_collection.delete_many({})"
   ]
  },
  {
   "cell_type": "code",
   "execution_count": null,
   "metadata": {},
   "outputs": [],
   "source": [
    "# This should return 0\n",
    "cust_collection.count_documents({})"
   ]
  },
  {
   "cell_type": "code",
   "execution_count": null,
   "metadata": {},
   "outputs": [],
   "source": [
    "write_to_customers(data_list, 'customers', client)"
   ]
  },
  {
   "cell_type": "code",
   "execution_count": null,
   "metadata": {},
   "outputs": [],
   "source": [
    "cust_collection = client[f'{db_name}'].get_collection('customers')"
   ]
  },
  {
   "cell_type": "code",
   "execution_count": null,
   "metadata": {},
   "outputs": [],
   "source": [
    "# This should return 20\n",
    "cust_collection.count_documents({})"
   ]
  },
  {
   "cell_type": "code",
   "execution_count": null,
   "metadata": {},
   "outputs": [],
   "source": [
    "# This should return 1 record\n",
    "cust_collection.find_one()"
   ]
  },
  {
   "cell_type": "code",
   "execution_count": null,
   "metadata": {},
   "outputs": [],
   "source": [
    "# This should print all the yearly customer details. We have 8 of them\n",
    "for customer in cust_collection.find({'product_subscription': 'yearly'}):\n",
    "    print(customer)"
   ]
  },
  {
   "cell_type": "code",
   "execution_count": null,
   "metadata": {},
   "outputs": [],
   "source": []
  }
 ],
 "metadata": {
  "kernelspec": {
   "display_name": "Python 3",
   "language": "python",
   "name": "python3"
  },
  "language_info": {
   "codemirror_mode": {
    "name": "ipython",
    "version": 3
   },
   "file_extension": ".py",
   "mimetype": "text/x-python",
   "name": "python",
   "nbconvert_exporter": "python",
   "pygments_lexer": "ipython3",
   "version": "3.7.10"
  }
 },
 "nbformat": 4,
 "nbformat_minor": 4
}
