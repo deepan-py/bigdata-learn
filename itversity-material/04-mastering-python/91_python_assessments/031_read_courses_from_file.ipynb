{
 "cells": [
  {
   "cell_type": "markdown",
   "id": "0e04be8b",
   "metadata": {},
   "source": [
    "## Read Courses from file\n",
    "\n",
    "Develop logic to read the data from tab delimited file into list of tuples.\n",
    "* The file which you are supposed to use is **./data/courses/courses.csv** in the current folder.\n",
    "* It is a text file where lines are delimited by **new line** character.\n",
    "* Each line contain data for multiple attributes related to courses table. Each attribute value in each line is separated by **'\\t'** (tab) character.\n",
    "* The first line of the file is header, it means we have name of the attributes as part of the first line.\n",
    "* You need to develop a function which will return list of tuples with all the values from the file.\n",
    "\n",
    "**Hint: Using Pandas or csv will facilitate you to come up with the solution faster**"
   ]
  },
  {
   "cell_type": "code",
   "execution_count": null,
   "id": "ed1f74e1",
   "metadata": {},
   "outputs": [],
   "source": [
    "# Provide the solution here\n",
    "import pandas as pd\n",
    "\n",
    "def get_courses(path):\n",
    "    return courses"
   ]
  },
  {
   "cell_type": "code",
   "execution_count": null,
   "id": "59874298",
   "metadata": {},
   "outputs": [],
   "source": [
    "courses = get_courses('./data/courses/courses.csv')"
   ]
  },
  {
   "cell_type": "code",
   "execution_count": null,
   "id": "778f64c2",
   "metadata": {},
   "outputs": [],
   "source": [
    "type(courses) # should be list"
   ]
  },
  {
   "cell_type": "code",
   "execution_count": null,
   "id": "ab7599cc",
   "metadata": {},
   "outputs": [],
   "source": [
    "len(courses) # should be 12"
   ]
  },
  {
   "cell_type": "code",
   "execution_count": null,
   "id": "1e295f89",
   "metadata": {},
   "outputs": [],
   "source": [
    "courses[0] # Output: ('Programming using Python', 'Bob Dillon', 'published', '2020-09-30')"
   ]
  },
  {
   "cell_type": "code",
   "execution_count": null,
   "id": "2dca363e",
   "metadata": {},
   "outputs": [],
   "source": [
    "type(courses[0]) # tuple"
   ]
  },
  {
   "cell_type": "code",
   "execution_count": null,
   "id": "f46b37cb",
   "metadata": {},
   "outputs": [],
   "source": []
  }
 ],
 "metadata": {
  "kernelspec": {
   "display_name": "Python 3",
   "language": "python",
   "name": "python3"
  },
  "language_info": {
   "codemirror_mode": {
    "name": "ipython",
    "version": 3
   },
   "file_extension": ".py",
   "mimetype": "text/x-python",
   "name": "python",
   "nbconvert_exporter": "python",
   "pygments_lexer": "ipython3",
   "version": "3.6.12"
  }
 },
 "nbformat": 4,
 "nbformat_minor": 5
}
