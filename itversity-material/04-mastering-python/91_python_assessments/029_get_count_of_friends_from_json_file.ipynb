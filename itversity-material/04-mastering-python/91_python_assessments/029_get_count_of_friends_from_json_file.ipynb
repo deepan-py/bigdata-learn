{
 "cells": [
  {
   "cell_type": "markdown",
   "id": "c580170b",
   "metadata": {},
   "source": [
    "## Get count of friends from json file\n",
    "\n",
    "Develop the logic to get the count of friends for each user.\n",
    "* Data is in **./data/users/user_data.json**.\n",
    "* The exercise is to get the count of friends for each user using list of dicts.\n",
    "* Output should contain user_id and count and data should be descending order by count. If the count is same, then data should be further sorted in ascending order by user_id."
   ]
  },
  {
   "cell_type": "code",
   "execution_count": null,
   "id": "5b69f147",
   "metadata": {},
   "outputs": [],
   "source": [
    "!ls -ltr ./data/users/user_data.json"
   ]
  },
  {
   "cell_type": "code",
   "execution_count": null,
   "id": "6882506b",
   "metadata": {},
   "outputs": [],
   "source": [
    "!cat ./data/users/user_data.json"
   ]
  },
  {
   "cell_type": "markdown",
   "id": "dec683b9",
   "metadata": {},
   "source": [
    "* Using **file_path**, get the count by friends."
   ]
  },
  {
   "cell_type": "code",
   "execution_count": null,
   "id": "206b49d8",
   "metadata": {},
   "outputs": [],
   "source": [
    "# Your logic should go here\n",
    "\n",
    "def get_friend_count(file_path):\n",
    "\n",
    "    return friend_count"
   ]
  },
  {
   "cell_type": "markdown",
   "id": "6ded980f",
   "metadata": {},
   "source": [
    "* You can validate by running below cells. Here is the desired output.\n",
    "\n",
    "```python\n",
    "[{'user_id': 'CX3zVZCP6_TO9c-AHkDG0Q', 'friend_count': 5},\n",
    " {'user_id': 'dMtkqy7SpggEFAGFkCbyDQ', 'friend_count': 5},\n",
    " {'user_id': '7pIUGJ224G589mfGZaUJmg', 'friend_count': 4},\n",
    " {'user_id': 'RdGxKWUqrkqmnSEhzBgiig', 'friend_count': 4},\n",
    " {'user_id': '_6CTDWsw4Fdr6R9ZzKvLZQ', 'friend_count': 4},\n",
    " {'user_id': 'a7QBKnU1ygMoxFmJKoiR3g', 'friend_count': 4},\n",
    " {'user_id': 'KLgBbAHOWumaXjEQwUDpmA', 'friend_count': 3},\n",
    " {'user_id': 'vNx3FrO1zRkXTKGkypcDEA', 'friend_count': 3},\n",
    " {'user_id': 'PA2MNztWmRx9JBvbz9wd4A', 'friend_count': 1},\n",
    " {'user_id': 'V0b6qQt_mF21xg_--BFw5Q', 'friend_count': 1}]\n",
    "```"
   ]
  },
  {
   "cell_type": "code",
   "execution_count": null,
   "id": "0c13506f",
   "metadata": {},
   "outputs": [],
   "source": [
    "friend_count = get_friend_count('./data/users/user_data.json')"
   ]
  },
  {
   "cell_type": "code",
   "execution_count": null,
   "id": "33f2b623",
   "metadata": {},
   "outputs": [],
   "source": [
    "friend_count"
   ]
  },
  {
   "cell_type": "code",
   "execution_count": null,
   "id": "540e1e4e",
   "metadata": {},
   "outputs": [],
   "source": []
  }
 ],
 "metadata": {
  "kernelspec": {
   "display_name": "Python 3",
   "language": "python",
   "name": "python3"
  },
  "language_info": {
   "codemirror_mode": {
    "name": "ipython",
    "version": 3
   },
   "file_extension": ".py",
   "mimetype": "text/x-python",
   "name": "python",
   "nbconvert_exporter": "python",
   "pygments_lexer": "ipython3",
   "version": "3.6.12"
  }
 },
 "nbformat": 4,
 "nbformat_minor": 5
}
