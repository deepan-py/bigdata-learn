{
 "cells": [
  {
   "cell_type": "markdown",
   "id": "d63f7ce0",
   "metadata": {},
   "source": [
    "## Convert Players JSON to CSV List\n",
    "\n",
    "Develop a function which will convert the contents of a JSON file into list of CSV elements.\n",
    "* This exercise is primarily to test the abilities to read the data from file, process json using **json** module and also manipulate collections.\n",
    "* First understand how the data is structured.\n",
    "* Develop the function which takes the string as argument. We will pass the path of the json file with famous players to it.\n",
    "* Read the json data from **/data/sports/famous_players.json**\n",
    "* Sort the data by country and then by name.\n",
    "* The function should return the sorted list.\n",
    "* You should use **json** module to process data. Do not use **pandas** for this problem."
   ]
  },
  {
   "cell_type": "markdown",
   "id": "b28f746f",
   "metadata": {},
   "source": [
    "* Run this command to confirm whether file exists or not."
   ]
  },
  {
   "cell_type": "code",
   "execution_count": 2,
   "id": "e4980af1",
   "metadata": {},
   "outputs": [
    {
     "name": "stdout",
     "output_type": "stream",
     "text": [
      "-rw-r--r-- 1 root root 1226 Jun 21 05:55 /data/sports/famous_players.json\n"
     ]
    }
   ],
   "source": [
    "!ls -ltr /data/sports/famous_players.json"
   ]
  },
  {
   "cell_type": "markdown",
   "id": "924f1996",
   "metadata": {},
   "source": [
    "* Run this command to preview the data."
   ]
  },
  {
   "cell_type": "code",
   "execution_count": 3,
   "id": "512d9335",
   "metadata": {},
   "outputs": [
    {
     "name": "stdout",
     "output_type": "stream",
     "text": [
      "[\n",
      "    {\n",
      "        \"name\": \"Pete Sampras\",\n",
      "        \"country\": \"USA\",\n",
      "        \"sport\": \"Tennis\"\n",
      "    },\n",
      "    {\n",
      "        \"name\": \"Sachin Tendulkar\",\n",
      "        \"country\": \"India\",\n",
      "        \"sport\": \"Cricket\"\n",
      "    },\n",
      "    {\n",
      "        \"name\": \"Brian Lara\",\n",
      "        \"country\": \"West Indies\",\n",
      "        \"sport\": \"Cricket\"\n",
      "    },\n",
      "    {\n",
      "        \"name\": \"Diego Maradona\",\n",
      "        \"country\": \"Argentina\",\n",
      "        \"sport\": \"Soccer\"\n",
      "    },\n",
      "    {\n",
      "        \"name\": \"Roger Federer\",\n",
      "        \"country\": \"Switzerland\",\n",
      "        \"sport\": \"Tennis\"\n",
      "    },\n",
      "    {\n",
      "        \"name\": \"Ian Thorpe\",\n",
      "        \"country\": \"Australia\",\n",
      "        \"sport\": \"Swimming\"\n",
      "    },\n",
      "    {\n",
      "        \"name\": \"Ronaldo\",\n",
      "        \"country\": \"Brazil\",\n",
      "        \"sport\": \"Soccer\"\n",
      "    },\n",
      "    {\n",
      "        \"name\": \"Usain Bolt\",\n",
      "        \"country\": \"Jamaica\",\n",
      "        \"sport\": \"Running\"\n",
      "    },\n",
      "    {\n",
      "        \"name\": \"P. V. Sindhu\",\n",
      "        \"country\": \"India\",\n",
      "        \"sport\": \"Badminton\"\n",
      "    },\n",
      "    {\n",
      "        \"name\": \"Shane Warne\",\n",
      "        \"country\": \"Australia\",\n",
      "        \"sport\": \"Cricket\"\n",
      "    },\n",
      "    {\n",
      "        \"name\": \"David Beckham\",\n",
      "        \"country\": \"England\",\n",
      "        \"sport\": \"Cricket\"\n",
      "    },\n",
      "    {\n",
      "        \"name\": \"Michael Phelps\",\n",
      "        \"country\": \"USA\",\n",
      "        \"sport\": \"Swimming\"\n",
      "    }\n",
      "]\n"
     ]
    }
   ],
   "source": [
    "!cat /data/sports/famous_players.json"
   ]
  },
  {
   "cell_type": "markdown",
   "id": "d29a70aa",
   "metadata": {},
   "source": [
    "* Develop the function using the below cell."
   ]
  },
  {
   "cell_type": "code",
   "execution_count": null,
   "id": "09c0fa20",
   "metadata": {},
   "outputs": [],
   "source": [
    "# Your solution should go here\n",
    "import json\n",
    "def get_players_csv_list(file_path):\n",
    "    # Develop the logic here\n",
    "    return players_csv_list"
   ]
  },
  {
   "cell_type": "markdown",
   "id": "8f3d516e",
   "metadata": {},
   "source": [
    "* You can run the below cell to validate the function"
   ]
  },
  {
   "cell_type": "code",
   "execution_count": null,
   "id": "f33a1616",
   "metadata": {},
   "outputs": [],
   "source": [
    "for player in get_players_csv_list('/data/sports/famous_players.json'):\n",
    "    print(player)"
   ]
  },
  {
   "cell_type": "markdown",
   "id": "35fcec5a",
   "metadata": {},
   "source": [
    "* Here is the expected output.\n",
    "\n",
    "```\n",
    "Diego Maradona,Argentina,Soccer\n",
    "Ian Thorpe,Australia,Swimming\n",
    "Shane Warne,Australia,Cricket\n",
    "Ronaldo,Brazil,Soccer\n",
    "David Beckham,England,Cricket\n",
    "P. V. Sindhu,India,Badminton\n",
    "Sachin Tendulkar,India,Cricket\n",
    "Usain Bolt,Jamaica,Running\n",
    "Roger Federer,Switzerland,Tennis\n",
    "Michael Phelps,USA,Swimming\n",
    "Pete Sampras,USA,Tennis\n",
    "Brian Lara,West Indies,Cricket\n",
    "```"
   ]
  },
  {
   "cell_type": "code",
   "execution_count": null,
   "id": "60af944b",
   "metadata": {},
   "outputs": [],
   "source": []
  }
 ],
 "metadata": {
  "kernelspec": {
   "display_name": "Python 3",
   "language": "python",
   "name": "python3"
  },
  "language_info": {
   "codemirror_mode": {
    "name": "ipython",
    "version": 3
   },
   "file_extension": ".py",
   "mimetype": "text/x-python",
   "name": "python",
   "nbconvert_exporter": "python",
   "pygments_lexer": "ipython3",
   "version": "3.6.12"
  }
 },
 "nbformat": 4,
 "nbformat_minor": 5
}
