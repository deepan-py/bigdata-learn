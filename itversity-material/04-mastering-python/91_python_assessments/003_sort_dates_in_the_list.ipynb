{
 "cells": [
  {
   "cell_type": "markdown",
   "metadata": {},
   "source": [
    "## Sort Dates in the list\n",
    "\n",
    "Develop a program to sort the dates in the list. You should use appropriate sort function for the same. This is primarily to test the comfort level on sorting the data as well as manipulating dates.\n",
    "\n",
    "**Hint: Use datetime library to format the dates**\n",
    "* Here are the details for formatting date components such as year, month, day etc.\n",
    "  * `%b`: Returns the first three characters of the month name. For example, September will be considered as \"Sep\"\n",
    "  * `%m`: Returns the the month in two-digit format. In our example, Septermber will be considered as 09\n",
    "  * `%d`: Returns day of the month, from 1 to 31. In our example, 5th of the month will be considered as 05\n",
    "  * `%Y`: Returns the year in four-digit format.\n",
    "  * `%H`: Returns the hour, from 00 to 23.\n",
    "  * `%M`: Returns the minute, from 00 to 59.\n",
    "  * `%S`: Returns the second, from 00 to 59. \n",
    "* Here is the list of dates"
   ]
  },
  {
   "cell_type": "code",
   "execution_count": 2,
   "metadata": {},
   "outputs": [],
   "source": [
    "dates = [\n",
    "    '13-Nov-2020', '20-Jul-2020', '14-Nov-2020', '21-Apr-2021',\n",
    "    '03-May-2021', '01-Jan-2021', '26-Jan-2021', '15-Nov-2020',\n",
    "    '12-Mar-2021', '12-Nov-2020'\n",
    "]"
   ]
  },
  {
   "cell_type": "code",
   "execution_count": null,
   "metadata": {},
   "outputs": [],
   "source": [
    "# Your code should go here"
   ]
  },
  {
   "cell_type": "markdown",
   "metadata": {},
   "source": [
    "* Here is the desired output\n",
    "\n",
    "```python\n",
    "['20-Jul-2020',\n",
    " '12-Nov-2020',\n",
    " '13-Nov-2020',\n",
    " '14-Nov-2020',\n",
    " '15-Nov-2020',\n",
    " '01-Jan-2021',\n",
    " '26-Jan-2021',\n",
    " '12-Mar-2021',\n",
    " '21-Apr-2021',\n",
    " '03-May-2021']\n",
    " ```"
   ]
  },
  {
   "cell_type": "code",
   "execution_count": null,
   "metadata": {},
   "outputs": [],
   "source": []
  }
 ],
 "metadata": {
  "kernelspec": {
   "display_name": "Python 3",
   "language": "python",
   "name": "python3"
  },
  "language_info": {
   "codemirror_mode": {
    "name": "ipython",
    "version": 3
   },
   "file_extension": ".py",
   "mimetype": "text/x-python",
   "name": "python",
   "nbconvert_exporter": "python",
   "pygments_lexer": "ipython3",
   "version": "3.6.12"
  }
 },
 "nbformat": 4,
 "nbformat_minor": 4
}
