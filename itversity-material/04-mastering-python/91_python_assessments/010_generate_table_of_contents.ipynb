{
 "cells": [
  {
   "cell_type": "markdown",
   "metadata": {},
   "source": [
    "## Generate Table Of Contents\n",
    "\n",
    "Develop the code to go through a directory and its first level subfolders to create table of contents with sub folder names and files with in them.\n",
    "* This is primarily to test the ability to handle files and also assess the ability to deal with collections.\n",
    "* For a given base directory, you should iterate through all the first level subfolders and then files with extension **.ipynb**.\n",
    "* You can run this below cell to get an idea. "
   ]
  },
  {
   "cell_type": "code",
   "execution_count": null,
   "metadata": {},
   "outputs": [],
   "source": [
    "import getpass\n",
    "username = getpass.getuser()"
   ]
  },
  {
   "cell_type": "code",
   "execution_count": null,
   "metadata": {},
   "outputs": [],
   "source": [
    "path = f'/home/{username}/itversity-material/mastering-python'"
   ]
  },
  {
   "cell_type": "markdown",
   "metadata": {},
   "source": [
    "### Step 1: Check if path exists\n",
    "* Validate if path exists"
   ]
  },
  {
   "cell_type": "code",
   "execution_count": null,
   "metadata": {},
   "outputs": [],
   "source": [
    "# Code should go here"
   ]
  },
  {
   "cell_type": "markdown",
   "metadata": {},
   "source": [
    "### Step 2: Get all the notebook names\n",
    "\n",
    "Let us get absolute or fully qualified names of the notebooks.\n",
    "* Get all the names of the Python Notebooks in ascending order by the names.\n",
    "* Create a variable of type list with notebook names as strings in that list.\n",
    "* Name: **notebooks**"
   ]
  },
  {
   "cell_type": "code",
   "execution_count": null,
   "metadata": {},
   "outputs": [],
   "source": [
    "# Code should go here"
   ]
  },
  {
   "cell_type": "markdown",
   "metadata": {},
   "source": [
    "### Step 3: Get Folder and Notebook names\n",
    "\n",
    "We need to make sure that all the notebook names are used as topics while folder names are used as sections. A section can contain several topics.\n",
    "* Create list of tuples which contain first level of folder as first element and the notebook name as second element.\n",
    "* Use notebooks from the previous step and use map function to apply the transformation.\n",
    "* Assign the new list to a variable called as **sections_and_topics**\n",
    "* Make sure to discard the extension for the file.\n",
    "* Here is the sample output. It does not cover all the output.\n",
    "\n",
    "```python\n",
    "[('01_overview_of_windows_os', '01_overview_of_windows_os'),\n",
    " ('01_overview_of_windows_os', '02_getting_system_details'),\n",
    " ('01_overview_of_windows_os', '03_managing_windows_system'),\n",
    " ('01_overview_of_windows_os', '04_overview_of_microsoft_office'),\n",
    " ('01_overview_of_windows_os', '05_overview_of_editors_and_ides'),\n",
    " ('01_overview_of_windows_os', '06_power_shell_and_command_prompt'),\n",
    " ('01_overview_of_windows_os', '07_connecting_to_linux_servers'),\n",
    " ('01_overview_of_windows_os', '08_folders_and_files'),\n",
    " ('02_setup_ubuntu_vm_on_gcp', '01_setup_ubuntu_vm_on_gcp'),\n",
    " ('02_setup_ubuntu_vm_on_gcp', '02_signing_up_for_gcp'),\n",
    " ('02_setup_ubuntu_vm_on_gcp', '03_understanding_gcp_web_console'),\n",
    " ('02_setup_ubuntu_vm_on_gcp', '04_overview_of_gcp_pricing'),\n",
    " ('02_setup_ubuntu_vm_on_gcp', '05_provision_ubuntu_18'),\n",
    " ('02_setup_ubuntu_vm_on_gcp', '06_setup_docker'),\n",
    "```"
   ]
  },
  {
   "cell_type": "code",
   "execution_count": null,
   "metadata": {},
   "outputs": [],
   "source": [
    "# Code should go here"
   ]
  },
  {
   "cell_type": "markdown",
   "metadata": {},
   "source": [
    "### Step 4: Group notebooks by folder\n",
    "\n",
    "We can now group the notebook names by folder.\n",
    "* Create a new list of tuples using **sections_and_topics** created as part of the previous step.\n",
    "* Each tuple in the list should contain 2 elements.\n",
    "* First element should be the folder name and second element in the tuple should be the list of elements.\n",
    "* You can use `itertools`. It have a function to group the data by a given key.\n",
    "* The name of the variable should be **topics_grouped**"
   ]
  },
  {
   "cell_type": "code",
   "execution_count": null,
   "metadata": {},
   "outputs": [],
   "source": [
    "# Your code should go here"
   ]
  },
  {
   "cell_type": "code",
   "execution_count": null,
   "metadata": {},
   "outputs": [],
   "source": [
    "# You can use below code to validate whether data is grouped or not\n",
    "for k, v in topics_grouped:\n",
    "    print(f'{k} : {len(list(v))}')"
   ]
  },
  {
   "cell_type": "markdown",
   "metadata": {},
   "source": [
    "### Step 5: Generate Table of Contents\n",
    "\n",
    "Now let us use **topics_grouped** to generate table of contents.\n",
    "\n",
    "* Develop the code to print the table of contents.\n",
    "* Here is the sample structure. You can also review **_toc.yml** under **mastering-python** folder.\n",
    "* Make sure to format the data as you see in the example. Spend sometime in understanding how the data is. You can also open the file **_toc.yml** of this course.\n",
    "\n",
    "```\n",
    "- file: 01_overview_of_windows_os/01_overview_of_windows_os\n",
    "  sections:\n",
    "  - file: 01_overview_of_windows_os/02_getting_system_details\n",
    "  - file: 01_overview_of_windows_os/03_managing_windows_system\n",
    "  - file: 01_overview_of_windows_os/04_overview_of_microsoft_office\n",
    "  - file: 01_overview_of_windows_os/05_overview_of_editors_and_ides\n",
    "  - file: 01_overview_of_windows_os/06_power_shell_and_command_prompt\n",
    "  - file: 01_overview_of_windows_os/07_connecting_to_linux_servers\n",
    "  - file: 01_overview_of_windows_os/08_folders_and_files\n",
    "\n",
    "- file: 02_setup_ubuntu_vm_on_gcp/01_overview_of_gcp_and_provision_ubuntu_vm\n",
    "  sections:\n",
    "  - file: 02_setup_ubuntu_vm_on_gcp/02_signing_up_for_gcp\n",
    "  - file: 02_setup_ubuntu_vm_on_gcp/03_understanding_gcp_web_console\n",
    "  - file: 02_setup_ubuntu_vm_on_gcp/04_overview_of_gcp_pricing\n",
    "  - file: 02_setup_ubuntu_vm_on_gcp/05_provision_ubuntu_18\n",
    "  - file: 02_setup_ubuntu_vm_on_gcp/06_setup_docker\n",
    "  - file: 02_setup_ubuntu_vm_on_gcp/07_validating_python\n",
    "  - file: 02_setup_ubuntu_vm_on_gcp/08_setup_jupyter_lab\n",
    "```"
   ]
  },
  {
   "cell_type": "code",
   "execution_count": null,
   "metadata": {},
   "outputs": [],
   "source": [
    "# Your code should go here"
   ]
  }
 ],
 "metadata": {
  "kernelspec": {
   "display_name": "Python 3",
   "language": "python",
   "name": "python3"
  },
  "language_info": {
   "codemirror_mode": {
    "name": "ipython",
    "version": 3
   },
   "file_extension": ".py",
   "mimetype": "text/x-python",
   "name": "python",
   "nbconvert_exporter": "python",
   "pygments_lexer": "ipython3",
   "version": "3.6.12"
  }
 },
 "nbformat": 4,
 "nbformat_minor": 4
}
