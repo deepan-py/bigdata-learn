{
 "cells": [
  {
   "cell_type": "markdown",
   "id": "449b2858",
   "metadata": {},
   "source": [
    "## Generate List of Delimited Strings\n",
    "\n",
    "Develop a function which takes a list of lists or list of tuples or list of dicts or list of sets and return list of delimited strings.\n",
    "* This is primarily to ensure to assess the capabilities around string manipulation functions, the concepts of delimited strings and also ability to create reusable user defined functions by eliminating the redundancy of the code.\n",
    "* This will also assess the abilities to process data in collections.\n",
    "* Here are the details of the function.\n",
    "  * Function Name: **gen_delim_list**\n",
    "  * Arguments: **coll** and **delim**.\n",
    "  * The function should return a delimited string.\n",
    "  \n",
    "**Restriction: You are not supposed to use `pandas` or `csv` modules**"
   ]
  },
  {
   "cell_type": "markdown",
   "id": "c13555e8",
   "metadata": {},
   "source": [
    "### Step 1: Generate Delimited String\n",
    "\n",
    "Create a function by name `gen_delim_string`. This is supposed to be called from another function which will process the main list.\n",
    "* It takes 2 arguments, `ele` and `delim`.\n",
    "* Irrespective of type of `ele`, we are supposed to return delimited string."
   ]
  },
  {
   "cell_type": "code",
   "execution_count": null,
   "id": "420c2327",
   "metadata": {},
   "outputs": [],
   "source": [
    "def gen_delim_string(ele, delim):\n",
    "    return delim_string"
   ]
  },
  {
   "cell_type": "markdown",
   "id": "4df0edc9",
   "metadata": {},
   "source": [
    "* Here are the steps to validate. Pass list, set, tuple and dict as below and ensure it matches desired output."
   ]
  },
  {
   "cell_type": "code",
   "execution_count": null,
   "id": "1c7d6643",
   "metadata": {},
   "outputs": [],
   "source": [
    "order_list = [1, '2013-07-25 00:00:00.0', 11599, 'CLOSED']"
   ]
  },
  {
   "cell_type": "code",
   "execution_count": null,
   "id": "76e9810c",
   "metadata": {},
   "outputs": [],
   "source": [
    "gen_delim_string(order_list, ',') # Desired Output: '1,2013-07-25 00:00:00.0,11599,CLOSED'"
   ]
  },
  {
   "cell_type": "code",
   "execution_count": null,
   "id": "f227762b",
   "metadata": {},
   "outputs": [],
   "source": [
    "order_set = {1, '2013-07-25 00:00:00.0', 11599, 'CLOSED'}"
   ]
  },
  {
   "cell_type": "code",
   "execution_count": null,
   "id": "bd7d1c87",
   "metadata": {},
   "outputs": [],
   "source": [
    "gen_delim_string(order_set, '|') # Desired Output: '1,2013-07-25 00:00:00.0,11599,CLOSED'"
   ]
  },
  {
   "cell_type": "code",
   "execution_count": null,
   "id": "f7d5046e",
   "metadata": {},
   "outputs": [],
   "source": [
    "order_dict = {\n",
    "    'order_id': 1,\n",
    "    'order_date': '2013-07-25 00:00:00.0',\n",
    "    'order_customer_id': 11599,\n",
    "    'order_status': 'CLOSED'\n",
    "}"
   ]
  },
  {
   "cell_type": "code",
   "execution_count": null,
   "id": "1f86f211",
   "metadata": {},
   "outputs": [],
   "source": [
    "type(order_dict) == dict"
   ]
  },
  {
   "cell_type": "code",
   "execution_count": null,
   "id": "5dab2f1d",
   "metadata": {},
   "outputs": [],
   "source": [
    "gen_delim_string(order_dict, ';') # Desired Output: '1;2013-07-25 00:00:00.0;11599;CLOSED'"
   ]
  },
  {
   "cell_type": "code",
   "execution_count": null,
   "id": "b827a94a",
   "metadata": {},
   "outputs": [],
   "source": [
    "student_tuple = (1, 'Scott', 'Tiger', 'Python')"
   ]
  },
  {
   "cell_type": "code",
   "execution_count": null,
   "id": "ee171e0e",
   "metadata": {},
   "outputs": [],
   "source": [
    "gen_delim_string(student_tuple, ',') # Desired Output: '1,Scott,Tiger,Python'"
   ]
  },
  {
   "cell_type": "markdown",
   "id": "b77a306c",
   "metadata": {},
   "source": [
    "### Step 2: Generated Delimited List\n",
    "\n",
    "Develop a function, which takes list of collection and return list of delimited strings.\n",
    "* Here are the details of the function.\n",
    "  * Function Name: **gen_delim_list**\n",
    "  * Arguments: **coll** and **delim**.\n",
    "  * The function should return a delimited string.\n",
    "* Make sure to call `gen_delim_string` while processing each element. You need to use `map` function to apply required transformation."
   ]
  },
  {
   "cell_type": "code",
   "execution_count": null,
   "id": "d4986b0b",
   "metadata": {},
   "outputs": [],
   "source": [
    "def gen_delim_list(coll, delim):\n",
    "    return delim_list"
   ]
  },
  {
   "cell_type": "markdown",
   "id": "7f14ae24",
   "metadata": {},
   "source": [
    "* Run below cells to validate with list of lists. The output should be as below.\n",
    "\n",
    "```python\n",
    "['1,2013-07-25 00:00:00.0,11599,CLOSED',\n",
    " '2,2013-07-25 00:00:00.0,256,PENDING_PAYMENT',\n",
    " '3,2013-07-25 00:00:00.0,12111,COMPLETE',\n",
    " '4,2013-07-25 00:00:00.0,8827,CLOSED',\n",
    " '5,2013-07-25 00:00:00.0,11318,COMPLETE']\n",
    "```"
   ]
  },
  {
   "cell_type": "code",
   "execution_count": null,
   "id": "a084f1b6",
   "metadata": {},
   "outputs": [],
   "source": [
    "orders = [[1, '2013-07-25 00:00:00.0', 11599, 'CLOSED'],\n",
    " [2, '2013-07-25 00:00:00.0', 256, 'PENDING_PAYMENT'],\n",
    " [3, '2013-07-25 00:00:00.0', 12111, 'COMPLETE'],\n",
    " [4, '2013-07-25 00:00:00.0', 8827, 'CLOSED'],\n",
    " [5, '2013-07-25 00:00:00.0', 11318, 'COMPLETE']]"
   ]
  },
  {
   "cell_type": "code",
   "execution_count": null,
   "id": "d5fc3d70",
   "metadata": {},
   "outputs": [],
   "source": [
    "list(gen_delim_list(orders, ','))"
   ]
  },
  {
   "cell_type": "markdown",
   "id": "9660c2d6",
   "metadata": {},
   "source": [
    "* Run below cells to validate with list of dicts. The output should be as below.\n",
    "\n",
    "```python\n",
    "['1|2013-07-25 00:00:00.0|11599|CLOSED',\n",
    " '2|2013-07-25 00:00:00.0|256|PENDING_PAYMENT',\n",
    " '3|2013-07-25 00:00:00.0|12111|COMPLETE',\n",
    " '4|2013-07-25 00:00:00.0|8827|CLOSED',\n",
    " '5|2013-07-25 00:00:00.0|11318|COMPLETE']\n",
    "```"
   ]
  },
  {
   "cell_type": "code",
   "execution_count": null,
   "id": "2f88f235",
   "metadata": {},
   "outputs": [],
   "source": [
    "orders = [{'order_id': 1,\n",
    "  'order_date': '2013-07-25 00:00:00.0',\n",
    "  'order_customer_id': 11599,\n",
    "  'order_status': 'CLOSED'},\n",
    " {'order_id': 2,\n",
    "  'order_date': '2013-07-25 00:00:00.0',\n",
    "  'order_customer_id': 256,\n",
    "  'order_status': 'PENDING_PAYMENT'},\n",
    " {'order_id': 3,\n",
    "  'order_date': '2013-07-25 00:00:00.0',\n",
    "  'order_customer_id': 12111,\n",
    "  'order_status': 'COMPLETE'},\n",
    " {'order_id': 4,\n",
    "  'order_date': '2013-07-25 00:00:00.0',\n",
    "  'order_customer_id': 8827,\n",
    "  'order_status': 'CLOSED'},\n",
    " {'order_id': 5,\n",
    "  'order_date': '2013-07-25 00:00:00.0',\n",
    "  'order_customer_id': 11318,\n",
    "  'order_status': 'COMPLETE'}]"
   ]
  },
  {
   "cell_type": "code",
   "execution_count": null,
   "id": "d1f1776e",
   "metadata": {},
   "outputs": [],
   "source": [
    "list(gen_delim_list(orders, '|'))"
   ]
  },
  {
   "cell_type": "code",
   "execution_count": null,
   "id": "ba5296cc",
   "metadata": {},
   "outputs": [],
   "source": []
  }
 ],
 "metadata": {
  "kernelspec": {
   "display_name": "Python 3",
   "language": "python",
   "name": "python3"
  },
  "language_info": {
   "codemirror_mode": {
    "name": "ipython",
    "version": 3
   },
   "file_extension": ".py",
   "mimetype": "text/x-python",
   "name": "python",
   "nbconvert_exporter": "python",
   "pygments_lexer": "ipython3",
   "version": "3.6.12"
  }
 },
 "nbformat": 4,
 "nbformat_minor": 5
}
