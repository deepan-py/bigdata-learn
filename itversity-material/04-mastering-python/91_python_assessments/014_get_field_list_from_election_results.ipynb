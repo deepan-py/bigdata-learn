{
 "cells": [
  {
   "cell_type": "markdown",
   "id": "7b8f5a88",
   "metadata": {},
   "source": [
    "## Get field list from election results\n",
    "\n",
    "Develop a function to get the list of fields from tab delimited data.\n",
    "* This is primarily to assess the ability to read the delimited data and get metadata from it.\n",
    "* Use file I/O and collection libraries for this exercise.\n",
    "* Read the data from `/data/electionresults/ls2014.tsv`.\n",
    "* The first line in the file have the attribute names.\n",
    "* You need to read first line and then convert it to list of field names."
   ]
  },
  {
   "cell_type": "code",
   "execution_count": null,
   "id": "27e3fc36",
   "metadata": {},
   "outputs": [],
   "source": [
    "# Your code should go here\n",
    "\n",
    "def get_field_names(file_name):\n",
    "    # logic should go here\n",
    "    return field_list"
   ]
  },
  {
   "cell_type": "code",
   "execution_count": null,
   "id": "2a111e94",
   "metadata": {},
   "outputs": [],
   "source": [
    "get_field_names('/data/electionresults/ls2014.tsv')"
   ]
  },
  {
   "cell_type": "markdown",
   "id": "4d57154f",
   "metadata": {},
   "source": [
    "* Here is the expected output.\n",
    "\n",
    "```python\n",
    "['state',\n",
    " 'constituency',\n",
    " 'candidate_name',\n",
    " 'sex',\n",
    " 'age',\n",
    " 'category',\n",
    " 'partyname',\n",
    " 'partysymbol',\n",
    " 'general',\n",
    " 'postal',\n",
    " 'total',\n",
    " 'pct_of_total_votes',\n",
    " 'pct_of_polled_votes',\n",
    " 'totalvoters']\n",
    "```"
   ]
  },
  {
   "cell_type": "code",
   "execution_count": null,
   "id": "c3189b22",
   "metadata": {},
   "outputs": [],
   "source": []
  }
 ],
 "metadata": {
  "kernelspec": {
   "display_name": "Python 3",
   "language": "python",
   "name": "python3"
  },
  "language_info": {
   "codemirror_mode": {
    "name": "ipython",
    "version": 3
   },
   "file_extension": ".py",
   "mimetype": "text/x-python",
   "name": "python",
   "nbconvert_exporter": "python",
   "pygments_lexer": "ipython3",
   "version": "3.6.12"
  }
 },
 "nbformat": 4,
 "nbformat_minor": 5
}
