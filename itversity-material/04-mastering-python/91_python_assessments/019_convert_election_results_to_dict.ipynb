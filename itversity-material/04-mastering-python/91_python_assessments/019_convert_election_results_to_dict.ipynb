{
 "cells": [
  {
   "cell_type": "markdown",
   "id": "2ae683bd-5cd8-46b1-a527-b825474b0cee",
   "metadata": {},
   "source": [
    "## Convert election results to dict\n",
    "\n",
    "Develop a function to convert election results to dict.\n",
    "* This is primarily to assess the ability to read the delimited data and convert into different format.\n",
    "* This is helpful in reading CSV data, convert to dict and then write to databases such as MongoDB.\n",
    "* Use file I/O and collection libraries for this exercise. Don't use Pandas for this.\n",
    "* Read the data from `/data/electionresults/ls2014.tsv`.\n",
    "* The first line in the file have the attribute names.\n",
    "* You need to read first line and then convert it to list of field names.\n",
    "* For each row build the dict using the field names from the first row and data from respective row. The fields names should be used as keys in each of the dict.\n",
    "* Finally we should get list of dicts. The number of records in the list should be same as **number of records in the file - 1**."
   ]
  },
  {
   "cell_type": "markdown",
   "id": "6f486807-b24d-4c13-9ff7-5fc2e1530464",
   "metadata": {},
   "source": [
    "* Confirm whether file exists."
   ]
  },
  {
   "cell_type": "code",
   "execution_count": null,
   "id": "eabd9e51-cf5a-46d0-a5b4-baa35670b92f",
   "metadata": {},
   "outputs": [],
   "source": [
    "!ls -ltr /data/electionresults/ls2014.tsv"
   ]
  },
  {
   "cell_type": "markdown",
   "id": "27292bdc-7b2c-44bc-a694-19dd6c57a17e",
   "metadata": {},
   "source": [
    "* Get first five lines of the file to understand how the data look like. You can understand details about field names."
   ]
  },
  {
   "cell_type": "code",
   "execution_count": null,
   "id": "e882b21b-db66-4913-a69e-c58b8e145f76",
   "metadata": {},
   "outputs": [],
   "source": [
    "!head -5 /data/electionresults/ls2014.tsv"
   ]
  },
  {
   "cell_type": "markdown",
   "id": "ad8c3247-2e04-4c9f-8f98-90bd34895e0c",
   "metadata": {},
   "source": [
    "* Get the number of records from the file. It will be useful for us to validate the number of elements in list of dicts."
   ]
  },
  {
   "cell_type": "code",
   "execution_count": null,
   "id": "11db1408-ec95-4f26-a8c5-84c5f868e920",
   "metadata": {},
   "outputs": [],
   "source": [
    "!wc -l /data/electionresults/ls2014.tsv"
   ]
  },
  {
   "cell_type": "code",
   "execution_count": null,
   "id": "59e4d730-29c2-4350-9564-99c9bbff0448",
   "metadata": {},
   "outputs": [],
   "source": [
    "# Your code should go here\n",
    "\n",
    "def get_list_elec_results_dicts(file_name):\n",
    "    # logic should go here\n",
    "    return list_elec_results_dicts"
   ]
  },
  {
   "cell_type": "code",
   "execution_count": null,
   "id": "ed08b2e1-4a15-4f2f-8b88-862fc09681db",
   "metadata": {},
   "outputs": [],
   "source": [
    "list_elec_results_dicts = get_list_elec_results_dicts('/data/electionresults/ls2014.tsv')"
   ]
  },
  {
   "cell_type": "markdown",
   "id": "e6b54c5d-a831-4d97-b473-b2778857a66d",
   "metadata": {},
   "source": [
    "* Validation - Get the count of the list. It should be 8355"
   ]
  },
  {
   "cell_type": "code",
   "execution_count": null,
   "id": "981e074c-1733-41fc-a439-e3f20ee9df6d",
   "metadata": {},
   "outputs": [],
   "source": [
    "len(list_elec_results_dicts)"
   ]
  },
  {
   "cell_type": "markdown",
   "id": "d5bd8770-9fb3-46db-856a-87a88ca39eb5",
   "metadata": {},
   "source": [
    "* Validation - Get first 2 records. Here is the sample output.\n",
    "\n",
    "```python\n",
    "[{'state': 'Andhra Pradesh',\n",
    "  'constituency': 'Adilabad ',\n",
    "  'candidate_name': 'GODAM NAGESH',\n",
    "  'sex': 'M',\n",
    "  'age': '49',\n",
    "  'category': 'ST',\n",
    "  'partyname': 'TRS',\n",
    "  'partysymbol': 'Car',\n",
    "  'general': '425762',\n",
    "  'postal': '5085',\n",
    "  'total': '430847',\n",
    "  'pct_of_total_votes': '31.07931864',\n",
    "  'pct_of_polled_votes': '40.81807244',\n",
    "  'totalvoters': '1386282'},\n",
    " {'state': 'Andhra Pradesh',\n",
    "  'constituency': 'Adilabad ',\n",
    "  'candidate_name': 'NARESH',\n",
    "  'sex': 'M',\n",
    "  'age': '37',\n",
    "  'category': 'ST',\n",
    "  'partyname': 'INC',\n",
    "  'partysymbol': 'Hand',\n",
    "  'general': '257994',\n",
    "  'postal': '1563',\n",
    "  'total': '259557',\n",
    "  'pct_of_total_votes': '18.72324679',\n",
    "  'pct_of_polled_votes': '24.59020587',\n",
    "  'totalvoters': '1386282'}]\n",
    "```"
   ]
  },
  {
   "cell_type": "code",
   "execution_count": null,
   "id": "aad2ebe5-0fa0-473f-9837-c66931f82c94",
   "metadata": {},
   "outputs": [],
   "source": [
    "list_elec_results_dicts[:2]"
   ]
  }
 ],
 "metadata": {
  "kernelspec": {
   "display_name": "Python 3",
   "language": "python",
   "name": "python3"
  },
  "language_info": {
   "codemirror_mode": {
    "name": "ipython",
    "version": 3
   },
   "file_extension": ".py",
   "mimetype": "text/x-python",
   "name": "python",
   "nbconvert_exporter": "python",
   "pygments_lexer": "ipython3",
   "version": "3.7.10"
  }
 },
 "nbformat": 4,
 "nbformat_minor": 5
}
