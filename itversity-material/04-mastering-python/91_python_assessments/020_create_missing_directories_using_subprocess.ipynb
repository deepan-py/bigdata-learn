{
 "cells": [
  {
   "cell_type": "markdown",
   "id": "45909fb0-9829-4495-965b-962cb2071fae",
   "metadata": {},
   "source": [
    "## Create Missing Directories using subprocess\n",
    "\n",
    "Develop a function create missing directory structure. This is primarily to assess the understanding of running system commands using Python **subprocess** module.\n",
    "* Here are the details about the data being sent.\n",
    "  * The source system will send activity data on regular basis.\n",
    "  * As we get the data, we need to see if the folders are created or not based on year, month and day.\n",
    "  * If the folder structure does not exists, it should be created.\n",
    "* Use your home directory as base folder.\n",
    "* Here is the base location: `/home/${USER}/output/activity/`\n",
    "* The function should take year, month and day as arguments and then create directory structure `/home/${USER}/output/activity/year=yyyy/month=MM/day=dd`.\n",
    "  * `yyyy` - 4 digit year\n",
    "  * `MM` - 2 digit month\n",
    "  * `dd` - 2 digit day\n",
    "* If the directory structure already exists, you can just ignore."
   ]
  },
  {
   "cell_type": "code",
   "execution_count": null,
   "id": "956dadaf-8e1e-4b0f-9e0b-bc0b6ff63e77",
   "metadata": {},
   "outputs": [],
   "source": [
    "# Your code should go here\n",
    "import subprocess\n",
    "def create_activity_dirs_subprocess(base_dir, year, month, day):\n",
    "    # Code to create directories should go here\n",
    "    return"
   ]
  },
  {
   "cell_type": "markdown",
   "id": "ddec4545-246c-4fcc-9976-7867687f754b",
   "metadata": {},
   "source": [
    "* Run below cells to validate. Year, month and day should be passed as integers."
   ]
  },
  {
   "cell_type": "code",
   "execution_count": null,
   "id": "400e5a66-a658-4f93-a1ea-988dc566c6c8",
   "metadata": {},
   "outputs": [],
   "source": [
    "import getpass\n",
    "username = getpass.getuser()\n",
    "base_dir = f'/home/{username}/output/activity'"
   ]
  },
  {
   "cell_type": "code",
   "execution_count": null,
   "id": "2bba78e8-715b-4c4e-8aee-93568883bdb2",
   "metadata": {},
   "outputs": [],
   "source": [
    "create_activity_dirs_subprocess(base_dir, 2021, 4, 15)"
   ]
  },
  {
   "cell_type": "code",
   "execution_count": null,
   "id": "fa7ea58a-1829-4d2c-8d53-8dfe32d47131",
   "metadata": {},
   "outputs": [],
   "source": [
    "!find /home/${USER}/output/activity"
   ]
  },
  {
   "cell_type": "markdown",
   "id": "901f8dc3-21ee-46d9-ba46-b7c08799bdb4",
   "metadata": {},
   "source": [
    "* Here is the expected output.\n",
    "```shell\n",
    "/home/itversity/output/activity/year=2021\n",
    "/home/itversity/output/activity/year=2021/month=04\n",
    "/home/itversity/output/activity/year=2021/month=04/day=15\n",
    "```"
   ]
  },
  {
   "cell_type": "code",
   "execution_count": null,
   "id": "72dd9f4c-00ed-4fb6-8bff-bdc327dbf4fc",
   "metadata": {},
   "outputs": [],
   "source": []
  }
 ],
 "metadata": {
  "kernelspec": {
   "display_name": "Python 3",
   "language": "python",
   "name": "python3"
  },
  "language_info": {
   "codemirror_mode": {
    "name": "ipython",
    "version": 3
   },
   "file_extension": ".py",
   "mimetype": "text/x-python",
   "name": "python",
   "nbconvert_exporter": "python",
   "pygments_lexer": "ipython3",
   "version": "3.7.10"
  }
 },
 "nbformat": 4,
 "nbformat_minor": 5
}
