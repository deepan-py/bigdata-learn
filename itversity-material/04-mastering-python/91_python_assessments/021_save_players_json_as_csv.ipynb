{
 "cells": [
  {
   "cell_type": "markdown",
   "id": "51fa14fe-35e1-4540-ad88-e8a4bff4ca3d",
   "metadata": {},
   "source": [
    "## Save Players JSON as CSV\n",
    "\n",
    "Develop a function which will convert the contents of a JSON file into CSV.\n",
    "* This exercise is primarily to test the abilities to perform I/O, process json module and also to sort using **Pandas**.\n",
    "* First understand how the data is structured.\n",
    "* Read the json data from **/data/sports/famous_players.json**\n",
    "* Sort the data by country and then by name.\n",
    "* Save the output to a csv file (a text file with comma as delimiter).\n",
    "* Output should be saved to **/home/${USER}/output/sports/famous_players.csv**\n",
    "* Develop a function which reads the data from the path passed and write the output to the path passed.\n",
    "  * Check if the input directory exists. If the file does not exists, print **{input_file} does not exists, check the path of the file passed**\n",
    "  * Check if the target file already exists. If the file already exists, you should display a message saying **{output_file} already exists, do you want to replace (y/N): **.\n",
    "    * Make sure **{output_file}** in the message is replaced by the path.\n",
    "    * If you input **y** or **Y**, then target file should be replaced.\n",
    "    * If you input nothing or n or N, it should ignore.\n",
    "    * If you input some other character, you should print the message saying **Invalid input {input_character}**. Display the actual input value in place of **{input_character}**.\n",
    "    * If the target file does not exists, check for directory and create if it does not exists. Once the directory is created, then create csv file in that directory.\n",
    "  * Read JSON Data.\n",
    "  * Sort by country and then by name.\n",
    "  * Write sorted data in the form of CSV with header. The data should contain all the 3 attributes. Header should be generated based up on the names in the input data."
   ]
  },
  {
   "cell_type": "markdown",
   "id": "da05bf3d-fd37-4ecf-92a5-7ee20c3874aa",
   "metadata": {},
   "source": [
    "* Run this command to confirm whether file exists or not."
   ]
  },
  {
   "cell_type": "code",
   "execution_count": null,
   "id": "e12b874f-ff95-4ca7-95a1-1090b64c18a9",
   "metadata": {},
   "outputs": [],
   "source": [
    "!ls -ltr /data/sports/famous_players.json"
   ]
  },
  {
   "cell_type": "markdown",
   "id": "2f3d22d3-4544-499b-aeed-906bb07eb2b7",
   "metadata": {},
   "source": [
    "* Run this command to preview the data."
   ]
  },
  {
   "cell_type": "code",
   "execution_count": null,
   "id": "d0be4295-d480-4c63-ac55-b5dc92852385",
   "metadata": {},
   "outputs": [],
   "source": [
    "!cat /data/sports/famous_players.json"
   ]
  },
  {
   "cell_type": "markdown",
   "id": "b2e3b98a-548d-479e-9224-bf8dcc68c0ef",
   "metadata": {},
   "source": [
    "* Develop the function using the below cell."
   ]
  },
  {
   "cell_type": "code",
   "execution_count": 1,
   "id": "29b95fd2-6e2a-4999-86a8-a975dcd2f4d8",
   "metadata": {},
   "outputs": [],
   "source": [
    "# Your solution should go here\n",
    "import pandas as pd, os\n",
    "def save_players_as_csv(input_file_path, output_file_path):\n",
    "    return"
   ]
  },
  {
   "cell_type": "markdown",
   "id": "3fc47f3c-9963-436e-a2a8-8f5dda9e795b",
   "metadata": {},
   "source": [
    "* Test Case 1: Validating Input Path\n",
    "* Generate input and output paths and invoke the function."
   ]
  },
  {
   "cell_type": "code",
   "execution_count": null,
   "id": "8a7b8f67-92df-4e6b-91b9-d027bf009e3a",
   "metadata": {},
   "outputs": [],
   "source": [
    "import getpass\n",
    "username = getpass.getuser()\n",
    "input_file_path = f'/home/{username}/data/json/famous_players.csv' # Make sure this path does not exists\n",
    "output_file_path = f'/home/{username}/output/sports/famous_players.csv'"
   ]
  },
  {
   "cell_type": "code",
   "execution_count": null,
   "id": "bd5f80a8-4165-43c6-81e9-b80035e7d740",
   "metadata": {},
   "outputs": [],
   "source": [
    "save_players_as_csv(input_file_path, output_file_path)"
   ]
  },
  {
   "cell_type": "markdown",
   "id": "2c35befb-e90b-4728-8dc1-acaf09f686b1",
   "metadata": {},
   "source": [
    "* Test Case 1: Expected output\n",
    "\n",
    "```\n",
    "/home/itversity/data/json/famous_players.csv does not exists, check the path of the file passed\n",
    "```"
   ]
  },
  {
   "cell_type": "markdown",
   "id": "533fbf95-bbcd-4ed5-abaf-42400b9d770f",
   "metadata": {},
   "source": [
    "* Test Case 2: Writing the output to CSV\n",
    "* Below cell will take care of deleting the output file if exists."
   ]
  },
  {
   "cell_type": "code",
   "execution_count": null,
   "id": "b8cb09c0-0fb2-4dd3-8421-c2dbe7c0a209",
   "metadata": {},
   "outputs": [],
   "source": [
    "!rm /home/${USER}/output/sports/famous_players.csv"
   ]
  },
  {
   "cell_type": "code",
   "execution_count": null,
   "id": "440910e6-84e1-46eb-8d5a-b3f13f9c312a",
   "metadata": {},
   "outputs": [],
   "source": [
    "!ls /data/sports/famous_players.json"
   ]
  },
  {
   "cell_type": "code",
   "execution_count": null,
   "id": "c57d7196-4b2e-4c37-9823-a789c146bb49",
   "metadata": {},
   "outputs": [],
   "source": [
    "import getpass\n",
    "username = getpass.getuser()\n",
    "input_file_path = f'/data/sports/famous_players.json' # Make sure to pass correct input path\n",
    "output_file_path = f'/home/{username}/output/sports/famous_players.csv'"
   ]
  },
  {
   "cell_type": "code",
   "execution_count": null,
   "id": "fb5aaf66-663c-40d3-a233-cd55d74512a9",
   "metadata": {},
   "outputs": [],
   "source": [
    "save_players_as_csv(input_file_path, output_file_path)"
   ]
  },
  {
   "cell_type": "code",
   "execution_count": null,
   "id": "2d6ddcec-59ff-4936-8e11-35b2cc930520",
   "metadata": {},
   "outputs": [],
   "source": [
    "!ls -ltr /home/${USER}/output/sports/famous_players.csv"
   ]
  },
  {
   "cell_type": "code",
   "execution_count": null,
   "id": "e89b192b-3aa8-4d6a-b10e-97b482e8a472",
   "metadata": {},
   "outputs": [],
   "source": [
    "!cat /home/${USER}/output/sports/famous_players.csv"
   ]
  },
  {
   "cell_type": "markdown",
   "id": "d13dbadf-69aa-4d8b-b50d-031246522c2b",
   "metadata": {},
   "source": [
    "* Test Case 2: Expected Output\n",
    "```\n",
    "country,name,sport\n",
    "Argentina,Diego Maradona,Soccer\n",
    "Australia,Ian Thorpe,Swimming\n",
    "Australia,Shane Warne,Cricket\n",
    "Brazil,Ronaldo,Soccer\n",
    "England,David Beckham,Cricket\n",
    "India,P. V. Sindhu,Badminton\n",
    "India,Sachin Tendulkar,Cricket\n",
    "Jamaica,Usain Bolt,Running\n",
    "Switzerland,Roger Federer,Tennis\n",
    "USA,Michael Phelps,Swimming\n",
    "USA,Pete Sampras,Tennis\n",
    "West Indies,Brian Lara,Cricket\n",
    "```"
   ]
  },
  {
   "cell_type": "markdown",
   "id": "d96249ce-d27e-4b3c-9aed-d8376132b2d4",
   "metadata": {},
   "source": [
    "* Here are the additional test case scenarios. You can check the timestamp on the file to see if the files are replaced or not.\n",
    "  * Test Case 3: Run the function when target file exists with **y** or **Y**. See if the file is replaced.\n",
    "  * Test Case 4: Run the function when target file exists with **n** or **N**. See if the file is not replaced.\n",
    "  * Test Case 5: Run the function when target file exists with some other character than n or N or y or Y - for example yes. You should see the message about invalid input."
   ]
  },
  {
   "cell_type": "code",
   "execution_count": null,
   "id": "194461d2-5147-46a4-8960-f4d736071e6b",
   "metadata": {},
   "outputs": [],
   "source": []
  }
 ],
 "metadata": {
  "kernelspec": {
   "display_name": "Python 3",
   "language": "python",
   "name": "python3"
  },
  "language_info": {
   "codemirror_mode": {
    "name": "ipython",
    "version": 3
   },
   "file_extension": ".py",
   "mimetype": "text/x-python",
   "name": "python",
   "nbconvert_exporter": "python",
   "pygments_lexer": "ipython3",
   "version": "3.7.10"
  }
 },
 "nbformat": 4,
 "nbformat_minor": 5
}
