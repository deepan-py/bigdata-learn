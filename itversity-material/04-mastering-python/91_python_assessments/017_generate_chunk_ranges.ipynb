{
 "cells": [
  {
   "cell_type": "markdown",
   "id": "962bdee4",
   "metadata": {},
   "source": [
    "## Generate Chunk Ranges\n",
    "\n",
    "Develop a function to generate chunk ranges from a list. This is primarily to assess the understanding of using functions on top of list effectively.\n",
    "* Quite often, we might get a list of dicts or objects which have to be written into the database in batches.\n",
    "* For example, we might have read data from file into list and the list might have 10,000 records. However we might want to write 200 records at a time in batch and commit.\n",
    "* The function should take a list as an argument and it should return the chunk ranges as list based upon the chunk size."
   ]
  },
  {
   "cell_type": "code",
   "execution_count": null,
   "id": "7de95a96",
   "metadata": {},
   "outputs": [],
   "source": [
    "# Your code should go here\n",
    "\n",
    "def get_chunk_ranges(data_list, chunk_size=4):\n",
    "    return chunk_ranges"
   ]
  },
  {
   "cell_type": "markdown",
   "id": "cda673da",
   "metadata": {},
   "source": [
    "* You can validate by using below cell.\n",
    "* Here is the expected output.\n",
    "```python\n",
    "[(0, 4), (4, 8), (8, 9)]\n",
    "```"
   ]
  },
  {
   "cell_type": "code",
   "execution_count": null,
   "id": "ab1ac816",
   "metadata": {},
   "outputs": [],
   "source": [
    "get_chunk_ranges([1, 2, 3, 4, 5, 6, 7, 8, 9])"
   ]
  },
  {
   "cell_type": "code",
   "execution_count": null,
   "id": "f1bf1998",
   "metadata": {},
   "outputs": [],
   "source": []
  }
 ],
 "metadata": {
  "kernelspec": {
   "display_name": "Python 3",
   "language": "python",
   "name": "python3"
  },
  "language_info": {
   "codemirror_mode": {
    "name": "ipython",
    "version": 3
   },
   "file_extension": ".py",
   "mimetype": "text/x-python",
   "name": "python",
   "nbconvert_exporter": "python",
   "pygments_lexer": "ipython3",
   "version": "3.6.12"
  }
 },
 "nbformat": 4,
 "nbformat_minor": 5
}
