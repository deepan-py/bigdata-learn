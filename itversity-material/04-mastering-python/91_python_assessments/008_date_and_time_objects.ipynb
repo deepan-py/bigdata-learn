{
 "cells": [
  {
   "cell_type": "markdown",
   "metadata": {},
   "source": [
    "## Date and Time Objects\n",
    "\n",
    "As part of this exercise, perform multiple tasks to create date and time objects.\n",
    "* It is primarily to test the ability to convert date values in  different data types to dates and vice versa.\n",
    "\n",
    "**Hint: Use datetime library to format the dates**\n",
    "* Here are the details for formatting date components such as year, month, day etc.\n",
    "  * `%b`: Returns the first three characters of the month name. For example, September will be considered as \"Sep\"\n",
    "  * `%m`: Returns the the month in two-digit format. In our example, Septermber will be considered as 09\n",
    "  * `%d`: Returns day of the month, from 1 to 31. In our example, 5th of the month will be considered as 05\n",
    "  * `%Y`: Returns the year in four-digit format.\n",
    "  * `%H`: Returns the hour, from 00 to 23.\n",
    "  * `%M`: Returns the minute, from 00 to 59.\n",
    "  * `%S`: Returns the second, from 00 to 59. \n",
    "* Feel free to use google to use for other formats."
   ]
  },
  {
   "cell_type": "markdown",
   "metadata": {},
   "source": [
    "* Get today's date using **yyyy-MM-dd** format (2021-05-24)"
   ]
  },
  {
   "cell_type": "code",
   "execution_count": 14,
   "metadata": {},
   "outputs": [],
   "source": [
    "# Your code snippet should go here"
   ]
  },
  {
   "cell_type": "markdown",
   "metadata": {},
   "source": [
    "* Convert the below integer into date object."
   ]
  },
  {
   "cell_type": "code",
   "execution_count": 13,
   "metadata": {},
   "outputs": [],
   "source": [
    "dt_int = 20210524"
   ]
  },
  {
   "cell_type": "code",
   "execution_count": 21,
   "metadata": {},
   "outputs": [
    {
     "name": "stdout",
     "output_type": "stream",
     "text": [
      "2021-05-24 00:00:00\n"
     ]
    }
   ],
   "source": [
    "# Your code snippet should go here\n",
    "print(datetime.strptime(str(dt_int), '%Y%m%d'))"
   ]
  },
  {
   "cell_type": "markdown",
   "metadata": {},
   "source": [
    "* Convert date and time to a string to this format **yyyy-MM-dd HH24:mm:ss**\n",
    "  * yyyy - 4 digit year\n",
    "  * MM - 2 digit month\n",
    "  * dd - 2 digit day\n",
    "  * HH24 - 2 digit 24 hour format\n",
    "  * mm - 2 digit minute\n",
    "  * ss - 2 digit second\n",
    "* Expected output - **2021-01-01 23:50:55**"
   ]
  },
  {
   "cell_type": "code",
   "execution_count": 15,
   "metadata": {},
   "outputs": [],
   "source": [
    "import datetime"
   ]
  },
  {
   "cell_type": "code",
   "execution_count": 16,
   "metadata": {},
   "outputs": [],
   "source": [
    "from datetime import datetime"
   ]
  },
  {
   "cell_type": "code",
   "execution_count": 18,
   "metadata": {},
   "outputs": [],
   "source": [
    "dt = datetime(2021, 1, 1, 23, 50, 55)"
   ]
  },
  {
   "cell_type": "code",
   "execution_count": null,
   "metadata": {},
   "outputs": [],
   "source": []
  }
 ],
 "metadata": {
  "kernelspec": {
   "display_name": "Python 3",
   "language": "python",
   "name": "python3"
  },
  "language_info": {
   "codemirror_mode": {
    "name": "ipython",
    "version": 3
   },
   "file_extension": ".py",
   "mimetype": "text/x-python",
   "name": "python",
   "nbconvert_exporter": "python",
   "pygments_lexer": "ipython3",
   "version": "3.6.12"
  }
 },
 "nbformat": 4,
 "nbformat_minor": 4
}
