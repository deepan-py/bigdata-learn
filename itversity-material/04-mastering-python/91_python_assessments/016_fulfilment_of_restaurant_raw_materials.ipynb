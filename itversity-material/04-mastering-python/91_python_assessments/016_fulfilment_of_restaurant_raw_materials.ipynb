{
 "cells": [
  {
   "cell_type": "markdown",
   "id": "7b9bb855",
   "metadata": {},
   "source": [
    "## Fulfilment of Restaurant Raw Materials\n",
    "\n",
    "Develop a function which will return the details of current raw material inventory in the restaurant. As a restaurant inventory manager, I would like to see current status of raw materials in the industry and fulfilment details to get the raw materials to the desired level.\n",
    "* The function should take a list of dicts as argument.\n",
    "* If actual_quantity is missing, the status should be **Actual Quantity Missing**.\n",
    "* If actual_quantity is less than minimum_quantity, the status should be **Purchase {desired_quantity - actual_quantity} {units}**\n",
    "* If actual_quantity is greater than or equal to minimum_quantity, the status should be **Current stock is {actual_quantity - minimum_quantity} {units} more than minimum quantity**.\n",
    "* It should return the details sorted by each status.\n",
    "  * First we should get the data with **Actual Quantity Missing**.\n",
    "  * Then we should get the data with **Purchase Details**.\n",
    "  * Then we should get the rest.\n",
    "* The output should contain all the fields along with the status.\n",
    "* You can use for loops or map function."
   ]
  },
  {
   "cell_type": "code",
   "execution_count": null,
   "id": "69dd470d",
   "metadata": {},
   "outputs": [],
   "source": [
    "inventory = [\n",
    "    {'raw_material_name': 'rice', 'desired_quantity': 1000, 'actual_quantity': 50, 'minimum_quantity': 200, 'units': 'kgs'},\n",
    "    {'raw_material_name': 'wheat', 'desired_quantity': 800, 'actual_quantity': 300, 'minimum_quantity': 150, 'units': 'kgs'},\n",
    "    {'raw_material_name': 'sugar', 'desired_quantity': 300, 'actual_quantity': 10, 'minimum_quantity': 60, 'units': 'kgs'},\n",
    "    {'raw_material_name': 'cake mix', 'desired_quantity': 100, 'actual_quantity': 50, 'minimum_quantity': 20, 'units': 'kgs'},\n",
    "    {'raw_material_name': 'vegetable oil', 'desired_quantity': 50, 'minimum_quantity': 20, 'units': 'gallons'},\n",
    "    {'raw_material_name': 'cardamom', 'desired_quantity': 10, 'actual_quantity': 2, 'minimum_quantity': 5, 'units': 'kgs'},\n",
    "    {'raw_material_name': 'cashews', 'desired_quantity': 20, 'minimum_quantity': 5, 'units': 'kgs'},\n",
    "    {'raw_material_name': 'almond milk', 'desired_quantity': 10, 'actual_quantity': 5, 'minimum_quantity': 2, 'units': 'gallons'},\n",
    "    {'raw_material_name': 'pistachios', 'desired_quantity': 20, 'actual_quantity': 3, 'minimum_quantity': 5, 'units': 'kgs'}\n",
    "]"
   ]
  },
  {
   "cell_type": "code",
   "execution_count": null,
   "id": "ea3e5881",
   "metadata": {},
   "outputs": [],
   "source": [
    "## Your solution should go here. Make sure to return sorted list of dicts.\n",
    "def get_inventory_details(inventory):\n",
    "    return"
   ]
  },
  {
   "cell_type": "markdown",
   "id": "337c22c3",
   "metadata": {},
   "source": [
    "* Run below cell to validate. Here is the sample output.\n",
    "```python\n",
    "[{'raw_material_name': 'vegetable oil',\n",
    "  'desired_quantity': 50,\n",
    "  'minimum_quantity': 20,\n",
    "  'units': 'gallons',\n",
    "  'status': 'Actual Quantity Missing'},\n",
    " {'raw_material_name': 'cashews',\n",
    "  'desired_quantity': 20,\n",
    "  'minimum_quantity': 5,\n",
    "  'units': 'kgs',\n",
    "  'status': 'Actual Quantity Missing'},\n",
    " {'raw_material_name': 'rice',\n",
    "  'desired_quantity': 1000,\n",
    "  'actual_quantity': 50,\n",
    "  'minimum_quantity': 200,\n",
    "  'units': 'kgs',\n",
    "  'status': 'Purchase 950 kgs'},\n",
    " {'raw_material_name': 'sugar',\n",
    "  'desired_quantity': 300,\n",
    "  'actual_quantity': 10,\n",
    "  'minimum_quantity': 60,\n",
    "  'units': 'kgs',\n",
    "  'status': 'Purchase 290 kgs'},\n",
    " {'raw_material_name': 'cardamom',\n",
    "  'desired_quantity': 10,\n",
    "  'actual_quantity': 2,\n",
    "  'minimum_quantity': 5,\n",
    "  'units': 'kgs',\n",
    "  'status': 'Purchase 8 kgs'},\n",
    " {'raw_material_name': 'pistachios',\n",
    "  'desired_quantity': 20,\n",
    "  'actual_quantity': 3,\n",
    "  'minimum_quantity': 5,\n",
    "  'units': 'kgs',\n",
    "  'status': 'Purchase 17 kgs'},\n",
    " {'raw_material_name': 'wheat',\n",
    "  'desired_quantity': 800,\n",
    "  'actual_quantity': 300,\n",
    "  'minimum_quantity': 150,\n",
    "  'units': 'kgs',\n",
    "  'status': 'Current stock is 150 kgs more than minimum quantity'},\n",
    " {'raw_material_name': 'cake mix',\n",
    "  'desired_quantity': 100,\n",
    "  'actual_quantity': 50,\n",
    "  'minimum_quantity': 20,\n",
    "  'units': 'kgs',\n",
    "  'status': 'Current stock is 30 kgs more than minimum quantity'},\n",
    " {'raw_material_name': 'almond milk',\n",
    "  'desired_quantity': 10,\n",
    "  'actual_quantity': 5,\n",
    "  'minimum_quantity': 2,\n",
    "  'units': 'gallons',\n",
    "  'status': 'Current stock is 3 gallons more than minimum quantity'}]\n",
    "```"
   ]
  },
  {
   "cell_type": "code",
   "execution_count": null,
   "id": "97b1f1a6",
   "metadata": {},
   "outputs": [],
   "source": [
    "get_inventory_details(inventory)"
   ]
  },
  {
   "cell_type": "code",
   "execution_count": null,
   "id": "2f492906",
   "metadata": {},
   "outputs": [],
   "source": []
  }
 ],
 "metadata": {
  "kernelspec": {
   "display_name": "Python 3",
   "language": "python",
   "name": "python3"
  },
  "language_info": {
   "codemirror_mode": {
    "name": "ipython",
    "version": 3
   },
   "file_extension": ".py",
   "mimetype": "text/x-python",
   "name": "python",
   "nbconvert_exporter": "python",
   "pygments_lexer": "ipython3",
   "version": "3.6.12"
  }
 },
 "nbformat": 4,
 "nbformat_minor": 5
}
