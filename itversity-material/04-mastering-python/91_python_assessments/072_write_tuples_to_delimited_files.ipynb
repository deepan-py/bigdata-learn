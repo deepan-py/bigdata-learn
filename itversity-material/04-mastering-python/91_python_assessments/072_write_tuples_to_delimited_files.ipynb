{
 "cells": [
  {
   "cell_type": "markdown",
   "id": "2739dfa4",
   "metadata": {},
   "source": [
    "## Write tuples to delimited files\n",
    "\n",
    "Develop a function to write the list of tuples to delimited files. The function should take the list of tuples, delimiter, column names, and file name as argument.\n",
    "* The output should contain header.\n",
    "* Attribute values in each record should be delimited by the delimiter passed.\n",
    "* Keep in mind that `csv` need not be comma separated. We can use any delimiter. Some of the commonly used delimiters are `,` (comma), `|` (pipe), `;` (semicolon), `:` (colon),  `\\t` (tab), etc.\n",
    "\n",
    "**Restriction: You need to use `pandas` to write data to files. Also, by default `pandas` writes index to the file. Make sure to not to write index of each record to the file.**"
   ]
  },
  {
   "cell_type": "code",
   "execution_count": null,
   "id": "1301042c",
   "metadata": {},
   "outputs": [],
   "source": [
    "import pandas as pd\n",
    "def write_tuples(tuples, delim, columns, file_name):\n",
    "    return"
   ]
  },
  {
   "cell_type": "markdown",
   "id": "ce49c9c1",
   "metadata": {},
   "source": [
    "* Run below cells to validate. You should see the data with header and `\\t` as delimiter between attribute values.\n",
    "\n",
    "```text\n",
    "course_name\tcourse_author\tcourse_status\tcourse_publised_dt\n",
    "Programming using Python\tBob Dillon\tpublished\t2020-09-30\n",
    "Data Engineering using Python\tBob Dillon\tpublished\t2020-07-15\n",
    "Data Engineering using Scala\tElvis Presley\tdraft\t\n",
    "Programming using Scala\tElvis Presley\tpublished\t2020-05-12\n",
    "Programming using Java\tMike Jack\tinactive\t2020-08-10\n",
    "Web Applications - Python Flask\tBob Dillon\tinactive\t2020-07-20\n",
    "Web Applications - Java Spring\tMike Jack\tdraft\t\n",
    "Pipeline Orchestration - Python\tBob Dillon\tdraft\t\n",
    "Streaming Pipelines - Python\tBob Dillon\tpublished\t2020-10-05\n",
    "Web Applications - Scala Play\tElvis Presley\tinactive\t2020-09-30\n",
    "Web Applications - Python Django\tBob Dillon\tpublished\t2020-06-23\n",
    "Server Automation - Ansible\tUncle Sam\tpublished\t2020-07-05\n",
    "```"
   ]
  },
  {
   "cell_type": "code",
   "execution_count": null,
   "id": "ae2affc4",
   "metadata": {},
   "outputs": [],
   "source": [
    "courses = [('Programming using Python', 'Bob Dillon', 'published', '2020-09-30'),\n",
    " ('Data Engineering using Python', 'Bob Dillon', 'published', '2020-07-15'),\n",
    " ('Data Engineering using Scala', 'Elvis Presley', 'draft', None),\n",
    " ('Programming using Scala', 'Elvis Presley', 'published', '2020-05-12'),\n",
    " ('Programming using Java', 'Mike Jack', 'inactive', '2020-08-10'),\n",
    " ('Web Applications - Python Flask', 'Bob Dillon', 'inactive', '2020-07-20'),\n",
    " ('Web Applications - Java Spring', 'Mike Jack', 'draft', None),\n",
    " ('Pipeline Orchestration - Python', 'Bob Dillon', 'draft', None),\n",
    " ('Streaming Pipelines - Python', 'Bob Dillon', 'published', '2020-10-05'),\n",
    " ('Web Applications - Scala Play', 'Elvis Presley', 'inactive', '2020-09-30'),\n",
    " ('Web Applications - Python Django', 'Bob Dillon', 'published', '2020-06-23'),\n",
    " ('Server Automation - Ansible', 'Uncle Sam', 'published', '2020-07-05')]"
   ]
  },
  {
   "cell_type": "code",
   "execution_count": null,
   "id": "be2d5ebf",
   "metadata": {},
   "outputs": [],
   "source": [
    "import getpass\n",
    "username = getpass.getuser()\n",
    "write_tuples(courses, \n",
    "             '\\t', \n",
    "             ['course_name', 'course_author', 'course_status', 'course_published_dt'],\n",
    "             f'/home/{username}/output/courses.tsv'\n",
    "            )"
   ]
  },
  {
   "cell_type": "code",
   "execution_count": null,
   "id": "f272696c",
   "metadata": {},
   "outputs": [],
   "source": [
    "!cat /home/${USER}/output/courses.tsv"
   ]
  },
  {
   "cell_type": "code",
   "execution_count": null,
   "id": "07c353cd",
   "metadata": {},
   "outputs": [],
   "source": []
  }
 ],
 "metadata": {
  "kernelspec": {
   "display_name": "Python 3",
   "language": "python",
   "name": "python3"
  },
  "language_info": {
   "codemirror_mode": {
    "name": "ipython",
    "version": 3
   },
   "file_extension": ".py",
   "mimetype": "text/x-python",
   "name": "python",
   "nbconvert_exporter": "python",
   "pygments_lexer": "ipython3",
   "version": "3.6.12"
  }
 },
 "nbformat": 4,
 "nbformat_minor": 5
}
