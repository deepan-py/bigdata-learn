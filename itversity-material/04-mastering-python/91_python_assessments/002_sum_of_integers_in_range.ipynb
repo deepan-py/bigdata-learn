{
 "cells": [
  {
   "cell_type": "markdown",
   "metadata": {},
   "source": [
    "## Sum of Integers in Range\n",
    "\n",
    "Develop a function to compute the sum of integers with in given range.\n",
    "* Name of the function: **sum_range**\n",
    "* Argument Names: **lb** and **ub**\n",
    "* Both arguments should be of type integers. If any of the arguments are not integers, then raise an exception saying **Either lb or ub are not integers**. You should display the values of lb and ub in the exception.\n",
    "* **lb** should be smaller than **ub**. If **lb** is not smaller than **ub**, you should raise an exception saying **lb is not smaller than ub**. You should display the values of lb and ub in the exception."
   ]
  },
  {
   "cell_type": "code",
   "execution_count": 1,
   "metadata": {},
   "outputs": [],
   "source": [
    "# Your code with for loops should go in this cell"
   ]
  },
  {
   "cell_type": "code",
   "execution_count": null,
   "metadata": {},
   "outputs": [],
   "source": [
    "sum_range(1, 10) # It should return 55"
   ]
  },
  {
   "cell_type": "code",
   "execution_count": null,
   "metadata": {},
   "outputs": [],
   "source": [
    "sum_range(8, 10) # It should return 27"
   ]
  },
  {
   "cell_type": "code",
   "execution_count": 2,
   "metadata": {},
   "outputs": [],
   "source": [
    "# Your code with formula should go in this cell"
   ]
  },
  {
   "cell_type": "code",
   "execution_count": null,
   "metadata": {},
   "outputs": [],
   "source": [
    "sum_range(1, 10) # It should return 55"
   ]
  },
  {
   "cell_type": "code",
   "execution_count": null,
   "metadata": {},
   "outputs": [],
   "source": [
    "sum_range(8, 10) # It should return 27"
   ]
  },
  {
   "cell_type": "markdown",
   "metadata": {},
   "source": [
    "* Which of the two approaches is efficient?  Loops or Formula\n",
    "* Define order of complexity for both the approaches (if you are familiar with it)"
   ]
  },
  {
   "cell_type": "code",
   "execution_count": null,
   "metadata": {},
   "outputs": [],
   "source": []
  }
 ],
 "metadata": {
  "kernelspec": {
   "display_name": "Python 3",
   "language": "python",
   "name": "python3"
  },
  "language_info": {
   "codemirror_mode": {
    "name": "ipython",
    "version": 3
   },
   "file_extension": ".py",
   "mimetype": "text/x-python",
   "name": "python",
   "nbconvert_exporter": "python",
   "pygments_lexer": "ipython3",
   "version": "3.6.12"
  }
 },
 "nbformat": 4,
 "nbformat_minor": 4
}
