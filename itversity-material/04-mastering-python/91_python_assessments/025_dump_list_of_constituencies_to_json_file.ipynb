{
 "cells": [
  {
   "cell_type": "markdown",
   "id": "30a44509",
   "metadata": {},
   "source": [
    "## Dump list of constituencies to JSON File\n",
    "\n",
    "Develop a function to dump list of constituencies from election results to JSON File using Pandas.\n",
    "* This is primarily to assess the ability to read the delimited data and convert into different format.\n",
    "* This is helpful in reading CSV data, convert to dict and then write to databases such as MongoDB.\n",
    "* Solve this problem using **Pandas** library.\n",
    "* Read the data from `/data/electionresults/ls2014.tsv`.\n",
    "* Write the data to `/home/${USER}/output/electionresults/constituencies.json`\n",
    "* The first line in the file have the attribute names.\n",
    "* Use Pandas to read the data with field names, get distinct constituencies (state name and constituency) and then write to JSON file.\n",
    "* The output should be sorted in ascending order by state and then by constituency.\n",
    "* The file should contain one JSON document per line. Here is example.\n",
    "\n",
    "```json\n",
    "{'state': 'Andaman & Nicobar Islands', 'constituency': 'Andaman & Nicobar Islands'}\n",
    "{'state': 'Andhra Pradesh', 'constituency': 'Adilabad'}\n",
    "```"
   ]
  },
  {
   "cell_type": "markdown",
   "id": "70f95401",
   "metadata": {},
   "source": [
    "* Confirm whether file exists."
   ]
  },
  {
   "cell_type": "code",
   "execution_count": null,
   "id": "fe79d14f",
   "metadata": {},
   "outputs": [],
   "source": [
    "!ls -ltr /data/electionresults/ls2014.tsv"
   ]
  },
  {
   "cell_type": "markdown",
   "id": "76300241",
   "metadata": {},
   "source": [
    "* Get first five lines of the file to understand how the data look like. You can understand details about field names."
   ]
  },
  {
   "cell_type": "code",
   "execution_count": null,
   "id": "56ae469c",
   "metadata": {},
   "outputs": [],
   "source": [
    "!head -5 /data/electionresults/ls2014.tsv"
   ]
  },
  {
   "cell_type": "markdown",
   "id": "b4e4aad3",
   "metadata": {},
   "source": [
    "* Get the count of unique constituencies. It will be useful for us to validate the number of elements in list of dicts."
   ]
  },
  {
   "cell_type": "code",
   "execution_count": null,
   "id": "b46208f0",
   "metadata": {},
   "outputs": [],
   "source": [
    "!awk -F\"\\t\" '{ print $1 \":\" $2}' /data/electionresults/ls2014.tsv|grep -wv \"constituency\"|sort|uniq|wc -l"
   ]
  },
  {
   "cell_type": "code",
   "execution_count": null,
   "id": "7d7cd5d5",
   "metadata": {},
   "outputs": [],
   "source": [
    "# Your code should go here\n",
    "import pandas as pd\n",
    "def save_unique_constituencies(input_file_name, output_file_name):\n",
    "    # read from input_file_name\n",
    "    # process and write to output_file_name\n",
    "\n",
    "    return"
   ]
  },
  {
   "cell_type": "code",
   "execution_count": null,
   "id": "3368074c",
   "metadata": {},
   "outputs": [],
   "source": [
    "!mkdir -p /home/${USER}/output/electionresults"
   ]
  },
  {
   "cell_type": "code",
   "execution_count": null,
   "id": "d7bfdebf",
   "metadata": {},
   "outputs": [],
   "source": [
    "import getpass\n",
    "username = getpass.getuser()\n",
    "\n",
    "input_file_name = '/data/electionresults/ls2014.tsv'\n",
    "output_file_name = f'/home/{username}/output/electionresults/constituencies.json'\n",
    "save_unique_constituencies(input_file_name, output_file_name)"
   ]
  },
  {
   "cell_type": "markdown",
   "id": "bb6d5f66",
   "metadata": {},
   "source": [
    "* Validation - Check if the file is created or not"
   ]
  },
  {
   "cell_type": "code",
   "execution_count": null,
   "id": "9882912d",
   "metadata": {},
   "outputs": [],
   "source": [
    "!ls -ltr /home/${USER}/output/electionresults # You should see the constituencies.json file as part of the output"
   ]
  },
  {
   "cell_type": "markdown",
   "id": "36a67a86",
   "metadata": {},
   "source": [
    "* Validation - Get first five records using head command\n",
    "* Expected output\n",
    "\n",
    "```json\n",
    "{\"state\":\"Andaman & Nicobar Islands\",\"constituency\":\"Andaman & Nicobar Islands\"}\n",
    "{\"state\":\"Andhra Pradesh\",\"constituency\":\"Adilabad \"}\n",
    "{\"state\":\"Andhra Pradesh\",\"constituency\":\"Amalapuram \"}\n",
    "{\"state\":\"Andhra Pradesh\",\"constituency\":\"Anakapalli\"}\n",
    "{\"state\":\"Andhra Pradesh\",\"constituency\":\"Anantapur\"}\n",
    "```"
   ]
  },
  {
   "cell_type": "code",
   "execution_count": null,
   "id": "b540d60f",
   "metadata": {},
   "outputs": [],
   "source": [
    "!head -5 /home/${USER}/output/electionresults/constituencies.json"
   ]
  },
  {
   "cell_type": "markdown",
   "id": "1d67ae5b",
   "metadata": {},
   "source": [
    "* You can also run this code to validate. Here is the expected output.\n",
    "\n",
    "```python\n",
    "{'state': 'Andaman & Nicobar Islands', 'constituency': 'Andaman & Nicobar Islands'}\n",
    "{'state': 'Andhra Pradesh', 'constituency': 'Adilabad '}\n",
    "{'state': 'Andhra Pradesh', 'constituency': 'Amalapuram '}\n",
    "{'state': 'Andhra Pradesh', 'constituency': 'Anakapalli'}\n",
    "{'state': 'Andhra Pradesh', 'constituency': 'Anantapur'}\n",
    "```"
   ]
  },
  {
   "cell_type": "code",
   "execution_count": null,
   "id": "48cceaab",
   "metadata": {},
   "outputs": [],
   "source": [
    "import json, getpass\n",
    "\n",
    "username = getpass.getuser()\n",
    "data = open(f'/home/{username}/output/electionresults/constituencies.json').read().splitlines()\n",
    "\n",
    "for rec in data[:5]:\n",
    "    print(json.loads(rec))"
   ]
  },
  {
   "cell_type": "code",
   "execution_count": null,
   "id": "97297061",
   "metadata": {},
   "outputs": [],
   "source": []
  }
 ],
 "metadata": {
  "kernelspec": {
   "display_name": "Python 3",
   "language": "python",
   "name": "python3"
  },
  "language_info": {
   "codemirror_mode": {
    "name": "ipython",
    "version": 3
   },
   "file_extension": ".py",
   "mimetype": "text/x-python",
   "name": "python",
   "nbconvert_exporter": "python",
   "pygments_lexer": "ipython3",
   "version": "3.6.12"
  }
 },
 "nbformat": 4,
 "nbformat_minor": 5
}
