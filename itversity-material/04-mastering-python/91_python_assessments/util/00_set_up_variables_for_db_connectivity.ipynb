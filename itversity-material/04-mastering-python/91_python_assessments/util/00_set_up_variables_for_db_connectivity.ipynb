{
 "cells": [
  {
   "cell_type": "markdown",
   "id": "6c6f9d44",
   "metadata": {},
   "source": [
    "## Set up variables for DB Connectivity\n",
    "\n",
    "This notebook will be run from other notebooks. We are going to set up variables required for database connectivity.\n",
    "\n",
    "We will provide the required information. You can use the labs password which is assigned to you."
   ]
  },
  {
   "cell_type": "code",
   "execution_count": null,
   "id": "a5bc411a",
   "metadata": {},
   "outputs": [],
   "source": [
    "import getpass"
   ]
  },
  {
   "cell_type": "code",
   "execution_count": 2,
   "id": "487169ae",
   "metadata": {},
   "outputs": [],
   "source": [
    "username = getpass.getuser()"
   ]
  },
  {
   "cell_type": "code",
   "execution_count": 3,
   "id": "759a6511",
   "metadata": {},
   "outputs": [],
   "source": [
    "# Paste your password between the single quotes"
   ]
  },
  {
   "cell_type": "code",
   "execution_count": 4,
   "id": "cb247f48",
   "metadata": {},
   "outputs": [],
   "source": [
    "password = ''"
   ]
  },
  {
   "cell_type": "code",
   "execution_count": 5,
   "id": "d89e93be",
   "metadata": {},
   "outputs": [],
   "source": [
    "postgres_host = 'm01.itversity.com'"
   ]
  },
  {
   "cell_type": "code",
   "execution_count": 6,
   "id": "91d00908",
   "metadata": {},
   "outputs": [],
   "source": [
    "postgres_port = 5433"
   ]
  }
 ],
 "metadata": {
  "kernelspec": {
   "display_name": "Python 3",
   "language": "python",
   "name": "python3"
  },
  "language_info": {
   "codemirror_mode": {
    "name": "ipython",
    "version": 3
   },
   "file_extension": ".py",
   "mimetype": "text/x-python",
   "name": "python",
   "nbconvert_exporter": "python",
   "pygments_lexer": "ipython3",
   "version": "3.6.12"
  }
 },
 "nbformat": 4,
 "nbformat_minor": 5
}
