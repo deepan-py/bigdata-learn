{
 "cells": [
  {
   "cell_type": "markdown",
   "id": "18702b4c",
   "metadata": {},
   "source": [
    "## Write dicts to delimited files\n",
    "\n",
    "Develop a function to write the list of dicts to delimited files. The function should take the list of dicts, delimiter, and file name as argument.\n",
    "* The output should contain header.\n",
    "* Attribute values in each record should be delimited by the delimiter passed.\n",
    "* Keep in mind that `csv` need not be comma separated. We can use any delimiter. Some of the commonly used delimiters are `,` (comma), `|` (pipe), `;` (semicolon), `:` (colon),  `\\t` (tab), etc.\n",
    "\n",
    "**Restriction: You need to use `pandas` to write data to files. Also, by default `pandas` writes index to the file. Make sure to not to write index of each record to the file.**"
   ]
  },
  {
   "cell_type": "code",
   "execution_count": null,
   "id": "5d686bd1",
   "metadata": {},
   "outputs": [],
   "source": [
    "import pandas as pd\n",
    "def write_dicts(dicts, delim, file_name):\n",
    "    return"
   ]
  },
  {
   "cell_type": "markdown",
   "id": "00c568cd",
   "metadata": {},
   "source": [
    "* Run below cells to validate. You should see the data with header and pipe as delimiter between attribute values. Make sure to see only 4 attribute values in each line. The index of each row in Dataframe should not be written to the file.\n",
    "\n",
    "```shell\n",
    "order_id|order_date|order_customer_id|order_status\n",
    "1|2013-07-25 00:00:00.0|11599|CLOSED\n",
    "2|2013-07-25 00:00:00.0|256|PENDING_PAYMENT\n",
    "3|2013-07-25 00:00:00.0|12111|COMPLETE\n",
    "4|2013-07-25 00:00:00.0|8827|CLOSED\n",
    "5|2013-07-25 00:00:00.0|11318|COMPLETE\n",
    "```"
   ]
  },
  {
   "cell_type": "code",
   "execution_count": null,
   "id": "d6be18f0",
   "metadata": {},
   "outputs": [],
   "source": [
    "orders = [{'order_id': 1,\n",
    "  'order_date': '2013-07-25 00:00:00.0',\n",
    "  'order_customer_id': 11599,\n",
    "  'order_status': 'CLOSED'},\n",
    " {'order_id': 2,\n",
    "  'order_date': '2013-07-25 00:00:00.0',\n",
    "  'order_customer_id': 256,\n",
    "  'order_status': 'PENDING_PAYMENT'},\n",
    " {'order_id': 3,\n",
    "  'order_date': '2013-07-25 00:00:00.0',\n",
    "  'order_customer_id': 12111,\n",
    "  'order_status': 'COMPLETE'},\n",
    " {'order_id': 4,\n",
    "  'order_date': '2013-07-25 00:00:00.0',\n",
    "  'order_customer_id': 8827,\n",
    "  'order_status': 'CLOSED'},\n",
    " {'order_id': 5,\n",
    "  'order_date': '2013-07-25 00:00:00.0',\n",
    "  'order_customer_id': 11318,\n",
    "  'order_status': 'COMPLETE'}]"
   ]
  },
  {
   "cell_type": "code",
   "execution_count": null,
   "id": "a9d758e0",
   "metadata": {},
   "outputs": [],
   "source": [
    "!mkdir -p /home/${USER}/output"
   ]
  },
  {
   "cell_type": "code",
   "execution_count": null,
   "id": "11d34ba8",
   "metadata": {},
   "outputs": [],
   "source": [
    "import getpass\n",
    "username = getpass.getuser()\n",
    "write_dicts(orders, '|', f'/home/{username}/output/orders.csv')"
   ]
  },
  {
   "cell_type": "code",
   "execution_count": null,
   "id": "05071e7c",
   "metadata": {},
   "outputs": [],
   "source": [
    "!cat /home/${USER}/output/orders.csv # The output should not have Pandas Data Frame Index"
   ]
  },
  {
   "cell_type": "markdown",
   "id": "898a408f",
   "metadata": {},
   "source": [
    "* Run below cells to validate. You should see the data with header and `\\t` as delimiter between attribute values.\n",
    "\n",
    "```text\n",
    "course_name\tcourse_author\tcourse_status\tcourse_publised_dt\n",
    "Programming using Python\tBob Dillon\tpublished\t2020-09-30\n",
    "Data Engineering using Python\tBob Dillon\tpublished\t2020-07-15\n",
    "Data Engineering using Scala\tElvis Presley\tdraft\t\n",
    "Programming using Scala\tElvis Presley\tpublished\t2020-05-12\n",
    "Programming using Java\tMike Jack\tinactive\t2020-08-10\n",
    "Web Applications - Python Flask\tBob Dillon\tinactive\t2020-07-20\n",
    "Web Applications - Java Spring\tMike Jack\tdraft\t\n",
    "Pipeline Orchestration - Python\tBob Dillon\tdraft\t\n",
    "Streaming Pipelines - Python\tBob Dillon\tpublished\t2020-10-05\n",
    "Web Applications - Scala Play\tElvis Presley\tinactive\t2020-09-30\n",
    "Web Applications - Python Django\tBob Dillon\tpublished\t2020-06-23\n",
    "Server Automation - Ansible\tUncle Sam\tpublished\t2020-07-05\n",
    "```"
   ]
  },
  {
   "cell_type": "code",
   "execution_count": null,
   "id": "1c6e73ad",
   "metadata": {},
   "outputs": [],
   "source": [
    "courses = [{'course_name': 'Programming using Python',\n",
    "  'course_author': 'Bob Dillon',\n",
    "  'course_status': 'published',\n",
    "  'course_publised_dt': '2020-09-30'},\n",
    " {'course_name': 'Data Engineering using Python',\n",
    "  'course_author': 'Bob Dillon',\n",
    "  'course_status': 'published',\n",
    "  'course_publised_dt': '2020-07-15'},\n",
    " {'course_name': 'Data Engineering using Scala',\n",
    "  'course_author': 'Elvis Presley',\n",
    "  'course_status': 'draft',\n",
    "  'course_publised_dt': None},\n",
    " {'course_name': 'Programming using Scala',\n",
    "  'course_author': 'Elvis Presley',\n",
    "  'course_status': 'published',\n",
    "  'course_publised_dt': '2020-05-12'},\n",
    " {'course_name': 'Programming using Java',\n",
    "  'course_author': 'Mike Jack',\n",
    "  'course_status': 'inactive',\n",
    "  'course_publised_dt': '2020-08-10'},\n",
    " {'course_name': 'Web Applications - Python Flask',\n",
    "  'course_author': 'Bob Dillon',\n",
    "  'course_status': 'inactive',\n",
    "  'course_publised_dt': '2020-07-20'},\n",
    " {'course_name': 'Web Applications - Java Spring',\n",
    "  'course_author': 'Mike Jack',\n",
    "  'course_status': 'draft',\n",
    "  'course_publised_dt': None},\n",
    " {'course_name': 'Pipeline Orchestration - Python',\n",
    "  'course_author': 'Bob Dillon',\n",
    "  'course_status': 'draft',\n",
    "  'course_publised_dt': None},\n",
    " {'course_name': 'Streaming Pipelines - Python',\n",
    "  'course_author': 'Bob Dillon',\n",
    "  'course_status': 'published',\n",
    "  'course_publised_dt': '2020-10-05'},\n",
    " {'course_name': 'Web Applications - Scala Play',\n",
    "  'course_author': 'Elvis Presley',\n",
    "  'course_status': 'inactive',\n",
    "  'course_publised_dt': '2020-09-30'},\n",
    " {'course_name': 'Web Applications - Python Django',\n",
    "  'course_author': 'Bob Dillon',\n",
    "  'course_status': 'published',\n",
    "  'course_publised_dt': '2020-06-23'},\n",
    " {'course_name': 'Server Automation - Ansible',\n",
    "  'course_author': 'Uncle Sam',\n",
    "  'course_status': 'published',\n",
    "  'course_publised_dt': '2020-07-05'}]"
   ]
  },
  {
   "cell_type": "code",
   "execution_count": null,
   "id": "f6456c30",
   "metadata": {},
   "outputs": [],
   "source": [
    "import getpass\n",
    "username = getpass.getuser()\n",
    "write_dicts(courses, '\\t', f'/home/{username}/output/courses.tsv')"
   ]
  },
  {
   "cell_type": "code",
   "execution_count": null,
   "id": "8a32aefe",
   "metadata": {},
   "outputs": [],
   "source": [
    "!cat /home/${USER}/output/courses.tsv"
   ]
  },
  {
   "cell_type": "code",
   "execution_count": null,
   "id": "4ac7be31",
   "metadata": {},
   "outputs": [],
   "source": []
  }
 ],
 "metadata": {
  "kernelspec": {
   "display_name": "Python 3",
   "language": "python",
   "name": "python3"
  },
  "language_info": {
   "codemirror_mode": {
    "name": "ipython",
    "version": 3
   },
   "file_extension": ".py",
   "mimetype": "text/x-python",
   "name": "python",
   "nbconvert_exporter": "python",
   "pygments_lexer": "ipython3",
   "version": "3.6.12"
  }
 },
 "nbformat": 4,
 "nbformat_minor": 5
}
