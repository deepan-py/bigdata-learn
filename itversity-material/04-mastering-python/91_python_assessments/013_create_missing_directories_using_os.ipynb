{
 "cells": [
  {
   "cell_type": "markdown",
   "id": "a5c1d58c",
   "metadata": {},
   "source": [
    "## Create Missing Directories using os\n",
    "\n",
    "Develop a function create missing directory structure. This is primarily to assess the understanding of managing directories using Python **os** module.\n",
    "* Here are the details about the data being sent.\n",
    "  * The source system will send activity data on regular basis.\n",
    "  * As we get the data, we need to see if the folders are created or not based on year, month and day.\n",
    "  * If the folder structure does not exists, it should be created.\n",
    "* Use your home directory as base folder.\n",
    "* Here is the base location: `/home/${USER}/output/activity/`\n",
    "* The function should take year, month and day as arguments and then create directory structure `/home/${USER}/output/activity/year=yyyy/month=MM/day=dd`.\n",
    "  * `yyyy` - 4 digit year\n",
    "  * `MM` - 2 digit month\n",
    "  * `dd` - 2 digit day\n",
    "* If the directory structure already exists, you can just ignore."
   ]
  },
  {
   "cell_type": "code",
   "execution_count": null,
   "id": "c73991e9",
   "metadata": {},
   "outputs": [],
   "source": [
    "# Your code should go here\n",
    "import os\n",
    "def create_activity_dirs_os(base_dir, year, month, day):\n",
    "    # Code to create directories should go here\n",
    "    return"
   ]
  },
  {
   "cell_type": "markdown",
   "id": "215c2793",
   "metadata": {},
   "source": [
    "* Run below cells to validate. Year, month and day should be passed as integers."
   ]
  },
  {
   "cell_type": "code",
   "execution_count": null,
   "id": "d4ab03ad",
   "metadata": {},
   "outputs": [],
   "source": [
    "import getpass\n",
    "username = getpass.getuser()\n",
    "base_dir = f'/home/{username}/output/activity'"
   ]
  },
  {
   "cell_type": "code",
   "execution_count": null,
   "id": "d6d53620",
   "metadata": {},
   "outputs": [],
   "source": [
    "create_activity_dirs_os(base_dir, 2021, 2, 9)"
   ]
  },
  {
   "cell_type": "code",
   "execution_count": null,
   "id": "13dc65ab",
   "metadata": {},
   "outputs": [],
   "source": [
    "!find /home/${USER}/output/activity"
   ]
  },
  {
   "cell_type": "markdown",
   "id": "12d80a38",
   "metadata": {},
   "source": [
    "* Here is the expected output.\n",
    "```shell\n",
    "/home/itversity/output/activity/year=2021\n",
    "/home/itversity/output/activity/year=2021/month=02\n",
    "/home/itversity/output/activity/year=2021/month=02/day=09\n",
    "```"
   ]
  },
  {
   "cell_type": "code",
   "execution_count": null,
   "id": "3b53a57f",
   "metadata": {},
   "outputs": [],
   "source": []
  }
 ],
 "metadata": {
  "kernelspec": {
   "display_name": "Python 3",
   "language": "python",
   "name": "python3"
  },
  "language_info": {
   "codemirror_mode": {
    "name": "ipython",
    "version": 3
   },
   "file_extension": ".py",
   "mimetype": "text/x-python",
   "name": "python",
   "nbconvert_exporter": "python",
   "pygments_lexer": "ipython3",
   "version": "3.6.12"
  }
 },
 "nbformat": 4,
 "nbformat_minor": 5
}
