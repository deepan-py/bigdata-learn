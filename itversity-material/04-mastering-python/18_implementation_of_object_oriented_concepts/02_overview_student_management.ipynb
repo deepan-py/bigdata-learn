{
 "cells": [
  {
   "cell_type": "markdown",
   "id": "3f0722a6",
   "metadata": {},
   "source": [
    "* Courses\n",
    "  * Video Courses\n",
    "  * Audio Courses\n",
    "* Users\n",
    "* Students"
   ]
  },
  {
   "cell_type": "code",
   "execution_count": 4,
   "id": "68d5308c",
   "metadata": {},
   "outputs": [],
   "source": [
    "class Course:\n",
    "    def __init__(self, course_id):\n",
    "        self.course_id = course_id"
   ]
  },
  {
   "cell_type": "code",
   "execution_count": 5,
   "id": "68565e46",
   "metadata": {},
   "outputs": [],
   "source": [
    "course = Course(1)"
   ]
  },
  {
   "cell_type": "code",
   "execution_count": 6,
   "id": "98681e7d",
   "metadata": {},
   "outputs": [
    {
     "data": {
      "text/plain": [
       "1"
      ]
     },
     "execution_count": 6,
     "metadata": {},
     "output_type": "execute_result"
    }
   ],
   "source": [
    "course.course_id"
   ]
  },
  {
   "cell_type": "code",
   "execution_count": null,
   "id": "f4943e5a",
   "metadata": {},
   "outputs": [],
   "source": []
  }
 ],
 "metadata": {
  "kernelspec": {
   "display_name": "Python 3",
   "language": "python",
   "name": "python3"
  },
  "language_info": {
   "codemirror_mode": {
    "name": "ipython",
    "version": 3
   },
   "file_extension": ".py",
   "mimetype": "text/x-python",
   "name": "python",
   "nbconvert_exporter": "python",
   "pygments_lexer": "ipython3",
   "version": "3.6.12"
  }
 },
 "nbformat": 4,
 "nbformat_minor": 5
}
