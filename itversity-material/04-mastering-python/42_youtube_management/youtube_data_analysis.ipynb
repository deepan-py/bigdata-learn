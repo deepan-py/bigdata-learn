{
 "cells": [
  {
   "cell_type": "markdown",
   "metadata": {},
   "source": [
    "Create the New project by going to https://console.developers.google.com/apis/\n",
    "* Give Unique Project Name.\n",
    "* Give location as No Organization.\n",
    "* Click on create."
   ]
  },
  {
   "cell_type": "markdown",
   "metadata": {},
   "source": [
    "Add Youtube API from API library\n",
    "* Search for Youtube Data API v3.\n",
    "* And Select the API we need. In this case we are selecting (Youtube Data API v3) from\n",
    "the libraries present.\n",
    "* Enable the API and select the options as shown as below.\n",
    "* We are calling this API from python. So select Other non-UI (e. g cron job, daemon)\n",
    "* Select Public Data as we are using public YouTube data."
   ]
  },
  {
   "cell_type": "markdown",
   "metadata": {},
   "source": [
    "One can access YouTube data API documentation from [here](https://developers.google.com/youtube/v3/docs)"
   ]
  },
  {
   "cell_type": "code",
   "execution_count": null,
   "metadata": {},
   "outputs": [],
   "source": [
    "!pip install google-api-python-client"
   ]
  },
  {
   "cell_type": "code",
   "execution_count": null,
   "metadata": {},
   "outputs": [],
   "source": [
    "from googleapiclient.discovery import build"
   ]
  },
  {
   "cell_type": "code",
   "execution_count": null,
   "metadata": {},
   "outputs": [],
   "source": [
    "import json\n",
    "config = json.load(open('conf.json'))"
   ]
  },
  {
   "cell_type": "code",
   "execution_count": null,
   "metadata": {},
   "outputs": [],
   "source": [
    "api_key = config['YT_API_KEY']"
   ]
  },
  {
   "cell_type": "code",
   "execution_count": null,
   "metadata": {},
   "outputs": [],
   "source": [
    "youtube = build('youtube', 'v3', developerKey=api_key)"
   ]
  },
  {
   "cell_type": "code",
   "execution_count": null,
   "metadata": {},
   "outputs": [],
   "source": [
    "channel_id = config['CHANNEL_ID']"
   ]
  },
  {
   "cell_type": "code",
   "execution_count": null,
   "metadata": {},
   "outputs": [],
   "source": [
    "request = youtube.channels().list(\n",
    "    part = 'statistics',\n",
    "    id =channel_id\n",
    ")"
   ]
  },
  {
   "cell_type": "code",
   "execution_count": null,
   "metadata": {},
   "outputs": [],
   "source": [
    "response = request.execute()"
   ]
  },
  {
   "cell_type": "code",
   "execution_count": null,
   "metadata": {},
   "outputs": [],
   "source": [
    "print(response)"
   ]
  },
  {
   "cell_type": "code",
   "execution_count": null,
   "metadata": {},
   "outputs": [],
   "source": [
    "print(response['items'])"
   ]
  },
  {
   "cell_type": "code",
   "execution_count": null,
   "metadata": {},
   "outputs": [],
   "source": [
    "print(response['items'][0]['statistics'])"
   ]
  },
  {
   "cell_type": "code",
   "execution_count": null,
   "metadata": {},
   "outputs": [],
   "source": [
    "playlist_list = youtube.playlists().list(\n",
    "    part = 'status',\n",
    "    channelId = channel_id\n",
    ").execute()"
   ]
  },
  {
   "cell_type": "code",
   "execution_count": null,
   "metadata": {},
   "outputs": [],
   "source": [
    "playlist_list"
   ]
  },
  {
   "cell_type": "code",
   "execution_count": null,
   "metadata": {},
   "outputs": [],
   "source": [
    "playlist_id = 'PLf0swTFhTI8rkH4yIfoyTAheEGjWIRtPG'"
   ]
  },
  {
   "cell_type": "code",
   "execution_count": null,
   "metadata": {},
   "outputs": [],
   "source": [
    "playlistItems = youtube.playlistItems().list(\n",
    "    part = 'contentDetails',\n",
    "    playlistId = playlist_id,\n",
    "    maxResults = 100\n",
    ").execute()"
   ]
  },
  {
   "cell_type": "code",
   "execution_count": null,
   "metadata": {},
   "outputs": [],
   "source": [
    "playlistItems"
   ]
  },
  {
   "cell_type": "code",
   "execution_count": null,
   "metadata": {},
   "outputs": [],
   "source": [
    "playlistItems['nextPageToken']"
   ]
  },
  {
   "cell_type": "code",
   "execution_count": null,
   "metadata": {},
   "outputs": [],
   "source": [
    "playlistItems['items'][0]"
   ]
  },
  {
   "cell_type": "code",
   "execution_count": null,
   "metadata": {},
   "outputs": [],
   "source": [
    "videoDetails = youtube.videos().list(\n",
    "    part = 'snippet',\n",
    "    id = playlistItems['items'][0]['contentDetails']['videoId']\n",
    ").execute()"
   ]
  },
  {
   "cell_type": "code",
   "execution_count": null,
   "metadata": {},
   "outputs": [],
   "source": [
    "videoDetails"
   ]
  },
  {
   "cell_type": "code",
   "execution_count": null,
   "metadata": {},
   "outputs": [],
   "source": [
    "videoDetails['items'][0]['snippet']['title']"
   ]
  },
  {
   "cell_type": "code",
   "execution_count": null,
   "metadata": {},
   "outputs": [],
   "source": [
    "videoDetails['items'][0]['id']"
   ]
  },
  {
   "cell_type": "code",
   "execution_count": null,
   "metadata": {},
   "outputs": [],
   "source": [
    "len(playlistItems['items'])"
   ]
  },
  {
   "cell_type": "code",
   "execution_count": 40,
   "metadata": {},
   "outputs": [],
   "source": [
    "playlist_id = 'PLf0swTFhTI8rkH4yIfoyTAheEGjWIRtPG'"
   ]
  },
  {
   "cell_type": "code",
   "execution_count": 41,
   "metadata": {},
   "outputs": [],
   "source": [
    "playlistItems = youtube.playlistItems().list(\n",
    "    part = 'contentDetails',\n",
    "    playlistId = playlist_id,\n",
    "    maxResults = 100\n",
    ").execute()"
   ]
  },
  {
   "cell_type": "code",
   "execution_count": 42,
   "metadata": {},
   "outputs": [
    {
     "name": "stdout",
     "output_type": "stream",
     "text": [
      "https://www.YouTube.com/watch?v=nvF9tQZb3gQ : nvF9tQZb3gQ : Mastering Python - Performing Database Operations - 01 Introduction   Perform Database Operations\n",
      "https://www.YouTube.com/watch?v=0jxzmpZjRd4 : 0jxzmpZjRd4 : Mastering Python - Performing Database Operations - 02 Overview of SQL\n",
      "https://www.YouTube.com/watch?v=x7XtiBQ9omI : x7XtiBQ9omI : Mastering Python - Performing Database Operations - 03 Create Database and Users Table\n",
      "https://www.YouTube.com/watch?v=ZTEmnSKg1tY : ZTEmnSKg1tY : Mastering Python - Performing Database Operations - 04 DDL   Data Definition Language\n",
      "https://www.YouTube.com/watch?v=Nz9KWZaBIEM : Nz9KWZaBIEM : Mastering Python - Performing Database Operations - 05 DML   Data Manipulation Language\n",
      "https://www.YouTube.com/watch?v=ULOCdrPCZAs : ULOCdrPCZAs : Mastering Python - Performing Database Operations - 06 DQL   Data Query Language\n",
      "https://www.YouTube.com/watch?v=kel-d0e3T_k : kel-d0e3T_k : Mastering Python - Performing Database Operations - 07 CRUD Operations   DML and DQL\n",
      "https://www.YouTube.com/watch?v=LdwjXbYTGdc : LdwjXbYTGdc : Mastering Python - Performing Database Operations - 08 TCL   Transaction Control Language\n",
      "https://www.YouTube.com/watch?v=gJ0SbLFdkA4 : gJ0SbLFdkA4 : Mastering Python - Performing Database Operations - 09 Example   Data Engineering\n",
      "https://www.YouTube.com/watch?v=IY8WWgy_7ZU : IY8WWgy_7ZU : Mastering Python - Performing Database Operations - 10 Example   Web Application\n",
      "https://www.YouTube.com/watch?v=9cXBxiJv4lM : 9cXBxiJv4lM : Mastering Python - Performing Database Operations - 11 Exercise   Database Operations\n",
      "https://www.YouTube.com/watch?v=Dmpsk06cz4k : Dmpsk06cz4k : Mastering Python - Getting Started - 02 Installing Python on Windows\n",
      "https://www.YouTube.com/watch?v=HTYx14NJ3hU : HTYx14NJ3hU : Mastering Python - Getting Started - 03 Overview of Anaconda\n",
      "https://www.YouTube.com/watch?v=CNoSFq_IoxE : CNoSFq_IoxE : Mastering Python - Getting Started - 04 Python CLI and Jupyter Notebook\n",
      "https://www.YouTube.com/watch?v=E1cUaRDXIX4 : E1cUaRDXIX4 : Mastering Python - Getting Started - 05 Overview of Jupyter Lab\n",
      "https://www.YouTube.com/watch?v=cVEZmCGbzFQ : cVEZmCGbzFQ : Mastering Python - Getting Started - 06 Using IDEs   Pycharm\n",
      "https://www.YouTube.com/watch?v=POVcO0S5zGA : POVcO0S5zGA : Mastering Python - Getting Started - 07 Using Visual Studio Code\n",
      "https://www.YouTube.com/watch?v=GPxy-nNeVKA : GPxy-nNeVKA : Mastering Python - Getting Started - 08 Using ITVersity Labs\n",
      "https://www.YouTube.com/watch?v=viNVdzVHEq4 : viNVdzVHEq4 : Mastering Python - Getting Started - 09 Leveraging Google Colab\n",
      "https://www.YouTube.com/watch?v=n5AigWIswkQ : n5AigWIswkQ : Mastering Python - Basic Programming Constructs - 02 Getting Help\n",
      "https://www.YouTube.com/watch?v=nbJfgGbDXPo : nbJfgGbDXPo : Mastering Python - Basic Programming Constructs - 03 Variables and Objects\n",
      "https://www.YouTube.com/watch?v=AY86oJYfgbg : AY86oJYfgbg : Mastering Python - Basic Programming Constructs - 04 Data Types   Commonly Used\n",
      "https://www.YouTube.com/watch?v=VX_ZokJZlV8 : VX_ZokJZlV8 : Mastering Python - Basic Programming Constructs - 05 Operators in Python\n",
      "https://www.YouTube.com/watch?v=0Qtp243txLc : 0Qtp243txLc : Mastering Python - Basic Programming Constructs - 06 Tasks   Data Types and Operators\n",
      "https://www.YouTube.com/watch?v=vo2_1q9bXco : vo2_1q9bXco : Mastering Python - Basic Programming Constructs - 07 Conditionals\n",
      "https://www.YouTube.com/watch?v=Uti9PxgAnm8 : Uti9PxgAnm8 : Mastering Python - Basic Programming Constructs - 08 All about for loops\n",
      "https://www.YouTube.com/watch?v=9UvQ0extBhQ : 9UvQ0extBhQ : Mastering Python - Basic Programming Constructs - 09 Running os commands\n",
      "https://www.YouTube.com/watch?v=lhDnn_3VhVI : lhDnn_3VhVI : Mastering Python - Predefined Functions - 02 Overview Of Predefined Functions\n",
      "https://www.YouTube.com/watch?v=QY7w9ctRBI0 : QY7w9ctRBI0 : Mastering Python - Predefined Functions - 03 Numeric Functions\n",
      "https://www.YouTube.com/watch?v=eo7bI-ZXefI : eo7bI-ZXefI : Mastering Python - Predefined Functions - 04 Overview of Strings\n",
      "https://www.YouTube.com/watch?v=dPsVVYZyUlM : dPsVVYZyUlM : Mastering Python - Predefined Functions - 05 String Manipulation Functions\n",
      "https://www.YouTube.com/watch?v=xDk6XkFXC5Y : xDk6XkFXC5Y : Mastering Python - Predefined Functions - 06 Formatting Strings\n",
      "https://www.YouTube.com/watch?v=0e-J9hqFQ04 : 0e-J9hqFQ04 : Mastering Python - Predefined Functions - 07 Print and Input Functions\n",
      "https://www.YouTube.com/watch?v=A-c__y5RkDo : A-c__y5RkDo : Mastering Python - Predefined Functions - 08 Date Manipulation Functions\n",
      "https://www.YouTube.com/watch?v=QUP9j4wKkBM : QUP9j4wKkBM : Mastering Python - User Defined Functions - 01 Introduction\n",
      "https://www.YouTube.com/watch?v=jX28rXnwMDA : jX28rXnwMDA : Mastering Python - User Defined Functions - 02 Defining Functions\n",
      "https://www.YouTube.com/watch?v=AmfpCkrDTqI : AmfpCkrDTqI : Mastering Python - User Defined Functions - 03 Doc Strings\n",
      "https://www.YouTube.com/watch?v=7WdnoQCeOco : 7WdnoQCeOco : Mastering Python - User Defined Functions - 04 Returning Variables\n",
      "https://www.YouTube.com/watch?v=erXmmKc8SWg : erXmmKc8SWg : Mastering Python - User Defined Functions - 05 Function Parameters and Arguments\n",
      "https://www.YouTube.com/watch?v=aQhJqahdHEc : aQhJqahdHEc : Mastering Python - User Defined Functions - 06 Varying Arguments\n",
      "https://www.YouTube.com/watch?v=HrbkFjN9Puc : HrbkFjN9Puc : Mastering Python - User Defined Functions - 07 Keyword Arguments\n",
      "https://www.YouTube.com/watch?v=95vzHDMthK4 : 95vzHDMthK4 : Mastering Python - User Defined Functions - 08 Recap of User Defined Functions\n",
      "https://www.YouTube.com/watch?v=_h9xDm469FI : _h9xDm469FI : Mastering Python - User Defined Functions - 09 Passing Functions as Arguments\n",
      "https://www.YouTube.com/watch?v=qO1qRmPtx6I : qO1qRmPtx6I : Mastering Python - User Defined Functions - 10 Lambda Functions\n",
      "https://www.YouTube.com/watch?v=-kw6qY9Iw6U : -kw6qY9Iw6U : Mastering Python - User Defined Functions - 11 Usage of Lambda Functions\n",
      "https://www.YouTube.com/watch?v=-53CbYaZMjg : -53CbYaZMjg : Mastering Python - User Defined Functions - 12 Exercise   User Defined Functions\n",
      "https://www.YouTube.com/watch?v=4hiDOB-qJ1U : 4hiDOB-qJ1U : Mastering Python - Overview of Collections - list and set - 02 Overview of list and set\n",
      "https://www.YouTube.com/watch?v=PH_2wtn1diI : PH_2wtn1diI : Mastering Python - Overview of Collections - list and set - 03 Common Operations\n",
      "https://www.YouTube.com/watch?v=aOZkxI1Njww : aOZkxI1Njww : Mastering Python - Overview of Collections - list and set - 04 Accessing elements from list\n",
      "https://www.YouTube.com/watch?v=CTn7lp8qwCs : CTn7lp8qwCs : Mastering Python - Overview of Collections - list and set - 05 Adding elements to list\n",
      "https://www.YouTube.com/watch?v=-7fS4iSiAAU : -7fS4iSiAAU : Mastering Python - Overview of Collections - list and set - 06 Updating and Deleting elements   list\n",
      "https://www.YouTube.com/watch?v=e5Q31cv9F-o : e5Q31cv9F-o : Mastering Python - Overview of Collections - list and set - 07 Other list operations\n",
      "https://www.YouTube.com/watch?v=MIdU52-_KIw : MIdU52-_KIw : Mastering Python - Overview of Collections - list and set - 08 Adding and Deleting elements   set\n",
      "https://www.YouTube.com/watch?v=7pQtZY6AcWk : 7pQtZY6AcWk : Mastering Python - Overview of Collections - list and set - 09 Typical set operations\n",
      "https://www.YouTube.com/watch?v=QIYmaH2tiew : QIYmaH2tiew : Mastering Python - Overview of Collections - list and set - 10 Validating sets\n",
      "https://www.YouTube.com/watch?v=tf_27AxQVqQ : tf_27AxQVqQ : Mastering Python - Overview of Collections - list and set - 11 list and set   Usage\n",
      "https://www.YouTube.com/watch?v=G79XqjTXm74 : G79XqjTXm74 : Mastering Python - Overview of Collections - dict and tuple - 02 Overview of dict and tuple\n",
      "https://www.YouTube.com/watch?v=Cc_zWN2u6F8 : Cc_zWN2u6F8 : Mastering Python - Overview of Collections - dict and tuple - 03 Common Operations   dict and tuple\n",
      "https://www.YouTube.com/watch?v=FpxL1G8ktOk : FpxL1G8ktOk : Mastering Python - Overview of Collections - dict and tuple - 04 Accessing Elements   dict\n",
      "https://www.YouTube.com/watch?v=fZ-QOUk-ia4 : fZ-QOUk-ia4 : Mastering Python - Overview of Collections - dict and tuple - 05 Accessing Elements   tuples\n",
      "https://www.YouTube.com/watch?v=EVp-skflxO4 : EVp-skflxO4 : Mastering Python - Overview of Collections - dict and tuple - 06 Manipulating dict\n",
      "https://www.YouTube.com/watch?v=-XmkPihHHhA : -XmkPihHHhA : Mastering Python - Overview of Collections - dict and tuple - 07 Common Examples   dict\n",
      "https://www.YouTube.com/watch?v=ad-GXe5J9RE : ad-GXe5J9RE : Mastering Python - Overview of Collections - dict and tuple - 08 List of Tuples\n",
      "https://www.YouTube.com/watch?v=pxwPEnLsKvU : pxwPEnLsKvU : Mastering Python - Overview of Collections - dict and tuple - 09 List of dicts\n"
     ]
    }
   ],
   "source": [
    "while True:\n",
    "    for video in playlistItems['items']:\n",
    "        videoDetails = youtube.videos().list(\n",
    "            part = 'snippet',\n",
    "            id = video['contentDetails']['videoId']\n",
    "        ).execute()\n",
    "#         print(f\"https://www.YouTube.com/watch?v={videoDetails['items'][0]['id']} : {videoDetails['items'][0]['id']} : {videoDetails['items'][0]['snippet']['title'].split(' - ')[-1]}\")\n",
    "        print(f\"https://www.YouTube.com/watch?v={videoDetails['items'][0]['id']} : {videoDetails['items'][0]['id']} : {videoDetails['items'][0]['snippet']['title']}\")\n",
    "    if playlistItems.get('nextPageToken'):\n",
    "        playlistItems = youtube.playlistItems().list(\n",
    "            part = 'contentDetails',\n",
    "            playlistId = playlist_id,\n",
    "            pageToken = playlistItems['nextPageToken'],\n",
    "            maxResults = 50\n",
    "        ).execute()\n",
    "    else: break"
   ]
  },
  {
   "cell_type": "code",
   "execution_count": null,
   "metadata": {},
   "outputs": [],
   "source": []
  }
 ],
 "metadata": {
  "kernelspec": {
   "display_name": "Python 3",
   "language": "python",
   "name": "python3"
  },
  "language_info": {
   "codemirror_mode": {
    "name": "ipython",
    "version": 3
   },
   "file_extension": ".py",
   "mimetype": "text/x-python",
   "name": "python",
   "nbconvert_exporter": "python",
   "pygments_lexer": "ipython3",
   "version": "3.6.12"
  }
 },
 "nbformat": 4,
 "nbformat_minor": 4
}
