{
 "cells": [
  {
   "cell_type": "markdown",
   "metadata": {},
   "source": [
    "## Setup Database\n",
    "\n",
    "Let us setup the database to store video metadata in normalized form.\n",
    "\n",
    "* Database Name: yt_db\n",
    "* User Name: yt_user\n",
    "* Here is the script to create database and required tables.\n",
    "\n",
    "```\n",
    "sudo -u postgres psql\n",
    "CREATE DATABASE yt_db;\n",
    "CREATE USER yt_user WITH ENCRYPTED PASSWORD 'yt_password';\n",
    "GRANT ALL ON DATABASE yt_db TO yt_user;\n",
    "```"
   ]
  },
  {
   "cell_type": "code",
   "execution_count": null,
   "metadata": {},
   "outputs": [],
   "source": [
    "import json"
   ]
  },
  {
   "cell_type": "code",
   "execution_count": null,
   "metadata": {},
   "outputs": [],
   "source": [
    "conf_path = 'conf.json'"
   ]
  },
  {
   "cell_type": "code",
   "execution_count": null,
   "metadata": {},
   "outputs": [],
   "source": [
    "conf_file = open(conf_path)"
   ]
  },
  {
   "cell_type": "code",
   "execution_count": null,
   "metadata": {},
   "outputs": [],
   "source": [
    "config = json.load(conf_file)"
   ]
  },
  {
   "cell_type": "code",
   "execution_count": null,
   "metadata": {},
   "outputs": [],
   "source": [
    "db_host = config['DEV']['DB_HOST']\n",
    "db_port = config['DEV']['DB_PORT']\n",
    "db_name = config['DEV']['DB_NAME']\n",
    "db_user = config['DEV']['DB_USER']\n",
    "db_pass = config['DEV']['DB_PASS']"
   ]
  },
  {
   "cell_type": "code",
   "execution_count": null,
   "metadata": {},
   "outputs": [],
   "source": [
    "import os\n",
    "\n",
    "os.environ.setdefault('DATABASE_URL', f'postgresql://{db_user}:{db_pass}@{db_host}:{db_port}/{db_name}')"
   ]
  }
 ],
 "metadata": {
  "kernelspec": {
   "display_name": "Python 3",
   "language": "python",
   "name": "python3"
  },
  "language_info": {
   "codemirror_mode": {
    "name": "ipython",
    "version": 3
   },
   "file_extension": ".py",
   "mimetype": "text/x-python",
   "name": "python",
   "nbconvert_exporter": "python",
   "pygments_lexer": "ipython3",
   "version": "3.6.12"
  }
 },
 "nbformat": 4,
 "nbformat_minor": 4
}
