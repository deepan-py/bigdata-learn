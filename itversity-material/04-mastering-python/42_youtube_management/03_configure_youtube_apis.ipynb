{
 "cells": [
  {
   "cell_type": "code",
   "execution_count": null,
   "metadata": {},
   "outputs": [],
   "source": [
    "!pip install --upgrade google-api-python-client\n",
    "!pip install --upgrade google-auth-oauthlib google-auth-httplib2"
   ]
  },
  {
   "cell_type": "code",
   "execution_count": 1,
   "metadata": {},
   "outputs": [],
   "source": [
    "auth_code = None"
   ]
  },
  {
   "cell_type": "code",
   "execution_count": 2,
   "metadata": {},
   "outputs": [],
   "source": [
    "#OAuth2 for YouTube Data v3 API\n",
    "\n",
    "def get_auth_code(credentials_path, auth_code):\n",
    "    if not auth_code:\n",
    "        from google_auth_oauthlib.flow import InstalledAppFlow\n",
    "\n",
    "        CLIENT_SECRET_FILE = credentials_path\n",
    "        SCOPES = ['https://www.googleapis.com/auth/youtube']\n",
    "\n",
    "        Flow = InstalledAppFlow.from_client_secrets_file(CLIENT_SECRET_FILE, SCOPES)\n",
    "\n",
    "        auth_code = Flow.run_console()\n",
    "    \n",
    "    return auth_code"
   ]
  },
  {
   "cell_type": "code",
   "execution_count": 3,
   "metadata": {},
   "outputs": [],
   "source": [
    "def build_youtube(auth_code):\n",
    "    from apiclient.discovery import build\n",
    "    return build('youtube','v3', credentials=auth_code)"
   ]
  },
  {
   "cell_type": "code",
   "execution_count": 4,
   "metadata": {},
   "outputs": [
    {
     "name": "stdout",
     "output_type": "stream",
     "text": [
      "Please visit this URL to authorize this application: https://accounts.google.com/o/oauth2/auth?response_type=code&client_id=684254837377-fgfrvlp2d6sml1975u58c9q6osj79tkt.apps.googleusercontent.com&redirect_uri=urn%3Aietf%3Awg%3Aoauth%3A2.0%3Aoob&scope=https%3A%2F%2Fwww.googleapis.com%2Fauth%2Fyoutube&state=qdfWnnIUFWoq1VJK3nibMyJdtDXmko&prompt=consent&access_type=offline\n"
     ]
    },
    {
     "name": "stdin",
     "output_type": "stream",
     "text": [
      "Enter the authorization code:  4/1AY0e-g5bbp3AJXY49VuDo18O9W21axAg4s_GkNk3qNlimuoUQQV73WdEwXU\n"
     ]
    }
   ],
   "source": [
    "if not auth_code:\n",
    "    auth_code = get_auth_code('client_secret_da.json', auth_code)"
   ]
  },
  {
   "cell_type": "code",
   "execution_count": 5,
   "metadata": {},
   "outputs": [],
   "source": [
    "youtube = build_youtube(auth_code)"
   ]
  },
  {
   "cell_type": "code",
   "execution_count": null,
   "metadata": {},
   "outputs": [],
   "source": []
  }
 ],
 "metadata": {
  "kernelspec": {
   "display_name": "Python 3",
   "language": "python",
   "name": "python3"
  },
  "language_info": {
   "codemirror_mode": {
    "name": "ipython",
    "version": 3
   },
   "file_extension": ".py",
   "mimetype": "text/x-python",
   "name": "python",
   "nbconvert_exporter": "python",
   "pygments_lexer": "ipython3",
   "version": "3.6.12"
  }
 },
 "nbformat": 4,
 "nbformat_minor": 4
}
