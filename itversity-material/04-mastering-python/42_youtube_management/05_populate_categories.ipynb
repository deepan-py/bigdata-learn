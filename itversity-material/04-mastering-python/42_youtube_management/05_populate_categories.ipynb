{
 "cells": [
  {
   "cell_type": "markdown",
   "metadata": {},
   "source": [
    "## Populate Categories Data\n",
    "\n",
    "Let us understand how to get YouTube Categories Data using Python as programming language using REST APIs.\n",
    "\n",
    "Here are the steps involved in getting the data.\n",
    "* Make sure to get the token and build **youtube** object.\n",
    "* We can get list of categories using `youtube.videoCategories().list` with appropriate arguments.\n",
    "* As per the table structure below we want category id and category name.\n",
    "  * Category Name comes from snippet part.\n",
    "* We need to pass `snippet` to part argument for `youtube.videoCategories().list` along with region code.\n",
    "\n",
    "```python\n",
    "video_categories = youtube.videoCategories().list(\n",
    "    part='snippet',\n",
    "    regionCode='US'\n",
    ").execute()\n",
    "```"
   ]
  },
  {
   "cell_type": "code",
   "execution_count": 1,
   "metadata": {},
   "outputs": [
    {
     "name": "stdout",
     "output_type": "stream",
     "text": [
      "Please visit this URL to authorize this application: https://accounts.google.com/o/oauth2/auth?response_type=code&client_id=684254837377-fgfrvlp2d6sml1975u58c9q6osj79tkt.apps.googleusercontent.com&redirect_uri=urn%3Aietf%3Awg%3Aoauth%3A2.0%3Aoob&scope=https%3A%2F%2Fwww.googleapis.com%2Fauth%2Fyoutube&state=eH4CI87GRg0RWCxluWEujLPsKyOgko&prompt=consent&access_type=offline\n"
     ]
    },
    {
     "name": "stdin",
     "output_type": "stream",
     "text": [
      "Enter the authorization code:  4/1AY0e-g7Vr9HT8BGRptMnyr6SP5f7pKqal-LO4HJs5bi94cayGQcUKMIAN24\n"
     ]
    }
   ],
   "source": [
    "%run 03_configure_youtube_apis.ipynb    "
   ]
  },
  {
   "cell_type": "code",
   "execution_count": null,
   "metadata": {},
   "outputs": [],
   "source": [
    "youtube"
   ]
  },
  {
   "cell_type": "code",
   "execution_count": 2,
   "metadata": {},
   "outputs": [],
   "source": [
    "video_categories = youtube.videoCategories().list(\n",
    "    part='snippet',\n",
    "    regionCode='US'\n",
    ").execute()"
   ]
  },
  {
   "cell_type": "code",
   "execution_count": 3,
   "metadata": {},
   "outputs": [
    {
     "data": {
      "text/plain": [
       "{'kind': 'youtube#videoCategory',\n",
       " 'etag': 'grPOPYEUUZN3ltuDUGEWlrTR90U',\n",
       " 'id': '1',\n",
       " 'snippet': {'title': 'Film & Animation',\n",
       "  'assignable': True,\n",
       "  'channelId': 'UCBR8-60-B28hp2BmDPdntcQ'}}"
      ]
     },
     "execution_count": 3,
     "metadata": {},
     "output_type": "execute_result"
    }
   ],
   "source": [
    "video_categories['items'][0]"
   ]
  },
  {
   "cell_type": "code",
   "execution_count": 4,
   "metadata": {},
   "outputs": [],
   "source": [
    "video_category_details = []\n",
    "for item in video_categories['items']:\n",
    "    video_category_details.append((item['id'], item['snippet']['title']))"
   ]
  },
  {
   "cell_type": "code",
   "execution_count": 5,
   "metadata": {},
   "outputs": [],
   "source": [
    "query = (\"\"\"\n",
    "INSERT INTO categories (\n",
    "    category_id, category_name\n",
    ")\n",
    "VALUES\n",
    "    (%s, %s)\n",
    "\"\"\")"
   ]
  },
  {
   "cell_type": "code",
   "execution_count": 6,
   "metadata": {},
   "outputs": [],
   "source": [
    "%run 04_function_get_database_connection.ipynb"
   ]
  },
  {
   "cell_type": "code",
   "execution_count": 8,
   "metadata": {},
   "outputs": [],
   "source": [
    "def load_data(connection, cursor, query, data):\n",
    "    cursor.executemany(query, data)\n",
    "    connection.commit()"
   ]
  },
  {
   "cell_type": "code",
   "execution_count": 9,
   "metadata": {},
   "outputs": [],
   "source": [
    "load_data(\n",
    "    yt_connection, yt_connection.cursor(), \n",
    "    query, video_category_details\n",
    ")"
   ]
  },
  {
   "cell_type": "markdown",
   "metadata": {},
   "source": [
    "```{note}\n",
    "We can build dict for categories data, in case we have to do a reverse lookup for category ids by passing category name.\n",
    "```"
   ]
  },
  {
   "cell_type": "code",
   "execution_count": 17,
   "metadata": {},
   "outputs": [],
   "source": [
    "categories_query = 'SELECT category_name, category_id FROM categories'"
   ]
  },
  {
   "cell_type": "code",
   "execution_count": 18,
   "metadata": {},
   "outputs": [],
   "source": [
    "categories_cursor = yt_connection.cursor()\n",
    "categories_cursor.execute(categories_query)\n",
    "categories = categories_cursor.fetchall()"
   ]
  },
  {
   "cell_type": "code",
   "execution_count": 20,
   "metadata": {},
   "outputs": [
    {
     "data": {
      "text/plain": [
       "{'Film & Animation': '1',\n",
       " 'Autos & Vehicles': '2',\n",
       " 'Music': '10',\n",
       " 'Pets & Animals': '15',\n",
       " 'Sports': '17',\n",
       " 'Short Movies': '18',\n",
       " 'Travel & Events': '19',\n",
       " 'Gaming': '20',\n",
       " 'Videoblogging': '21',\n",
       " 'People & Blogs': '22',\n",
       " 'Comedy': '34',\n",
       " 'Entertainment': '24',\n",
       " 'News & Politics': '25',\n",
       " 'Howto & Style': '26',\n",
       " 'Education': '27',\n",
       " 'Science & Technology': '28',\n",
       " 'Nonprofits & Activism': '29',\n",
       " 'Movies': '30',\n",
       " 'Anime/Animation': '31',\n",
       " 'Action/Adventure': '32',\n",
       " 'Classics': '33',\n",
       " 'Documentary': '35',\n",
       " 'Drama': '36',\n",
       " 'Family': '37',\n",
       " 'Foreign': '38',\n",
       " 'Horror': '39',\n",
       " 'Sci-Fi/Fantasy': '40',\n",
       " 'Thriller': '41',\n",
       " 'Shorts': '42',\n",
       " 'Shows': '43',\n",
       " 'Trailers': '44'}"
      ]
     },
     "execution_count": 20,
     "metadata": {},
     "output_type": "execute_result"
    }
   ],
   "source": [
    "dict(categories)"
   ]
  }
 ],
 "metadata": {
  "kernelspec": {
   "display_name": "Python 3",
   "language": "python",
   "name": "python3"
  },
  "language_info": {
   "codemirror_mode": {
    "name": "ipython",
    "version": 3
   },
   "file_extension": ".py",
   "mimetype": "text/x-python",
   "name": "python",
   "nbconvert_exporter": "python",
   "pygments_lexer": "ipython3",
   "version": "3.6.12"
  }
 },
 "nbformat": 4,
 "nbformat_minor": 4
}
