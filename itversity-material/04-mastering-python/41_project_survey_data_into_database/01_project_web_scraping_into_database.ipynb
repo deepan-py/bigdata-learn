{
 "cells": [
  {
   "cell_type": "markdown",
   "metadata": {
    "pycharm": {
     "name": "#%% md"
    }
   },
   "source": [
    "# Project – Web Scraping and loading into Database\n",
    "\n",
    "* Define Problem Statement\n",
    "* Setup Project\n",
    "* Overview of Python Virtual Environments\n",
    "* Installing required libraries\n",
    "* Setup Logging\n",
    "* Modularizing the Project\n",
    "* Setup Database\n",
    "* Create required table\n",
    "* Reading the data\n",
    "* Validating data\n",
    "* Apply required transformations\n",
    "* Writing to Database\n",
    "* Run queries against data"
   ]
  },
  {
   "cell_type": "code",
   "execution_count": null,
   "metadata": {},
   "outputs": [],
   "source": []
  }
 ],
 "metadata": {
  "kernelspec": {
   "display_name": "Python 3",
   "language": "python",
   "name": "python3"
  },
  "language_info": {
   "codemirror_mode": {
    "name": "ipython",
    "version": 3
   },
   "file_extension": ".py",
   "mimetype": "text/x-python",
   "name": "python",
   "nbconvert_exporter": "python",
   "pygments_lexer": "ipython3",
   "version": "3.6.12"
  }
 },
 "nbformat": 4,
 "nbformat_minor": 4
}
