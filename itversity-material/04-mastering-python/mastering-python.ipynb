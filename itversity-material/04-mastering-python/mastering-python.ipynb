{
 "cells": [
  {
   "cell_type": "markdown",
   "metadata": {},
   "source": [
    "# Mastering Python\n",
    "\n",
    "This course is primarily designed to learn Python as Programming language to build web or mobile applications, data engineering applications, automation etc."
   ]
  },
  {
   "cell_type": "markdown",
   "metadata": {},
   "source": [
    "## About Python\n",
    "\n",
    "Python is one of the leading programming language. It is an open source database and used for different types of applications.\n",
    "* Web Applications\n",
    "* Mobile Applications\n",
    "* Data Engineering Applications\n",
    "* Server Automation\n",
    "* Troubleshooting and Debugging\n",
    "* Quality Assurance\n",
    "* Data Science based Applications\n",
    "* and many many more\n",
    "\n",
    "It is one of the top 3 programming languages for almost a decade now along with Java and Java Script."
   ]
  },
  {
   "cell_type": "markdown",
   "metadata": {},
   "source": [
    "## Course Details\n",
    "\n",
    "This course is primarily designed to go through core programming using Python. It will serve as foundation for role specific courses for different types of IT Professionals or Roles. As part of this course you will be learning the following topics under core programming using Python.\n",
    "\n",
    "* Overview of GCP and Setup Ubuntu VM\n",
    "* Setup Postgres DB using Docker\n",
    "* Postgres Database Operations - Basic DDL and DML\n",
    "* Getting Started with Python\n",
    "* Basic Programming Constructs\n",
    "* Pre Defined Functions\n",
    "* User Defined Functions\n",
    "* Overview of Collections - list and set\n",
    "* Overview of Collections - dict and tuple\n",
    "* Manipulating Collections using loops\n",
    "* Overview of Map Reduce Libraries\n",
    "* Overview of Pandas Libraries\n",
    "* Database Programming - CRUD Operations\n",
    "* Database Programming - Batch Operations"
   ]
  },
  {
   "cell_type": "markdown",
   "metadata": {},
   "source": [
    "## Desired Audience\n",
    "\n",
    "Here are the desired audience for this course.\n",
    "* College students and entry level professionals to get hands on expertise with respect to programming using Python to be prepared for the interviews.\n",
    "* Experienced application developers to understand key aspects of Python Programming to build Python based Web or Mobile Applications.\n",
    "* Data Engineers and Data Warehouse Developers to understand key aspects of Python Programming to build batch or streaming pipelines.\n",
    "* Testers to improve their scripting abilities to validate data in the files tables etc.\n",
    "* DevOps Engineers, System Administrators, Database Administrators etc to understand Python as scripting language for the automation of day to day tasks.\n",
    "* Data Scientists to be proficient in Python Programming to build the models.\n",
    "\n",
    "```{note}\n",
    "This course only covers Fundamentals of Python which is useful for almost all the hands on technical roles. It does not include the role specific libraries.\n",
    "```"
   ]
  },
  {
   "cell_type": "markdown",
   "metadata": {},
   "source": [
    "## Prerequisites\n",
    "\n",
    "Here are the prerequisites before signing up for the course.\n",
    "\n",
    "````{panels}\n",
    "**Logistics**\n",
    "\n",
    "* Computer with decent configuration\n",
    "  * At least 4 GB RAM\n",
    "  * 8 GB RAM is highly desired\n",
    "* Chrome Browser\n",
    "* High Speed Internet\n",
    "\n",
    "---\n",
    "\n",
    "**Desired Skills**\n",
    "\n",
    "* Engineering or Science Degree\n",
    "* Ability to use computer\n",
    "* Knowledge or working experience with databases is highly desired\n",
    "\n",
    "````"
   ]
  },
  {
   "cell_type": "markdown",
   "metadata": {},
   "source": [
    "## Key Objectives\n",
    "The course is designed for the professionals to achieve these key objectives related to programming using Python as Programming Language.\n",
    "\n",
    "```{attention}\n",
    "This course is primarily designed to gain key database skills for application developers, data engineers, testers, business analysts etc.\n",
    "```"
   ]
  },
  {
   "cell_type": "markdown",
   "metadata": {},
   "source": [
    "## Training Approach\n",
    "Here are the details related to the training approach.\n",
    "* It is self paced with reference material, code snippets and videos.\n",
    "* One can either use environment provided by us or setup their own environment using Docker.\n",
    "* Modules will be published as and when they are ready. We would recommend to complete **2 modules every week** by spending **4 to 5 hours per week**.\n",
    "* It is highly recommended to take care of the exercises at the end to ensure that you are able to meet all the key objectives for each module.\n",
    "* Support will be provided either through chat or email.\n",
    "* For those who signed up, we will have weekly monitoring and review sessions to keep track of the progress.\n",
    "\n",
    "```{attention}\n",
    "Spend 4 to 5 hours per week up to 8 weeks and complete all the exercises to get best out of this course.\n",
    "```"
   ]
  },
  {
   "cell_type": "markdown",
   "metadata": {},
   "source": [
    "## Self Evaluation\n",
    "\n",
    "The course is designed in such a way that one can self evaluate through the course and confirm whether the skills are acquired.\n",
    "* Here is the approach we recommend you to take this course.\n",
    "  * Go through the consolidated exercises and see if you are able to solve the problems or not.\n",
    "  * Make sure to follow the order we have defined as part of the course.\n",
    "  * After each and every section or module, make sure to solve the exercises. We have provided enough information to validate the output of your queries.\n",
    "  * After the completion of the course try to solve the exercises using consolidated list.\n",
    "  * Keep in mind that you will be reviewing the same exercises before the course, during the course as well as at the end of the course.\n",
    "* By the end of the course, if you are able to solve the problems, then you can come to a conclusion that you are able to master the key skill called as SQL."
   ]
  }
 ],
 "metadata": {
  "kernelspec": {
   "display_name": "Python 3",
   "language": "python",
   "name": "python3"
  },
  "language_info": {
   "codemirror_mode": {
    "name": "ipython",
    "version": 3
   },
   "file_extension": ".py",
   "mimetype": "text/x-python",
   "name": "python",
   "nbconvert_exporter": "python",
   "pygments_lexer": "ipython3",
   "version": "3.6.12"
  }
 },
 "nbformat": 4,
 "nbformat_minor": 4
}
