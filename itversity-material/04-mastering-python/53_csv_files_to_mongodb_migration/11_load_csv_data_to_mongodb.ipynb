{
 "cells": [
  {
   "cell_type": "markdown",
   "id": "6aac930c-bda2-47e8-b0ec-783d86e5713f",
   "metadata": {},
   "source": [
    "## Load CSV Data to MongoDB\n",
    "\n",
    "Let us understand the overall process of loading CSV data to MongoDB with attribute level mapping.\n",
    "* Read data from file into a Pandas Dataframe.\n",
    "* Drop the fields that are not required and rename the fields as per the target structure defined.\n",
    "* Load the data to MongoDB using Bulk load. We can also load the data in chunks."
   ]
  },
  {
   "cell_type": "code",
   "execution_count": null,
   "id": "8ea61064-bbef-4766-82e6-2ea47d7a87ab",
   "metadata": {},
   "outputs": [],
   "source": [
    "import pandas as pd\n",
    "customers = pd.read_csv('/data/ecomm/customers/part-00000')"
   ]
  },
  {
   "cell_type": "code",
   "execution_count": null,
   "id": "b49e39be-ab1b-4ddc-81a2-d8b1b1e215f6",
   "metadata": {},
   "outputs": [],
   "source": [
    "column_mapping_str = '''{\n",
    "    \"customer_first_name\": {\"target_field_name\": \"FirstName\", \"is_required\": true},\n",
    "    \"customer_last_name\": {\"target_field_name\": \"LastName\", \"is_required\": true},\n",
    "    \"customer_email\": {\"target_field_name\": \"Email\", \"is_required\": true},\n",
    "    \"product_name\": {\"is_required\": false},\n",
    "    \"product_subscription\": {\"is_required\": false}\n",
    "}'''\n",
    "\n",
    "import json\n",
    "column_mapping = json.loads(column_mapping_str)\n",
    "\n",
    "# Assigning the list of not required fields to a variable\n",
    "columns_to_be_dropped = dict(list(filter(lambda col: not col[1]['is_required'], column_mapping.items()))).keys()\n",
    "required_columns_list = list(filter(lambda col: col[1]['is_required'], column_mapping.items()))\n",
    "required_columns_mapping = dict(map(lambda col: (col[0], col[1]['target_field_name']), required_columns_list))\n",
    "\n",
    "# This will take care of dropping the not required fields and rename others as per mapping\n",
    "customers_target = customers.drop(columns=columns_to_be_dropped).rename(columns=required_columns_mapping)"
   ]
  },
  {
   "cell_type": "code",
   "execution_count": null,
   "id": "007ffb0a-12e9-40cb-8bb3-669200a3c997",
   "metadata": {},
   "outputs": [],
   "source": [
    "import pymongo, getpass, configparser\n",
    "\n",
    "username = getpass.getuser()\n",
    "config = configparser.ConfigParser()\n",
    "config.read(f'/home/{username}/.jupyterenv')\n",
    "\n",
    "client = pymongo.MongoClient(\n",
    "    host='pylabsmd.itversity.com', \n",
    "    username=f'{username}_scratch_user', \n",
    "    password=config['DEFAULT']['MONGO_SCRATCH_PASS'], \n",
    "    authSource='admin'\n",
    ")"
   ]
  },
  {
   "cell_type": "code",
   "execution_count": null,
   "id": "c6ac4e11-0fee-4d5e-b86c-00ffbaac74f2",
   "metadata": {},
   "outputs": [],
   "source": [
    "client[f'{username}_scratch_db']['customers'].delete_many({})"
   ]
  },
  {
   "cell_type": "code",
   "execution_count": null,
   "id": "ec2d5cbf-b8f5-4e98-bf4c-bd73b23415b9",
   "metadata": {},
   "outputs": [],
   "source": [
    "for doc in client[f'{username}_scratch_db']['customers'].find({}):\n",
    "    print(doc)"
   ]
  },
  {
   "cell_type": "code",
   "execution_count": null,
   "id": "ea188fb5-ca7f-4262-bd18-7b7ab9e8580e",
   "metadata": {},
   "outputs": [],
   "source": [
    "customers_target.to_dict?"
   ]
  },
  {
   "cell_type": "code",
   "execution_count": null,
   "id": "3d5a6004-4b3f-41f8-88e5-4f137687473c",
   "metadata": {},
   "outputs": [],
   "source": [
    "# Pandas dataframe can be converted to list of dicts using to_dict function.\n",
    "customers_target.to_dict(orient='records')"
   ]
  },
  {
   "cell_type": "code",
   "execution_count": null,
   "id": "2bcd551a-269e-4b56-a89f-608593e7932f",
   "metadata": {},
   "outputs": [],
   "source": [
    "client[f'{username}_scratch_db']['customers'].insert_many(customers_target.to_dict(orient='records'))"
   ]
  },
  {
   "cell_type": "code",
   "execution_count": null,
   "id": "9cb855fa-cd74-4d3a-ae41-b1414a692f88",
   "metadata": {},
   "outputs": [],
   "source": [
    "for doc in client[f'{username}_scratch_db']['customers'].find({}):\n",
    "    print(doc)"
   ]
  }
 ],
 "metadata": {
  "kernelspec": {
   "display_name": "Python 3",
   "language": "python",
   "name": "python3"
  },
  "language_info": {
   "codemirror_mode": {
    "name": "ipython",
    "version": 3
   },
   "file_extension": ".py",
   "mimetype": "text/x-python",
   "name": "python",
   "nbconvert_exporter": "python",
   "pygments_lexer": "ipython3",
   "version": "3.7.10"
  }
 },
 "nbformat": 4,
 "nbformat_minor": 5
}
