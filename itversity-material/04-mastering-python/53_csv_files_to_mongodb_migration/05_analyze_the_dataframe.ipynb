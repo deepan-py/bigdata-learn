{
 "cells": [
  {
   "cell_type": "markdown",
   "id": "9647cc90-904c-470b-be3e-6a5115ff6caa",
   "metadata": {},
   "source": [
    "## Analyze the Dataframe\n",
    "\n",
    "Let us do some analysis of the Data Frame.\n",
    "* Get columns\n",
    "* Get data type of each column\n",
    "* Get number of records and columns\n",
    "* Get counts\n",
    "* Describe Dataframe"
   ]
  },
  {
   "cell_type": "code",
   "execution_count": 2,
   "id": "e9f98c4e-de80-4a96-937f-8880a6b9e9f1",
   "metadata": {},
   "outputs": [],
   "source": [
    "import pandas as pd\n",
    "customers = pd.read_csv('/data/ecomm/customers/part-00000')"
   ]
  },
  {
   "cell_type": "code",
   "execution_count": 3,
   "id": "bad80491-2405-4177-979b-1ba01dd13620",
   "metadata": {},
   "outputs": [
    {
     "data": {
      "text/plain": [
       "Index(['customer_first_name', 'customer_last_name', 'customer_email',\n",
       "       'product_name', 'product_subscription'],\n",
       "      dtype='object')"
      ]
     },
     "execution_count": 3,
     "metadata": {},
     "output_type": "execute_result"
    }
   ],
   "source": [
    "# List column names\n",
    "customers.columns"
   ]
  },
  {
   "cell_type": "code",
   "execution_count": 4,
   "id": "6b7836f6-1e89-4eef-a68b-abb44da8eac4",
   "metadata": {},
   "outputs": [
    {
     "data": {
      "text/plain": [
       "customer_first_name     object\n",
       "customer_last_name      object\n",
       "customer_email          object\n",
       "product_name            object\n",
       "product_subscription    object\n",
       "dtype: object"
      ]
     },
     "execution_count": 4,
     "metadata": {},
     "output_type": "execute_result"
    }
   ],
   "source": [
    "# List data types\n",
    "customers.dtypes"
   ]
  },
  {
   "cell_type": "code",
   "execution_count": 5,
   "id": "76b718c4-bf2e-4320-8995-f0343c43b9ff",
   "metadata": {},
   "outputs": [
    {
     "data": {
      "text/plain": [
       "(20, 5)"
      ]
     },
     "execution_count": 5,
     "metadata": {},
     "output_type": "execute_result"
    }
   ],
   "source": [
    "# Get count using shape. It returns tuple.\n",
    "# First element in the tuple is row count and second element is column count\n",
    "customers.shape"
   ]
  },
  {
   "cell_type": "code",
   "execution_count": 6,
   "id": "f4d89d1f-b400-4f56-9c1c-d8dbd3e89241",
   "metadata": {},
   "outputs": [],
   "source": [
    "row_count = customers.shape[0]"
   ]
  },
  {
   "cell_type": "code",
   "execution_count": 7,
   "id": "4a106de3-d8a6-4d30-b026-0e7d7f2b8696",
   "metadata": {},
   "outputs": [
    {
     "data": {
      "text/plain": [
       "20"
      ]
     },
     "execution_count": 7,
     "metadata": {},
     "output_type": "execute_result"
    }
   ],
   "source": [
    "row_count"
   ]
  },
  {
   "cell_type": "code",
   "execution_count": 8,
   "id": "ab73ea86-ea12-4631-8968-7b103ad0d9ed",
   "metadata": {},
   "outputs": [],
   "source": [
    "col_count = customers.shape[1]"
   ]
  },
  {
   "cell_type": "code",
   "execution_count": 9,
   "id": "d44fa135-ede0-4607-832b-1dba60c4c1b4",
   "metadata": {},
   "outputs": [
    {
     "data": {
      "text/plain": [
       "5"
      ]
     },
     "execution_count": 9,
     "metadata": {},
     "output_type": "execute_result"
    }
   ],
   "source": [
    "col_count"
   ]
  },
  {
   "cell_type": "code",
   "execution_count": 10,
   "id": "192fdbe7-5fb5-44ae-9fa3-a99ddd900142",
   "metadata": {},
   "outputs": [
    {
     "data": {
      "text/plain": [
       "customer_first_name     20\n",
       "customer_last_name      20\n",
       "customer_email          20\n",
       "product_name            20\n",
       "product_subscription    20\n",
       "dtype: int64"
      ]
     },
     "execution_count": 10,
     "metadata": {},
     "output_type": "execute_result"
    }
   ],
   "source": [
    "customers.count()"
   ]
  },
  {
   "cell_type": "code",
   "execution_count": 11,
   "id": "ee81805b-eb5c-4910-aaee-b5024757d06a",
   "metadata": {},
   "outputs": [
    {
     "data": {
      "text/html": [
       "<div>\n",
       "<style scoped>\n",
       "    .dataframe tbody tr th:only-of-type {\n",
       "        vertical-align: middle;\n",
       "    }\n",
       "\n",
       "    .dataframe tbody tr th {\n",
       "        vertical-align: top;\n",
       "    }\n",
       "\n",
       "    .dataframe thead th {\n",
       "        text-align: right;\n",
       "    }\n",
       "</style>\n",
       "<table border=\"1\" class=\"dataframe\">\n",
       "  <thead>\n",
       "    <tr style=\"text-align: right;\">\n",
       "      <th></th>\n",
       "      <th>customer_first_name</th>\n",
       "      <th>customer_last_name</th>\n",
       "      <th>customer_email</th>\n",
       "      <th>product_name</th>\n",
       "      <th>product_subscription</th>\n",
       "    </tr>\n",
       "  </thead>\n",
       "  <tbody>\n",
       "    <tr>\n",
       "      <th>count</th>\n",
       "      <td>20</td>\n",
       "      <td>20</td>\n",
       "      <td>20</td>\n",
       "      <td>20</td>\n",
       "      <td>20</td>\n",
       "    </tr>\n",
       "    <tr>\n",
       "      <th>unique</th>\n",
       "      <td>20</td>\n",
       "      <td>20</td>\n",
       "      <td>20</td>\n",
       "      <td>3</td>\n",
       "      <td>3</td>\n",
       "    </tr>\n",
       "    <tr>\n",
       "      <th>top</th>\n",
       "      <td>Myrilla</td>\n",
       "      <td>Collinson</td>\n",
       "      <td>tdilliwayh@statcounter.com</td>\n",
       "      <td>prime video</td>\n",
       "      <td>yearly</td>\n",
       "    </tr>\n",
       "    <tr>\n",
       "      <th>freq</th>\n",
       "      <td>1</td>\n",
       "      <td>1</td>\n",
       "      <td>1</td>\n",
       "      <td>8</td>\n",
       "      <td>8</td>\n",
       "    </tr>\n",
       "  </tbody>\n",
       "</table>\n",
       "</div>"
      ],
      "text/plain": [
       "       customer_first_name customer_last_name              customer_email  \\\n",
       "count                   20                 20                          20   \n",
       "unique                  20                 20                          20   \n",
       "top                Myrilla          Collinson  tdilliwayh@statcounter.com   \n",
       "freq                     1                  1                           1   \n",
       "\n",
       "       product_name product_subscription  \n",
       "count            20                   20  \n",
       "unique            3                    3  \n",
       "top     prime video               yearly  \n",
       "freq              8                    8  "
      ]
     },
     "execution_count": 11,
     "metadata": {},
     "output_type": "execute_result"
    }
   ],
   "source": [
    "customers.describe()"
   ]
  },
  {
   "cell_type": "code",
   "execution_count": null,
   "id": "8b6603bd-a9b1-49d5-ab31-38a895f1d9b0",
   "metadata": {},
   "outputs": [],
   "source": []
  }
 ],
 "metadata": {
  "kernelspec": {
   "display_name": "Python 3",
   "language": "python",
   "name": "python3"
  },
  "language_info": {
   "codemirror_mode": {
    "name": "ipython",
    "version": 3
   },
   "file_extension": ".py",
   "mimetype": "text/x-python",
   "name": "python",
   "nbconvert_exporter": "python",
   "pygments_lexer": "ipython3",
   "version": "3.7.10"
  }
 },
 "nbformat": 4,
 "nbformat_minor": 5
}
