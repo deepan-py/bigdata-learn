{
 "cells": [
  {
   "cell_type": "markdown",
   "id": "6aac930c-bda2-47e8-b0ec-783d86e5713f",
   "metadata": {},
   "source": [
    "## Load Data in Chunks\n",
    "\n",
    "Let us understand the overall process of loading CSV data to MongoDB with attribute level mapping in chunks.\n",
    "* Read data from file into a Pandas Dataframe.\n",
    "* Drop the fields that are not required and rename the fields as per the target structure defined.\n",
    "* Load the data to MongoDB using Bulk load. We can also load the data in chunks.\n",
    "* While loading the data to target database table, it might be better to load the data in chunks. For example, if we have 10,000 records to be loaded, it is a good practice to load in smaller chunks. The chunk size will be determined considering several factors.\n",
    "* For this demo, we will be loading 6 records at a time rather than loading all the 20 records in one shot."
   ]
  },
  {
   "cell_type": "code",
   "execution_count": null,
   "id": "8ea61064-bbef-4766-82e6-2ea47d7a87ab",
   "metadata": {},
   "outputs": [],
   "source": [
    "import pandas as pd\n",
    "customers = pd.read_csv('/data/ecomm/customers/part-00000')"
   ]
  },
  {
   "cell_type": "markdown",
   "id": "5fb565d7-b1d3-49ed-a588-1dc321f86526",
   "metadata": {},
   "source": [
    "* Get list of fields that need to be dropped as well as mapping between source and target columns."
   ]
  },
  {
   "cell_type": "code",
   "execution_count": null,
   "id": "25d75982-e783-447c-afdc-dd1f02276e85",
   "metadata": {},
   "outputs": [],
   "source": [
    "column_mapping_str = '''{\n",
    "    \"customer_first_name\": {\"target_field_name\": \"FirstName\", \"is_required\": true},\n",
    "    \"customer_last_name\": {\"target_field_name\": \"LastName\", \"is_required\": true},\n",
    "    \"customer_email\": {\"target_field_name\": \"Email\", \"is_required\": true},\n",
    "    \"product_name\": {\"is_required\": false},\n",
    "    \"product_subscription\": {\"is_required\": false}\n",
    "}'''\n",
    "\n",
    "import json\n",
    "column_mapping = json.loads(column_mapping_str)\n",
    "\n",
    "# Assigning the list of not required fields to a variable\n",
    "columns_to_be_dropped = dict(\n",
    "    list(\n",
    "        filter(\n",
    "            lambda col: not col[1]['is_required'], \n",
    "            column_mapping.items()\n",
    "        )\n",
    "    )\n",
    ").keys()\n",
    "\n",
    "required_columns_list = list(\n",
    "    filter(\n",
    "        lambda col: col[1]['is_required'], \n",
    "        column_mapping.items()\n",
    "    )\n",
    ")\n",
    "\n",
    "required_columns_mapping = dict(\n",
    "    map(\n",
    "        lambda col: (col[0], col[1]['target_field_name']), \n",
    "        required_columns_list\n",
    "    )\n",
    ")"
   ]
  },
  {
   "cell_type": "markdown",
   "id": "c566fbcd-0d90-44bf-9d8f-86bc75779b9f",
   "metadata": {},
   "source": [
    "* Process the data to drop the columns that are not required and columns are renamed as per target structure."
   ]
  },
  {
   "cell_type": "code",
   "execution_count": null,
   "id": "f7b7a772-6903-4768-86f6-336ca537007a",
   "metadata": {},
   "outputs": [],
   "source": [
    "# This will take care of dropping the not required fields and rename others as per mapping\n",
    "customers_target = customers. \\\n",
    "    drop(columns=columns_to_be_dropped). \\\n",
    "    rename(columns=required_columns_mapping)"
   ]
  },
  {
   "cell_type": "markdown",
   "id": "e3ab656a-fbcb-4c9b-bec7-dd917f1acc64",
   "metadata": {},
   "source": [
    "* Create MongoDB Connection."
   ]
  },
  {
   "cell_type": "code",
   "execution_count": null,
   "id": "007ffb0a-12e9-40cb-8bb3-669200a3c997",
   "metadata": {},
   "outputs": [],
   "source": [
    "import pymongo, getpass, configparser\n",
    "\n",
    "username = getpass.getuser()\n",
    "config = configparser.ConfigParser()\n",
    "config.read(f'/home/{username}/.jupyterenv')\n",
    "\n",
    "client = pymongo.MongoClient(\n",
    "    host='pylabsmd.itversity.com', \n",
    "    username=f'{username}_scratch_user', \n",
    "    password=config['DEFAULT']['MONGO_SCRATCH_PASS'], \n",
    "    authSource='admin'\n",
    ")"
   ]
  },
  {
   "cell_type": "markdown",
   "id": "f682199f-de6b-4915-805a-7b1ff9b10eb4",
   "metadata": {},
   "source": [
    "* Cleanup the data in the collection before loading so that we will not end up with duplicate data."
   ]
  },
  {
   "cell_type": "code",
   "execution_count": null,
   "id": "c6ac4e11-0fee-4d5e-b86c-00ffbaac74f2",
   "metadata": {},
   "outputs": [],
   "source": [
    "client[f'{username}_scratch_db']['customers'].delete_many({})"
   ]
  },
  {
   "cell_type": "code",
   "execution_count": null,
   "id": "ec2d5cbf-b8f5-4e98-bf4c-bd73b23415b9",
   "metadata": {},
   "outputs": [],
   "source": [
    "for doc in client[f'{username}_scratch_db']['customers'].find({}):\n",
    "    print(doc)"
   ]
  },
  {
   "cell_type": "code",
   "execution_count": null,
   "id": "ea188fb5-ca7f-4262-bd18-7b7ab9e8580e",
   "metadata": {},
   "outputs": [],
   "source": [
    "customers_target.to_dict?"
   ]
  },
  {
   "cell_type": "code",
   "execution_count": null,
   "id": "3d5a6004-4b3f-41f8-88e5-4f137687473c",
   "metadata": {},
   "outputs": [],
   "source": [
    "customers_list = customers_target.to_dict(orient='records')"
   ]
  },
  {
   "cell_type": "code",
   "execution_count": null,
   "id": "61161400-ce34-453c-aacf-3862eebaf25f",
   "metadata": {},
   "outputs": [],
   "source": [
    "len(customers_list)"
   ]
  },
  {
   "cell_type": "code",
   "execution_count": null,
   "id": "24fc4bec-ba04-4fe6-9be6-8adad03edf9e",
   "metadata": {},
   "outputs": [],
   "source": [
    "customers_list_range = list(range(0, len(customers_list), 6))"
   ]
  },
  {
   "cell_type": "code",
   "execution_count": null,
   "id": "2cf01215-c22d-4fb7-97a3-399510765c1d",
   "metadata": {},
   "outputs": [],
   "source": [
    "customers_list_range[:-1]"
   ]
  },
  {
   "cell_type": "code",
   "execution_count": null,
   "id": "3f52037c-5b8b-4ca6-b7bd-a49fca09af71",
   "metadata": {},
   "outputs": [],
   "source": [
    "customers_list_range[1:]"
   ]
  },
  {
   "cell_type": "code",
   "execution_count": null,
   "id": "f90b1385-9b65-4bd5-b139-cab326ed0ffd",
   "metadata": {},
   "outputs": [],
   "source": [
    "list(zip(customers_list_range[:-1], customers_list_range[1:]))"
   ]
  },
  {
   "cell_type": "markdown",
   "id": "d4f1862b-b856-4de9-980c-d4ce331f3ab2",
   "metadata": {},
   "source": [
    "* Generate chunk lower bound and upper bounds"
   ]
  },
  {
   "cell_type": "code",
   "execution_count": null,
   "id": "2db3bc4d-4823-4ff8-95ad-ef59b7a51f77",
   "metadata": {},
   "outputs": [],
   "source": [
    "chunks = list(zip(customers_list_range[:-1], customers_list_range[1:]))"
   ]
  },
  {
   "cell_type": "code",
   "execution_count": null,
   "id": "51da798b-0dab-40b8-8a2c-8571c32c7215",
   "metadata": {},
   "outputs": [],
   "source": [
    "for lb, ub in chunks:\n",
    "    print(f'Processing from {lb} to {ub}')\n",
    "    print(customers_list[lb:ub])\n",
    "\n",
    "print(f'Processing last set from {ub} to {len(customers_list)}')\n",
    "print(customers_list[ub:])"
   ]
  },
  {
   "cell_type": "markdown",
   "id": "dbb2cce9-c035-40a8-8949-16581d45bf53",
   "metadata": {},
   "source": [
    "* Store data into MongoDB collection in chunks."
   ]
  },
  {
   "cell_type": "code",
   "execution_count": null,
   "id": "ec71221e-c6d4-41e6-abf6-b0d1a4299d8c",
   "metadata": {},
   "outputs": [],
   "source": [
    "for lb, ub in chunks:\n",
    "    print(f'Processing from {lb} to {ub}')\n",
    "    client[f'{username}_scratch_db']['customers'].insert_many(customers_list[lb:ub])\n",
    "\n",
    "print(f'Processing last set from {ub} to {len(customers_list)}')\n",
    "client[f'{username}_scratch_db']['customers'].insert_many(customers_list[ub:])"
   ]
  },
  {
   "cell_type": "code",
   "execution_count": null,
   "id": "9cb855fa-cd74-4d3a-ae41-b1414a692f88",
   "metadata": {},
   "outputs": [],
   "source": [
    "for doc in client[f'{username}_scratch_db']['customers'].find({}):\n",
    "    print(doc)"
   ]
  },
  {
   "cell_type": "code",
   "execution_count": null,
   "id": "eadef7dd-b2b7-4304-ac97-2ee9c8c0616d",
   "metadata": {},
   "outputs": [],
   "source": [
    "client[f'{username}_scratch_db']['customers'].count_documents({})"
   ]
  }
 ],
 "metadata": {
  "kernelspec": {
   "display_name": "Python 3",
   "language": "python",
   "name": "python3"
  },
  "language_info": {
   "codemirror_mode": {
    "name": "ipython",
    "version": 3
   },
   "file_extension": ".py",
   "mimetype": "text/x-python",
   "name": "python",
   "nbconvert_exporter": "python",
   "pygments_lexer": "ipython3",
   "version": "3.7.10"
  }
 },
 "nbformat": 4,
 "nbformat_minor": 5
}
