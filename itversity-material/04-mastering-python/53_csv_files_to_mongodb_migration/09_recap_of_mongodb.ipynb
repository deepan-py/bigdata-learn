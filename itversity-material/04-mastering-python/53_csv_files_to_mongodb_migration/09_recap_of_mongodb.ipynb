{
 "cells": [
  {
   "cell_type": "markdown",
   "id": "10a00999-70b3-49fc-9a8d-89b61f446dcc",
   "metadata": {},
   "source": [
    "## Recap of MongoDB\n",
    "\n",
    "Let us recap MongoDB, especially using Python as Programming Language.\n",
    "* As in any database we need to create client object using following information.\n",
    "  * Host on which MongoDB is running.\n",
    "  * Port on which MongoDB is running on the server.\n",
    "  * Application Database Name in which MongoDB collections for the application are supposed to be created.\n",
    "  * Username with appropriate permissions to manage data in MongoDB collections.\n",
    "  * Password for the user we are going to use to connect to MongoDB database to manage data in MongoDB collections.\n",
    "* Here are the connection details.\n",
    "  * Host: **pylabsmd.itversity.com**\n",
    "  * Port: **27017** (default port)\n",
    "  * Database Name: **{username}_scratch_db**\n",
    "  * Username: **{username}_scratch_user**\n",
    "  * Password: The password will be part of **/home/${USER}/.jupyterenv** with key **MONGO_SCRATCH_PASS** under **DEFAULT**"
   ]
  },
  {
   "cell_type": "code",
   "execution_count": 3,
   "id": "6f05fc3d-cbd3-4d09-b2a6-4a54ce7c9758",
   "metadata": {},
   "outputs": [
    {
     "name": "stdout",
     "output_type": "stream",
     "text": [
      "-rw-rw-r-- 1 itversity itversity 41 May 31 16:13 /home/itversity/.jupyterenv\n"
     ]
    }
   ],
   "source": [
    "!ls -ltr /home/${USER}/.jupyterenv"
   ]
  },
  {
   "cell_type": "code",
   "execution_count": 5,
   "id": "d3c67253-ac78-4caf-a38a-e62044a109f5",
   "metadata": {},
   "outputs": [],
   "source": [
    "import pymongo, getpass, configparser\n",
    "\n",
    "username = getpass.getuser()\n",
    "config = configparser.ConfigParser()\n",
    "config.read(f'/home/{username}/.jupyterenv')\n",
    "\n",
    "client = pymongo.MongoClient(\n",
    "    host='pylabsmd.itversity.com', \n",
    "    username=f'{username}_scratch_user', \n",
    "    password=config['DEFAULT']['MONGO_SCRATCH_PASS'], \n",
    "    authSource='admin'\n",
    ")"
   ]
  },
  {
   "cell_type": "code",
   "execution_count": 6,
   "id": "78edb052-7d12-43d8-8828-b6af878208a6",
   "metadata": {},
   "outputs": [
    {
     "data": {
      "text/plain": [
       "['customers']"
      ]
     },
     "execution_count": 6,
     "metadata": {},
     "output_type": "execute_result"
    }
   ],
   "source": [
    "client.itversity_scratch_db.list_collection_names()"
   ]
  },
  {
   "cell_type": "code",
   "execution_count": null,
   "id": "68bbfe65-3194-4a0f-b645-3563f3b569a2",
   "metadata": {},
   "outputs": [],
   "source": []
  }
 ],
 "metadata": {
  "kernelspec": {
   "display_name": "Python 3",
   "language": "python",
   "name": "python3"
  },
  "language_info": {
   "codemirror_mode": {
    "name": "ipython",
    "version": 3
   },
   "file_extension": ".py",
   "mimetype": "text/x-python",
   "name": "python",
   "nbconvert_exporter": "python",
   "pygments_lexer": "ipython3",
   "version": "3.7.10"
  }
 },
 "nbformat": 4,
 "nbformat_minor": 5
}
