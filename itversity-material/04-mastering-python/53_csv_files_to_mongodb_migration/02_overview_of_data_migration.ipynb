{
 "cells": [
  {
   "cell_type": "markdown",
   "id": "7eb26534-90bc-4af9-8024-5d60c113c7be",
   "metadata": {},
   "source": [
    "## Data Conversion with Attribute Names\n",
    "\n",
    "At times we might have to convert the data in files into JSON with different names for the attributes.\n",
    "* Let us go through the details about the actual usage.\n",
    "  * An eCommerce platform will be a mobile app or web app. Using eCommerce platform we typically sell products to the customers. The data will be typically in RDBMS database such as Postgres, MySQL, Oracle, SQL Server etc.\n",
    "  * However, the eCommerce company who runs the platform want to run the loyalty program. For that they build an application using MongoDB database.\n",
    "  * Now we need to integrate the customer data in RDBMS database into the MongoDB database built for loyalty program application.\n",
    "  * We can either integrate data between the eCommerce Platform and loyalty program in batch mode or real time.\n",
    "  * Batch mode means the data from the eCommerce Platform database will be sent once every day in the form of files and we should have a scheduled job which will load this data into the target MongoDB database built for loyalty program.\n",
    "* Let us assume that data is sent every day into the location **/data/ecomm/customers** for previous day.\n",
    "* Here is the file naming convention - **part-00000**. The name of the file will be incremented for each of the new file added with incremental data.\n",
    "* For now, we have customer data available under **/data/ecomm/customers/part-00000**.\n",
    "* Make sure to understand characteristics of the data.\n",
    "* Use appropriate Pandas API to read the data.\n",
    "* Convert the data into the dataframe and perform required transformations.\n",
    "  * "
   ]
  }
 ],
 "metadata": {
  "kernelspec": {
   "display_name": "Python 3",
   "language": "python",
   "name": "python3"
  },
  "language_info": {
   "codemirror_mode": {
    "name": "ipython",
    "version": 3
   },
   "file_extension": ".py",
   "mimetype": "text/x-python",
   "name": "python",
   "nbconvert_exporter": "python",
   "pygments_lexer": "ipython3",
   "version": "3.7.10"
  }
 },
 "nbformat": 4,
 "nbformat_minor": 5
}
