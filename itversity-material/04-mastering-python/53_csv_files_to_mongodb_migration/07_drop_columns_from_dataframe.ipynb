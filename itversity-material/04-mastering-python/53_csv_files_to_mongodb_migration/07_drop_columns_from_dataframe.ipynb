{
 "cells": [
  {
   "cell_type": "markdown",
   "id": "95043c92-e1b3-4f54-bf74-394e6eb0f7cf",
   "metadata": {},
   "source": [
    "## Drop Columns from Dataframe\n",
    "\n",
    "Let us get the list of not required columns from column mapping and drop them from the Dataframe.\n",
    "* For each source column we have defined target attribute details.\n",
    "* **is_required** is one of the target attribute details. If **is_required** is false, then we would like to discard those fields before writing into the target table.\n",
    "* We need to develop the logic to get list of columns where **is_required** is false.\n",
    "* We can pass the list to the drop function on top of Dataframe."
   ]
  },
  {
   "cell_type": "code",
   "execution_count": 5,
   "id": "37002745-2b18-41ce-9eb8-51f6f47b896e",
   "metadata": {},
   "outputs": [],
   "source": [
    "import pandas as pd\n",
    "customers = pd.read_csv('/data/ecomm/customers/part-00000')"
   ]
  },
  {
   "cell_type": "code",
   "execution_count": 6,
   "id": "b9dac524-268e-4819-905e-8df6b26072ff",
   "metadata": {},
   "outputs": [],
   "source": [
    "column_mapping_str = '''{\n",
    "    \"customer_first_name\": {\"target_field_name\": \"FirstName\", \"is_required\": true},\n",
    "    \"customer_last_name\": {\"target_field_name\": \"LastName\", \"is_required\": true},\n",
    "    \"customer_email\": {\"target_field_name\": \"Email\", \"is_required\": true},\n",
    "    \"product_name\": {\"is_required\": false},\n",
    "    \"product_subscription\": {\"is_required\": false}\n",
    "}'''"
   ]
  },
  {
   "cell_type": "code",
   "execution_count": 7,
   "id": "c26ff62e-65a0-4bed-b3b5-9d4bb8fbd786",
   "metadata": {},
   "outputs": [],
   "source": [
    "import json\n",
    "column_mapping = json.loads(column_mapping_str)"
   ]
  },
  {
   "cell_type": "code",
   "execution_count": 8,
   "id": "a85c8cd9-df3f-4038-90f4-c2ecf76392dd",
   "metadata": {},
   "outputs": [
    {
     "data": {
      "text/plain": [
       "dict_items([('customer_first_name', {'target_field_name': 'FirstName', 'is_required': True}), ('customer_last_name', {'target_field_name': 'LastName', 'is_required': True}), ('customer_email', {'target_field_name': 'Email', 'is_required': True}), ('product_name', {'is_required': False}), ('product_subscription', {'is_required': False})])"
      ]
     },
     "execution_count": 8,
     "metadata": {},
     "output_type": "execute_result"
    }
   ],
   "source": [
    "# Converts dict to list of tuples\n",
    "column_mapping.items()"
   ]
  },
  {
   "cell_type": "code",
   "execution_count": 9,
   "id": "785dceb1-539d-45c4-9108-adf20524a603",
   "metadata": {},
   "outputs": [
    {
     "data": {
      "text/plain": [
       "('customer_first_name',\n",
       " {'target_field_name': 'FirstName', 'is_required': True})"
      ]
     },
     "execution_count": 9,
     "metadata": {},
     "output_type": "execute_result"
    }
   ],
   "source": [
    "# Get first tuple from the list\n",
    "list(column_mapping.items())[0]"
   ]
  },
  {
   "cell_type": "code",
   "execution_count": 10,
   "id": "f670b6bb-669d-4707-a63c-2a726e949ef4",
   "metadata": {},
   "outputs": [],
   "source": [
    "# Assigning first tuple to a variable\n",
    "col = list(column_mapping.items())[0]"
   ]
  },
  {
   "cell_type": "code",
   "execution_count": 11,
   "id": "06a80181-8ce1-4348-97c8-b806e1d65a47",
   "metadata": {},
   "outputs": [
    {
     "data": {
      "text/plain": [
       "{'target_field_name': 'FirstName', 'is_required': True}"
      ]
     },
     "execution_count": 11,
     "metadata": {},
     "output_type": "execute_result"
    }
   ],
   "source": [
    "# Getting second element from the tuple\n",
    "# This will return target attribute details\n",
    "# It is of type dict\n",
    "col[1]"
   ]
  },
  {
   "cell_type": "code",
   "execution_count": 32,
   "id": "20d819ab-2fa8-49da-af16-ae49130f06df",
   "metadata": {},
   "outputs": [
    {
     "data": {
      "text/plain": [
       "True"
      ]
     },
     "execution_count": 32,
     "metadata": {},
     "output_type": "execute_result"
    }
   ],
   "source": [
    "# Getting the value of is_required from the dict\n",
    "col[1]['is_required']"
   ]
  },
  {
   "cell_type": "code",
   "execution_count": 12,
   "id": "ab8ca207-4f4b-4d0e-b5ef-32a3c5100ac2",
   "metadata": {},
   "outputs": [
    {
     "data": {
      "text/plain": [
       "('product_subscription', {'is_required': False})"
      ]
     },
     "execution_count": 12,
     "metadata": {},
     "output_type": "execute_result"
    }
   ],
   "source": [
    "# Same process for 5th element in the list of tuples\n",
    "list(column_mapping.items())[4] # Picking 5th element in the list"
   ]
  },
  {
   "cell_type": "code",
   "execution_count": 78,
   "id": "244007f2-551d-4fd5-8a17-17b53bbb9724",
   "metadata": {},
   "outputs": [],
   "source": [
    "col = list(column_mapping.items())[4]"
   ]
  },
  {
   "cell_type": "code",
   "execution_count": 79,
   "id": "622c172b-c7ee-44e4-972b-518d87567e64",
   "metadata": {},
   "outputs": [
    {
     "data": {
      "text/plain": [
       "{'is_required': False}"
      ]
     },
     "execution_count": 79,
     "metadata": {},
     "output_type": "execute_result"
    }
   ],
   "source": [
    "col[1]"
   ]
  },
  {
   "cell_type": "code",
   "execution_count": 80,
   "id": "c15b988b-007d-446c-b22d-4116781ec741",
   "metadata": {},
   "outputs": [
    {
     "data": {
      "text/plain": [
       "False"
      ]
     },
     "execution_count": 80,
     "metadata": {},
     "output_type": "execute_result"
    }
   ],
   "source": [
    "col[1]['is_required']"
   ]
  },
  {
   "cell_type": "code",
   "execution_count": 42,
   "id": "24f705cf-a71c-45cc-9492-1165051a94e0",
   "metadata": {},
   "outputs": [
    {
     "data": {
      "text/plain": [
       "True"
      ]
     },
     "execution_count": 42,
     "metadata": {},
     "output_type": "execute_result"
    }
   ],
   "source": [
    "not col[1]['is_required']"
   ]
  },
  {
   "cell_type": "code",
   "execution_count": 13,
   "id": "65c51b86-8384-4313-b347-a64ab30f40ed",
   "metadata": {},
   "outputs": [
    {
     "data": {
      "text/plain": [
       "[('product_name', {'is_required': False}),\n",
       " ('product_subscription', {'is_required': False})]"
      ]
     },
     "execution_count": 13,
     "metadata": {},
     "output_type": "execute_result"
    }
   ],
   "source": [
    "# Returns list of items where is_required is false\n",
    "list(filter(lambda col: not col[1]['is_required'], column_mapping.items()))"
   ]
  },
  {
   "cell_type": "code",
   "execution_count": 14,
   "id": "96f43938-70f5-494e-af0e-addb6e84a1fe",
   "metadata": {},
   "outputs": [
    {
     "data": {
      "text/plain": [
       "{'product_name': {'is_required': False},\n",
       " 'product_subscription': {'is_required': False}}"
      ]
     },
     "execution_count": 14,
     "metadata": {},
     "output_type": "execute_result"
    }
   ],
   "source": [
    "# Convert to a dict\n",
    "dict(list(filter(lambda col: not col[1]['is_required'], column_mapping.items())))"
   ]
  },
  {
   "cell_type": "code",
   "execution_count": 15,
   "id": "47529388-4786-4bea-84e3-58b53d443c3b",
   "metadata": {},
   "outputs": [
    {
     "data": {
      "text/plain": [
       "dict_keys(['product_name', 'product_subscription'])"
      ]
     },
     "execution_count": 15,
     "metadata": {},
     "output_type": "execute_result"
    }
   ],
   "source": [
    "# Get list of not required fields\n",
    "dict(list(filter(lambda col: not col[1]['is_required'], column_mapping.items()))).keys()"
   ]
  },
  {
   "cell_type": "code",
   "execution_count": 18,
   "id": "819fe513-f34b-4191-a18a-9e9293218902",
   "metadata": {},
   "outputs": [],
   "source": [
    "# Assigning the list of not required fields to a variable\n",
    "columns_to_be_dropped = dict(list(filter(lambda col: not col[1]['is_required'], column_mapping.items()))).keys()"
   ]
  },
  {
   "cell_type": "markdown",
   "id": "efa53f01-dbe9-4d17-8f9b-12dc6054f621",
   "metadata": {},
   "source": [
    "* You can use drop on dataframe to drop the columns. You can pass the names using `columns` keyword argument."
   ]
  },
  {
   "cell_type": "code",
   "execution_count": 19,
   "id": "894c2247-0080-4848-a537-c983f7112d95",
   "metadata": {},
   "outputs": [
    {
     "data": {
      "text/plain": [
       "\u001b[0;31mSignature:\u001b[0m\n",
       "\u001b[0mcustomers\u001b[0m\u001b[0;34m.\u001b[0m\u001b[0mdrop\u001b[0m\u001b[0;34m(\u001b[0m\u001b[0;34m\u001b[0m\n",
       "\u001b[0;34m\u001b[0m    \u001b[0mlabels\u001b[0m\u001b[0;34m=\u001b[0m\u001b[0;32mNone\u001b[0m\u001b[0;34m,\u001b[0m\u001b[0;34m\u001b[0m\n",
       "\u001b[0;34m\u001b[0m    \u001b[0maxis\u001b[0m\u001b[0;34m=\u001b[0m\u001b[0;36m0\u001b[0m\u001b[0;34m,\u001b[0m\u001b[0;34m\u001b[0m\n",
       "\u001b[0;34m\u001b[0m    \u001b[0mindex\u001b[0m\u001b[0;34m=\u001b[0m\u001b[0;32mNone\u001b[0m\u001b[0;34m,\u001b[0m\u001b[0;34m\u001b[0m\n",
       "\u001b[0;34m\u001b[0m    \u001b[0mcolumns\u001b[0m\u001b[0;34m=\u001b[0m\u001b[0;32mNone\u001b[0m\u001b[0;34m,\u001b[0m\u001b[0;34m\u001b[0m\n",
       "\u001b[0;34m\u001b[0m    \u001b[0mlevel\u001b[0m\u001b[0;34m=\u001b[0m\u001b[0;32mNone\u001b[0m\u001b[0;34m,\u001b[0m\u001b[0;34m\u001b[0m\n",
       "\u001b[0;34m\u001b[0m    \u001b[0minplace\u001b[0m\u001b[0;34m=\u001b[0m\u001b[0;32mFalse\u001b[0m\u001b[0;34m,\u001b[0m\u001b[0;34m\u001b[0m\n",
       "\u001b[0;34m\u001b[0m    \u001b[0merrors\u001b[0m\u001b[0;34m=\u001b[0m\u001b[0;34m'raise'\u001b[0m\u001b[0;34m,\u001b[0m\u001b[0;34m\u001b[0m\n",
       "\u001b[0;34m\u001b[0m\u001b[0;34m)\u001b[0m\u001b[0;34m\u001b[0m\u001b[0;34m\u001b[0m\u001b[0m\n",
       "\u001b[0;31mDocstring:\u001b[0m\n",
       "Drop specified labels from rows or columns.\n",
       "\n",
       "Remove rows or columns by specifying label names and corresponding\n",
       "axis, or by specifying directly index or column names. When using a\n",
       "multi-index, labels on different levels can be removed by specifying\n",
       "the level.\n",
       "\n",
       "Parameters\n",
       "----------\n",
       "labels : single label or list-like\n",
       "    Index or column labels to drop.\n",
       "axis : {0 or 'index', 1 or 'columns'}, default 0\n",
       "    Whether to drop labels from the index (0 or 'index') or\n",
       "    columns (1 or 'columns').\n",
       "index : single label or list-like\n",
       "    Alternative to specifying axis (``labels, axis=0``\n",
       "    is equivalent to ``index=labels``).\n",
       "columns : single label or list-like\n",
       "    Alternative to specifying axis (``labels, axis=1``\n",
       "    is equivalent to ``columns=labels``).\n",
       "level : int or level name, optional\n",
       "    For MultiIndex, level from which the labels will be removed.\n",
       "inplace : bool, default False\n",
       "    If False, return a copy. Otherwise, do operation\n",
       "    inplace and return None.\n",
       "errors : {'ignore', 'raise'}, default 'raise'\n",
       "    If 'ignore', suppress error and only existing labels are\n",
       "    dropped.\n",
       "\n",
       "Returns\n",
       "-------\n",
       "DataFrame or None\n",
       "    DataFrame without the removed index or column labels or\n",
       "    None if ``inplace=True``.\n",
       "\n",
       "Raises\n",
       "------\n",
       "KeyError\n",
       "    If any of the labels is not found in the selected axis.\n",
       "\n",
       "See Also\n",
       "--------\n",
       "DataFrame.loc : Label-location based indexer for selection by label.\n",
       "DataFrame.dropna : Return DataFrame with labels on given axis omitted\n",
       "    where (all or any) data are missing.\n",
       "DataFrame.drop_duplicates : Return DataFrame with duplicate rows\n",
       "    removed, optionally only considering certain columns.\n",
       "Series.drop : Return Series with specified index labels removed.\n",
       "\n",
       "Examples\n",
       "--------\n",
       ">>> df = pd.DataFrame(np.arange(12).reshape(3, 4),\n",
       "...                   columns=['A', 'B', 'C', 'D'])\n",
       ">>> df\n",
       "   A  B   C   D\n",
       "0  0  1   2   3\n",
       "1  4  5   6   7\n",
       "2  8  9  10  11\n",
       "\n",
       "Drop columns\n",
       "\n",
       ">>> df.drop(['B', 'C'], axis=1)\n",
       "   A   D\n",
       "0  0   3\n",
       "1  4   7\n",
       "2  8  11\n",
       "\n",
       ">>> df.drop(columns=['B', 'C'])\n",
       "   A   D\n",
       "0  0   3\n",
       "1  4   7\n",
       "2  8  11\n",
       "\n",
       "Drop a row by index\n",
       "\n",
       ">>> df.drop([0, 1])\n",
       "   A  B   C   D\n",
       "2  8  9  10  11\n",
       "\n",
       "Drop columns and/or rows of MultiIndex DataFrame\n",
       "\n",
       ">>> midx = pd.MultiIndex(levels=[['lama', 'cow', 'falcon'],\n",
       "...                              ['speed', 'weight', 'length']],\n",
       "...                      codes=[[0, 0, 0, 1, 1, 1, 2, 2, 2],\n",
       "...                             [0, 1, 2, 0, 1, 2, 0, 1, 2]])\n",
       ">>> df = pd.DataFrame(index=midx, columns=['big', 'small'],\n",
       "...                   data=[[45, 30], [200, 100], [1.5, 1], [30, 20],\n",
       "...                         [250, 150], [1.5, 0.8], [320, 250],\n",
       "...                         [1, 0.8], [0.3, 0.2]])\n",
       ">>> df\n",
       "                big     small\n",
       "lama    speed   45.0    30.0\n",
       "        weight  200.0   100.0\n",
       "        length  1.5     1.0\n",
       "cow     speed   30.0    20.0\n",
       "        weight  250.0   150.0\n",
       "        length  1.5     0.8\n",
       "falcon  speed   320.0   250.0\n",
       "        weight  1.0     0.8\n",
       "        length  0.3     0.2\n",
       "\n",
       ">>> df.drop(index='cow', columns='small')\n",
       "                big\n",
       "lama    speed   45.0\n",
       "        weight  200.0\n",
       "        length  1.5\n",
       "falcon  speed   320.0\n",
       "        weight  1.0\n",
       "        length  0.3\n",
       "\n",
       ">>> df.drop(index='length', level=1)\n",
       "                big     small\n",
       "lama    speed   45.0    30.0\n",
       "        weight  200.0   100.0\n",
       "cow     speed   30.0    20.0\n",
       "        weight  250.0   150.0\n",
       "falcon  speed   320.0   250.0\n",
       "        weight  1.0     0.8\n",
       "\u001b[0;31mFile:\u001b[0m      /opt/anaconda3/envs/beakerx/lib/python3.7/site-packages/pandas/core/frame.py\n",
       "\u001b[0;31mType:\u001b[0m      method\n"
      ]
     },
     "metadata": {},
     "output_type": "display_data"
    }
   ],
   "source": [
    "customers.drop?"
   ]
  },
  {
   "cell_type": "code",
   "execution_count": 20,
   "id": "b2ef8b7d-2763-49aa-b178-64e2f76c0ac1",
   "metadata": {},
   "outputs": [
    {
     "data": {
      "text/html": [
       "<div>\n",
       "<style scoped>\n",
       "    .dataframe tbody tr th:only-of-type {\n",
       "        vertical-align: middle;\n",
       "    }\n",
       "\n",
       "    .dataframe tbody tr th {\n",
       "        vertical-align: top;\n",
       "    }\n",
       "\n",
       "    .dataframe thead th {\n",
       "        text-align: right;\n",
       "    }\n",
       "</style>\n",
       "<table border=\"1\" class=\"dataframe\">\n",
       "  <thead>\n",
       "    <tr style=\"text-align: right;\">\n",
       "      <th></th>\n",
       "      <th>customer_first_name</th>\n",
       "      <th>customer_last_name</th>\n",
       "      <th>customer_email</th>\n",
       "    </tr>\n",
       "  </thead>\n",
       "  <tbody>\n",
       "    <tr>\n",
       "      <th>0</th>\n",
       "      <td>Cassaundra</td>\n",
       "      <td>Collinson</td>\n",
       "      <td>ccollinson0@alibaba.com</td>\n",
       "    </tr>\n",
       "    <tr>\n",
       "      <th>1</th>\n",
       "      <td>Rozamond</td>\n",
       "      <td>Oene</td>\n",
       "      <td>roene1@technorati.com</td>\n",
       "    </tr>\n",
       "    <tr>\n",
       "      <th>2</th>\n",
       "      <td>Gus</td>\n",
       "      <td>Hawick</td>\n",
       "      <td>ghawick2@dagondesign.com</td>\n",
       "    </tr>\n",
       "    <tr>\n",
       "      <th>3</th>\n",
       "      <td>Delano</td>\n",
       "      <td>Ashbey</td>\n",
       "      <td>dashbey3@purevolume.com</td>\n",
       "    </tr>\n",
       "    <tr>\n",
       "      <th>4</th>\n",
       "      <td>Fara</td>\n",
       "      <td>Simondson</td>\n",
       "      <td>fsimondson4@umn.edu</td>\n",
       "    </tr>\n",
       "    <tr>\n",
       "      <th>5</th>\n",
       "      <td>Myrilla</td>\n",
       "      <td>Gates</td>\n",
       "      <td>mgates5@sina.com.cn</td>\n",
       "    </tr>\n",
       "    <tr>\n",
       "      <th>6</th>\n",
       "      <td>Arabela</td>\n",
       "      <td>Tweedlie</td>\n",
       "      <td>atweedlie6@comcast.net</td>\n",
       "    </tr>\n",
       "    <tr>\n",
       "      <th>7</th>\n",
       "      <td>Loise</td>\n",
       "      <td>Schindler</td>\n",
       "      <td>lschindler7@discovery.com</td>\n",
       "    </tr>\n",
       "    <tr>\n",
       "      <th>8</th>\n",
       "      <td>Storm</td>\n",
       "      <td>McBrearty</td>\n",
       "      <td>smcbrearty8@ovh.net</td>\n",
       "    </tr>\n",
       "    <tr>\n",
       "      <th>9</th>\n",
       "      <td>Westley</td>\n",
       "      <td>Matityahu</td>\n",
       "      <td>wmatityahu9@altervista.org</td>\n",
       "    </tr>\n",
       "    <tr>\n",
       "      <th>10</th>\n",
       "      <td>Gerta</td>\n",
       "      <td>Shaughnessy</td>\n",
       "      <td>gshaughnessya@smugmug.com</td>\n",
       "    </tr>\n",
       "    <tr>\n",
       "      <th>11</th>\n",
       "      <td>Coretta</td>\n",
       "      <td>Shave</td>\n",
       "      <td>cshaveb@toplist.cz</td>\n",
       "    </tr>\n",
       "    <tr>\n",
       "      <th>12</th>\n",
       "      <td>Barn</td>\n",
       "      <td>Henkmann</td>\n",
       "      <td>bhenkmannc@people.com.cn</td>\n",
       "    </tr>\n",
       "    <tr>\n",
       "      <th>13</th>\n",
       "      <td>Sammy</td>\n",
       "      <td>Desaur</td>\n",
       "      <td>sdesaurd@edublogs.org</td>\n",
       "    </tr>\n",
       "    <tr>\n",
       "      <th>14</th>\n",
       "      <td>Joaquin</td>\n",
       "      <td>Skym</td>\n",
       "      <td>jskyme@storify.com</td>\n",
       "    </tr>\n",
       "    <tr>\n",
       "      <th>15</th>\n",
       "      <td>Regen</td>\n",
       "      <td>Levitt</td>\n",
       "      <td>rlevittf@pbs.org</td>\n",
       "    </tr>\n",
       "    <tr>\n",
       "      <th>16</th>\n",
       "      <td>Maryjane</td>\n",
       "      <td>Ledley</td>\n",
       "      <td>mledleyg@weather.com</td>\n",
       "    </tr>\n",
       "    <tr>\n",
       "      <th>17</th>\n",
       "      <td>Tiffanie</td>\n",
       "      <td>Dilliway</td>\n",
       "      <td>tdilliwayh@statcounter.com</td>\n",
       "    </tr>\n",
       "    <tr>\n",
       "      <th>18</th>\n",
       "      <td>Phineas</td>\n",
       "      <td>Rimmington</td>\n",
       "      <td>primmingtoni@phpbb.com</td>\n",
       "    </tr>\n",
       "    <tr>\n",
       "      <th>19</th>\n",
       "      <td>Cinderella</td>\n",
       "      <td>Bordiss</td>\n",
       "      <td>cbordissj@answers.com</td>\n",
       "    </tr>\n",
       "  </tbody>\n",
       "</table>\n",
       "</div>"
      ],
      "text/plain": [
       "   customer_first_name customer_last_name              customer_email\n",
       "0           Cassaundra          Collinson     ccollinson0@alibaba.com\n",
       "1             Rozamond               Oene       roene1@technorati.com\n",
       "2                  Gus             Hawick    ghawick2@dagondesign.com\n",
       "3               Delano             Ashbey     dashbey3@purevolume.com\n",
       "4                 Fara          Simondson         fsimondson4@umn.edu\n",
       "5              Myrilla              Gates         mgates5@sina.com.cn\n",
       "6              Arabela           Tweedlie      atweedlie6@comcast.net\n",
       "7                Loise          Schindler   lschindler7@discovery.com\n",
       "8                Storm          McBrearty         smcbrearty8@ovh.net\n",
       "9              Westley          Matityahu  wmatityahu9@altervista.org\n",
       "10               Gerta        Shaughnessy   gshaughnessya@smugmug.com\n",
       "11             Coretta              Shave          cshaveb@toplist.cz\n",
       "12                Barn           Henkmann    bhenkmannc@people.com.cn\n",
       "13               Sammy             Desaur       sdesaurd@edublogs.org\n",
       "14             Joaquin               Skym          jskyme@storify.com\n",
       "15               Regen             Levitt            rlevittf@pbs.org\n",
       "16            Maryjane             Ledley        mledleyg@weather.com\n",
       "17            Tiffanie           Dilliway  tdilliwayh@statcounter.com\n",
       "18             Phineas         Rimmington      primmingtoni@phpbb.com\n",
       "19          Cinderella            Bordiss       cbordissj@answers.com"
      ]
     },
     "execution_count": 20,
     "metadata": {},
     "output_type": "execute_result"
    }
   ],
   "source": [
    "# Returns dataframe by dropping the not required fields\n",
    "customers.drop(columns=columns_to_be_dropped)"
   ]
  },
  {
   "cell_type": "code",
   "execution_count": null,
   "id": "639196cc-ec75-4693-875e-0a38a90a565f",
   "metadata": {},
   "outputs": [],
   "source": []
  }
 ],
 "metadata": {
  "kernelspec": {
   "display_name": "Python 3",
   "language": "python",
   "name": "python3"
  },
  "language_info": {
   "codemirror_mode": {
    "name": "ipython",
    "version": 3
   },
   "file_extension": ".py",
   "mimetype": "text/x-python",
   "name": "python",
   "nbconvert_exporter": "python",
   "pygments_lexer": "ipython3",
   "version": "3.7.10"
  }
 },
 "nbformat": 4,
 "nbformat_minor": 5
}
