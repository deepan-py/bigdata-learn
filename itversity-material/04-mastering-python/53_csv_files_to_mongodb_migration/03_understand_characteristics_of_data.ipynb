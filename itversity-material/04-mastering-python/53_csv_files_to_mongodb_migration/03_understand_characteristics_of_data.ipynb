{
 "cells": [
  {
   "cell_type": "markdown",
   "id": "b56d1e1f-bf40-41f0-b749-092ee5d900ab",
   "metadata": {},
   "source": [
    "### Step 1: Understand Characteristics of Data\n",
    "\n",
    "Let us first understand characteristics of the data.\n",
    "* We can use Linux commands to understand the characteristics of the data."
   ]
  },
  {
   "cell_type": "code",
   "execution_count": null,
   "id": "d7048331-e3cc-45f9-9e0b-9daf2dd0f367",
   "metadata": {},
   "outputs": [],
   "source": [
    "!ls -ltr /data/ecomm/customers/part-00000"
   ]
  },
  {
   "cell_type": "code",
   "execution_count": 3,
   "id": "910a3dd3-ea58-4958-a4b4-9780d6af4409",
   "metadata": {},
   "outputs": [
    {
     "name": "stdout",
     "output_type": "stream",
     "text": [
      "customer_first_name,customer_last_name,customer_email,product_name,product_subscription\n",
      "Cassaundra,Collinson,ccollinson0@alibaba.com,books,yearly\n",
      "Rozamond,Oene,roene1@technorati.com,books,quarterly\n",
      "Gus,Hawick,ghawick2@dagondesign.com,prime video,yearly\n",
      "Delano,Ashbey,dashbey3@purevolume.com,prime shipping,quarterly\n"
     ]
    }
   ],
   "source": [
    "!head -5 /data/ecomm/customers/part-00000"
   ]
  },
  {
   "cell_type": "markdown",
   "id": "4f075618-04eb-4db2-be13-b2e7c6e45650",
   "metadata": {},
   "source": [
    "* Here are the characteristics of the data.\n",
    "  * The file is in CSV format. Text file with comma as delimiter between attributes in each record.\n",
    "  * Records are delimited by new line character."
   ]
  }
 ],
 "metadata": {
  "kernelspec": {
   "display_name": "Python 3",
   "language": "python",
   "name": "python3"
  },
  "language_info": {
   "codemirror_mode": {
    "name": "ipython",
    "version": 3
   },
   "file_extension": ".py",
   "mimetype": "text/x-python",
   "name": "python",
   "nbconvert_exporter": "python",
   "pygments_lexer": "ipython3",
   "version": "3.7.10"
  }
 },
 "nbformat": 4,
 "nbformat_minor": 5
}
