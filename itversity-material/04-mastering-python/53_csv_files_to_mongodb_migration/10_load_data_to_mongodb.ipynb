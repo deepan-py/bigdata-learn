{
 "cells": [
  {
   "cell_type": "markdown",
   "id": "48b67602-a9ad-4d73-9c6d-3ff37c862316",
   "metadata": {},
   "source": [
    "## Load Data to MongoDB\n",
    "\n",
    "Let us see how to load the data to MongoDB.\n",
    "* Create connection to MongoDB.\n",
    "* Build the required list of dicts.\n",
    "* Use `insert_many` to insert the list of dicts at once."
   ]
  },
  {
   "cell_type": "code",
   "execution_count": 1,
   "id": "03b3d5b7-3f6c-4ad5-a1f5-75423e793484",
   "metadata": {},
   "outputs": [],
   "source": [
    "import pymongo, getpass, configparser\n",
    "\n",
    "username = getpass.getuser()\n",
    "config = configparser.ConfigParser()\n",
    "config.read(f'/home/{username}/.jupyterenv')\n",
    "\n",
    "client = pymongo.MongoClient(\n",
    "    host='pylabsmd.itversity.com', \n",
    "    username=f'{username}_scratch_user', \n",
    "    password=config['DEFAULT']['MONGO_SCRATCH_PASS'], \n",
    "    authSource='admin'\n",
    ")"
   ]
  },
  {
   "cell_type": "code",
   "execution_count": 2,
   "id": "80e05eb1-cdd4-4c13-a8cd-811d4e2bed86",
   "metadata": {},
   "outputs": [
    {
     "data": {
      "text/plain": [
       "['customers']"
      ]
     },
     "execution_count": 2,
     "metadata": {},
     "output_type": "execute_result"
    }
   ],
   "source": [
    "client[f'{username}_scratch_db'].list_collection_names()"
   ]
  },
  {
   "cell_type": "code",
   "execution_count": 3,
   "id": "d25934c2-d7d1-49bf-b2c4-52bd867252e1",
   "metadata": {},
   "outputs": [
    {
     "data": {
      "text/plain": [
       "<pymongo.results.DeleteResult at 0x7f0074c06c30>"
      ]
     },
     "execution_count": 3,
     "metadata": {},
     "output_type": "execute_result"
    }
   ],
   "source": [
    "client[f'{username}_scratch_db']['customers'].delete_many({})"
   ]
  },
  {
   "cell_type": "code",
   "execution_count": 4,
   "id": "d006336a-7676-48c0-a4bd-e0b2e4a03a43",
   "metadata": {},
   "outputs": [],
   "source": [
    "for doc in client[f'{username}_scratch_db']['customers'].find({}):\n",
    "    print(doc)"
   ]
  },
  {
   "cell_type": "code",
   "execution_count": 5,
   "id": "8a62f295-2e5d-4fe2-9a39-b7b5a2c26ab4",
   "metadata": {},
   "outputs": [],
   "source": [
    "customers = [\n",
    "    {'FirstName': 'Cassaundra', 'LastName':'Collinson', 'Email': 'ccollinson0@alibaba.com'},\n",
    "    {'FirstName': 'Rozamond', 'LastName':'Oene', 'Email': 'roene1@technorati.com'},\n",
    "    {'FirstName': 'Gus', 'LastName':'Hawick', 'Email': 'ghawick2@dagondesign.com'}\n",
    "]"
   ]
  },
  {
   "cell_type": "code",
   "execution_count": 7,
   "id": "ef8ad4d1-d84c-44af-8c7f-24749da23e7b",
   "metadata": {},
   "outputs": [
    {
     "data": {
      "text/plain": [
       "<pymongo.results.InsertManyResult at 0x7f0074c12cd0>"
      ]
     },
     "execution_count": 7,
     "metadata": {},
     "output_type": "execute_result"
    }
   ],
   "source": [
    "client[f'{username}_scratch_db']['customers'].insert_many(customers)"
   ]
  },
  {
   "cell_type": "code",
   "execution_count": 8,
   "id": "b09bfacf-c49f-4c75-a2bb-92a6cb27178d",
   "metadata": {},
   "outputs": [
    {
     "name": "stdout",
     "output_type": "stream",
     "text": [
      "{'_id': ObjectId('60b6585dc22d2e7e3fd5929c'), 'FirstName': 'Cassaundra', 'LastName': 'Collinson', 'Email': 'ccollinson0@alibaba.com'}\n",
      "{'_id': ObjectId('60b6585dc22d2e7e3fd5929d'), 'FirstName': 'Rozamond', 'LastName': 'Oene', 'Email': 'roene1@technorati.com'}\n",
      "{'_id': ObjectId('60b6585dc22d2e7e3fd5929e'), 'FirstName': 'Gus', 'LastName': 'Hawick', 'Email': 'ghawick2@dagondesign.com'}\n"
     ]
    }
   ],
   "source": [
    "for doc in client[f'{username}_scratch_db']['customers'].find({}):\n",
    "    print(doc)"
   ]
  },
  {
   "cell_type": "code",
   "execution_count": 9,
   "id": "302a34c0-39cb-4abd-b87b-ed3dc2acb8a7",
   "metadata": {},
   "outputs": [
    {
     "data": {
      "text/plain": [
       "<pymongo.results.DeleteResult at 0x7f007647b230>"
      ]
     },
     "execution_count": 9,
     "metadata": {},
     "output_type": "execute_result"
    }
   ],
   "source": [
    "client[f'{username}_scratch_db']['customers'].delete_many({})"
   ]
  },
  {
   "cell_type": "code",
   "execution_count": null,
   "id": "ea7e7144-df41-4578-946d-779c86f35d7a",
   "metadata": {},
   "outputs": [],
   "source": []
  }
 ],
 "metadata": {
  "kernelspec": {
   "display_name": "Python 3",
   "language": "python",
   "name": "python3"
  },
  "language_info": {
   "codemirror_mode": {
    "name": "ipython",
    "version": 3
   },
   "file_extension": ".py",
   "mimetype": "text/x-python",
   "name": "python",
   "nbconvert_exporter": "python",
   "pygments_lexer": "ipython3",
   "version": "3.7.10"
  }
 },
 "nbformat": 4,
 "nbformat_minor": 5
}
