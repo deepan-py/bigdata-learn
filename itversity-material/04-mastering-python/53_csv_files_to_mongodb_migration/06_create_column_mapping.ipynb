{
 "cells": [
  {
   "cell_type": "markdown",
   "id": "ddb8dceb-efd7-4156-81cc-f906ee67c6f4",
   "metadata": {},
   "source": [
    "## Create Column Mapping\n",
    "\n",
    "Let us define column mapping between source column names and target column names.\n",
    "* Let us assume that we would like to load the data that is relevant to contact the customer.\n",
    "* We want to get the list of customers with only first name, last name and email.\n",
    "* Let us assume that the target column names are FirstName, LastName and Email. Also the column names are case sensitive.\n",
    "* We need to drop product_name and product_subscription from the **customers** dataframe.\n",
    "* Also we need to take care of renaming the columns as follows:\n",
    "  * **customer_first_name** to **FirstName**\n",
    "  * **customer_last_name** to **LastName**\n",
    "  * **customer_email** to **Email**\n",
    "* We can create a mapping in a file using JSON or we can store the mapping the database. In our case let us assume that the mapping is defined in JSON. As part of the simulation, I will start with JSON string rather than reading from file."
   ]
  },
  {
   "cell_type": "code",
   "execution_count": 1,
   "id": "45aa26e6-4734-415b-98f0-d6ce681a0e46",
   "metadata": {},
   "outputs": [],
   "source": [
    "column_mapping_str = '''{\n",
    "    \"customer_first_name\": {\"target_field_name\": \"FirstName\", \"is_required\": true},\n",
    "    \"customer_last_name\": {\"target_field_name\": \"LastName\", \"is_required\": true},\n",
    "    \"customer_email\": {\"target_field_name\": \"Email\", \"is_required\": true},\n",
    "    \"product_name\": {\"is_required\": false},\n",
    "    \"product_subscription\": {\"is_required\": false}\n",
    "}'''"
   ]
  },
  {
   "cell_type": "code",
   "execution_count": 2,
   "id": "7d79dfbc-7f8b-49e8-8cb2-442d0349630f",
   "metadata": {},
   "outputs": [],
   "source": [
    "import json\n",
    "column_mapping = json.loads(column_mapping_str)"
   ]
  },
  {
   "cell_type": "code",
   "execution_count": 3,
   "id": "0d096377-d142-46fb-818e-b7807f5da757",
   "metadata": {},
   "outputs": [
    {
     "data": {
      "text/plain": [
       "dict"
      ]
     },
     "execution_count": 3,
     "metadata": {},
     "output_type": "execute_result"
    }
   ],
   "source": [
    "type(column_mapping)"
   ]
  },
  {
   "cell_type": "code",
   "execution_count": 4,
   "id": "152307ca-b71c-40f0-93ed-2fe326393a24",
   "metadata": {},
   "outputs": [
    {
     "data": {
      "text/plain": [
       "{'customer_first_name': {'target_field_name': 'FirstName',\n",
       "  'is_required': True},\n",
       " 'customer_last_name': {'target_field_name': 'LastName', 'is_required': True},\n",
       " 'customer_email': {'target_field_name': 'Email', 'is_required': True},\n",
       " 'product_name': {'is_required': False},\n",
       " 'product_subscription': {'is_required': False}}"
      ]
     },
     "execution_count": 4,
     "metadata": {},
     "output_type": "execute_result"
    }
   ],
   "source": [
    "column_mapping"
   ]
  },
  {
   "cell_type": "code",
   "execution_count": 5,
   "id": "42a5bd53-395f-46da-b223-925a566e94a1",
   "metadata": {},
   "outputs": [
    {
     "data": {
      "text/plain": [
       "{'target_field_name': 'FirstName', 'is_required': True}"
      ]
     },
     "execution_count": 5,
     "metadata": {},
     "output_type": "execute_result"
    }
   ],
   "source": [
    "column_mapping['customer_first_name']"
   ]
  },
  {
   "cell_type": "code",
   "execution_count": null,
   "id": "bf3c48a5-be2b-4a69-b6d4-1e90fec50b08",
   "metadata": {},
   "outputs": [],
   "source": []
  }
 ],
 "metadata": {
  "kernelspec": {
   "display_name": "Python 3",
   "language": "python",
   "name": "python3"
  },
  "language_info": {
   "codemirror_mode": {
    "name": "ipython",
    "version": 3
   },
   "file_extension": ".py",
   "mimetype": "text/x-python",
   "name": "python",
   "nbconvert_exporter": "python",
   "pygments_lexer": "ipython3",
   "version": "3.7.10"
  }
 },
 "nbformat": 4,
 "nbformat_minor": 5
}
