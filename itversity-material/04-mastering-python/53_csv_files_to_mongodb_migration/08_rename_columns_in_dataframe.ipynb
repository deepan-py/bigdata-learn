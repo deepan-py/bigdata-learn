{
 "cells": [
  {
   "cell_type": "markdown",
   "id": "bf1e317e-56d0-449a-8fac-3391cd80c09a",
   "metadata": {},
   "source": [
    "## Rename Columns in Dataframe\n",
    "\n",
    "Let us understand how to rename the columns using column mapping between source field names and target field names.\n",
    "\n",
    "* We can use rename to rename the columns. It has keyword argument called as `columns`. You can pass a dict or function to it. We will pass a dict.\n",
    "  * The dict should contain key and value pairs of source and target column names.\n",
    "  * We need to get the relevant column names from **column_mapping** in desired format."
   ]
  },
  {
   "cell_type": "code",
   "execution_count": null,
   "id": "8c4d4cf4-5735-451b-acc5-1dcc29f57435",
   "metadata": {},
   "outputs": [],
   "source": [
    "import pandas as pd\n",
    "customers = pd.read_csv('/data/ecomm/customers/part-00000')"
   ]
  },
  {
   "cell_type": "code",
   "execution_count": null,
   "id": "0ab84cd3-3845-42f7-887f-f7360932a66b",
   "metadata": {},
   "outputs": [],
   "source": [
    "column_mapping_str = '''{\n",
    "    \"customer_first_name\": {\"target_field_name\": \"FirstName\", \"is_required\": true},\n",
    "    \"customer_last_name\": {\"target_field_name\": \"LastName\", \"is_required\": true},\n",
    "    \"customer_email\": {\"target_field_name\": \"Email\", \"is_required\": true},\n",
    "    \"product_name\": {\"is_required\": false},\n",
    "    \"product_subscription\": {\"is_required\": false}\n",
    "}'''"
   ]
  },
  {
   "cell_type": "code",
   "execution_count": null,
   "id": "d924635c-0f67-4cc0-8851-0a4c9469740f",
   "metadata": {},
   "outputs": [],
   "source": [
    "import json\n",
    "column_mapping = json.loads(column_mapping_str)"
   ]
  },
  {
   "cell_type": "code",
   "execution_count": null,
   "id": "dc6b9f7e-dee9-4845-9e76-8ee69b679091",
   "metadata": {},
   "outputs": [],
   "source": [
    "column_mapping"
   ]
  },
  {
   "cell_type": "code",
   "execution_count": null,
   "id": "931abbb6-a175-443a-bc0c-28e66fa5009a",
   "metadata": {},
   "outputs": [],
   "source": [
    "list(filter(lambda col: col[1]['is_required'], column_mapping.items()))"
   ]
  },
  {
   "cell_type": "code",
   "execution_count": null,
   "id": "01893be7-9d9d-404b-a788-1eb2ddf5c0a8",
   "metadata": {},
   "outputs": [],
   "source": [
    "# We got the required columns list here\n",
    "required_columns_list = list(filter(lambda col: col[1]['is_required'], column_mapping.items()))"
   ]
  },
  {
   "cell_type": "code",
   "execution_count": null,
   "id": "06febb7e-d9f4-4538-9f81-8610c7e57ecf",
   "metadata": {},
   "outputs": [],
   "source": [
    "required_columns_list"
   ]
  },
  {
   "cell_type": "code",
   "execution_count": null,
   "id": "3eed4d21-fe80-4a2d-b415-52c80a514ab5",
   "metadata": {},
   "outputs": [],
   "source": [
    "col = required_columns_list[0]"
   ]
  },
  {
   "cell_type": "code",
   "execution_count": null,
   "id": "86964107-3893-4f85-8b6d-50fcb9996e14",
   "metadata": {},
   "outputs": [],
   "source": [
    "col"
   ]
  },
  {
   "cell_type": "code",
   "execution_count": null,
   "id": "1ca9054b-d846-476c-981b-8af3fed50df2",
   "metadata": {},
   "outputs": [],
   "source": [
    "type(col)"
   ]
  },
  {
   "cell_type": "code",
   "execution_count": null,
   "id": "7a6e068e-32a4-4855-8e21-73043bc22b59",
   "metadata": {},
   "outputs": [],
   "source": [
    "col[1]"
   ]
  },
  {
   "cell_type": "code",
   "execution_count": null,
   "id": "553fa5d6-61e1-484f-bcb2-f00fe9191d97",
   "metadata": {},
   "outputs": [],
   "source": [
    "col[1]['target_field_name']"
   ]
  },
  {
   "cell_type": "code",
   "execution_count": null,
   "id": "d7e30836-37b5-4547-9ae9-b5b66ea9823b",
   "metadata": {},
   "outputs": [],
   "source": [
    "(col[0], col[1]['target_field_name'])"
   ]
  },
  {
   "cell_type": "code",
   "execution_count": null,
   "id": "0594ac3c-f541-4019-8bbb-a7192754330c",
   "metadata": {},
   "outputs": [],
   "source": [
    "dict(map(lambda col: (col[0], col[1]['target_field_name']), required_columns_list))"
   ]
  },
  {
   "cell_type": "code",
   "execution_count": null,
   "id": "fcde7f08-6272-4031-a414-7696b4be6d19",
   "metadata": {},
   "outputs": [],
   "source": [
    "# Get the dict with source and target field names\n",
    "required_columns_mapping = dict(map(lambda col: (col[0], col[1]['target_field_name']), required_columns_list))"
   ]
  },
  {
   "cell_type": "code",
   "execution_count": null,
   "id": "5a3e5047-d5be-498f-a0df-5dc0d530cebc",
   "metadata": {},
   "outputs": [],
   "source": [
    "customers.rename?"
   ]
  },
  {
   "cell_type": "code",
   "execution_count": null,
   "id": "6ad7ebef-5702-4da6-b68e-b5884eb2c0f3",
   "metadata": {},
   "outputs": [],
   "source": [
    "# It will rename the columns that are present in the dict passed.\n",
    "# Other columns will have the names from the original dataframe\n",
    "# This will return all the columns with new names for the 3 columns that are part of he dict.\n",
    "customers.rename(columns=required_columns_mapping)"
   ]
  },
  {
   "cell_type": "code",
   "execution_count": null,
   "id": "4b17b9a4-921e-4916-bf1b-efe0a74afa56",
   "metadata": {},
   "outputs": [],
   "source": [
    "customers.rename(columns=required_columns_mapping).columns"
   ]
  },
  {
   "cell_type": "code",
   "execution_count": 2,
   "id": "2b132cd5-82a4-4700-b6e5-debefab7111f",
   "metadata": {},
   "outputs": [],
   "source": [
    "import pandas as pd\n",
    "customers = pd.read_csv('/data/ecomm/customers/part-00000')\n",
    "\n",
    "column_mapping_str = '''{\n",
    "    \"customer_first_name\": {\"target_field_name\": \"FirstName\", \"is_required\": true},\n",
    "    \"customer_last_name\": {\"target_field_name\": \"LastName\", \"is_required\": true},\n",
    "    \"customer_email\": {\"target_field_name\": \"Email\", \"is_required\": true},\n",
    "    \"product_name\": {\"is_required\": false},\n",
    "    \"product_subscription\": {\"is_required\": false}\n",
    "}'''\n",
    "\n",
    "import json\n",
    "column_mapping = json.loads(column_mapping_str)\n",
    "\n",
    "# Assigning the list of not required fields to a variable\n",
    "columns_to_be_dropped = dict(list(filter(lambda col: not col[1]['is_required'], column_mapping.items()))).keys()\n",
    "required_columns_list = list(filter(lambda col: col[1]['is_required'], column_mapping.items()))\n",
    "required_columns_mapping = dict(map(lambda col: (col[0], col[1]['target_field_name']), required_columns_list))\n",
    "\n",
    "# This will take care of dropping the not required fields and rename others as per mapping\n",
    "customers_target = customers.drop(columns=columns_to_be_dropped).rename(columns=required_columns_mapping)"
   ]
  },
  {
   "cell_type": "code",
   "execution_count": 3,
   "id": "6f5db8f0-cd4b-409d-b208-1236328fda8d",
   "metadata": {},
   "outputs": [
    {
     "data": {
      "text/html": [
       "<div>\n",
       "<style scoped>\n",
       "    .dataframe tbody tr th:only-of-type {\n",
       "        vertical-align: middle;\n",
       "    }\n",
       "\n",
       "    .dataframe tbody tr th {\n",
       "        vertical-align: top;\n",
       "    }\n",
       "\n",
       "    .dataframe thead th {\n",
       "        text-align: right;\n",
       "    }\n",
       "</style>\n",
       "<table border=\"1\" class=\"dataframe\">\n",
       "  <thead>\n",
       "    <tr style=\"text-align: right;\">\n",
       "      <th></th>\n",
       "      <th>FirstName</th>\n",
       "      <th>LastName</th>\n",
       "      <th>Email</th>\n",
       "    </tr>\n",
       "  </thead>\n",
       "  <tbody>\n",
       "    <tr>\n",
       "      <th>0</th>\n",
       "      <td>Cassaundra</td>\n",
       "      <td>Collinson</td>\n",
       "      <td>ccollinson0@alibaba.com</td>\n",
       "    </tr>\n",
       "    <tr>\n",
       "      <th>1</th>\n",
       "      <td>Rozamond</td>\n",
       "      <td>Oene</td>\n",
       "      <td>roene1@technorati.com</td>\n",
       "    </tr>\n",
       "    <tr>\n",
       "      <th>2</th>\n",
       "      <td>Gus</td>\n",
       "      <td>Hawick</td>\n",
       "      <td>ghawick2@dagondesign.com</td>\n",
       "    </tr>\n",
       "    <tr>\n",
       "      <th>3</th>\n",
       "      <td>Delano</td>\n",
       "      <td>Ashbey</td>\n",
       "      <td>dashbey3@purevolume.com</td>\n",
       "    </tr>\n",
       "    <tr>\n",
       "      <th>4</th>\n",
       "      <td>Fara</td>\n",
       "      <td>Simondson</td>\n",
       "      <td>fsimondson4@umn.edu</td>\n",
       "    </tr>\n",
       "    <tr>\n",
       "      <th>5</th>\n",
       "      <td>Myrilla</td>\n",
       "      <td>Gates</td>\n",
       "      <td>mgates5@sina.com.cn</td>\n",
       "    </tr>\n",
       "    <tr>\n",
       "      <th>6</th>\n",
       "      <td>Arabela</td>\n",
       "      <td>Tweedlie</td>\n",
       "      <td>atweedlie6@comcast.net</td>\n",
       "    </tr>\n",
       "    <tr>\n",
       "      <th>7</th>\n",
       "      <td>Loise</td>\n",
       "      <td>Schindler</td>\n",
       "      <td>lschindler7@discovery.com</td>\n",
       "    </tr>\n",
       "    <tr>\n",
       "      <th>8</th>\n",
       "      <td>Storm</td>\n",
       "      <td>McBrearty</td>\n",
       "      <td>smcbrearty8@ovh.net</td>\n",
       "    </tr>\n",
       "    <tr>\n",
       "      <th>9</th>\n",
       "      <td>Westley</td>\n",
       "      <td>Matityahu</td>\n",
       "      <td>wmatityahu9@altervista.org</td>\n",
       "    </tr>\n",
       "    <tr>\n",
       "      <th>10</th>\n",
       "      <td>Gerta</td>\n",
       "      <td>Shaughnessy</td>\n",
       "      <td>gshaughnessya@smugmug.com</td>\n",
       "    </tr>\n",
       "    <tr>\n",
       "      <th>11</th>\n",
       "      <td>Coretta</td>\n",
       "      <td>Shave</td>\n",
       "      <td>cshaveb@toplist.cz</td>\n",
       "    </tr>\n",
       "    <tr>\n",
       "      <th>12</th>\n",
       "      <td>Barn</td>\n",
       "      <td>Henkmann</td>\n",
       "      <td>bhenkmannc@people.com.cn</td>\n",
       "    </tr>\n",
       "    <tr>\n",
       "      <th>13</th>\n",
       "      <td>Sammy</td>\n",
       "      <td>Desaur</td>\n",
       "      <td>sdesaurd@edublogs.org</td>\n",
       "    </tr>\n",
       "    <tr>\n",
       "      <th>14</th>\n",
       "      <td>Joaquin</td>\n",
       "      <td>Skym</td>\n",
       "      <td>jskyme@storify.com</td>\n",
       "    </tr>\n",
       "    <tr>\n",
       "      <th>15</th>\n",
       "      <td>Regen</td>\n",
       "      <td>Levitt</td>\n",
       "      <td>rlevittf@pbs.org</td>\n",
       "    </tr>\n",
       "    <tr>\n",
       "      <th>16</th>\n",
       "      <td>Maryjane</td>\n",
       "      <td>Ledley</td>\n",
       "      <td>mledleyg@weather.com</td>\n",
       "    </tr>\n",
       "    <tr>\n",
       "      <th>17</th>\n",
       "      <td>Tiffanie</td>\n",
       "      <td>Dilliway</td>\n",
       "      <td>tdilliwayh@statcounter.com</td>\n",
       "    </tr>\n",
       "    <tr>\n",
       "      <th>18</th>\n",
       "      <td>Phineas</td>\n",
       "      <td>Rimmington</td>\n",
       "      <td>primmingtoni@phpbb.com</td>\n",
       "    </tr>\n",
       "    <tr>\n",
       "      <th>19</th>\n",
       "      <td>Cinderella</td>\n",
       "      <td>Bordiss</td>\n",
       "      <td>cbordissj@answers.com</td>\n",
       "    </tr>\n",
       "  </tbody>\n",
       "</table>\n",
       "</div>"
      ],
      "text/plain": [
       "     FirstName     LastName                       Email\n",
       "0   Cassaundra    Collinson     ccollinson0@alibaba.com\n",
       "1     Rozamond         Oene       roene1@technorati.com\n",
       "2          Gus       Hawick    ghawick2@dagondesign.com\n",
       "3       Delano       Ashbey     dashbey3@purevolume.com\n",
       "4         Fara    Simondson         fsimondson4@umn.edu\n",
       "5      Myrilla        Gates         mgates5@sina.com.cn\n",
       "6      Arabela     Tweedlie      atweedlie6@comcast.net\n",
       "7        Loise    Schindler   lschindler7@discovery.com\n",
       "8        Storm    McBrearty         smcbrearty8@ovh.net\n",
       "9      Westley    Matityahu  wmatityahu9@altervista.org\n",
       "10       Gerta  Shaughnessy   gshaughnessya@smugmug.com\n",
       "11     Coretta        Shave          cshaveb@toplist.cz\n",
       "12        Barn     Henkmann    bhenkmannc@people.com.cn\n",
       "13       Sammy       Desaur       sdesaurd@edublogs.org\n",
       "14     Joaquin         Skym          jskyme@storify.com\n",
       "15       Regen       Levitt            rlevittf@pbs.org\n",
       "16    Maryjane       Ledley        mledleyg@weather.com\n",
       "17    Tiffanie     Dilliway  tdilliwayh@statcounter.com\n",
       "18     Phineas   Rimmington      primmingtoni@phpbb.com\n",
       "19  Cinderella      Bordiss       cbordissj@answers.com"
      ]
     },
     "execution_count": 3,
     "metadata": {},
     "output_type": "execute_result"
    }
   ],
   "source": [
    "customers_target"
   ]
  },
  {
   "cell_type": "code",
   "execution_count": null,
   "id": "ac689baf-a0c4-460f-b6ee-00280e0cb775",
   "metadata": {},
   "outputs": [],
   "source": []
  }
 ],
 "metadata": {
  "kernelspec": {
   "display_name": "Python 3",
   "language": "python",
   "name": "python3"
  },
  "language_info": {
   "codemirror_mode": {
    "name": "ipython",
    "version": 3
   },
   "file_extension": ".py",
   "mimetype": "text/x-python",
   "name": "python",
   "nbconvert_exporter": "python",
   "pygments_lexer": "ipython3",
   "version": "3.7.10"
  }
 },
 "nbformat": 4,
 "nbformat_minor": 5
}
