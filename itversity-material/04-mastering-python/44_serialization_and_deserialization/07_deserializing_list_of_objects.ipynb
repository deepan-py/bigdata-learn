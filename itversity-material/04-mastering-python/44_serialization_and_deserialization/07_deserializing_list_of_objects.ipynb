{
 "cells": [
  {
   "cell_type": "code",
   "execution_count": 5,
   "metadata": {},
   "outputs": [],
   "source": [
    "class User:\n",
    "    def __init__(self, user_id, user_fname, user_lname, user_email, user_created_dt):\n",
    "        self.user_id = user_id\n",
    "        self.user_fname = user_fname\n",
    "        self.user_lname = user_lname\n",
    "        self.user_email = user_email\n",
    "        self.user_created_dt = user_created_dt\n",
    "    \n",
    "    def __repr__(self):\n",
    "        return f'<user_id: {self.user_id}>'"
   ]
  },
  {
   "cell_type": "code",
   "execution_count": 6,
   "metadata": {},
   "outputs": [],
   "source": [
    "from marshmallow import Schema, fields, post_load\n",
    "\n",
    "class UserSchema(Schema):\n",
    "    user_id = fields.Int()\n",
    "    user_fname = fields.Str()\n",
    "    user_lname = fields.Str()\n",
    "    user_email = fields.Email()\n",
    "    user_created_dt = fields.DateTime()\n",
    "    \n",
    "    @post_load\n",
    "    def make_user(self, data, **kwargs):\n",
    "        return User(**data)"
   ]
  },
  {
   "cell_type": "code",
   "execution_count": 7,
   "metadata": {},
   "outputs": [],
   "source": [
    "import datetime as dt\n",
    "user_dicts = [\n",
    "    {\n",
    "        'user_id': 1,\n",
    "        'user_fname': 'Scott',\n",
    "        'user_lname': 'Tiger',\n",
    "        'user_email': 'stiger@example.com',\n",
    "        'user_created_dt': str(dt.datetime.now())\n",
    "    },\n",
    "    {\n",
    "        'user_id': 2,\n",
    "        'user_fname': 'Tom',\n",
    "        'user_lname': 'Jones',\n",
    "        'user_email': 'tjones@example.com',\n",
    "        'user_created_dt': str(dt.datetime.now())\n",
    "    }\n",
    "]"
   ]
  },
  {
   "cell_type": "code",
   "execution_count": 8,
   "metadata": {},
   "outputs": [],
   "source": [
    "user_schema = UserSchema(many=True)"
   ]
  },
  {
   "cell_type": "code",
   "execution_count": 10,
   "metadata": {},
   "outputs": [],
   "source": [
    "users = user_schema.load(user_dicts)"
   ]
  },
  {
   "cell_type": "code",
   "execution_count": 11,
   "metadata": {},
   "outputs": [
    {
     "data": {
      "text/plain": [
       "[<user_id: 1>, <user_id: 2>]"
      ]
     },
     "execution_count": 11,
     "metadata": {},
     "output_type": "execute_result"
    }
   ],
   "source": [
    "users"
   ]
  },
  {
   "cell_type": "code",
   "execution_count": 12,
   "metadata": {},
   "outputs": [
    {
     "data": {
      "text/plain": [
       "__main__.User"
      ]
     },
     "execution_count": 12,
     "metadata": {},
     "output_type": "execute_result"
    }
   ],
   "source": [
    "type(users[0])"
   ]
  },
  {
   "cell_type": "code",
   "execution_count": null,
   "metadata": {},
   "outputs": [],
   "source": []
  }
 ],
 "metadata": {
  "kernelspec": {
   "display_name": "Python 3",
   "language": "python",
   "name": "python3"
  },
  "language_info": {
   "codemirror_mode": {
    "name": "ipython",
    "version": 3
   },
   "file_extension": ".py",
   "mimetype": "text/x-python",
   "name": "python",
   "nbconvert_exporter": "python",
   "pygments_lexer": "ipython3",
   "version": "3.7.10"
  }
 },
 "nbformat": 4,
 "nbformat_minor": 4
}
