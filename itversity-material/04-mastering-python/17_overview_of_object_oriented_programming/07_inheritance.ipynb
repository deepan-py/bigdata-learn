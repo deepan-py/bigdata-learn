{
 "cells": [
  {
   "cell_type": "markdown",
   "metadata": {},
   "source": [
    "## Inheritance\n",
    "\n",
    "Inheritence in OOP is similar to the inheritence in real world. For any inheritence to occur, there needs to be atleast two classes:\n",
    "- Parent\n",
    "- Child\n",
    "\n",
    "Parent is the one from which you inherit and child is the one to which you inherit the properties and methods.\n",
    "\n",
    "Properties are the variables defined and the values they contain, methods are the functions that are defined in the parent.\n",
    "\n",
    "We can access the parent from the child using the `super` keyword"
   ]
  },
  {
   "cell_type": "code",
   "execution_count": 1,
   "metadata": {},
   "outputs": [],
   "source": [
    "import datetime"
   ]
  },
  {
   "cell_type": "markdown",
   "metadata": {},
   "source": [
    "Let's define a parent class called `User`"
   ]
  },
  {
   "cell_type": "code",
   "execution_count": 2,
   "metadata": {},
   "outputs": [],
   "source": [
    "class User:\n",
    "    def __init__(self, user_id, user_fname, user_lname, user_email, user_created_dt):\n",
    "        self.user_id = user_id\n",
    "        self.user_fname = user_fname\n",
    "        self.user_lname = user_lname\n",
    "        self.user_email = user_email\n",
    "        self.user_created_dt = user_created_dt\n",
    "        \n",
    "    def print_details(self):\n",
    "        print(\"User ID: \", self.user_id)\n",
    "        print(\"User first name: \", self.user_fname)\n",
    "        print(\"User last name: \", self.user_lname)\n",
    "        print(\"User email: \", self.user_email)\n",
    "        print(\"User created dt: \", self.user_created_dt)"
   ]
  },
  {
   "cell_type": "markdown",
   "metadata": {},
   "source": [
    "In an application there can be many types of users. For now, we will just take one type of user called the `Admin`. We inherit the parent into the child by passing the parent class as a parameter to the child. As you can observe below, we can access the `print_details` function that is defined in the parent from the child class object."
   ]
  },
  {
   "cell_type": "code",
   "execution_count": 3,
   "metadata": {},
   "outputs": [
    {
     "name": "stdout",
     "output_type": "stream",
     "text": [
      "User ID:  1\n",
      "User first name:  Scott\n",
      "User last name:  Smith\n",
      "User email:  scott@example.com\n",
      "User created dt:  2021-06-05 14:16:41.605620\n"
     ]
    }
   ],
   "source": [
    "class Admin(User):\n",
    "    pass\n",
    "        \n",
    "admin1 = Admin(\n",
    "    user_id=1,\n",
    "    user_fname='Scott',\n",
    "    user_lname='Smith',\n",
    "    user_email='scott@example.com',\n",
    "    user_created_dt=str(datetime.datetime.now())\n",
    ")\n",
    "admin1.print_details()"
   ]
  },
  {
   "cell_type": "markdown",
   "metadata": {},
   "source": [
    "Now, let us modify the child class. Here, we have defined a constructor, and called the constructor of the parent using `super` keyword.\n",
    "Also, you can obser the following:\n",
    "- We have defined a function `print_details` in the child, this function also exists in the parent. When we define it in the child and make perform a similar or different functionality, we called it function overriding.\n",
    "- We can add any other methods that we need in the child class, in the below example, we add the function: `get_admin_level`"
   ]
  },
  {
   "cell_type": "code",
   "execution_count": 4,
   "metadata": {},
   "outputs": [
    {
     "name": "stdout",
     "output_type": "stream",
     "text": [
      "User ID:  1\n",
      "User role:  admin\n",
      "User first name:  Scott\n",
      "User last name:  Smith\n",
      "User email:  scott@example.com\n",
      "User created dt:  2021-06-05 14:16:41.663117\n",
      "Admin level:  senior\n"
     ]
    }
   ],
   "source": [
    "class Admin(User):\n",
    "    def __init__(self, user_id, user_fname, user_lname, user_email, user_created_dt):\n",
    "        super().__init__(user_id, user_fname, user_lname, user_email, user_created_dt)\n",
    "        self.user_role = \"admin\"\n",
    "        self.admin_level = \"senior\"\n",
    "        \n",
    "    def print_details(self):\n",
    "        print(\"User ID: \", self.user_id)\n",
    "        print(\"User role: \", self.user_role)\n",
    "        print(\"User first name: \", self.user_fname)\n",
    "        print(\"User last name: \", self.user_lname)\n",
    "        print(\"User email: \", self.user_email)\n",
    "        print(\"User created dt: \", self.user_created_dt)\n",
    "        \n",
    "    def get_admin_level(self):\n",
    "        return self.admin_level\n",
    "        \n",
    "admin1 = Admin(\n",
    "    user_id=1,\n",
    "    user_fname='Scott',\n",
    "    user_lname='Smith',\n",
    "    user_email='scott@example.com',\n",
    "    user_created_dt=str(datetime.datetime.now())\n",
    ")\n",
    "admin1.print_details()\n",
    "print(\"Admin level: \", admin1.get_admin_level())"
   ]
  },
  {
   "cell_type": "markdown",
   "metadata": {},
   "source": [
    "There are two three ways in which one can take advantage of Inheritence in python:\n",
    "- Simple inheritence: This is what we saw above\n",
    "- Mutliple inheritence: A child inheriting from more than once parent\n",
    "- Multi-level inheritence: This is where we have a chain of inheritence happening. Parent -> Child -> Grandchild"
   ]
  }
 ],
 "metadata": {
  "kernelspec": {
   "display_name": "Python 3",
   "language": "python",
   "name": "python3"
  },
  "language_info": {
   "codemirror_mode": {
    "name": "ipython",
    "version": 3
   },
   "file_extension": ".py",
   "mimetype": "text/x-python",
   "name": "python",
   "nbconvert_exporter": "python",
   "pygments_lexer": "ipython3",
   "version": "3.6.12"
  }
 },
 "nbformat": 4,
 "nbformat_minor": 4
}
