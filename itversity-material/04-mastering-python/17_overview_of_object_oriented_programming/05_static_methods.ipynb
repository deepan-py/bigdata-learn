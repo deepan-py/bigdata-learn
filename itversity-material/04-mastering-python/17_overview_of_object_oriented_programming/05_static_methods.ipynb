{
 "cells": [
  {
   "cell_type": "markdown",
   "metadata": {},
   "source": [
    "## Static methods\n",
    "\n",
    "As part of the previous topic we have looked into class methods. They are primarily invoked using objects. Now, let us talk about static methods.\n",
    "- These are methods of a class which can be accessed by the class name.\n",
    "- They are not accessible through the objects of the class.\n",
    "- A method in a class can be made static using the `@staticmethod` attribute.\n",
    "- They can be private or public. We will see the details related private as well as public methods as part of next topic."
   ]
  },
  {
   "cell_type": "code",
   "execution_count": 2,
   "metadata": {},
   "outputs": [
    {
     "name": "stdout",
     "output_type": "stream",
     "text": [
      "Elon Musk\n",
      "2024\n"
     ]
    }
   ],
   "source": [
    "class Car:\n",
    "    def __init__(self, color, model):\n",
    "        self.color = color\n",
    "        self.model = model\n",
    "        \n",
    "    @staticmethod\n",
    "    def current_ceo_of_the_company():\n",
    "        return \"Elon Musk\"\n",
    "    \n",
    "    @staticmethod\n",
    "    def warranty_till(year_of_purchase):\n",
    "        return year_of_purchase + 5\n",
    "    \n",
    "print(Car.current_ceo_of_the_company())\n",
    "print(Car.warranty_till(2019))"
   ]
  },
  {
   "cell_type": "markdown",
   "metadata": {},
   "source": [
    "Observations from the above code:\n",
    "- We didn't have to initialize the object of class Car to access the static methods\n",
    "- We don't pass the self object to the static methods\n",
    "- `current_ceo_of_the_company` was a non-parameterized method while `warranty_till` is a parameterized method\n",
    "- Static methods can be private or public"
   ]
  }
 ],
 "metadata": {
  "kernelspec": {
   "display_name": "Python 3",
   "language": "python",
   "name": "python3"
  },
  "language_info": {
   "codemirror_mode": {
    "name": "ipython",
    "version": 3
   },
   "file_extension": ".py",
   "mimetype": "text/x-python",
   "name": "python",
   "nbconvert_exporter": "python",
   "pygments_lexer": "ipython3",
   "version": "3.6.12"
  }
 },
 "nbformat": 4,
 "nbformat_minor": 4
}
