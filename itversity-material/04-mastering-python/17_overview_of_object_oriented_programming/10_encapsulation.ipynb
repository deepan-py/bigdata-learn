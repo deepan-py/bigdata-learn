{
 "cells": [
  {
   "cell_type": "markdown",
   "metadata": {},
   "source": [
    "## Encapsulation"
   ]
  },
  {
   "cell_type": "markdown",
   "metadata": {},
   "source": [
    "Encapsulation is a concept of wrapping (or enclosing) data and the methods into a single unit called class. We already have seen that we define variables and methods in a class, then why this?\n",
    "- This concept specifically talks about who can access the data and methods defined in any class.\n",
    "- There are three types of access that can be provided:\n",
    "    - Public: Anybody can access the data and methods\n",
    "    - Private: data and methods only accessible within a particular class\n",
    "    - Protected: data and methods can be accessed by the class itself and the child class (Inheritance)\n",
    "        - However, this doesn't prevent other objects from accessing or modifying the data values\n",
    "- We don't have to use any specific syntax to define data and methods for public access\n",
    "- We need to use `__` (double underscore) to define private variables\n",
    "- We need to use `_` (single underscore) to defind protected variables"
   ]
  },
  {
   "cell_type": "code",
   "execution_count": 1,
   "metadata": {},
   "outputs": [],
   "source": [
    "import datetime"
   ]
  },
  {
   "cell_type": "code",
   "execution_count": 2,
   "metadata": {},
   "outputs": [],
   "source": [
    "class User:\n",
    "    _user_id = None\n",
    "    def __init__(self, user_id, user_fname, user_lname, user_email, user_password, user_created_dt):\n",
    "        self._user_id = user_id\n",
    "        self.user_fname = user_fname\n",
    "        self.user_lname = user_lname\n",
    "        self.user_email = user_email\n",
    "        self.__user_password = user_password\n",
    "        self.user_created_dt = user_created_dt\n",
    "        \n",
    "    def print_details(self):\n",
    "        print(\"User ID: \", self._user_id)\n",
    "        print(\"User first name: \", self.user_fname)\n",
    "        print(\"User last name: \", self.user_lname)\n",
    "        print(\"User email: \", self.user_email)\n",
    "        print(\"User created dt: \", self.user_created_dt)\n",
    "        \n",
    "    def get_user_password(self):\n",
    "        return self.__user_password"
   ]
  },
  {
   "cell_type": "code",
   "execution_count": 3,
   "metadata": {},
   "outputs": [],
   "source": [
    "class Admin(User):\n",
    "    def __init__(self, user_id, user_fname, user_lname, user_email, user_password, user_created_dt):\n",
    "        super().__init__(user_id, user_fname, user_lname, user_email, user_password, user_created_dt)\n",
    "        self.user_role = \"admin\"\n",
    "        self.admin_level = \"senior\"\n",
    "        \n",
    "    def print_details(self):\n",
    "        print(\"User ID: \", self._user_id)\n",
    "        print(\"User role: \", self.user_role)\n",
    "        print(\"User first name: \", self.user_fname)\n",
    "        print(\"User last name: \", self.user_lname)\n",
    "        print(\"User email: \", self.user_email)\n",
    "        print(\"User created dt: \", self.user_created_dt)\n",
    "        \n",
    "    def try_get_user_password(self):\n",
    "        return self.__user_password"
   ]
  },
  {
   "cell_type": "code",
   "execution_count": 3,
   "metadata": {},
   "outputs": [],
   "source": [
    "admin1 = Admin(\n",
    "    user_id=1,\n",
    "    user_fname='Scott',\n",
    "    user_lname='Smith',\n",
    "    user_email='scott@example.com',\n",
    "    user_password='Sample_Password@#1890',\n",
    "    user_created_dt=str(datetime.datetime.now())\n",
    ")"
   ]
  },
  {
   "cell_type": "code",
   "execution_count": 3,
   "metadata": {},
   "outputs": [],
   "source": [
    "admin1.print_details()"
   ]
  },
  {
   "cell_type": "code",
   "execution_count": 3,
   "metadata": {},
   "outputs": [
    {
     "name": "stdout",
     "output_type": "stream",
     "text": [
      "User ID:  1\n",
      "User role:  admin\n",
      "User first name:  Scott\n",
      "User last name:  Smith\n",
      "User email:  scott@example.com\n",
      "User created dt:  2021-06-05 09:53:33.727584\n",
      "Admin password:  Sample_Password@#1890\n"
     ]
    }
   ],
   "source": [
    "print(\"Admin password: \", admin1.get_user_password())"
   ]
  },
  {
   "cell_type": "code",
   "execution_count": 4,
   "metadata": {},
   "outputs": [
    {
     "ename": "AttributeError",
     "evalue": "'Admin' object has no attribute '_Admin__user_password'",
     "output_type": "error",
     "traceback": [
      "\u001b[0;31m---------------------------------------------------------------------------\u001b[0m",
      "\u001b[0;31mAttributeError\u001b[0m                            Traceback (most recent call last)",
      "\u001b[0;32m<ipython-input-4-b6b752436c70>\u001b[0m in \u001b[0;36m<module>\u001b[0;34m\u001b[0m\n\u001b[0;32m----> 1\u001b[0;31m \u001b[0madmin1\u001b[0m\u001b[0;34m.\u001b[0m\u001b[0mtry_get_user_password\u001b[0m\u001b[0;34m(\u001b[0m\u001b[0;34m)\u001b[0m\u001b[0;34m\u001b[0m\u001b[0;34m\u001b[0m\u001b[0m\n\u001b[0m",
      "\u001b[0;32m<ipython-input-3-b6bcb46d87ba>\u001b[0m in \u001b[0;36mtry_get_user_password\u001b[0;34m(self)\u001b[0m\n\u001b[1;32m     14\u001b[0m \u001b[0;34m\u001b[0m\u001b[0m\n\u001b[1;32m     15\u001b[0m     \u001b[0;32mdef\u001b[0m \u001b[0mtry_get_user_password\u001b[0m\u001b[0;34m(\u001b[0m\u001b[0mself\u001b[0m\u001b[0;34m)\u001b[0m\u001b[0;34m:\u001b[0m\u001b[0;34m\u001b[0m\u001b[0;34m\u001b[0m\u001b[0m\n\u001b[0;32m---> 16\u001b[0;31m         \u001b[0;32mreturn\u001b[0m \u001b[0mself\u001b[0m\u001b[0;34m.\u001b[0m\u001b[0m__user_password\u001b[0m\u001b[0;34m\u001b[0m\u001b[0;34m\u001b[0m\u001b[0m\n\u001b[0m\u001b[1;32m     17\u001b[0m \u001b[0;34m\u001b[0m\u001b[0m\n\u001b[1;32m     18\u001b[0m admin1 = Admin(\n",
      "\u001b[0;31mAttributeError\u001b[0m: 'Admin' object has no attribute '_Admin__user_password'"
     ]
    }
   ],
   "source": [
    "admin1.try_get_user_password()"
   ]
  },
  {
   "cell_type": "markdown",
   "metadata": {},
   "source": [
    "**We get an error while accessing the private variable in the parent class**"
   ]
  }
 ],
 "metadata": {
  "kernelspec": {
   "display_name": "Python 3",
   "language": "python",
   "name": "python3"
  },
  "language_info": {
   "codemirror_mode": {
    "name": "ipython",
    "version": 3
   },
   "file_extension": ".py",
   "mimetype": "text/x-python",
   "name": "python",
   "nbconvert_exporter": "python",
   "pygments_lexer": "ipython3",
   "version": "3.6.12"
  }
 },
 "nbformat": 4,
 "nbformat_minor": 4
}
