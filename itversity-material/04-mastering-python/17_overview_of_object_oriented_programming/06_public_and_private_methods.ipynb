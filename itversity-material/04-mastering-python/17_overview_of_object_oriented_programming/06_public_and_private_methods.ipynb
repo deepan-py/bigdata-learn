{
 "cells": [
  {
   "cell_type": "markdown",
   "metadata": {},
   "source": [
    "## Private and Public methods\n",
    "\n",
    "Let us get into the details related to Private and Public methods.\n",
    "- Private methods are the ones that can NOT be accessed from outside of class and object.\n",
    "- Private methods can only be accessed by other internal methods of a class and object.\n",
    "- Private methods start with `__` (double underscore).\n",
    "- Private methods cannot be static.\n",
    "- `__init__` is a private method, not accessible from outside.\n",
    "- Public methods can be accessed from outside the class and object.\n",
    "- Public methods can also be accessed from internal methods of a class and object."
   ]
  },
  {
   "cell_type": "code",
   "execution_count": 16,
   "metadata": {},
   "outputs": [],
   "source": [
    "class Car:\n",
    "    def __init__(self, color, model):\n",
    "        self.color = color\n",
    "        self.model = model\n",
    "        \n",
    "    def change_color(self, new_color):\n",
    "        self.color = new_color\n",
    "        \n",
    "    def __change_model(self, new_model):\n",
    "        self.model = new_model\n",
    "        \n",
    "    def exchange_car(self, new_model):\n",
    "        self.__change_model(new_model)"
   ]
  },
  {
   "cell_type": "code",
   "execution_count": 17,
   "metadata": {},
   "outputs": [
    {
     "name": "stdout",
     "output_type": "stream",
     "text": [
      "Initial tesla color and model:  red ,  3\n"
     ]
    }
   ],
   "source": [
    "tesla = Car('red', '3')\n",
    "print('Initial tesla color and model: ', tesla.color, ', ', tesla.model)"
   ]
  },
  {
   "cell_type": "code",
   "execution_count": 19,
   "metadata": {},
   "outputs": [
    {
     "name": "stdout",
     "output_type": "stream",
     "text": [
      "Color after change:  silver\n"
     ]
    }
   ],
   "source": [
    "tesla.change_color('silver')\n",
    "print('Color after change: ', tesla.color)"
   ]
  },
  {
   "cell_type": "code",
   "execution_count": 20,
   "metadata": {},
   "outputs": [
    {
     "name": "stdout",
     "output_type": "stream",
     "text": [
      "Model after change:  S\n"
     ]
    }
   ],
   "source": [
    "tesla.exchange_car('S')\n",
    "print('Model after change: ', tesla.model)"
   ]
  },
  {
   "cell_type": "markdown",
   "metadata": {},
   "source": [
    "In the above code, the private function `__change_model` is being called by the public function `exchange_car`.\n",
    "\n",
    "Now, let's try to call the private function using the object, this should produce an error."
   ]
  },
  {
   "cell_type": "code",
   "execution_count": 21,
   "metadata": {},
   "outputs": [
    {
     "ename": "AttributeError",
     "evalue": "'Car' object has no attribute '__change_model'",
     "output_type": "error",
     "traceback": [
      "\u001b[0;31m---------------------------------------------------------------------------\u001b[0m",
      "\u001b[0;31mAttributeError\u001b[0m                            Traceback (most recent call last)",
      "\u001b[0;32m<ipython-input-21-be406e2e7d68>\u001b[0m in \u001b[0;36m<module>\u001b[0;34m\u001b[0m\n\u001b[0;32m----> 1\u001b[0;31m \u001b[0mtesla\u001b[0m\u001b[0;34m.\u001b[0m\u001b[0m__change_model\u001b[0m\u001b[0;34m(\u001b[0m\u001b[0;34m'Y'\u001b[0m\u001b[0;34m)\u001b[0m\u001b[0;34m\u001b[0m\u001b[0;34m\u001b[0m\u001b[0m\n\u001b[0m",
      "\u001b[0;31mAttributeError\u001b[0m: 'Car' object has no attribute '__change_model'"
     ]
    }
   ],
   "source": [
    "tesla.__change_model('Y')"
   ]
  },
  {
   "cell_type": "markdown",
   "metadata": {},
   "source": [
    "**The above error is expected as a private function is being called directly from outside the object**"
   ]
  }
 ],
 "metadata": {
  "kernelspec": {
   "display_name": "Python 3",
   "language": "python",
   "name": "python3"
  },
  "language_info": {
   "codemirror_mode": {
    "name": "ipython",
    "version": 3
   },
   "file_extension": ".py",
   "mimetype": "text/x-python",
   "name": "python",
   "nbconvert_exporter": "python",
   "pygments_lexer": "ipython3",
   "version": "3.6.12"
  }
 },
 "nbformat": 4,
 "nbformat_minor": 4
}
