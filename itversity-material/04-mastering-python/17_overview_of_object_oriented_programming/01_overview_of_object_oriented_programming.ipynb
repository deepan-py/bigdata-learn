{
 "cells": [
  {
   "cell_type": "markdown",
   "metadata": {
    "pycharm": {
     "name": "#%% md"
    }
   },
   "source": [
    "# Overview of Object Oriented Programming\n",
    "\n",
    "* Classes and Objects\n",
    "* Constructors\n",
    "* Methods\n",
    "* Inheritance\n",
    "* Encapsulation\n",
    "* Polymorphism\n",
    "* Dynamic Classes"
   ]
  }
 ],
 "metadata": {
  "kernelspec": {
   "display_name": "Python 3",
   "language": "python",
   "name": "python3"
  },
  "language_info": {
   "codemirror_mode": {
    "name": "ipython",
    "version": 3
   },
   "file_extension": ".py",
   "mimetype": "text/x-python",
   "name": "python",
   "nbconvert_exporter": "python",
   "pygments_lexer": "ipython3",
   "version": "3.6.12"
  }
 },
 "nbformat": 4,
 "nbformat_minor": 4
}
