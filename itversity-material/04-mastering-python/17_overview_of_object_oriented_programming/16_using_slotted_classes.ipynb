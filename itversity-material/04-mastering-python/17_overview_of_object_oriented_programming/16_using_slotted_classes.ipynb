{
 "cells": [
  {
   "cell_type": "markdown",
   "id": "6fb67cb3",
   "metadata": {},
   "source": [
    "## Using Slotted Classes\n",
    "\n",
    "Let us get an overview of Slotted Classes. Data Classes will provide some common functionalities out-of-the-box which we need to implement with normal classes.\n",
    "* When we create a class in Python, we need not specify the attributes.\n",
    "* However, when multiple developers try to use the objects of the same class, they might end up adding new attributes to the object with out restriction.\n",
    "* We can restrict fields using `__slots__` as part of the class definition."
   ]
  },
  {
   "cell_type": "code",
   "execution_count": 14,
   "id": "85cd245b",
   "metadata": {},
   "outputs": [],
   "source": [
    "class Course:\n",
    "    course_id: int\n",
    "    \n",
    "    def __init__(self, course_id, course_title):\n",
    "        self.course_id = course_id\n",
    "        self.course_title = course_title\n",
    "\n",
    "        \n",
    "    def __repr__(self):\n",
    "        return f'Course(course_id={self.course_id}, course_title={self.course_title})'"
   ]
  },
  {
   "cell_type": "code",
   "execution_count": 15,
   "id": "b72c82b2",
   "metadata": {},
   "outputs": [],
   "source": [
    "course = Course(1, 'Learn Programming')"
   ]
  },
  {
   "cell_type": "code",
   "execution_count": 16,
   "id": "3f0169ea",
   "metadata": {},
   "outputs": [
    {
     "data": {
      "text/plain": [
       "Course(course_id=1, course_title=Learn Programming)"
      ]
     },
     "execution_count": 16,
     "metadata": {},
     "output_type": "execute_result"
    }
   ],
   "source": [
    "course"
   ]
  },
  {
   "cell_type": "code",
   "execution_count": 17,
   "id": "c3beef4f",
   "metadata": {},
   "outputs": [],
   "source": [
    "course.course_author = 'ITVersity' # Success"
   ]
  },
  {
   "cell_type": "code",
   "execution_count": 18,
   "id": "ff5f5939",
   "metadata": {},
   "outputs": [
    {
     "data": {
      "text/plain": [
       "'ITVersity'"
      ]
     },
     "execution_count": 18,
     "metadata": {},
     "output_type": "execute_result"
    }
   ],
   "source": [
    "course.course_author"
   ]
  },
  {
   "cell_type": "code",
   "execution_count": 19,
   "id": "0940c767",
   "metadata": {},
   "outputs": [],
   "source": [
    "class Course:\n",
    "    course_id: int\n",
    "    \n",
    "    __slots__ = 'course_id', 'course_title'\n",
    "    \n",
    "    def __init__(self, course_id, course_title):\n",
    "        self.course_id = course_id\n",
    "        self.course_title = course_title\n",
    "\n",
    "        \n",
    "    def __repr__(self):\n",
    "        return f'Course(course_id={self.course_id}, course_title={self.course_title})'"
   ]
  },
  {
   "cell_type": "code",
   "execution_count": 20,
   "id": "af7426df",
   "metadata": {},
   "outputs": [],
   "source": [
    "course = Course(1, 'Learn Programming')"
   ]
  },
  {
   "cell_type": "code",
   "execution_count": 21,
   "id": "d7e0c601",
   "metadata": {},
   "outputs": [
    {
     "data": {
      "text/plain": [
       "Course(course_id=1, course_title=Learn Programming)"
      ]
     },
     "execution_count": 21,
     "metadata": {},
     "output_type": "execute_result"
    }
   ],
   "source": [
    "course"
   ]
  },
  {
   "cell_type": "code",
   "execution_count": 22,
   "id": "b5a5b16c",
   "metadata": {},
   "outputs": [
    {
     "ename": "AttributeError",
     "evalue": "'Course' object has no attribute 'course_author'",
     "output_type": "error",
     "traceback": [
      "\u001b[0;31m---------------------------------------------------------------------------\u001b[0m",
      "\u001b[0;31mAttributeError\u001b[0m                            Traceback (most recent call last)",
      "\u001b[0;32m<ipython-input-22-efda0ed66656>\u001b[0m in \u001b[0;36m<module>\u001b[0;34m\u001b[0m\n\u001b[0;32m----> 1\u001b[0;31m \u001b[0mcourse\u001b[0m\u001b[0;34m.\u001b[0m\u001b[0mcourse_author\u001b[0m \u001b[0;34m=\u001b[0m \u001b[0;34m'ITVersity'\u001b[0m \u001b[0;31m# Success\u001b[0m\u001b[0;34m\u001b[0m\u001b[0;34m\u001b[0m\u001b[0m\n\u001b[0m",
      "\u001b[0;31mAttributeError\u001b[0m: 'Course' object has no attribute 'course_author'"
     ]
    }
   ],
   "source": [
    "course.course_author = 'ITVersity' # Fails with AttributeError"
   ]
  }
 ],
 "metadata": {
  "kernelspec": {
   "display_name": "Python 3",
   "language": "python",
   "name": "python3"
  },
  "language_info": {
   "codemirror_mode": {
    "name": "ipython",
    "version": 3
   },
   "file_extension": ".py",
   "mimetype": "text/x-python",
   "name": "python",
   "nbconvert_exporter": "python",
   "pygments_lexer": "ipython3",
   "version": "3.6.12"
  }
 },
 "nbformat": 4,
 "nbformat_minor": 5
}
