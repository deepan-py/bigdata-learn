{
 "cells": [
  {
   "cell_type": "markdown",
   "metadata": {},
   "source": [
    "## Constructors"
   ]
  },
  {
   "cell_type": "markdown",
   "metadata": {},
   "source": [
    "- A constructor is a method that gets called when the **class gets initiated(or when an object gets created)**\n",
    "- This constructor lets us assign values or perform the initial computation if needed\n",
    "- A constructor is an private function inside the class, that is, it cannot be accessed from outside the class object"
   ]
  },
  {
   "cell_type": "code",
   "execution_count": 1,
   "metadata": {},
   "outputs": [],
   "source": [
    "class Car:\n",
    "    def __init__(self):\n",
    "        self.color = \"red\""
   ]
  },
  {
   "cell_type": "markdown",
   "metadata": {},
   "source": [
    "In python, the `__init__` method is the constructor, the `self` variable that is passed as a parameter is the object of Car class iself"
   ]
  },
  {
   "cell_type": "code",
   "execution_count": 2,
   "metadata": {},
   "outputs": [
    {
     "name": "stdout",
     "output_type": "stream",
     "text": [
      "<class '__main__.Car'>\n"
     ]
    }
   ],
   "source": [
    "class Car:\n",
    "    def __init__(self):\n",
    "        print(type(self))\n",
    "        \n",
    "tesla = Car()"
   ]
  },
  {
   "cell_type": "markdown",
   "metadata": {},
   "source": [
    "As you can see above, constructor is the method that gets called when an object of that class is initiated, and also the `self` object is the object of the Car class itself. You can also use self object to access the variables in the class."
   ]
  },
  {
   "cell_type": "code",
   "execution_count": 3,
   "metadata": {},
   "outputs": [
    {
     "name": "stdout",
     "output_type": "stream",
     "text": [
      "Color of tesla:  red\n"
     ]
    }
   ],
   "source": [
    "class Car:\n",
    "    color = \"red\"\n",
    "    def __init__(self):\n",
    "        print(\"Color of tesla: \", self.color)\n",
    "        \n",
    "tesla = Car()"
   ]
  },
  {
   "cell_type": "markdown",
   "metadata": {},
   "source": [
    "**Here's a fun fact**:\n",
    "You can name the self object as anything, the self name is just a convention that is set and is being followed."
   ]
  },
  {
   "cell_type": "code",
   "execution_count": 4,
   "metadata": {},
   "outputs": [
    {
     "name": "stdout",
     "output_type": "stream",
     "text": [
      "<class '__main__.Car'>\n"
     ]
    }
   ],
   "source": [
    "class Car:\n",
    "    def __init__(abc):\n",
    "        print(type(abc))\n",
    "        \n",
    "tesla = Car()"
   ]
  },
  {
   "cell_type": "markdown",
   "metadata": {},
   "source": [
    "Now, let's take a look at the different ways in which you can use the constructor in python:\n",
    "- It can be used to assign initial values to the object\n",
    "- It can be used to perform an initial action"
   ]
  },
  {
   "cell_type": "code",
   "execution_count": 2,
   "metadata": {},
   "outputs": [
    {
     "name": "stdout",
     "output_type": "stream",
     "text": [
      "Color of tesla:  red\n",
      "Model of tesla:  S\n"
     ]
    }
   ],
   "source": [
    "# Let's see how we can pass initial values to the object\n",
    "class Car:\n",
    "    def __init__(self, color, model):\n",
    "        self.color = color\n",
    "        self.model = model\n",
    "\n",
    "# Caution: You don't pass the self value, you pass only the other parameters\n",
    "tesla = Car(\"red\", \"S\")\n",
    "\n",
    "print(\"Color of tesla: \", tesla.color)\n",
    "print(\"Model of tesla: \", tesla.model)"
   ]
  },
  {
   "cell_type": "code",
   "execution_count": 6,
   "metadata": {},
   "outputs": [
    {
     "name": "stdout",
     "output_type": "stream",
     "text": [
      "Car manufactured at:  29 May 2021\n"
     ]
    }
   ],
   "source": [
    "# Let's see how we perform some initial computation in the constructor\n",
    "import datetime\n",
    "\n",
    "class Car:\n",
    "    def __init__(self):\n",
    "        self.manufacturing_date = datetime.datetime.now()\n",
    "        print(\"Car manufactured at: \", self.manufacturing_date.strftime(\"%d %B %Y\"))\n",
    "        \n",
    "tesla = Car()"
   ]
  },
  {
   "cell_type": "markdown",
   "metadata": {},
   "source": [
    "### Exercise\n",
    "Create a class Laptop, compute the manufactering date in the constructor, and also pass the parameters of model name and screen size(13, 15, 18).\n",
    "\n",
    "Note: Remove the pass keyword below and proceed."
   ]
  },
  {
   "cell_type": "code",
   "execution_count": 7,
   "metadata": {},
   "outputs": [],
   "source": [
    "class Laptop:\n",
    "    pass"
   ]
  }
 ],
 "metadata": {
  "kernelspec": {
   "display_name": "Python 3",
   "language": "python",
   "name": "python3"
  },
  "language_info": {
   "codemirror_mode": {
    "name": "ipython",
    "version": 3
   },
   "file_extension": ".py",
   "mimetype": "text/x-python",
   "name": "python",
   "nbconvert_exporter": "python",
   "pygments_lexer": "ipython3",
   "version": "3.6.12"
  }
 },
 "nbformat": 4,
 "nbformat_minor": 4
}
