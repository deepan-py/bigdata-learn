{
 "cells": [
  {
   "cell_type": "markdown",
   "id": "55c4da16",
   "metadata": {},
   "source": [
    "## Overview of Data Classes\n",
    "\n",
    "Let us get an overview of Data Classes. Data Classes will provide some common functionalities out-of-the-box which we need to implement with normal classes.\n",
    "\n",
    "Here are the steps we use with normal class.\n",
    "* Create a class with required attributes.\n",
    "* Define the constructor. As part of the constructor, we typically initialize class attributes.\n",
    "* We need to define `__repr__` function to provide representation of object."
   ]
  },
  {
   "cell_type": "code",
   "execution_count": 15,
   "id": "d55a9762",
   "metadata": {},
   "outputs": [],
   "source": [
    "class Course:\n",
    "    course_id: int\n",
    "    course_title: str\n",
    "    course_author: str\n",
    "    course_price: float\n",
    "    \n",
    "    def __init__(self, course_id, course_title, course_author, course_price):\n",
    "        self.course_id = course_id\n",
    "        self.course_title = course_title\n",
    "        self.course_author = course_author\n",
    "        self.course_price = course_price\n",
    "        \n",
    "    def __repr__(self):\n",
    "        return f'Course(course_id={self.course_id}, course_title={self.course_title}, course_author={self.course_author}, course_price={self.course_price})'"
   ]
  },
  {
   "cell_type": "code",
   "execution_count": 16,
   "id": "cffe241c",
   "metadata": {},
   "outputs": [],
   "source": [
    "course = Course(1, 'Learn Programming', 'ITVersity', 100.0)"
   ]
  },
  {
   "cell_type": "code",
   "execution_count": 17,
   "id": "6c1c68a9",
   "metadata": {},
   "outputs": [
    {
     "data": {
      "text/plain": [
       "Course(course_id=1, course_title=Learn Programming, course_author=ITVersity, course_price=100.0)"
      ]
     },
     "execution_count": 17,
     "metadata": {},
     "output_type": "execute_result"
    }
   ],
   "source": [
    "course"
   ]
  },
  {
   "cell_type": "code",
   "execution_count": 19,
   "id": "01c8c6e2",
   "metadata": {},
   "outputs": [
    {
     "data": {
      "text/plain": [
       "1"
      ]
     },
     "execution_count": 19,
     "metadata": {},
     "output_type": "execute_result"
    }
   ],
   "source": [
    "course.course_id"
   ]
  },
  {
   "cell_type": "code",
   "execution_count": 20,
   "id": "5d225326",
   "metadata": {},
   "outputs": [
    {
     "data": {
      "text/plain": [
       "'Learn Programming'"
      ]
     },
     "execution_count": 20,
     "metadata": {},
     "output_type": "execute_result"
    }
   ],
   "source": [
    "course.course_title"
   ]
  },
  {
   "cell_type": "markdown",
   "id": "121e0d9b",
   "metadata": {},
   "source": [
    "* Here is how you can implement this using Data Classes.\n",
    "* You need to first install this external Python Module using `pip install dataclasses`"
   ]
  },
  {
   "cell_type": "code",
   "execution_count": 21,
   "id": "e28804e2",
   "metadata": {},
   "outputs": [],
   "source": [
    "from dataclasses import dataclass\n",
    "\n",
    "@dataclass\n",
    "class Course:\n",
    "    course_id: int\n",
    "    course_title: str\n",
    "    course_author: str\n",
    "    course_price: float"
   ]
  },
  {
   "cell_type": "code",
   "execution_count": 22,
   "id": "f149c851",
   "metadata": {},
   "outputs": [],
   "source": [
    "course = Course(1, 'Learn Programming', 'ITVersity', 100.0)"
   ]
  },
  {
   "cell_type": "code",
   "execution_count": 23,
   "id": "91643d2a",
   "metadata": {},
   "outputs": [
    {
     "data": {
      "text/plain": [
       "Course(course_id=1, course_title='Learn Programming', course_author='ITVersity', course_price=100.0)"
      ]
     },
     "execution_count": 23,
     "metadata": {},
     "output_type": "execute_result"
    }
   ],
   "source": [
    "course"
   ]
  },
  {
   "cell_type": "code",
   "execution_count": 26,
   "id": "16966c5f",
   "metadata": {},
   "outputs": [
    {
     "data": {
      "text/plain": [
       "1"
      ]
     },
     "execution_count": 26,
     "metadata": {},
     "output_type": "execute_result"
    }
   ],
   "source": [
    "course.course_id"
   ]
  },
  {
   "cell_type": "code",
   "execution_count": 27,
   "id": "fb0f3b22",
   "metadata": {},
   "outputs": [
    {
     "data": {
      "text/plain": [
       "'Learn Programming'"
      ]
     },
     "execution_count": 27,
     "metadata": {},
     "output_type": "execute_result"
    }
   ],
   "source": [
    "course.course_title"
   ]
  },
  {
   "cell_type": "code",
   "execution_count": 28,
   "id": "cbb1f71f",
   "metadata": {},
   "outputs": [
    {
     "name": "stdout",
     "output_type": "stream",
     "text": [
      "Help on Course in module __main__ object:\n",
      "\n",
      "class Course(builtins.object)\n",
      " |  Course(course_id:int, course_title:str, course_author:str, course_price:float)\n",
      " |  \n",
      " |  Methods defined here:\n",
      " |  \n",
      " |  __eq__(self, other)\n",
      " |  \n",
      " |  __init__(self, course_id:int, course_title:str, course_author:str, course_price:float) -> None\n",
      " |  \n",
      " |  __repr__(self)\n",
      " |  \n",
      " |  ----------------------------------------------------------------------\n",
      " |  Data descriptors defined here:\n",
      " |  \n",
      " |  __dict__\n",
      " |      dictionary for instance variables (if defined)\n",
      " |  \n",
      " |  __weakref__\n",
      " |      list of weak references to the object (if defined)\n",
      " |  \n",
      " |  ----------------------------------------------------------------------\n",
      " |  Data and other attributes defined here:\n",
      " |  \n",
      " |  __annotations__ = {'course_author': <class 'str'>, 'course_id': <class...\n",
      " |  \n",
      " |  __dataclass_fields__ = {'course_author': Field(name='course_author',ty...\n",
      " |  \n",
      " |  __dataclass_params__ = _DataclassParams(init=True,repr=True,eq=True,or...\n",
      " |  \n",
      " |  __hash__ = None\n",
      "\n"
     ]
    }
   ],
   "source": [
    "help(course)"
   ]
  },
  {
   "cell_type": "code",
   "execution_count": 33,
   "id": "5b5769c3",
   "metadata": {},
   "outputs": [
    {
     "ename": "TypeError",
     "evalue": "unhashable type: 'Course'",
     "output_type": "error",
     "traceback": [
      "\u001b[0;31m---------------------------------------------------------------------------\u001b[0m",
      "\u001b[0;31mTypeError\u001b[0m                                 Traceback (most recent call last)",
      "\u001b[0;32m<ipython-input-33-6875db31fd8f>\u001b[0m in \u001b[0;36m<module>\u001b[0;34m\u001b[0m\n\u001b[0;32m----> 1\u001b[0;31m \u001b[0mhash\u001b[0m\u001b[0;34m(\u001b[0m\u001b[0mcourse\u001b[0m\u001b[0;34m)\u001b[0m\u001b[0;34m\u001b[0m\u001b[0;34m\u001b[0m\u001b[0m\n\u001b[0m",
      "\u001b[0;31mTypeError\u001b[0m: unhashable type: 'Course'"
     ]
    }
   ],
   "source": [
    "hash(course)"
   ]
  },
  {
   "cell_type": "code",
   "execution_count": null,
   "id": "63631b95",
   "metadata": {},
   "outputs": [],
   "source": []
  }
 ],
 "metadata": {
  "kernelspec": {
   "display_name": "Python 3",
   "language": "python",
   "name": "python3"
  },
  "language_info": {
   "codemirror_mode": {
    "name": "ipython",
    "version": 3
   },
   "file_extension": ".py",
   "mimetype": "text/x-python",
   "name": "python",
   "nbconvert_exporter": "python",
   "pygments_lexer": "ipython3",
   "version": "3.6.12"
  }
 },
 "nbformat": 4,
 "nbformat_minor": 5
}
