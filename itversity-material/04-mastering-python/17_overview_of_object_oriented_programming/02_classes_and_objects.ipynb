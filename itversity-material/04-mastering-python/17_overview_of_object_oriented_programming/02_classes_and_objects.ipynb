{
 "cells": [
  {
   "cell_type": "markdown",
   "metadata": {},
   "source": [
    "## Classes and Objects"
   ]
  },
  {
   "cell_type": "markdown",
   "metadata": {},
   "source": [
    "## Object oriented programming (OOP)\n",
    "- Object oriented programming is a common and powerful concept in computer programming\n",
    "- In simple terms, the programs written with the OOP concept rely on objects to operate\n",
    "- There are various object oriented programming languages, Python and Java are among the top 5 in the [StackOverflow developer survery 2020](https://insights.stackoverflow.com/survey/2020#technology-programming-scripting-and-markup-languages)\n",
    "\n",
    "### Here is an glimpse of OOP by Steve Jobs in 1994\n",
    "**Jeff Goodell**: Would you explain, in simple terms, exactly what object-oriented software is?\n",
    "\n",
    "**Steve Jobs**: Objects are like people. They’re living, breathing things that have knowledge inside them about how to do things and have memory inside them so they can remember things. And rather than interacting with them at a very low level, you interact with them at a very high level of abstraction, like we’re doing right here.\n",
    "\n",
    "Here’s an example: If I’m your laundry object, you can give me your dirty clothes and send me a message that says, “Can you get my clothes laundered, please.” I happen to know where the best laundry place in San Francisco is. And I speak English, and I have dollars in my pockets. So I go out and get a taxicab and tell the driver to take me to this place in San Francisco. I go get your clothes laundered, I jump back in the cab, I get back here. I give you your clean clothes and say, “Here are your clean clothes.”\n",
    "\n",
    "You have no idea how I did that. You have no knowledge of the laundry place. Maybe you speak French, and you can’t even get a taxi. You can’t pay for one, you don’t have dollars in your pocket. Yet I knew how to do all of that. And you didn’t have to know any of it. All that complexity was hidden inside of me, and we were able to interact at a very high level of abstraction. That’s what objects are. They encapsulate(or hide) complexity, and the interfaces to that complexity are high level.\n",
    "\n",
    "**This was just a high level explanation, now let's get depper into it!**"
   ]
  },
  {
   "cell_type": "markdown",
   "metadata": {},
   "source": [
    "### To understand the concept better, let's take a look at classes. What are classes?\n",
    "- Classes are templates that define the objects\n",
    "- An Object is be created using a class\n",
    "- You can create multiple objects using just one class\n",
    "- A class in python can be defined using the `class` keyword\n",
    "- By convention, the name of the class always starts with a capital letter (not mandatory!)"
   ]
  },
  {
   "cell_type": "code",
   "execution_count": 1,
   "metadata": {},
   "outputs": [],
   "source": [
    "class Example:\n",
    "    x = 10"
   ]
  },
  {
   "cell_type": "markdown",
   "metadata": {},
   "source": [
    "### Now let's take a look at objects\n",
    "- As we already know, objects are created using classes\n",
    "- One object can be created using one class\n",
    "- An object has attributes(how it is), and behaviour(what it does)\n",
    "\n",
    "Here's an example of an object: Car\n",
    "\n",
    "A car has its own attributes and behaviours.\n",
    "\n",
    "Attributes:\n",
    "- Color (Red, Black, Silver, Grey)\n",
    "- Manual/Automatic\n",
    "- Number of passangers\n",
    "- Electric/Petrol/Diesel\n",
    "\n",
    "Behaviors:\n",
    "- Accelerate\n",
    "- Brake\n",
    "- Sound horn\n",
    "- Windows up/down\n",
    "\n",
    "In conclusion,\n",
    "- An object has attributes that can you think of as the **state** of the object, and behaviours that can you think of **actions**\n",
    "- In programming, state is the variables defined, and behaviours are the methods\n",
    "- You can define these variables and methods inside of a class to make a template for the object\n",
    "\n",
    "\n",
    "Now, let's define a simple class with just variables and make an object from it."
   ]
  },
  {
   "cell_type": "code",
   "execution_count": 2,
   "metadata": {},
   "outputs": [],
   "source": [
    "\"\"\"\n",
    "    Defining a class named Car with attributes (state):\n",
    "    - color\n",
    "    - transmission\n",
    "    - number_of_passengers\n",
    "    - fuel_type\n",
    "\"\"\"\n",
    "\n",
    "class Car:\n",
    "    color = \"red\"\n",
    "    transmission = \"automatic\"\n",
    "    number_of_passengers = 5\n",
    "    fuel_type = \"electric\""
   ]
  },
  {
   "cell_type": "markdown",
   "metadata": {},
   "source": [
    "We can create an object from a class, by calling the class using round brackets: `Car()`"
   ]
  },
  {
   "cell_type": "code",
   "execution_count": 3,
   "metadata": {},
   "outputs": [
    {
     "name": "stdout",
     "output_type": "stream",
     "text": [
      "Tesla model 3\n",
      "Color:  red\n",
      "Transmission:  automatic\n",
      "Number of passangers:  5\n",
      "Fuel Type:  electric\n"
     ]
    }
   ],
   "source": [
    "\"\"\"\n",
    "    Now, let's create an object using the above class and print it's values\n",
    "\"\"\"\n",
    "\n",
    "tesla_model_3 = Car()\n",
    "print(\"Tesla model 3\")\n",
    "print(\"Color: \", tesla_model_3.color)\n",
    "print(\"Transmission: \", tesla_model_3.transmission)\n",
    "print(\"Number of passangers: \", tesla_model_3.number_of_passengers)\n",
    "print(\"Fuel Type: \", tesla_model_3.fuel_type)"
   ]
  },
  {
   "cell_type": "code",
   "execution_count": 4,
   "metadata": {},
   "outputs": [
    {
     "data": {
      "text/plain": [
       "__main__.Car"
      ]
     },
     "execution_count": 4,
     "metadata": {},
     "output_type": "execute_result"
    }
   ],
   "source": [
    "type(tesla_model_3)"
   ]
  },
  {
   "cell_type": "markdown",
   "metadata": {},
   "source": [
    "We can also modify these values of the object we have created, this wouldn't affect the other object"
   ]
  },
  {
   "cell_type": "code",
   "execution_count": 5,
   "metadata": {},
   "outputs": [
    {
     "name": "stdout",
     "output_type": "stream",
     "text": [
      "Tesla model S\n",
      "Color:  red\n",
      "Transmission:  automatic\n",
      "Number of passangers:  5\n",
      "Fuel Type:  electric\n"
     ]
    }
   ],
   "source": [
    "# Creating a new model and printing it's values\n",
    "tesla_model_s = Car()\n",
    "print(\"Tesla model S\")\n",
    "print(\"Color: \", tesla_model_s.color)\n",
    "print(\"Transmission: \", tesla_model_s.transmission)\n",
    "print(\"Number of passangers: \", tesla_model_s.number_of_passengers)\n",
    "print(\"Fuel Type: \", tesla_model_s.fuel_type)"
   ]
  },
  {
   "cell_type": "code",
   "execution_count": 6,
   "metadata": {},
   "outputs": [
    {
     "name": "stdout",
     "output_type": "stream",
     "text": [
      "Tesla model 3\n",
      "Color:  silver\n",
      "Transmission:  automatic\n",
      "Number of passangers:  5\n",
      "Fuel Type:  electric\n"
     ]
    }
   ],
   "source": [
    "# Changing the color of model 3\n",
    "tesla_model_3.color = \"silver\"\n",
    "\n",
    "print(\"Tesla model 3\")\n",
    "print(\"Color: \", tesla_model_3.color)\n",
    "print(\"Transmission: \", tesla_model_3.transmission)\n",
    "print(\"Number of passangers: \", tesla_model_3.number_of_passengers)\n",
    "print(\"Fuel Type: \", tesla_model_3.fuel_type)"
   ]
  },
  {
   "cell_type": "code",
   "execution_count": 7,
   "metadata": {},
   "outputs": [
    {
     "name": "stdout",
     "output_type": "stream",
     "text": [
      "Tesla model S\n",
      "Color:  red\n",
      "Transmission:  automatic\n",
      "Number of passangers:  5\n",
      "Fuel Type:  electric\n"
     ]
    }
   ],
   "source": [
    "# Printing the unchanged values of model S\n",
    "print(\"Tesla model S\")\n",
    "print(\"Color: \", tesla_model_s.color)\n",
    "print(\"Transmission: \", tesla_model_s.transmission)\n",
    "print(\"Number of passangers: \", tesla_model_s.number_of_passengers)\n",
    "print(\"Fuel Type: \", tesla_model_s.fuel_type)"
   ]
  },
  {
   "cell_type": "markdown",
   "metadata": {},
   "source": [
    "**As you can see above the tesla_model_s object still has the color of Red while the tesla_model_3 has color silver now**"
   ]
  },
  {
   "cell_type": "markdown",
   "metadata": {},
   "source": [
    "In the upcoming chapters, we will learn more about objects and classes, and how to use them.\n",
    "\n",
    "There are a few features of OOP which we will discuss in depth in the coming chapters:\n",
    "- Inheritence\n",
    "- Encapsulation\n",
    "- Polymorphism\n",
    "- Abstraction"
   ]
  },
  {
   "cell_type": "code",
   "execution_count": null,
   "metadata": {},
   "outputs": [],
   "source": []
  }
 ],
 "metadata": {
  "kernelspec": {
   "display_name": "Python 3",
   "language": "python",
   "name": "python3"
  },
  "language_info": {
   "codemirror_mode": {
    "name": "ipython",
    "version": 3
   },
   "file_extension": ".py",
   "mimetype": "text/x-python",
   "name": "python",
   "nbconvert_exporter": "python",
   "pygments_lexer": "ipython3",
   "version": "3.6.12"
  }
 },
 "nbformat": 4,
 "nbformat_minor": 4
}
