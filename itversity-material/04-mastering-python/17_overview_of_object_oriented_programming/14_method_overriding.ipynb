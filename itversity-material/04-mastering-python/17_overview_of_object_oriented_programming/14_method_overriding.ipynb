{
 "cells": [
  {
   "cell_type": "markdown",
   "id": "33a4f7f0",
   "metadata": {},
   "source": [
    "## Method Overriding\n",
    "\n",
    "Method overriding is override (or overpower) a function from a parent when we inerit a class.\n",
    "- This can be done in python without any supporting packages.\n",
    "- Method overriding is an example of run time polymorphism.\n",
    "- In method overriding, the main change happens in the child class\n",
    "- As you can observe below, the `add` method is overriden in the `Child` class by defining a new function\n",
    "- When we create an object of Child class and call the add method, the overriden method gets called and not the add method in the parent\n"
   ]
  },
  {
   "cell_type": "code",
   "execution_count": 4,
   "id": "174bee15",
   "metadata": {},
   "outputs": [
    {
     "name": "stdout",
     "output_type": "stream",
     "text": [
      "Add in parent:  3\n",
      "Add in child:  6\n",
      "---------------------------\n",
      "Multiplication in parent:  12\n",
      "Multiplication in child:  12\n"
     ]
    }
   ],
   "source": [
    "class Parent:\n",
    "    def add(self, a, b):\n",
    "        return a + b\n",
    "    def mul(self, a, b):\n",
    "        return a * b\n",
    "    \n",
    "class Child(Parent):\n",
    "    def add(self, a, b, c):\n",
    "        return a + b + c\n",
    "    \n",
    "obj_parent = Parent()\n",
    "obj_child = Child()\n",
    "\n",
    "print(\"Add in parent: \", obj_parent.add(1, 2))\n",
    "print(\"Add in child: \", obj_child.add(1, 2, 3))\n",
    "print(\"---------------------------\")\n",
    "print(\"Multiplication in parent: \", obj_parent.mul(3, 4))\n",
    "print(\"Multiplication in child: \", obj_child.mul(3, 4))"
   ]
  },
  {
   "cell_type": "markdown",
   "id": "55c1b36e",
   "metadata": {},
   "source": [
    "Now, let's try the same with a multiple inheritence."
   ]
  },
  {
   "cell_type": "code",
   "execution_count": 5,
   "id": "15ac7716",
   "metadata": {},
   "outputs": [
    {
     "name": "stdout",
     "output_type": "stream",
     "text": [
      "Addition:  5\n",
      "Multiplication:  6\n",
      "Division:  1.5\n",
      "Modulus:  2\n"
     ]
    }
   ],
   "source": [
    "class Parent1:\n",
    "    def add(self, a, b):\n",
    "        return a + b\n",
    "    def mul(self, a, b):\n",
    "        return a * b\n",
    "    \n",
    "class Parent2:\n",
    "    def div(self, a, b):\n",
    "        return a / b\n",
    "    def mod(self, a, b):\n",
    "        return a % b\n",
    "    \n",
    "class Child(Parent1, Parent2):\n",
    "    def add(self, a, b):\n",
    "        return a + b\n",
    "    def div(self, a, b):\n",
    "        return b / a\n",
    "    \n",
    "obj_child = Child()\n",
    "print(\"Addition: \", obj_child.add(2, 3))\n",
    "print(\"Multiplication: \", obj_child.mul(2, 3))\n",
    "print(\"Division: \", obj_child.div(2, 3))\n",
    "print(\"Modulus: \", obj_child.mod(2, 3))"
   ]
  }
 ],
 "metadata": {
  "kernelspec": {
   "display_name": "Python 3",
   "language": "python",
   "name": "python3"
  },
  "language_info": {
   "codemirror_mode": {
    "name": "ipython",
    "version": 3
   },
   "file_extension": ".py",
   "mimetype": "text/x-python",
   "name": "python",
   "nbconvert_exporter": "python",
   "pygments_lexer": "ipython3",
   "version": "3.6.12"
  }
 },
 "nbformat": 4,
 "nbformat_minor": 5
}
