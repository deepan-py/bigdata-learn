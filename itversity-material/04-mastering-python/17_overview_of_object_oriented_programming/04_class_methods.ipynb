{
 "cells": [
  {
   "cell_type": "markdown",
   "metadata": {},
   "source": [
    "## Class Methods\n",
    "\n",
    "As part of this topic, we will focus on Class Methods. But before talking about Class Methods, let us understand about Method.\n",
    "- A method is a set of code that performs one or more actions\n",
    "- A method inside for a class is called a class method and can be accessed using the class or object\n",
    "- A method is created using the `def` keyword\n",
    "- With respect to how you can access a method, there are two types:\n",
    "    - Class method: A method that can accessed only through objects\n",
    "    - Static method: A method that can accessed through the class name\n",
    "- With respect to who can access a method, there are two types:\n",
    "    - Public method: Can be accessed from outside the class\n",
    "    - Private method: Can be only accessed from inside of the class\n",
    "- As a convention, the method names start with a small letter"
   ]
  },
  {
   "cell_type": "markdown",
   "metadata": {},
   "source": [
    "### Class methods\n",
    "\n",
    "Now let us talk about Class Methods.\n",
    "\n",
    "- These methods are part of the class we define.\n",
    "- They are also part of the objects we create and can be called using the object.\n",
    "- They can be private or public. We will talk about private and public methods later.\n",
    "\n",
    "From the previous explanation of OOP, the actions that an object do are the methods."
   ]
  },
  {
   "cell_type": "code",
   "execution_count": 1,
   "metadata": {},
   "outputs": [
    {
     "name": "stdout",
     "output_type": "stream",
     "text": [
      "Car color:  red\n",
      "Car model:  S\n",
      "Car initial speed:  0\n",
      "Car speed after acceleration:  6\n",
      "Car speed after braking:  4\n",
      "Car initial AC temperature:  28\n",
      "Car AC temperature after change:  22\n"
     ]
    }
   ],
   "source": [
    "class Car:\n",
    "    def __init__(self, color, model):\n",
    "        self.color = color\n",
    "        self.model = model\n",
    "        self.speed = 0\n",
    "        self.ac_temperature = 28\n",
    "        \n",
    "    # Function to accelerate the car, it increases the speed of car by 2\n",
    "    def accelerate(self):\n",
    "        self.speed = self.speed + 2\n",
    "    \n",
    "    # Function to accelerate the car, it decreases the speed of car by 2\n",
    "    def brake(self):\n",
    "        self.speed = self.speed - 2\n",
    "        \n",
    "    # Function to set the air conditioner(AC) temperature in the car\n",
    "    def set_ac_temperature(self, temp):\n",
    "        self.ac_temperature = temp\n",
    "        \n",
    "tesla = Car(\"red\", \"S\")\n",
    "print(\"Car color: \", tesla.color)\n",
    "print(\"Car model: \", tesla.model)\n",
    "print(\"Car initial speed: \", tesla.speed)\n",
    "tesla.accelerate()\n",
    "tesla.accelerate()\n",
    "tesla.accelerate()\n",
    "print(\"Car speed after acceleration: \", tesla.speed)\n",
    "tesla.brake()\n",
    "print(\"Car speed after braking: \", tesla.speed)\n",
    "print(\"Car initial AC temperature: \", tesla.ac_temperature)\n",
    "tesla.set_ac_temperature(22)\n",
    "print(\"Car AC temperature after change: \", tesla.ac_temperature)"
   ]
  },
  {
   "cell_type": "markdown",
   "metadata": {},
   "source": [
    "Observations to make from the above code:\n",
    "- `__init__` is a constructor\n",
    "- `accelerate`, `brake`, and `set_ac_temperature` are the three class methods\n",
    "- `accelerate` and `brake` are non-parameterized methods\n",
    "- `set_ac_temperature` is a parametized method\n",
    "- **Class methods have self as the first parameter**\n",
    "- These methods can be only accessed through the object of Car"
   ]
  }
 ],
 "metadata": {
  "kernelspec": {
   "display_name": "Python 3",
   "language": "python",
   "name": "python3"
  },
  "language_info": {
   "codemirror_mode": {
    "name": "ipython",
    "version": 3
   },
   "file_extension": ".py",
   "mimetype": "text/x-python",
   "name": "python",
   "nbconvert_exporter": "python",
   "pygments_lexer": "ipython3",
   "version": "3.6.12"
  }
 },
 "nbformat": 4,
 "nbformat_minor": 4
}
