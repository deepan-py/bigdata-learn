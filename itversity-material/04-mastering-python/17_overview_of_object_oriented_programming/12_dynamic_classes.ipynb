{
 "cells": [
  {
   "cell_type": "markdown",
   "metadata": {},
   "source": [
    "## Dynamic Classes"
   ]
  },
  {
   "cell_type": "markdown",
   "metadata": {},
   "source": [
    "Class is a collection of variables and methods of a specific type. Python being a flexible language, allows us to create classes in runtime. Such classes are called dynamic classes. These dynamic classes can be created by extending the `type` function. Lets look at an example below."
   ]
  },
  {
   "cell_type": "code",
   "execution_count": 1,
   "metadata": {},
   "outputs": [],
   "source": [
    "import datetime"
   ]
  },
  {
   "cell_type": "code",
   "execution_count": 2,
   "metadata": {},
   "outputs": [],
   "source": [
    "def constructor(self, user_id, user_fname, user_lname, user_email, user_created_dt):\n",
    "    self.user_id = user_id\n",
    "    self.user_fname = user_fname\n",
    "    self.user_lname = user_lname\n",
    "    self.user_email = user_email\n",
    "    self.user_created_dt = user_created_dt\n",
    "\n",
    "\n",
    "def print_details(self):\n",
    "    print(\"User ID: \", self.user_id)\n",
    "    print(\"User first name: \", self.user_fname)\n",
    "    print(\"User last name: \", self.user_lname)\n",
    "    print(\"User email: \", self.user_email)\n",
    "    print(\"User created dt: \", self.user_created_dt)\n",
    "    \n",
    "@staticmethod\n",
    "def get_current_datetime():\n",
    "    return str(datetime.datetime.now())\n",
    "    \n",
    "\n",
    "User = type(\"User\", (object, ), {\n",
    "    \"__init__\": constructor,\n",
    "    \"website\": \"itversity\",\n",
    "    \"print_details\": print_details,\n",
    "    \"get_current_datetime\": get_current_datetime\n",
    "})"
   ]
  },
  {
   "cell_type": "code",
   "execution_count": 3,
   "metadata": {},
   "outputs": [
    {
     "data": {
      "text/plain": [
       "'2021-06-05 10:33:29.645892'"
      ]
     },
     "execution_count": 3,
     "metadata": {},
     "output_type": "execute_result"
    }
   ],
   "source": [
    "User.get_current_datetime()"
   ]
  },
  {
   "cell_type": "code",
   "execution_count": 4,
   "metadata": {},
   "outputs": [],
   "source": [
    "user1 = User(\n",
    "    user_id=1,\n",
    "    user_fname='Scott',\n",
    "    user_lname='Smith',\n",
    "    user_email='scott@example.com',\n",
    "    user_created_dt=str(datetime.datetime.now())\n",
    ")"
   ]
  },
  {
   "cell_type": "code",
   "execution_count": 5,
   "metadata": {},
   "outputs": [
    {
     "name": "stdout",
     "output_type": "stream",
     "text": [
      "User ID:  1\n",
      "User first name:  Scott\n",
      "User last name:  Smith\n",
      "User email:  scott@example.com\n",
      "User created dt:  2021-06-05 10:33:29.718155\n"
     ]
    }
   ],
   "source": [
    "user1.print_details()"
   ]
  },
  {
   "cell_type": "code",
   "execution_count": 3,
   "metadata": {},
   "outputs": [],
   "source": [
    "class DynClass:\n",
    "    def __init__(self, **kwargs):\n",
    "        for key, value in kwargs.items():\n",
    "            setattr(self, key, value)"
   ]
  },
  {
   "cell_type": "code",
   "execution_count": 4,
   "metadata": {},
   "outputs": [],
   "source": [
    "dyn_class = DynClass(foo1='bar1', foo2='bar2')"
   ]
  },
  {
   "cell_type": "code",
   "execution_count": 5,
   "metadata": {},
   "outputs": [
    {
     "data": {
      "text/plain": [
       "<__main__.DynClass at 0x7f25174b24e0>"
      ]
     },
     "execution_count": 5,
     "metadata": {},
     "output_type": "execute_result"
    }
   ],
   "source": [
    "dyn_class"
   ]
  },
  {
   "cell_type": "code",
   "execution_count": 6,
   "metadata": {},
   "outputs": [
    {
     "data": {
      "text/plain": [
       "'bar1'"
      ]
     },
     "execution_count": 6,
     "metadata": {},
     "output_type": "execute_result"
    }
   ],
   "source": [
    "dyn_class.foo1"
   ]
  },
  {
   "cell_type": "code",
   "execution_count": null,
   "metadata": {},
   "outputs": [],
   "source": []
  }
 ],
 "metadata": {
  "kernelspec": {
   "display_name": "Python 3",
   "language": "python",
   "name": "python3"
  },
  "language_info": {
   "codemirror_mode": {
    "name": "ipython",
    "version": 3
   },
   "file_extension": ".py",
   "mimetype": "text/x-python",
   "name": "python",
   "nbconvert_exporter": "python",
   "pygments_lexer": "ipython3",
   "version": "3.6.12"
  }
 },
 "nbformat": 4,
 "nbformat_minor": 4
}
