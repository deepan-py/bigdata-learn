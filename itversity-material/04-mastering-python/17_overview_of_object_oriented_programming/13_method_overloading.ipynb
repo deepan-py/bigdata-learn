{
 "cells": [
  {
   "cell_type": "markdown",
   "id": "357248ef",
   "metadata": {},
   "source": [
    "## Method Overloading\n",
    "\n",
    "Now that we know Inheritence and polymorphism, let's dive in a bit into how we can leverage the methods we create to perform efficient computations.\n",
    "- Method overloading and overriding are important concepts that contribute to better code quality and unambiguous naming conventions\n",
    "- Method overloading is to have a two or more methods with a same name but a difference in their parameter or return types\n",
    "    - This cannot be natively done in python due to the interpreted nature of it. So, we use the package `multipledispatch`.\n",
    "    - Method overloading is an example of compile time polymorphism"
   ]
  },
  {
   "cell_type": "code",
   "execution_count": 1,
   "id": "de5ffc4c",
   "metadata": {},
   "outputs": [],
   "source": [
    "from multipledispatch import dispatch"
   ]
  },
  {
   "cell_type": "markdown",
   "id": "5be71fcc",
   "metadata": {},
   "source": [
    "Below is an example where we create two methods with a same name, the only difference is the number of parameters. Using the dispatch attribute(`@dispatch`) of the `multipledispatch` package, we specify the type and number of parameters that each function takes. When we call the same method with different parameters, different functions occur"
   ]
  },
  {
   "cell_type": "code",
   "execution_count": 2,
   "id": "d4e04d6e",
   "metadata": {},
   "outputs": [
    {
     "name": "stdout",
     "output_type": "stream",
     "text": [
      "Adding 1 and 2:  3\n",
      "Adding 1, 2, and 3:  6\n"
     ]
    }
   ],
   "source": [
    "@dispatch(int, int)\n",
    "def add(a, b):\n",
    "    return a + b\n",
    "\n",
    "@dispatch(int, int, int)\n",
    "def add(a, b, c):\n",
    "    return a + b + c\n",
    "\n",
    "print(\"Adding 1 and 2: \", add(1, 2))\n",
    "print(\"Adding 1, 2, and 3: \", add(1, 2, 3))"
   ]
  },
  {
   "cell_type": "markdown",
   "id": "fb33dda7",
   "metadata": {},
   "source": [
    "Let's try this out within a class"
   ]
  },
  {
   "cell_type": "code",
   "execution_count": 3,
   "id": "19a0ecfd",
   "metadata": {},
   "outputs": [
    {
     "name": "stdout",
     "output_type": "stream",
     "text": [
      "Multiplication of 3 and 4:  12.0\n",
      "Multiplication of 3, 4, and 5:  60.0\n"
     ]
    }
   ],
   "source": [
    "class Operation:\n",
    "    @dispatch(float, float)\n",
    "    def mul(self, a, b):\n",
    "        return a * b\n",
    "    @dispatch(float, float, float)\n",
    "    def mul(self, a, b, c):\n",
    "        return a * b * c\n",
    "    \n",
    "obj = Operation()\n",
    "print(\"Multiplication of 3 and 4: \", obj.mul(3.0, 4.0))\n",
    "print(\"Multiplication of 3, 4, and 5: \", obj.mul(3.0, 4.0, 5.0))"
   ]
  }
 ],
 "metadata": {
  "kernelspec": {
   "display_name": "Python 3",
   "language": "python",
   "name": "python3"
  },
  "language_info": {
   "codemirror_mode": {
    "name": "ipython",
    "version": 3
   },
   "file_extension": ".py",
   "mimetype": "text/x-python",
   "name": "python",
   "nbconvert_exporter": "python",
   "pygments_lexer": "ipython3",
   "version": "3.6.12"
  }
 },
 "nbformat": 4,
 "nbformat_minor": 5
}
