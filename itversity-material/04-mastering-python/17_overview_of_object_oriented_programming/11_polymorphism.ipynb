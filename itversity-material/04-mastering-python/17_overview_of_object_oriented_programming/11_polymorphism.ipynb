{
 "cells": [
  {
   "cell_type": "markdown",
   "metadata": {},
   "source": [
    "## Polymorphism"
   ]
  },
  {
   "cell_type": "markdown",
   "metadata": {},
   "source": [
    "Polymorphism means to have many forms. In OOP polymorphism means that, a function or an object can take up various forms and act differently based on the situation.\n",
    "We will explore two ways of implementing polymorphism:\n",
    "- Polymorphism in functions (Method overloading): The length function `len` returns different result based on what is passed. If we pass a string, it will return the number of characters. If we pass a list, it will return the number of list items.\n",
    "- Class based polymorphism - Method overriding."
   ]
  },
  {
   "cell_type": "code",
   "execution_count": 1,
   "metadata": {},
   "outputs": [
    {
     "name": "stdout",
     "output_type": "stream",
     "text": [
      "Length of 'Apple':  5\n"
     ]
    }
   ],
   "source": [
    "print(\"Length of 'Apple': \", len(\"Apple\"))"
   ]
  },
  {
   "cell_type": "code",
   "execution_count": 2,
   "metadata": {},
   "outputs": [
    {
     "name": "stdout",
     "output_type": "stream",
     "text": [
      "Length of tuple (10, 20, 30):  3\n"
     ]
    }
   ],
   "source": [
    "print(\"Length of tuple (10, 20, 30): \", len((10, 20, 30)))"
   ]
  },
  {
   "cell_type": "markdown",
   "metadata": {},
   "source": [
    "The Country class will take in different values and return different values based on how we inherit it."
   ]
  },
  {
   "cell_type": "code",
   "execution_count": 2,
   "metadata": {},
   "outputs": [],
   "source": [
    "class Country:\n",
    "    def __init__(self, capital, driving_side, developed):\n",
    "        self.capital = capital\n",
    "        self.driving_side = driving_side\n",
    "        self.developed = developed\n",
    "    def get_capital(self):\n",
    "        return self.capital\n",
    "    def get_driving_side(self):\n",
    "        return self.driving_side\n",
    "    def get_developed_status(self):\n",
    "        if self.developed:\n",
    "            return \"Developed\"\n",
    "        return \"Developing\""
   ]
  },
  {
   "cell_type": "code",
   "execution_count": 3,
   "metadata": {},
   "outputs": [],
   "source": [
    "class India(Country):\n",
    "    def __init__(self):\n",
    "        super().__init__(\"New Delhi\", \"Left\", False)"
   ]
  },
  {
   "cell_type": "code",
   "execution_count": 3,
   "metadata": {},
   "outputs": [],
   "source": [
    "        \n",
    "class USA(Country):\n",
    "    def __init__(self):\n",
    "        super().__init__(\"Washington, D.C.\", \"Right\", True)"
   ]
  },
  {
   "cell_type": "code",
   "execution_count": 4,
   "metadata": {},
   "outputs": [],
   "source": [
    "ind = India()"
   ]
  },
  {
   "cell_type": "code",
   "execution_count": 4,
   "metadata": {},
   "outputs": [],
   "source": [
    "usa = USA()"
   ]
  },
  {
   "cell_type": "code",
   "execution_count": 4,
   "metadata": {},
   "outputs": [
    {
     "name": "stdout",
     "output_type": "stream",
     "text": [
      "Country name:  India\n",
      "Capital:  New Delhi\n",
      "Driving side:  Left\n",
      "Development status:  Developing\n",
      "\n",
      "Country name:  USA\n",
      "Capital:  Washington, D.C.\n",
      "Driving side:  Right\n",
      "Development status:  Developed\n",
      "\n"
     ]
    }
   ],
   "source": [
    "for obj in (ind, usa):\n",
    "    print(\"Country name: \", type(obj).__name__)\n",
    "    print(\"Capital: \", obj.capital)\n",
    "    print(\"Driving side: \", obj.get_driving_side())\n",
    "    print(\"Development status: \", obj.get_developed_status())\n",
    "    print()"
   ]
  }
 ],
 "metadata": {
  "kernelspec": {
   "display_name": "Python 3",
   "language": "python",
   "name": "python3"
  },
  "language_info": {
   "codemirror_mode": {
    "name": "ipython",
    "version": 3
   },
   "file_extension": ".py",
   "mimetype": "text/x-python",
   "name": "python",
   "nbconvert_exporter": "python",
   "pygments_lexer": "ipython3",
   "version": "3.6.12"
  }
 },
 "nbformat": 4,
 "nbformat_minor": 4
}
