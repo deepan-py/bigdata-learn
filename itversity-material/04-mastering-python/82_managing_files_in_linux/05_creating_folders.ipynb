{
 "cells": [
  {
   "cell_type": "markdown",
   "id": "44f00229-593c-4351-adcb-2005b8bf9be2",
   "metadata": {},
   "source": [
    "## Creating Folders\n",
    "\n",
    "Let us understand how to create folders in Linux.\n",
    "* We can use `mkdir` command to create folders.\n",
    "* Let us perform few tasks related to `mkdir`."
   ]
  },
  {
   "cell_type": "markdown",
   "id": "c498758a-3948-4076-b93e-a472a0e39f41",
   "metadata": {},
   "source": [
    "* Get usage of `mkdir`"
   ]
  },
  {
   "cell_type": "code",
   "execution_count": null,
   "id": "fdaa1321-8e76-4c7a-ad83-f5bc41386849",
   "metadata": {},
   "outputs": [],
   "source": [
    "!mkdir --help"
   ]
  },
  {
   "cell_type": "markdown",
   "id": "cf9821b4-8185-418b-9809-dca020c42de9",
   "metadata": {},
   "source": [
    "* Get manual pages for `mkdir`"
   ]
  },
  {
   "cell_type": "code",
   "execution_count": null,
   "id": "90ed1400-1946-4181-a1e4-e47cfae539ba",
   "metadata": {},
   "outputs": [],
   "source": [
    "!man mkdir"
   ]
  },
  {
   "cell_type": "markdown",
   "id": "1249d12e-e010-4b87-8ccf-8e7c1af328b9",
   "metadata": {},
   "source": [
    "* Create **practice_linux** folder under **HOME** Directory.\n",
    "  * Launch terminal\n",
    "  * Make sure you are in home directory. You can run `cd` to go to home directory.\n",
    "  * Run `mkdir practice_linux`\n",
    "  * Run `ls -ltr` command. You should see a folder by name **practice_linux**.\n",
    "  * You can run `cd practice_linux` to get into the folder.\n",
    "  * Run `ls -ltr` command. It should be empty.\n",
    "* You can also run these below commands from notebook to make sure that **practice_linux** is created as expected."
   ]
  },
  {
   "cell_type": "code",
   "execution_count": null,
   "id": "21f93b1f-7023-492c-a03a-c33fd0e86b5d",
   "metadata": {},
   "outputs": [],
   "source": [
    "# This should be empty\n",
    "!ls /home/${USER}/practice_linux"
   ]
  },
  {
   "cell_type": "markdown",
   "id": "7a45300e-ed65-4efb-9d02-7227a127f2a5",
   "metadata": {},
   "source": [
    "* We can also use patterns if we have to create multiple folders based upon a pattern.\n",
    "* Create demo01, demo02 so on up to demo09.\n",
    "  * Launch terminal\n",
    "  * Make sure you are in the **practice_linux** folder in your home directory.\n",
    "  * You can run `cd ~/practice_linux`. **~** represents home directory.\n",
    "  * Run `mkdir demo{01..09}`\n",
    "  * You can validate by running below cell to validate."
   ]
  },
  {
   "cell_type": "code",
   "execution_count": null,
   "id": "2f89619b-dc08-4006-b1db-4512e6c86ab1",
   "metadata": {},
   "outputs": [],
   "source": [
    "# It should list all the folders following the pattern used\n",
    "!ls -l /home/${USER}/practice_linux/"
   ]
  },
  {
   "cell_type": "markdown",
   "id": "28839803-ee48-4909-8bf5-3cdaf8e184b8",
   "metadata": {},
   "source": [
    "* You can also use `mkdir -p` to create multi level folders.\n",
    "* Let us create folders by name **parent**, **child** and **grand_child** under **practice_linux**. Here is how the folder structure should be **/home/${HOME}/practice_linux/parent/child/grand_child**\n",
    "  * Launch terminal\n",
    "  * Make sure you are in the **practice_linux** folder in your home directory.\n",
    "  * You can run `cd ~/practice_linux`. **~** represents home directory.\n",
    "  * We can use `-p`. It will create all the missing folders in the hierarchy.\n",
    "  * Run `mkdir -p parent/child/grand_child`\n",
    "  * You can validate by running below cells to validate."
   ]
  },
  {
   "cell_type": "code",
   "execution_count": null,
   "id": "fd235979-d278-4bf1-be77-b75a495ac244",
   "metadata": {},
   "outputs": [],
   "source": [
    "!ls -l ~/practice_linux/parent/child/grand_child"
   ]
  },
  {
   "cell_type": "code",
   "execution_count": null,
   "id": "82f78940-af44-4df2-96d6-a9ff4a9d4130",
   "metadata": {},
   "outputs": [],
   "source": [
    "# Lists folders and files recursively\n",
    "!ls -R /home/${USER}/practice_linux/parent"
   ]
  },
  {
   "cell_type": "code",
   "execution_count": null,
   "id": "d9748320-81fb-4472-abb6-fa2236509ccf",
   "metadata": {},
   "outputs": [],
   "source": []
  }
 ],
 "metadata": {
  "kernelspec": {
   "display_name": "Python 3",
   "language": "python",
   "name": "python3"
  },
  "language_info": {
   "codemirror_mode": {
    "name": "ipython",
    "version": 3
   },
   "file_extension": ".py",
   "mimetype": "text/x-python",
   "name": "python",
   "nbconvert_exporter": "python",
   "pygments_lexer": "ipython3",
   "version": "3.7.10"
  }
 },
 "nbformat": 4,
 "nbformat_minor": 5
}
