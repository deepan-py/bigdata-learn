{
 "cells": [
  {
   "cell_type": "markdown",
   "id": "59d6c5f7-9a72-4e28-a454-ed713d412b97",
   "metadata": {},
   "source": [
    "## Listing files and folders\n",
    "\n",
    "Let us understand how to list files and folders.\n",
    "* For this topic, we will highly recommend to use the terminal so that you get some practice.\n",
    "* Go to Launcher and click on Terminal or Go to **File** -> **New** -> **New Terminal**\n",
    "* Run `ls` command and observe. You will see files and folder names sorted by the name.\n",
    "* Here is the syntax for any Linux command - `COMMAND [CONTROL_ARGUMENTS] [ARGUMENTS]`.\n",
    "  * `COMMAND` is nothing but a program which perform specific action. For example, `ls` is a command and the underlying program will list the files and folders.\n",
    "  * `[CONTROL_ARGUMENTS]` will control the behavior of the command. We can pass more than one and we typically prefix them with **-** (hyphen or minus).\n",
    "  * `[ARGUMENTS]` - here we pass arguments to the command. For `ls` we typically pass file or folder name or pattern."
   ]
  },
  {
   "cell_type": "code",
   "execution_count": 1,
   "id": "a92476f7-bc80-4d41-b45e-cc66e74ea2b0",
   "metadata": {},
   "outputs": [
    {
     "name": "stdout",
     "output_type": "stream",
     "text": [
      "application.ini  itversity-material  output  project-panda\n"
     ]
    }
   ],
   "source": [
    "# Listing files in Home directory\n",
    "!ls /home/${USER}"
   ]
  },
  {
   "cell_type": "code",
   "execution_count": 4,
   "id": "40c1ccf8-d34a-4a25-a0af-099ffb28ea61",
   "metadata": {},
   "outputs": [
    {
     "name": "stdout",
     "output_type": "stream",
     "text": [
      "README.md  ecomm\t    hr\t   lca\t nyse_all   retail_db_json\n",
      "cards\t   electionresults  hr_db  nyse  retail_db  sports\n"
     ]
    }
   ],
   "source": [
    "# Listing files in /data folder\n",
    "# Typical linux folder structure starts with /\n",
    "# In Windows we typically see C:/, D:/ etc for folder structures.\n",
    "!ls /data"
   ]
  },
  {
   "cell_type": "markdown",
   "id": "965ce74a-d038-446a-a675-af153333540c",
   "metadata": {},
   "source": [
    "* Here are the common control arguments.\n",
    "  * `-l` - long list of files. You will see the properties of the files such as permissions, owner, group, last update timestamp etc.\n",
    "  * `-t` - sort the output by time. By default the files will sort in descending order by time. You will see latest files at the top.\n",
    "  * `-r` - reverse the sort order.\n",
    "  * `-a` - Get all files including hidden files. In linux, hidden files start with **.** (dot) at the beginning. For example, `.bashrc`.\n",
    "  * `-h` - Get the output in human readable format.\n",
    "* We can mix the commands together."
   ]
  },
  {
   "cell_type": "code",
   "execution_count": 7,
   "id": "989b95d9-4d99-4ebd-afcd-8e22a9387d79",
   "metadata": {},
   "outputs": [
    {
     "name": "stdout",
     "output_type": "stream",
     "text": [
      "total 48\n",
      "-rw-r--r--  1 root root  160 May 30 05:01 README.md\n",
      "drwxr-xr-x  4 root root 4096 May 30 05:01 cards\n",
      "drwxr-xr-x  3 root root 4096 May 31 15:58 ecomm\n",
      "drwxr-xr-x  2 root root 4096 May 30 05:01 electionresults\n",
      "drwxr-xr-x  2 root root 4096 May 30 05:01 hr\n",
      "drwxr-xr-x 10 root root 4096 May 30 05:01 hr_db\n",
      "drwxr-xr-x  2 root root 4096 May 30 05:01 lca\n",
      "drwxr-xr-x  2 root root 4096 May 30 05:01 nyse\n",
      "drwxr-xr-x  4 root root 4096 May 30 05:01 nyse_all\n",
      "drwxr-xr-x  8 root root 4096 May 30 05:01 retail_db\n",
      "drwxr-xr-x  8 root root 4096 May 30 05:01 retail_db_json\n",
      "drwxr-xr-x  2 root root 4096 May 30 05:30 sports\n"
     ]
    }
   ],
   "source": [
    "# By default the output will sorted in ascending order by name.\n",
    "# You will get the names with upper case first and the lower case.\n",
    "!ls -l /data"
   ]
  },
  {
   "cell_type": "code",
   "execution_count": 10,
   "id": "4f9a525e-4b5e-44fb-95e6-51788a439a84",
   "metadata": {},
   "outputs": [
    {
     "name": "stdout",
     "output_type": "stream",
     "text": [
      "ecomm\tretail_db_json\tnyse_all  lca  hr_db\t\tcards\n",
      "sports\tretail_db\tnyse\t  hr   electionresults\tREADME.md\n"
     ]
    }
   ],
   "source": [
    "# Files are sorted by time\n",
    "# Typically -t is used in conjunction with -l so that we can see properties of files as well.\n",
    "!ls -t /data"
   ]
  },
  {
   "cell_type": "code",
   "execution_count": 11,
   "id": "7a15bb63-afe6-4e7c-9a1a-0394fadc025a",
   "metadata": {},
   "outputs": [
    {
     "name": "stdout",
     "output_type": "stream",
     "text": [
      "total 48\n",
      "drwxr-xr-x  3 root root 4096 May 31 15:58 ecomm\n",
      "drwxr-xr-x  2 root root 4096 May 30 05:30 sports\n",
      "drwxr-xr-x  8 root root 4096 May 30 05:01 retail_db_json\n",
      "drwxr-xr-x  8 root root 4096 May 30 05:01 retail_db\n",
      "drwxr-xr-x  4 root root 4096 May 30 05:01 nyse_all\n",
      "drwxr-xr-x  2 root root 4096 May 30 05:01 nyse\n",
      "drwxr-xr-x  2 root root 4096 May 30 05:01 lca\n",
      "drwxr-xr-x  2 root root 4096 May 30 05:01 hr\n",
      "drwxr-xr-x 10 root root 4096 May 30 05:01 hr_db\n",
      "drwxr-xr-x  2 root root 4096 May 30 05:01 electionresults\n",
      "drwxr-xr-x  4 root root 4096 May 30 05:01 cards\n",
      "-rw-r--r--  1 root root  160 May 30 05:01 README.md\n"
     ]
    }
   ],
   "source": [
    "# We can pass multiple control arguments separately\n",
    "!ls -l -t /data"
   ]
  },
  {
   "cell_type": "code",
   "execution_count": 13,
   "id": "3b438de6-64de-4745-a2e6-2458c8ee9b42",
   "metadata": {},
   "outputs": [
    {
     "name": "stdout",
     "output_type": "stream",
     "text": [
      "total 48\n",
      "drwxr-xr-x  3 root root 4096 May 31 15:58 ecomm\n",
      "drwxr-xr-x  2 root root 4096 May 30 05:30 sports\n",
      "drwxr-xr-x  8 root root 4096 May 30 05:01 retail_db_json\n",
      "drwxr-xr-x  8 root root 4096 May 30 05:01 retail_db\n",
      "drwxr-xr-x  4 root root 4096 May 30 05:01 nyse_all\n",
      "drwxr-xr-x  2 root root 4096 May 30 05:01 nyse\n",
      "drwxr-xr-x  2 root root 4096 May 30 05:01 lca\n",
      "drwxr-xr-x  2 root root 4096 May 30 05:01 hr\n",
      "drwxr-xr-x 10 root root 4096 May 30 05:01 hr_db\n",
      "drwxr-xr-x  2 root root 4096 May 30 05:01 electionresults\n",
      "drwxr-xr-x  4 root root 4096 May 30 05:01 cards\n",
      "-rw-r--r--  1 root root  160 May 30 05:01 README.md\n"
     ]
    }
   ],
   "source": [
    "# We can pass multiple control arguments together as well\n",
    "!ls -lt /data"
   ]
  },
  {
   "cell_type": "code",
   "execution_count": 14,
   "id": "58c50a7c-0e20-4c63-bc57-25210f9d40ef",
   "metadata": {},
   "outputs": [
    {
     "name": "stdout",
     "output_type": "stream",
     "text": [
      "total 48\n",
      "drwxr-xr-x  2 root root 4096 May 30 05:30 sports\n",
      "drwxr-xr-x  8 root root 4096 May 30 05:01 retail_db_json\n",
      "drwxr-xr-x  8 root root 4096 May 30 05:01 retail_db\n",
      "drwxr-xr-x  4 root root 4096 May 30 05:01 nyse_all\n",
      "drwxr-xr-x  2 root root 4096 May 30 05:01 nyse\n",
      "drwxr-xr-x  2 root root 4096 May 30 05:01 lca\n",
      "drwxr-xr-x 10 root root 4096 May 30 05:01 hr_db\n",
      "drwxr-xr-x  2 root root 4096 May 30 05:01 hr\n",
      "drwxr-xr-x  2 root root 4096 May 30 05:01 electionresults\n",
      "drwxr-xr-x  3 root root 4096 May 31 15:58 ecomm\n",
      "drwxr-xr-x  4 root root 4096 May 30 05:01 cards\n",
      "-rw-r--r--  1 root root  160 May 30 05:01 README.md\n"
     ]
    }
   ],
   "source": [
    "# Sorting reverse by names\n",
    "!ls -lr /data"
   ]
  },
  {
   "cell_type": "code",
   "execution_count": 15,
   "id": "ddd959f0-8afd-41ad-9024-844c68abc5c1",
   "metadata": {},
   "outputs": [
    {
     "name": "stdout",
     "output_type": "stream",
     "text": [
      "total 48\n",
      "-rw-r--r--  1 root root  160 May 30 05:01 README.md\n",
      "drwxr-xr-x  4 root root 4096 May 30 05:01 cards\n",
      "drwxr-xr-x  2 root root 4096 May 30 05:01 electionresults\n",
      "drwxr-xr-x 10 root root 4096 May 30 05:01 hr_db\n",
      "drwxr-xr-x  2 root root 4096 May 30 05:01 hr\n",
      "drwxr-xr-x  2 root root 4096 May 30 05:01 lca\n",
      "drwxr-xr-x  2 root root 4096 May 30 05:01 nyse\n",
      "drwxr-xr-x  4 root root 4096 May 30 05:01 nyse_all\n",
      "drwxr-xr-x  8 root root 4096 May 30 05:01 retail_db\n",
      "drwxr-xr-x  8 root root 4096 May 30 05:01 retail_db_json\n",
      "drwxr-xr-x  2 root root 4096 May 30 05:30 sports\n",
      "drwxr-xr-x  3 root root 4096 May 31 15:58 ecomm\n"
     ]
    }
   ],
   "source": [
    "# Sorting reverse by time\n",
    "!ls -lrt /data"
   ]
  },
  {
   "cell_type": "code",
   "execution_count": 16,
   "id": "4802495b-b1a5-415f-bb1f-e6b2f49c4aea",
   "metadata": {},
   "outputs": [
    {
     "name": "stdout",
     "output_type": "stream",
     "text": [
      "total 16\n",
      "drwxrwxr-x 5 itversity itversity 4096 May 30 16:18 output\n",
      "drwxrwxr-x 6 itversity itversity 4096 Jun  7 02:50 itversity-material\n",
      "drwxrwxr-x 3 itversity itversity 4096 Jun  7 10:23 project-panda\n",
      "-rw-rw-r-- 1 itversity itversity  140 Jun  7 14:24 application.ini\n"
     ]
    }
   ],
   "source": [
    "# Get the files from home directory\n",
    "!ls -ltr /home/${USER}"
   ]
  },
  {
   "cell_type": "code",
   "execution_count": 17,
   "id": "804daca3-0dea-4189-9f4c-35d3eafc9b1d",
   "metadata": {},
   "outputs": [
    {
     "name": "stdout",
     "output_type": "stream",
     "text": [
      "total 104\n",
      "-rw-r--r--  1 itversity itversity   807 May 30 04:42 .profile\n",
      "-rw-r--r--  1 itversity itversity   220 May 30 04:42 .bash_logout\n",
      "drwx------  2 itversity itversity  4096 May 30 04:43 .ssh\n",
      "drwxr-xr-x  5 itversity itversity  4096 May 30 05:03 .ipython\n",
      "-rw-rw-r--  1 itversity itversity    58 May 30 06:29 .gitconfig\n",
      "drwxrwxr-x  5 itversity itversity  4096 May 30 16:18 output\n",
      "drwx------  3 itversity itversity  4096 May 31 14:23 .mongodb\n",
      "drwx------  5 itversity itversity  4096 May 31 14:57 .cache\n",
      "drwxrwxr-x  4 itversity itversity  4096 May 31 14:57 .local\n",
      "-rw-r--r--  1 itversity itversity  3808 May 31 16:03 .bashrc\n",
      "drwxrwxr-x  3 itversity itversity  4096 May 31 16:03 .jupyter\n",
      "-rw-------  1 itversity itversity   209 May 31 16:09 .python_history\n",
      "-rw-rw-r--  1 itversity itversity    41 May 31 16:13 .jupyterenv\n",
      "-rw-rw-r--  1 itversity itversity   180 Jun  2 11:52 .wget-hsts\n",
      "-rw-------  1 itversity itversity  4949 Jun  6 23:24 .bash_history\n",
      "-rw-------  1 itversity itversity 11553 Jun  6 23:26 .viminfo\n",
      "drwxrwxr-x  2 itversity itversity  4096 Jun  6 23:27 .ipynb_checkpoints\n",
      "drwxrwxr-x  6 itversity itversity  4096 Jun  7 02:50 itversity-material\n",
      "drwxr-xr-x 14 root      root       4096 Jun  7 03:51 ..\n",
      "drwxrwxr-x  3 itversity itversity  4096 Jun  7 10:23 project-panda\n",
      "-rw-rw-r--  1 itversity itversity    96 Jun  7 13:22 .env\n",
      "drwxr-x--- 12 itversity itversity  4096 Jun  7 14:23 .\n",
      "-rw-rw-r--  1 itversity itversity   140 Jun  7 14:24 application.ini\n"
     ]
    }
   ],
   "source": [
    "# Including hidden files\n",
    "!ls -altr /home/${USER}"
   ]
  },
  {
   "cell_type": "code",
   "execution_count": 27,
   "id": "8630ee12-6534-4d8b-bb2b-4050571bb4a7",
   "metadata": {},
   "outputs": [
    {
     "name": "stdout",
     "output_type": "stream",
     "text": [
      "total 48K\n",
      "-rw-r--r--  1 root root  160 May 30 05:01 README.md\n",
      "drwxr-xr-x  4 root root 4.0K May 30 05:01 cards\n",
      "drwxr-xr-x  3 root root 4.0K May 31 15:58 ecomm\n",
      "drwxr-xr-x  2 root root 4.0K May 30 05:01 electionresults\n",
      "drwxr-xr-x  2 root root 4.0K May 30 05:01 hr\n",
      "drwxr-xr-x 10 root root 4.0K May 30 05:01 hr_db\n",
      "drwxr-xr-x  2 root root 4.0K May 30 05:01 lca\n",
      "drwxr-xr-x  2 root root 4.0K May 30 05:01 nyse\n",
      "drwxr-xr-x  4 root root 4.0K May 30 05:01 nyse_all\n",
      "drwxr-xr-x  8 root root 4.0K May 30 05:01 retail_db\n",
      "drwxr-xr-x  8 root root 4.0K May 30 05:01 retail_db_json\n",
      "drwxr-xr-x  2 root root 4.0K May 30 05:30 sports\n"
     ]
    }
   ],
   "source": [
    "!ls -lh /data"
   ]
  },
  {
   "cell_type": "code",
   "execution_count": 29,
   "id": "40f7b1df-4e38-4fe6-a6b8-161b3d01fd0f",
   "metadata": {},
   "outputs": [
    {
     "name": "stdout",
     "output_type": "stream",
     "text": [
      "total 136020\n",
      "-rw-r--r-- 1 root root  3842443 May 30 05:01 NYSE_1997.txt.gz\n",
      "-rw-r--r-- 1 root root  4142942 May 30 05:01 NYSE_1998.txt.gz\n",
      "-rw-r--r-- 1 root root  4297025 May 30 05:01 NYSE_1999.txt.gz\n",
      "-rw-r--r-- 1 root root  4439306 May 30 05:01 NYSE_2000.txt.gz\n",
      "-rw-r--r-- 1 root root  4722623 May 30 05:01 NYSE_2001.txt.gz\n",
      "-rw-r--r-- 1 root root  5021940 May 30 05:01 NYSE_2002.txt.gz\n",
      "-rw-r--r-- 1 root root  5271305 May 30 05:01 NYSE_2003.txt.gz\n",
      "-rw-r--r-- 1 root root  5689069 May 30 05:01 NYSE_2004.txt.gz\n",
      "-rw-r--r-- 1 root root  6207833 May 30 05:01 NYSE_2005.txt.gz\n",
      "-rw-r--r-- 1 root root  6480175 May 30 05:01 NYSE_2006.txt.gz\n",
      "-rw-r--r-- 1 root root  6903056 May 30 05:01 NYSE_2007.txt.gz\n",
      "-rw-r--r-- 1 root root  7179621 May 30 05:01 NYSE_2008.txt.gz\n",
      "-rw-r--r-- 1 root root  7186235 May 30 05:01 NYSE_2009.txt.gz\n",
      "-rw-r--r-- 1 root root  7551218 May 30 05:01 NYSE_2010.txt.gz\n",
      "-rw-r--r-- 1 root root  7980961 May 30 05:01 NYSE_2011.txt.gz\n",
      "-rw-r--r-- 1 root root  8538688 May 30 05:01 NYSE_2012.txt.gz\n",
      "-rw-r--r-- 1 root root  9588984 May 30 05:01 NYSE_2013.txt.gz\n",
      "-rw-r--r-- 1 root root 10552757 May 30 05:01 NYSE_2014.txt.gz\n",
      "-rw-r--r-- 1 root root 11327417 May 30 05:01 NYSE_2015.txt.gz\n",
      "-rw-r--r-- 1 root root 11796756 May 30 05:01 NYSE_2016.txt.gz\n",
      "-rw-r--r-- 1 root root   519586 May 30 05:01 NYSE_2017.txt.gz\n"
     ]
    }
   ],
   "source": [
    "!ls -l /data/nyse_all/nyse_data"
   ]
  },
  {
   "cell_type": "code",
   "execution_count": 30,
   "id": "04cb8eb1-82cf-4236-aa43-42f71250daa1",
   "metadata": {},
   "outputs": [
    {
     "name": "stdout",
     "output_type": "stream",
     "text": [
      "total 133M\n",
      "-rw-r--r-- 1 root root 3.7M May 30 05:01 NYSE_1997.txt.gz\n",
      "-rw-r--r-- 1 root root 4.0M May 30 05:01 NYSE_1998.txt.gz\n",
      "-rw-r--r-- 1 root root 4.1M May 30 05:01 NYSE_1999.txt.gz\n",
      "-rw-r--r-- 1 root root 4.3M May 30 05:01 NYSE_2000.txt.gz\n",
      "-rw-r--r-- 1 root root 4.6M May 30 05:01 NYSE_2001.txt.gz\n",
      "-rw-r--r-- 1 root root 4.8M May 30 05:01 NYSE_2002.txt.gz\n",
      "-rw-r--r-- 1 root root 5.1M May 30 05:01 NYSE_2003.txt.gz\n",
      "-rw-r--r-- 1 root root 5.5M May 30 05:01 NYSE_2004.txt.gz\n",
      "-rw-r--r-- 1 root root 6.0M May 30 05:01 NYSE_2005.txt.gz\n",
      "-rw-r--r-- 1 root root 6.2M May 30 05:01 NYSE_2006.txt.gz\n",
      "-rw-r--r-- 1 root root 6.6M May 30 05:01 NYSE_2007.txt.gz\n",
      "-rw-r--r-- 1 root root 6.9M May 30 05:01 NYSE_2008.txt.gz\n",
      "-rw-r--r-- 1 root root 6.9M May 30 05:01 NYSE_2009.txt.gz\n",
      "-rw-r--r-- 1 root root 7.3M May 30 05:01 NYSE_2010.txt.gz\n",
      "-rw-r--r-- 1 root root 7.7M May 30 05:01 NYSE_2011.txt.gz\n",
      "-rw-r--r-- 1 root root 8.2M May 30 05:01 NYSE_2012.txt.gz\n",
      "-rw-r--r-- 1 root root 9.2M May 30 05:01 NYSE_2013.txt.gz\n",
      "-rw-r--r-- 1 root root  11M May 30 05:01 NYSE_2014.txt.gz\n",
      "-rw-r--r-- 1 root root  11M May 30 05:01 NYSE_2015.txt.gz\n",
      "-rw-r--r-- 1 root root  12M May 30 05:01 NYSE_2016.txt.gz\n",
      "-rw-r--r-- 1 root root 508K May 30 05:01 NYSE_2017.txt.gz\n"
     ]
    }
   ],
   "source": [
    "!ls -lh /data/nyse_all/nyse_data"
   ]
  },
  {
   "cell_type": "code",
   "execution_count": null,
   "id": "5b7ba872-cbd6-4097-b080-f106d65cc451",
   "metadata": {},
   "outputs": [],
   "source": []
  }
 ],
 "metadata": {
  "kernelspec": {
   "display_name": "Python 3",
   "language": "python",
   "name": "python3"
  },
  "language_info": {
   "codemirror_mode": {
    "name": "ipython",
    "version": 3
   },
   "file_extension": ".py",
   "mimetype": "text/x-python",
   "name": "python",
   "nbconvert_exporter": "python",
   "pygments_lexer": "ipython3",
   "version": "3.7.10"
  }
 },
 "nbformat": 4,
 "nbformat_minor": 5
}
