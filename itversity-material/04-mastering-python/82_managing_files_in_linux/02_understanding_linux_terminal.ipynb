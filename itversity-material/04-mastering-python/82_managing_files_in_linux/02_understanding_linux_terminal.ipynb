{
 "cells": [
  {
   "cell_type": "markdown",
   "id": "4e7171c7-58cf-455f-a0bb-9e4072787966",
   "metadata": {},
   "source": [
    "## Understanding linux terminal\n",
    "\n",
    "Let us spend some time in understanding linux terminal.\n",
    "* As part of our labs, you can access linux terminal either via **Launcher** or **File** menu.\n",
    "  * File -> New -> New Terminal\n",
    "* You can also SSH using putty or powershell or GitBash from Windows. On Mac or Linux, you can SSH using native terminal.\n",
    "* Once you launch terminal or login using some SSH tool, you will land in Home Directory.\n",
    "* You can run `pwd` command to understand the directory in which you have landed on login.\n",
    "* You can also see the value of environment variable **HOME** by using `echo ${HOME}`.\n",
    "* As part of the Jupyter Notebook, you can run linux commands directly either using shell magic or **!** at the beginning of the command.\n",
    "* Launch Terminal and run these commands.\n",
    "\n",
    "```shell\n",
    "pwd\n",
    "echo ${HOME}\n",
    "ls -ltr ${HOME}\n",
    "```\n",
    "\n",
    "* At any point in time, if you want to come to home directory, you can just run `cd` command. Run these commands and check the output. Use Terminal to run these commands.\n",
    "\n",
    "```shell\n",
    "cd /data/retail_db\n",
    "pwd\n",
    "cd\n",
    "pwd\n",
    "```"
   ]
  },
  {
   "cell_type": "markdown",
   "id": "5b2da233-2ff9-4252-bf5f-70bd01de8db0",
   "metadata": {},
   "source": [
    "* Running shell commands using magic command `%%sh` as part of cell."
   ]
  },
  {
   "cell_type": "code",
   "execution_count": 5,
   "id": "2a71015f-7774-4ef7-8157-4639b69d082b",
   "metadata": {},
   "outputs": [
    {
     "name": "stdout",
     "output_type": "stream",
     "text": [
      "/home/itversity/itversity-material/mastering-python/82_managing_files_in_linux\n"
     ]
    }
   ],
   "source": [
    "%%sh\n",
    "\n",
    "pwd"
   ]
  },
  {
   "cell_type": "markdown",
   "id": "ee1d58fe-d665-4374-a761-e23f464b2a1c",
   "metadata": {},
   "source": [
    "* We can also run using **!** (shift + 1)."
   ]
  },
  {
   "cell_type": "code",
   "execution_count": 6,
   "id": "0b8253f3-1d6e-46d0-a55d-c9afa01fc56a",
   "metadata": {},
   "outputs": [
    {
     "name": "stdout",
     "output_type": "stream",
     "text": [
      "/home/itversity/itversity-material/mastering-python/82_managing_files_in_linux\n"
     ]
    }
   ],
   "source": [
    "!pwd"
   ]
  },
  {
   "cell_type": "code",
   "execution_count": null,
   "id": "baccc36b-fe83-40f5-b425-ca9a5ef3ef8f",
   "metadata": {},
   "outputs": [],
   "source": []
  }
 ],
 "metadata": {
  "kernelspec": {
   "display_name": "Python 3",
   "language": "python",
   "name": "python3"
  },
  "language_info": {
   "codemirror_mode": {
    "name": "ipython",
    "version": 3
   },
   "file_extension": ".py",
   "mimetype": "text/x-python",
   "name": "python",
   "nbconvert_exporter": "python",
   "pygments_lexer": "ipython3",
   "version": "3.7.10"
  }
 },
 "nbformat": 4,
 "nbformat_minor": 5
}
