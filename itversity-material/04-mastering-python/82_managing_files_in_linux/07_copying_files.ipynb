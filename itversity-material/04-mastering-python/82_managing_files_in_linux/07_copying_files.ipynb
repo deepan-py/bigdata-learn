{
 "cells": [
  {
   "cell_type": "code",
   "execution_count": null,
   "id": "32432803-693a-4050-a370-adc3126aa987",
   "metadata": {},
   "outputs": [],
   "source": []
  }
 ],
 "metadata": {
  "kernelspec": {
   "display_name": "Python 3",
   "language": "python",
   "name": "python3"
  },
  "language_info": {
   "codemirror_mode": {
    "name": "ipython",
    "version": 3
   },
   "file_extension": ".py",
   "mimetype": "text/x-python",
   "name": "python",
   "nbconvert_exporter": "python",
   "pygments_lexer": "ipython3",
   "version": "3.7.10"
  }
 },
 "nbformat": 4,
 "nbformat_minor": 5
}
