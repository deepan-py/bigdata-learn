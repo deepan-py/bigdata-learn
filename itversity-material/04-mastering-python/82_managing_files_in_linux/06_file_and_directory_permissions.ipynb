{
 "cells": [
  {
   "cell_type": "markdown",
   "metadata": {},
   "source": [
    "## File and Directory Permissions\n",
    "Let us go through the permissions over files and directories.\n",
    "\n",
    "* `ls -ltr` gives the properties of files such as permissions, file size and name. \n",
    "* The first part of the output is file or directory permissions - eg: **drw-rw-r--**.\n",
    "* The file permissions are represented in binary format. The first letter in the permission describes whether it is a file or directory."
   ]
  },
  {
   "cell_type": "code",
   "execution_count": null,
   "metadata": {},
   "outputs": [],
   "source": []
  }
 ],
 "metadata": {
  "kernelspec": {
   "display_name": "Python 3",
   "language": "python",
   "name": "python3"
  },
  "language_info": {
   "codemirror_mode": {
    "name": "ipython",
    "version": 3
   },
   "file_extension": ".py",
   "mimetype": "text/x-python",
   "name": "python",
   "nbconvert_exporter": "python",
   "pygments_lexer": "ipython3",
   "version": "3.7.10"
  }
 },
 "nbformat": 4,
 "nbformat_minor": 4
}
