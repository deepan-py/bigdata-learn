{
 "cells": [
  {
   "cell_type": "markdown",
   "id": "126c68c7-534a-4e80-bedf-17e9da4f8151",
   "metadata": {},
   "source": [
    "## Getting help for commands\n",
    "\n",
    "As we have understood how to list folders and directories, let us see how to get help for commands.\n",
    "* In linux, there is a concept of usage and manual pages.\n",
    "* We can use `help` to get the usage. You typically get the list of control arguments and brief explanation.\n",
    "* Using `man`, we can get detailed help of any command.\n",
    "* Let us perform few tasks on `ls` to get usage as well as detailed help (manual pages)"
   ]
  },
  {
   "cell_type": "code",
   "execution_count": null,
   "id": "bfa1093d-673e-4157-b82c-af5f9277e241",
   "metadata": {},
   "outputs": [],
   "source": [
    "!ls -ltr ${HOME}"
   ]
  },
  {
   "cell_type": "code",
   "execution_count": null,
   "id": "322a7ce9-a951-4de5-bce7-ebf04778e721",
   "metadata": {},
   "outputs": [],
   "source": [
    "# Get brief details about ls command\n",
    "!ls --help"
   ]
  },
  {
   "cell_type": "code",
   "execution_count": null,
   "id": "8917b3cf-4525-4a1d-b57d-8c279f6dcbdc",
   "metadata": {},
   "outputs": [],
   "source": [
    "!man ls"
   ]
  },
  {
   "cell_type": "code",
   "execution_count": null,
   "id": "bd92ce63-2bd8-4b56-8a04-6216f99da46e",
   "metadata": {},
   "outputs": [],
   "source": []
  }
 ],
 "metadata": {
  "kernelspec": {
   "display_name": "Python 3",
   "language": "python",
   "name": "python3"
  },
  "language_info": {
   "codemirror_mode": {
    "name": "ipython",
    "version": 3
   },
   "file_extension": ".py",
   "mimetype": "text/x-python",
   "name": "python",
   "nbconvert_exporter": "python",
   "pygments_lexer": "ipython3",
   "version": "3.7.10"
  }
 },
 "nbformat": 4,
 "nbformat_minor": 5
}
