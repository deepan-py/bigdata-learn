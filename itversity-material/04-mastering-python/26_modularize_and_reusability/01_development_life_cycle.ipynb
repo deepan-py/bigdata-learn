{
 "cells": [
  {
   "cell_type": "markdown",
   "id": "6cfe92b5",
   "metadata": {},
   "source": [
    "## Development Life Cycle\n",
    "\n",
    "Let us get an overview of development life cycle. It typically starts after you are assigned a Jira story, if the project is implemented using agile methodology.\n",
    "\n",
    "Here are the typical steps you need to follow for the development tasks given to you as part of the story.\n",
    "* Analyze and understand the requirements. You need to work with your lead or business, if the requirements are not clear.\n",
    "* Design the solution and get it reviewed or follow the design given to you. If the design is given to you, you need to make sure that it is clear to you. If not, you need to work with the lead who have given you the design.\n",
    "* Develop the code as per the given requirements and finalized design.\n",
    "* Perform unit testing or validations. In some cases, you have to do both.\n",
    "* Some of the stories will have acceptance criteria. You should include the scenarios highlighted in the acceptance criteria as part of unit testing or validations.\n",
    "\n",
    "**Note that, modularizing and reusability is typically used in terms of developing the code. But they are applicable in almost all the phases**."
   ]
  },
  {
   "cell_type": "code",
   "execution_count": null,
   "id": "9ed3adce",
   "metadata": {},
   "outputs": [],
   "source": []
  }
 ],
 "metadata": {
  "kernelspec": {
   "display_name": "Python 3",
   "language": "python",
   "name": "python3"
  },
  "language_info": {
   "codemirror_mode": {
    "name": "ipython",
    "version": 3
   },
   "file_extension": ".py",
   "mimetype": "text/x-python",
   "name": "python",
   "nbconvert_exporter": "python",
   "pygments_lexer": "ipython3",
   "version": "3.6.12"
  }
 },
 "nbformat": 4,
 "nbformat_minor": 5
}
