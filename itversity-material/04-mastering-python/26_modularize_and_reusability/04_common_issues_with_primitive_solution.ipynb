{
 "cells": [
  {
   "cell_type": "markdown",
   "id": "a16d381a",
   "metadata": {},
   "source": [
    "## Common Issues with Primitive Solution\n",
    "\n",
    "Here are some of the common issues with primitive solution.\n",
    "* The solution does not follow software engineerig principles such as modularizing the solution, reusability of the code, readability of the code to an extent and many more.\n",
    "* As code is not modularized properly, you can see redundancy of the code.\n",
    "  * The code related to loading data into stations and station_rental_types is almost similar except for the insert query string.\n",
    "  * If we want to change the logic for any performance reasons, we need to change the code separately for inserting data into stations as well as station_rental_types.\n",
    "  * Even the code which converts the dataframe into list of lists or list of tuples before loading into the database tables is same.\n",
    "* Here is what we are supposed to do.\n",
    "  * Analyze the complete problem statement.\n",
    "  * Map to what you are familiar with and what you are not familiar with.\n",
    "  * Divide the solution into manageable components. For Data Engineering problems, we can divide the problem into **read**, **process**, **write** at a high level. You can further divide into smaller components in a hierarchy.\n",
    "  * Solve those smaller components based upon your skills and past experience and tackle unknown stuff in parallel.\n",
    "* Let us assume that we are good in loading the data into the table. We are trying to load stations and station_rental_types.\n",
    "* By developing a generic function which takes data frame and table name as arguments, we are done with code related to loading both the tables.\n",
    "* As part of the next topic we will understand how we can develop common function which can be used to load a data frame into the table passed. As long as both data frame and table structure are consistent, it should work."
   ]
  },
  {
   "cell_type": "code",
   "execution_count": null,
   "id": "6b2bf009",
   "metadata": {},
   "outputs": [],
   "source": []
  }
 ],
 "metadata": {
  "kernelspec": {
   "display_name": "Python 3",
   "language": "python",
   "name": "python3"
  },
  "language_info": {
   "codemirror_mode": {
    "name": "ipython",
    "version": 3
   },
   "file_extension": ".py",
   "mimetype": "text/x-python",
   "name": "python",
   "nbconvert_exporter": "python",
   "pygments_lexer": "ipython3",
   "version": "3.6.12"
  }
 },
 "nbformat": 4,
 "nbformat_minor": 5
}
