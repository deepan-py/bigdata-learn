{
 "cells": [
  {
   "cell_type": "markdown",
   "id": "93de88ab",
   "metadata": {},
   "source": [
    "## Set up variables for DB Connectivity\n",
    "\n",
    "This notebook will be run from other notebooks. We are going to set up variables required for database connectivity.\n",
    "\n",
    "We will provide the required information. You can use the labs password which is assigned to you."
   ]
  },
  {
   "cell_type": "code",
   "execution_count": null,
   "id": "8032ca81",
   "metadata": {},
   "outputs": [],
   "source": [
    "import getpass"
   ]
  },
  {
   "cell_type": "code",
   "execution_count": null,
   "id": "80af5f00",
   "metadata": {},
   "outputs": [],
   "source": [
    "username = getpass.getuser()"
   ]
  },
  {
   "cell_type": "code",
   "execution_count": null,
   "id": "702d0cc2",
   "metadata": {},
   "outputs": [],
   "source": [
    "# Paste your password between the single quotes"
   ]
  },
  {
   "cell_type": "code",
   "execution_count": null,
   "id": "b2edc52d",
   "metadata": {},
   "outputs": [],
   "source": [
    "password = 'Itv3rs1ty!23'"
   ]
  },
  {
   "cell_type": "code",
   "execution_count": null,
   "id": "5b4f6662",
   "metadata": {},
   "outputs": [],
   "source": [
    "postgres_host = 'm01.itversity.com'"
   ]
  },
  {
   "cell_type": "code",
   "execution_count": null,
   "id": "26c3a580",
   "metadata": {},
   "outputs": [],
   "source": [
    "postgres_port = 5433"
   ]
  }
 ],
 "metadata": {
  "kernelspec": {
   "display_name": "Python 3",
   "language": "python",
   "name": "python3"
  },
  "language_info": {
   "codemirror_mode": {
    "name": "ipython",
    "version": 3
   },
   "file_extension": ".py",
   "mimetype": "text/x-python",
   "name": "python",
   "nbconvert_exporter": "python",
   "pygments_lexer": "ipython3",
   "version": "3.6.12"
  }
 },
 "nbformat": 4,
 "nbformat_minor": 5
}
