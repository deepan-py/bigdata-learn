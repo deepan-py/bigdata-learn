{
 "cells": [
  {
   "cell_type": "markdown",
   "id": "d21f15af",
   "metadata": {},
   "source": [
    "## Primitive Solution for loading REST payloads\n",
    "\n",
    "Let us see how the solution is typically provided by the learners. There is nothing wrong with it as a learner, but this solution is not following software engineering principles such as modularizing the code or reusability of the code."
   ]
  },
  {
   "cell_type": "code",
   "execution_count": null,
   "id": "e3beca8e",
   "metadata": {},
   "outputs": [],
   "source": [
    "%run 00_setup_database_variables.ipynb"
   ]
  },
  {
   "cell_type": "code",
   "execution_count": null,
   "id": "d90c3ddf",
   "metadata": {},
   "outputs": [],
   "source": [
    "%load_ext sql"
   ]
  },
  {
   "cell_type": "code",
   "execution_count": null,
   "id": "d771dccb",
   "metadata": {},
   "outputs": [],
   "source": [
    "%env DATABASE_URL=postgresql://{username}_sms_user:{password}@{postgres_host}:{postgres_port}/{username}_sms_db"
   ]
  },
  {
   "cell_type": "code",
   "execution_count": null,
   "id": "5f8f0997",
   "metadata": {},
   "outputs": [],
   "source": [
    "%%sql\n",
    "SELECT * FROM information_schema.tables \n",
    "WHERE table_catalog = '{username}_sms_db' AND table_schema = 'public'\n",
    "LIMIT 10"
   ]
  },
  {
   "cell_type": "code",
   "execution_count": null,
   "id": "3530d9c2",
   "metadata": {},
   "outputs": [],
   "source": [
    "%%sql\n",
    "\n",
    "DROP TABLE IF EXISTS stations;\n",
    "CREATE TABLE stations (\n",
    "    id SERIAL PRIMARY KEY,\n",
    "    station_id INT UNIQUE ,\n",
    "    station_type VARCHAR(200),\n",
    "    name VARCHAR(200),\n",
    "    short_name VARCHAR(200),\n",
    "    capacity VARCHAR(100),\n",
    "    external_id varchar(300),\n",
    "    has_kiosk varchar(100),\n",
    "    legacy_id varchar(100),\n",
    "    region_id varchar(100),\n",
    "    electric_bike_surcharge_waiver varchar(100),\n",
    "    eightd_station_services varchar(300)\n",
    ");"
   ]
  },
  {
   "cell_type": "code",
   "execution_count": null,
   "id": "16dfa12d",
   "metadata": {},
   "outputs": [],
   "source": [
    "%%sql\n",
    "SELECT * FROM stations LIMIT 5"
   ]
  },
  {
   "cell_type": "code",
   "execution_count": null,
   "id": "96c8c889",
   "metadata": {},
   "outputs": [],
   "source": [
    "import psycopg2\n",
    "def get_pg_connection(host, port, database, user, password):\n",
    "    connection = None\n",
    "    try:\n",
    "        connection = psycopg2.connect(\n",
    "            host=host,\n",
    "            port=port,\n",
    "            database=database,\n",
    "            user=user,\n",
    "            password=password\n",
    "        )\n",
    "    except Exception as e:\n",
    "        raise(e)\n",
    "    \n",
    "    return connection"
   ]
  },
  {
   "cell_type": "code",
   "execution_count": null,
   "id": "967a201c",
   "metadata": {},
   "outputs": [],
   "source": [
    "connection = get_pg_connection(\n",
    "    host=postgres_host,\n",
    "    port=postgres_port,\n",
    "    database=f'{username}_sms_db',\n",
    "    user=f'{username}_sms_user',\n",
    "    password=password\n",
    ")"
   ]
  },
  {
   "cell_type": "code",
   "execution_count": null,
   "id": "6e68c176",
   "metadata": {},
   "outputs": [],
   "source": [
    "import requests\n",
    "url = \"https://gbfs.citibikenyc.com/gbfs/en/station_information.json\"\n",
    "payload={}\n",
    "headers = {}\n",
    "response = requests.request(\"GET\", url, headers=headers, data=payload)"
   ]
  },
  {
   "cell_type": "code",
   "execution_count": null,
   "id": "70dad6bf",
   "metadata": {},
   "outputs": [],
   "source": [
    "import json\n",
    "data = response.json()\n",
    "data = data['data']['stations']"
   ]
  },
  {
   "cell_type": "code",
   "execution_count": null,
   "id": "4507156c",
   "metadata": {},
   "outputs": [],
   "source": [
    "import pandas as pd\n",
    "df = pd.json_normalize(data)"
   ]
  },
  {
   "cell_type": "code",
   "execution_count": null,
   "id": "be73b7a9",
   "metadata": {},
   "outputs": [],
   "source": [
    "type(df)"
   ]
  },
  {
   "cell_type": "code",
   "execution_count": null,
   "id": "ed7d5454",
   "metadata": {},
   "outputs": [],
   "source": [
    "stations_df = df[['station_id', 'station_type', 'name', 'short_name',\n",
    "             'capacity', 'external_id', 'has_kiosk', 'legacy_id',\n",
    "             'region_id', 'electric_bike_surcharge_waiver', 'eightd_station_services']]"
   ]
  },
  {
   "cell_type": "code",
   "execution_count": null,
   "id": "d3bac317",
   "metadata": {},
   "outputs": [],
   "source": [
    "stations = [tuple(station) for station in stations_df.values]"
   ]
  },
  {
   "cell_type": "code",
   "execution_count": null,
   "id": "5e7a9d6a",
   "metadata": {},
   "outputs": [],
   "source": [
    "cursor = connection.cursor()\n",
    "query = (\"\"\"\n",
    "         INSERT INTO stations \n",
    "         (station_id, station_type, name, short_name, \n",
    "          capacity, external_id, has_kiosk, legacy_id, \n",
    "          region_id, electric_bike_surcharge_waiver, eightd_station_services\n",
    "         )\n",
    "         VALUES \n",
    "         (%s, %s, %s, %s, \n",
    "          %s, %s, %s, %s, \n",
    "          %s, %s, %s\n",
    "         )\n",
    "    \"\"\")\n",
    "cursor.executemany(query, stations)\n",
    "connection.commit()\n",
    "cursor.close()"
   ]
  },
  {
   "cell_type": "code",
   "execution_count": null,
   "id": "07c75cf9",
   "metadata": {},
   "outputs": [],
   "source": [
    "%%sql\n",
    "\n",
    "SELECT count(1) from stations"
   ]
  },
  {
   "cell_type": "code",
   "execution_count": null,
   "id": "386362f3",
   "metadata": {},
   "outputs": [],
   "source": [
    "%%sql\n",
    "\n",
    "DROP TABLE IF EXISTS station_rental_types;\n",
    "CREATE TABLE station_rental_types(\n",
    "    station_rental_type_id SERIAL PRIMARY KEY,\n",
    "    station_id INT ,\n",
    "    rental_type VARCHAR(100),\n",
    "    UNIQUE(station_id, rental_type)\n",
    ");"
   ]
  },
  {
   "cell_type": "code",
   "execution_count": null,
   "id": "a8aeb965",
   "metadata": {},
   "outputs": [],
   "source": [
    "%%sql\n",
    "SELECT * FROM station_rental_types limit 5"
   ]
  },
  {
   "cell_type": "code",
   "execution_count": null,
   "id": "d469a683",
   "metadata": {},
   "outputs": [],
   "source": [
    "station_rental_types_df = df[['station_id', 'rental_methods']].explode('rental_methods')"
   ]
  },
  {
   "cell_type": "code",
   "execution_count": null,
   "id": "d5818d1e",
   "metadata": {},
   "outputs": [],
   "source": [
    "station_rental_types = [tuple(station_rental_type) for station_rental_type in station_rental_types_df.values]"
   ]
  },
  {
   "cell_type": "code",
   "execution_count": null,
   "id": "06fd3a09",
   "metadata": {},
   "outputs": [],
   "source": [
    "cursor = connection.cursor()\n",
    "query = (\"\"\"\n",
    "         INSERT INTO station_rental_types \n",
    "         (station_id,rental_type)\n",
    "         VALUES \n",
    "         (%s, %s)\n",
    "        \"\"\")\n",
    "cursor.executemany(query, station_rental_types)\n",
    "connection.commit()\n",
    "cursor.close()\n",
    "connection.close()"
   ]
  },
  {
   "cell_type": "code",
   "execution_count": null,
   "id": "2a493751",
   "metadata": {},
   "outputs": [],
   "source": [
    "%%sql\n",
    "\n",
    "SELECT count(*) FROM station_rental_types"
   ]
  }
 ],
 "metadata": {
  "kernelspec": {
   "display_name": "Python 3",
   "language": "python",
   "name": "python3"
  },
  "language_info": {
   "codemirror_mode": {
    "name": "ipython",
    "version": 3
   },
   "file_extension": ".py",
   "mimetype": "text/x-python",
   "name": "python",
   "nbconvert_exporter": "python",
   "pygments_lexer": "ipython3",
   "version": "3.6.12"
  }
 },
 "nbformat": 4,
 "nbformat_minor": 5
}
