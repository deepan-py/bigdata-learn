{
 "cells": [
  {
   "cell_type": "markdown",
   "id": "dd78ea7f",
   "metadata": {},
   "source": [
    "## Requirements for loading REST payloads\n",
    "\n",
    "Let us perform an exercise to get the REST Payload into a database table.\n",
    "* REST API URL: https://gbfs.citibikenyc.com/gbfs/en/station_information.json\n",
    "* Database Name: **{username}_sms_db**\n",
    "* First Table Name: **stations**\n",
    "* Create table for following fields. Make sure to use appropriate data types\n",
    "  * id - Sequence generated primary key\n",
    "  * station_id - Uniqueness needs to be enforced.\n",
    "  * station_type\n",
    "  * name\n",
    "  * short_name\n",
    "  * capacity\n",
    "  * external_id\n",
    "  * has_kiosk\n",
    "  * legacy_id\n",
    "  * region_id\n",
    "  * electric_bike_surcharge_waiver\n",
    "  * eightd_station_services\n",
    "* Get the data from the REST payload into the table **stations** created.\n",
    "* Run queries for following scenarios.\n",
    "  * Get distinct station types.\n",
    "  * Get number of stations per region_id.\n",
    "  * Get top 10 stations by capacity.\n",
    "  * Get number of stations where there are no kiosks.\n",
    "* Second Table Name: **station_rental_types**\n",
    "* Create table with following fields\n",
    "  * station_id\n",
    "  * rental_type - the source field is of type list. The target column in the table should be of type VARCHAR.\n",
    "  * station_rental_type_id - sequence generated primary key.\n",
    "  * Combination of station_id and rental_type is supposed to be unique.\n",
    "* For all station ids where there is one or more rental_types, the data should be inserted into the table separately with rental_type.\n",
    "* Sample input record `{'station_id': 1, 'rental_types': ['KEY', 'CREDIT CARD]}`\n",
    "* Sample data in the table\n",
    "\n",
    "|station_id|rental_type|\n",
    "|---|---|\n",
    "|1|KEY|\n",
    "|1|CREDIT CARD|\n",
    "\n",
    "* Run queries for following scenarios.\n",
    "  * Get number of records from **station_rental_types**\n",
    "  * Get number of stations where rental_type is **KEY**\n",
    "  * Get number of stations where rental_type is **CREDIT CARD**\n",
    "  * Get number of stations by rental_type.\n",
    "  * Get the stations where there are no rental types available."
   ]
  },
  {
   "cell_type": "markdown",
   "id": "df38cfce",
   "metadata": {},
   "source": [
    "### Low level design\n",
    "\n",
    "Here is the low level design for the problem.\n",
    "* Make sure that tables are created.\n",
    "* Read the data from REST API into a Dataframe.\n",
    "* Create list of tuples for stations and station_rental_types using the Dataframe created earlier.\n",
    "* Populate the tables using a common function."
   ]
  },
  {
   "cell_type": "code",
   "execution_count": null,
   "id": "cf313860",
   "metadata": {},
   "outputs": [],
   "source": []
  }
 ],
 "metadata": {
  "kernelspec": {
   "display_name": "Python 3",
   "language": "python",
   "name": "python3"
  },
  "language_info": {
   "codemirror_mode": {
    "name": "ipython",
    "version": 3
   },
   "file_extension": ".py",
   "mimetype": "text/x-python",
   "name": "python",
   "nbconvert_exporter": "python",
   "pygments_lexer": "ipython3",
   "version": "3.6.12"
  }
 },
 "nbformat": 4,
 "nbformat_minor": 5
}
