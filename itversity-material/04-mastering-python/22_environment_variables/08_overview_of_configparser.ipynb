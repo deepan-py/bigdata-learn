{
 "cells": [
  {
   "cell_type": "markdown",
   "id": "9fd078c4-df10-45ee-a566-db5fbf680ae1",
   "metadata": {},
   "source": [
    "## Overview of configparser\n",
    "\n",
    "Let us go through the details related to configparser. The variables which will control the run time behavior of the application are also known as configuration variables, application variables, run time variables etc.\n",
    "* On top of using **.env**, another popular way of managing these variables is by using `configparser`.\n",
    "* You can check if `configparser` is already installed by running below command."
   ]
  },
  {
   "cell_type": "code",
   "execution_count": null,
   "id": "a0be2a8e-94d6-4091-b45a-6e18cfa6e7e7",
   "metadata": {},
   "outputs": [],
   "source": [
    "!pip list|grep configparser"
   ]
  },
  {
   "cell_type": "markdown",
   "id": "0438d233-eb80-4a43-89f4-edeae0eec23c",
   "metadata": {},
   "source": [
    "* We can represent the configuration variables in different formats.\n",
    "  * `ini`\n",
    "  * `json`\n",
    "  * `yml`\n",
    "* We can define variables using the supported file formats.\n",
    "* We can group related variables using sections.\n",
    "* Here is an example of using `ini` format to define the configuration variables.\n",
    "\n",
    "```\n",
    "[DEFAULT]\n",
    "FOO = bar\n",
    "\n",
    "[POSTGRES_DB]\n",
    "DB_HOST = pg.itversity.com\n",
    "DB_PORT = 5432\n",
    "DB_NAME = retail_db\n",
    "DB_USER = retail_user\n",
    "DB_PASS = retail_pass\n",
    "```"
   ]
  },
  {
   "cell_type": "code",
   "execution_count": null,
   "id": "755aaa9c-c63b-4fbb-9ac1-3d07eb0e191e",
   "metadata": {},
   "outputs": [],
   "source": []
  }
 ],
 "metadata": {
  "kernelspec": {
   "display_name": "Python 3",
   "language": "python",
   "name": "python3"
  },
  "language_info": {
   "codemirror_mode": {
    "name": "ipython",
    "version": 3
   },
   "file_extension": ".py",
   "mimetype": "text/x-python",
   "name": "python",
   "nbconvert_exporter": "python",
   "pygments_lexer": "ipython3",
   "version": "3.7.10"
  }
 },
 "nbformat": 4,
 "nbformat_minor": 5
}
