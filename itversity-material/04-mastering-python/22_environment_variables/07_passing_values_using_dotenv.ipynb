{
 "cells": [
  {
   "cell_type": "markdown",
   "id": "2f70d094-c51d-43c5-ba23-7eb5f6be4e91",
   "metadata": {},
   "source": [
    "## Passing Values using dotenv\n",
    "\n",
    "Let us understand how to pass values using `dotenv` effectively.\n",
    "* Even though we can use `os.environ.get` to read the enviornment variables after they are loaded using `dotenv`, it is a tedious process."
   ]
  },
  {
   "cell_type": "code",
   "execution_count": null,
   "id": "02b3bed8-cbba-467d-b7a8-e3db51b47d0c",
   "metadata": {},
   "outputs": [],
   "source": [
    "import dotenv"
   ]
  },
  {
   "cell_type": "code",
   "execution_count": null,
   "id": "1471c1cf-9fb1-42ef-8b2d-dddcda96826c",
   "metadata": {},
   "outputs": [],
   "source": [
    "dotenv.load_dotenv()"
   ]
  },
  {
   "cell_type": "code",
   "execution_count": null,
   "id": "19ac69e9-bd48-4192-8a41-15100b53fe9c",
   "metadata": {},
   "outputs": [],
   "source": [
    "import os"
   ]
  },
  {
   "cell_type": "code",
   "execution_count": null,
   "id": "870949fe-542e-4e8a-9f4f-779e5136876e",
   "metadata": {},
   "outputs": [],
   "source": [
    "os.environ.get('DB_HOST')"
   ]
  },
  {
   "cell_type": "code",
   "execution_count": null,
   "id": "d83f293f-44ff-47ab-ba4a-e07eb8bde976",
   "metadata": {},
   "outputs": [],
   "source": [
    "os.environ.get('DB_PORT')"
   ]
  },
  {
   "cell_type": "markdown",
   "id": "a499ee05-46f5-4a19-b3c3-a3a49a29df8e",
   "metadata": {},
   "source": [
    "* You can read all the values at once using `dotenv.dotenv_values` after the values from **.env** are loaded using `dotenv.load_dotenv`"
   ]
  },
  {
   "cell_type": "code",
   "execution_count": null,
   "id": "1fc1801b-87db-4057-9808-d5dcb9193b18",
   "metadata": {},
   "outputs": [],
   "source": [
    "# It is similar to dict\n",
    "dotenv.dotenv_values()"
   ]
  },
  {
   "cell_type": "markdown",
   "id": "c9d51b6d-817c-4417-89b5-62a08b7c064a",
   "metadata": {},
   "source": [
    "* This is how, we typically have database url strings."
   ]
  },
  {
   "cell_type": "code",
   "execution_count": null,
   "id": "e13985a1-987d-4f18-b7be-abc66b79c536",
   "metadata": {},
   "outputs": [],
   "source": [
    "connection_url = 'postgresql://{DB_USER}:{DB_PASS}@{DB_HOST}:{DB_PORT}/{DB_NAME}'"
   ]
  },
  {
   "cell_type": "markdown",
   "id": "8894351b-dfe4-4c0f-a198-cf8b8d434ced",
   "metadata": {},
   "source": [
    "* We can replace all the variables using `format` on string."
   ]
  },
  {
   "cell_type": "code",
   "execution_count": null,
   "id": "cd671bc4-57ea-4b3f-acd3-c191b56a0414",
   "metadata": {},
   "outputs": [],
   "source": [
    "# format typically takes keyword arguments\n",
    "connection_url.format?"
   ]
  },
  {
   "cell_type": "code",
   "execution_count": null,
   "id": "6ca5e0b2-b7a7-4d09-a95d-3b3bb0d34be5",
   "metadata": {},
   "outputs": [],
   "source": [
    "# We can convert dict to an argument for varrying keyword arguments like this\n",
    "connection_url.format(**dotenv.dotenv_values())"
   ]
  },
  {
   "cell_type": "code",
   "execution_count": null,
   "id": "ee3b86e2-2f34-4aaf-aa80-2c47de359cf1",
   "metadata": {},
   "outputs": [],
   "source": [
    "# The above code is effective alternative for this.\n",
    "\n",
    "envs = dotenv.dotenv_values()\n",
    "connection_url.format(\n",
    "    DB_HOST=envs['DB_HOST'],\n",
    "    DB_PORT=envs['DB_PORT'],\n",
    "    DB_NAME=envs['DB_NAME'],\n",
    "    DB_USER=envs['DB_USER'],    \n",
    "    DB_PASS=envs['DB_PASS']\n",
    ")"
   ]
  },
  {
   "cell_type": "code",
   "execution_count": null,
   "id": "bb49fa48-374c-444d-9208-92e6280c1524",
   "metadata": {},
   "outputs": [],
   "source": [
    "import dotenv\n",
    "dotenv.load_dotenv()\n",
    "connection_url = 'postgresql://{DB_USER}:{DB_PASS}@{DB_HOST}:{DB_PORT}/{DB_NAME}'\n",
    "connection_url.format(**dotenv.dotenv_values())"
   ]
  }
 ],
 "metadata": {
  "kernelspec": {
   "display_name": "Python 3",
   "language": "python",
   "name": "python3"
  },
  "language_info": {
   "codemirror_mode": {
    "name": "ipython",
    "version": 3
   },
   "file_extension": ".py",
   "mimetype": "text/x-python",
   "name": "python",
   "nbconvert_exporter": "python",
   "pygments_lexer": "ipython3",
   "version": "3.7.10"
  }
 },
 "nbformat": 4,
 "nbformat_minor": 5
}
