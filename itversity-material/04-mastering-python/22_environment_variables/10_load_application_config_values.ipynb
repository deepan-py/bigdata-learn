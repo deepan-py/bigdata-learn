{
 "cells": [
  {
   "cell_type": "markdown",
   "id": "30d1e140-0103-4d99-8dfa-0bc24340f3f3",
   "metadata": {},
   "source": [
    "## Load Application Config Values\n",
    "\n",
    "Let us understand how to load application config values using `configparser`. We will be using `ini` file format.\n",
    "* Create `configparser` object.\n",
    "* Read the `ini` file by passing the path as string.\n",
    "* Now you should be able to read the config values as sections."
   ]
  },
  {
   "cell_type": "code",
   "execution_count": null,
   "id": "c1c7e462-2b49-4916-ba48-2693726ce65f",
   "metadata": {},
   "outputs": [],
   "source": [
    "import configparser"
   ]
  },
  {
   "cell_type": "code",
   "execution_count": null,
   "id": "0f4120b3-ad04-4671-8030-7308be580146",
   "metadata": {},
   "outputs": [],
   "source": [
    "config = configparser.ConfigParser()"
   ]
  },
  {
   "cell_type": "code",
   "execution_count": null,
   "id": "eeb83713-810d-4225-8070-afc21634a7d7",
   "metadata": {},
   "outputs": [],
   "source": [
    "type(config)"
   ]
  },
  {
   "cell_type": "code",
   "execution_count": null,
   "id": "3c4e4c65-e984-4b2e-9ce9-5d07334028c8",
   "metadata": {},
   "outputs": [],
   "source": [
    "import getpass\n",
    "username = getpass.getuser()"
   ]
  },
  {
   "cell_type": "code",
   "execution_count": null,
   "id": "4b9b6b63-2557-46d7-a6f1-ff07464ba2f3",
   "metadata": {},
   "outputs": [],
   "source": [
    "config.read(f'/home/{username}/application.ini')"
   ]
  },
  {
   "cell_type": "code",
   "execution_count": null,
   "id": "7b3eff2f-600d-4f47-b543-a4442b9888c9",
   "metadata": {},
   "outputs": [],
   "source": [
    "!cat /home/${USER}/application.ini"
   ]
  },
  {
   "cell_type": "markdown",
   "id": "b8eeae00-f798-4aa9-b47d-962354113220",
   "metadata": {},
   "source": [
    "* `configparser` object is similar to dict.\n",
    "* You can read the values for a given section as below. Here we are reading **DEFAULT** section."
   ]
  },
  {
   "cell_type": "code",
   "execution_count": null,
   "id": "0546bb52-ab27-4541-a045-bcbdcd69ac2c",
   "metadata": {},
   "outputs": [],
   "source": [
    "config['DEFAULT']"
   ]
  },
  {
   "cell_type": "code",
   "execution_count": null,
   "id": "53ae53c5-7bb3-41c9-a70d-05ed471e2e30",
   "metadata": {},
   "outputs": [],
   "source": [
    "# We are reading the value for property FOO under section DEFAULT.\n",
    "config['DEFAULT']['FOO']"
   ]
  },
  {
   "cell_type": "code",
   "execution_count": null,
   "id": "ad705910-94b0-497c-9f60-7f60df730f66",
   "metadata": {},
   "outputs": [],
   "source": [
    "# Reading POSTGRES_DB section\n",
    "config['POSTGRES_DB']"
   ]
  },
  {
   "cell_type": "code",
   "execution_count": null,
   "id": "27be5ec7-d17e-4e42-ab4b-d1a8ca7d9c58",
   "metadata": {},
   "outputs": [],
   "source": [
    "# Reading the value for property POSTGRES_DB under section DEFAULT.\n",
    "config['POSTGRES_DB']['DB_HOST']"
   ]
  },
  {
   "cell_type": "code",
   "execution_count": null,
   "id": "3d53e7dc-2649-4a37-8feb-5e429982f590",
   "metadata": {},
   "outputs": [],
   "source": [
    "# We can also read values under DEFAULT section using specific sections.\n",
    "config['POSTGRES_DB']['FOO']"
   ]
  },
  {
   "cell_type": "code",
   "execution_count": null,
   "id": "3757a564-8b63-4156-ad53-4dd4ff2e090d",
   "metadata": {},
   "outputs": [],
   "source": [
    "pg_section = config['POSTGRES_DB']"
   ]
  },
  {
   "cell_type": "code",
   "execution_count": null,
   "id": "f7ce246f-59da-44eb-9db5-00bf9834678a",
   "metadata": {},
   "outputs": [],
   "source": [
    "# We will see the variables under DEFAULT in all sections\n",
    "# Even though keys are originally in upper case, here you can see them in lower case.\n",
    "dict(pg_section)"
   ]
  },
  {
   "cell_type": "code",
   "execution_count": null,
   "id": "a9c816ab-3d6c-482f-bcf5-3f091382e508",
   "metadata": {},
   "outputs": [],
   "source": [
    "config['DEFAULT']['FOO']"
   ]
  },
  {
   "cell_type": "code",
   "execution_count": null,
   "id": "cccf0dda-4b8b-47ab-bb52-dd9f63329c2f",
   "metadata": {},
   "outputs": [],
   "source": [
    "# The variables under other sections are not accessible using DEFAULT\n",
    "config['DEFAULT']['DB_HOST']"
   ]
  },
  {
   "cell_type": "code",
   "execution_count": null,
   "id": "be7dc68d-ebf4-4faf-af8e-9984f9e909d7",
   "metadata": {},
   "outputs": [],
   "source": [
    "config = configparser.ConfigParser()"
   ]
  },
  {
   "cell_type": "code",
   "execution_count": null,
   "id": "bbc45f82-d64f-4eab-9990-5d5f3cdbd173",
   "metadata": {},
   "outputs": [],
   "source": [
    "# This will make sure that the case of keys in dict is not converted to lower\n",
    "config.optionxform = str"
   ]
  },
  {
   "cell_type": "code",
   "execution_count": null,
   "id": "24b3f04d-cfce-4d4f-b871-b4c069419369",
   "metadata": {},
   "outputs": [],
   "source": [
    "config.read(f'/home/{username}/application.ini')"
   ]
  },
  {
   "cell_type": "code",
   "execution_count": null,
   "id": "3a70d5cf-bd61-4069-aeb8-c2d5f0750c7d",
   "metadata": {},
   "outputs": [],
   "source": [
    "dict(config['POSTGRES_DB'])"
   ]
  },
  {
   "cell_type": "code",
   "execution_count": null,
   "id": "fe2576bf-845e-4dfa-90ae-c5f729df7518",
   "metadata": {},
   "outputs": [],
   "source": []
  }
 ],
 "metadata": {
  "kernelspec": {
   "display_name": "Python 3",
   "language": "python",
   "name": "python3"
  },
  "language_info": {
   "codemirror_mode": {
    "name": "ipython",
    "version": 3
   },
   "file_extension": ".py",
   "mimetype": "text/x-python",
   "name": "python",
   "nbconvert_exporter": "python",
   "pygments_lexer": "ipython3",
   "version": "3.7.10"
  }
 },
 "nbformat": 4,
 "nbformat_minor": 5
}
