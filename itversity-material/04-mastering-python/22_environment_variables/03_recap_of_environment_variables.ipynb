{
 "cells": [
  {
   "cell_type": "markdown",
   "id": "c667a39b-b58e-4977-bf92-d4fcfc7c2c99",
   "metadata": {},
   "source": [
    "## Recap of Environment Variables\n",
    "\n",
    "Let us recap of environment variables. In the subsequent topics in this section, we will understand how to process them using Python.\n",
    "* Environment Variables will play a significant role in controlling linux sessions as well as behavior of our programs.\n",
    "* To get environment variables for a given session, you can do the following:\n",
    "  * Go to Terminal\n",
    "  * Run `env` command to list all the environment variables\n",
    "* If you run `!env` using Jupyter, you will see the difference as the context of Jupyter is different from the terminal.\n",
    "* You can read values of individual environment variables using `echo` command.\n",
    "* Here are some of the important environment variables.\n",
    "  * `USER` - the current user logged into the Linux Environment\n",
    "  * `HOME` - the current user's home directory.\n",
    "  * `PWD` - the current directory you are in.\n",
    "  * `PATH` - the locations where it will search for the executables of the commands.\n",
    "* Let us review the values of important environment variables."
   ]
  },
  {
   "cell_type": "code",
   "execution_count": null,
   "id": "eda0a3bf-ac55-4d86-993b-ca9bd159d3aa",
   "metadata": {},
   "outputs": [],
   "source": [
    "!env"
   ]
  },
  {
   "cell_type": "code",
   "execution_count": null,
   "id": "edca0e94-6280-47bf-9ec6-fecb40abfada",
   "metadata": {},
   "outputs": [],
   "source": [
    "!echo $USER"
   ]
  },
  {
   "cell_type": "code",
   "execution_count": null,
   "id": "e3aacc01-4f44-4d52-a08c-da65032fc458",
   "metadata": {},
   "outputs": [],
   "source": [
    "!echo $HOME"
   ]
  },
  {
   "cell_type": "code",
   "execution_count": null,
   "id": "696f7596-1889-4434-aeb3-147eaefecceb",
   "metadata": {},
   "outputs": [],
   "source": [
    "!echo $PWD"
   ]
  },
  {
   "cell_type": "code",
   "execution_count": null,
   "id": "e57ab3e2-b77e-48b9-abc4-e43455b021af",
   "metadata": {},
   "outputs": [],
   "source": [
    "!echo $PATH"
   ]
  }
 ],
 "metadata": {
  "kernelspec": {
   "display_name": "Python 3",
   "language": "python",
   "name": "python3"
  },
  "language_info": {
   "codemirror_mode": {
    "name": "ipython",
    "version": 3
   },
   "file_extension": ".py",
   "mimetype": "text/x-python",
   "name": "python",
   "nbconvert_exporter": "python",
   "pygments_lexer": "ipython3",
   "version": "3.7.10"
  }
 },
 "nbformat": 4,
 "nbformat_minor": 5
}
