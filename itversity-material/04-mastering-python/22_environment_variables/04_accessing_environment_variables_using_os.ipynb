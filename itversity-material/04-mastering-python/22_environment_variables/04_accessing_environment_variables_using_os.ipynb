{
 "cells": [
  {
   "cell_type": "markdown",
   "id": "f5d0e78a-9193-426c-b47c-29054b76c822",
   "metadata": {},
   "source": [
    "## Accessing Environment Variables using Python\n",
    "\n",
    "Let us understand how to access environment variables using Python.\n",
    "* We can use `os` module to access environment variables."
   ]
  },
  {
   "cell_type": "code",
   "execution_count": null,
   "id": "881ef86e-f9a5-42af-aa9b-b448eb3d7e3a",
   "metadata": {},
   "outputs": [],
   "source": [
    "import os"
   ]
  },
  {
   "cell_type": "markdown",
   "id": "222756bd-ecd9-4f7d-8b37-31267e13a0a6",
   "metadata": {},
   "source": [
    "* `os` have an instance called as `environ`.\n",
    "* `environ` exposes environment variables in the form of key value pairs."
   ]
  },
  {
   "cell_type": "code",
   "execution_count": null,
   "id": "6cc713b4-4f64-4516-942d-5a59a1635cd6",
   "metadata": {},
   "outputs": [],
   "source": [
    "os.environ"
   ]
  },
  {
   "cell_type": "markdown",
   "id": "de25f642-7899-4def-b37e-05d31afbcab3",
   "metadata": {},
   "source": [
    "* You can check the type of `environ`. It is of type `os._Environ` class."
   ]
  },
  {
   "cell_type": "code",
   "execution_count": null,
   "id": "771fa428-3aff-465f-bec5-47633e502d00",
   "metadata": {},
   "outputs": [],
   "source": [
    "type(os.environ)"
   ]
  },
  {
   "cell_type": "markdown",
   "id": "ae4bb0b6-b617-4668-8da6-3878a68e016f",
   "metadata": {},
   "source": [
    "* We can read the values of variables using `get` function."
   ]
  },
  {
   "cell_type": "code",
   "execution_count": null,
   "id": "3e9905a7-9952-4dc3-bc25-ab3dee222715",
   "metadata": {},
   "outputs": [],
   "source": [
    "# Reading the value of USER\n",
    "os.environ.get('USER')"
   ]
  },
  {
   "cell_type": "code",
   "execution_count": null,
   "id": "cb81c66e-61dd-4260-85b0-30679fefc06b",
   "metadata": {},
   "outputs": [],
   "source": [
    "# Reading the value of PATH\n",
    "os.environ.get('PATH')"
   ]
  },
  {
   "cell_type": "code",
   "execution_count": null,
   "id": "1ce67b77-385f-4c69-bd30-5a19ad58fbcf",
   "metadata": {},
   "outputs": [],
   "source": []
  }
 ],
 "metadata": {
  "kernelspec": {
   "display_name": "Python 3",
   "language": "python",
   "name": "python3"
  },
  "language_info": {
   "codemirror_mode": {
    "name": "ipython",
    "version": 3
   },
   "file_extension": ".py",
   "mimetype": "text/x-python",
   "name": "python",
   "nbconvert_exporter": "python",
   "pygments_lexer": "ipython3",
   "version": "3.7.10"
  }
 },
 "nbformat": 4,
 "nbformat_minor": 5
}
