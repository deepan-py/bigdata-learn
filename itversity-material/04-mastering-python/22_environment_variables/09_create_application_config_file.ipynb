{
 "cells": [
  {
   "cell_type": "markdown",
   "id": "e3442190-97b9-47b5-a865-f9f3fcaf2415",
   "metadata": {},
   "source": [
    "## Create Application Config File\n",
    "\n",
    "Let us have a config file created under our home directory. We will see how to use the properties as part of the next topic.\n",
    "* Create a file by name `application.ini` under home directory.\n",
    "  * Go to terminal.\n",
    "  * Create a file using nano editor or vi editor. If you are not comfortable you can use the below python code.\n",
    "  * In case you want to use nano editor, copy paste the below content to **/home/${USER}/application.ini**\n",
    "\n",
    "```\n",
    "[DEFAULT]\n",
    "FOO = bar\n",
    "\n",
    "[POSTGRES_DB]\n",
    "DB_HOST = pg.itversity.com\n",
    "DB_PORT = 5432\n",
    "DB_NAME = retail_db\n",
    "DB_USER = retail_user\n",
    "DB_PASS = retail_pass\n",
    "```"
   ]
  },
  {
   "cell_type": "code",
   "execution_count": null,
   "id": "f3312ba5-f087-48d6-9222-9850505a29f7",
   "metadata": {},
   "outputs": [],
   "source": [
    "config_str = '''[DEFAULT]\n",
    "FOO = bar\n",
    "\n",
    "[POSTGRES_DB]\n",
    "DB_HOST = pg.itversity.com\n",
    "DB_PORT = 5432\n",
    "DB_NAME = retail_db\n",
    "DB_USER = retail_user\n",
    "DB_PASS = retail_pass'''"
   ]
  },
  {
   "cell_type": "code",
   "execution_count": null,
   "id": "289bf540-523f-4aa6-92fd-40576281ca47",
   "metadata": {},
   "outputs": [],
   "source": [
    "import getpass\n",
    "username = getpass.getuser()"
   ]
  },
  {
   "cell_type": "code",
   "execution_count": null,
   "id": "96b85ca8-605f-481b-9084-2b6eda5edc39",
   "metadata": {},
   "outputs": [],
   "source": [
    "config_file = open(f'/home/{username}/application.ini', 'w')"
   ]
  },
  {
   "cell_type": "code",
   "execution_count": null,
   "id": "42bd73d6-f92c-44ae-af17-04c51020edf6",
   "metadata": {},
   "outputs": [],
   "source": [
    "config_file.write(config_str)"
   ]
  },
  {
   "cell_type": "code",
   "execution_count": null,
   "id": "0fe8f07e-b346-4605-9498-0c4f71a0aeec",
   "metadata": {},
   "outputs": [],
   "source": [
    "config_file.close()"
   ]
  },
  {
   "cell_type": "code",
   "execution_count": null,
   "id": "42080c4b-fa1e-4c07-80f8-b520b3c2f949",
   "metadata": {},
   "outputs": [],
   "source": [
    "!ls -ltr /home/${USER}/application.ini"
   ]
  },
  {
   "cell_type": "code",
   "execution_count": null,
   "id": "83f176db-536a-4abd-9177-cb4e37981045",
   "metadata": {},
   "outputs": [],
   "source": [
    "!cat /home/${USER}/application.ini"
   ]
  },
  {
   "cell_type": "code",
   "execution_count": null,
   "id": "2a387f59-4db1-4d5b-b59b-5cd949728075",
   "metadata": {},
   "outputs": [],
   "source": []
  }
 ],
 "metadata": {
  "kernelspec": {
   "display_name": "Python 3",
   "language": "python",
   "name": "python3"
  },
  "language_info": {
   "codemirror_mode": {
    "name": "ipython",
    "version": 3
   },
   "file_extension": ".py",
   "mimetype": "text/x-python",
   "name": "python",
   "nbconvert_exporter": "python",
   "pygments_lexer": "ipython3",
   "version": "3.7.10"
  }
 },
 "nbformat": 4,
 "nbformat_minor": 5
}
