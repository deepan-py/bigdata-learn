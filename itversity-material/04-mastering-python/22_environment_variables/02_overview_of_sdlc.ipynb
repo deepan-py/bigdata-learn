{
 "cells": [
  {
   "cell_type": "markdown",
   "id": "f89782f1",
   "metadata": {},
   "source": [
    "## Overview of SDLC\n",
    "\n",
    "Let us get an overview of SDLC. It's full form is **Software Development Life Cycle**.\n",
    "\n",
    "* Let us go through the typically SDLC.\n",
    "  * We start with requirements, then design and then development.\n",
    "  * Once the code is developed, it will go through multiple levels of testing.\n",
    "    * Integration\n",
    "    * Functionality Testing\n",
    "    * User Acceptance Testing\n",
    "  * Once the code is thoroughly tested, it will go to production.\n",
    "  * Any application will go through at least development, one cycle of testing and then production.\n",
    "  * Design, Development, Testing, Production are called as Phases.\n",
    "* For each phase we will have phase specific external systems the application might have to talk to.\n",
    "* The most commonly used ones are database, 3rd party REST API Gateways.\n",
    "* For security reasons, we need to use different databases and REST API Gateways with different values.\n",
    "* We should not hardcode as part of the application. One of the way to pass these phase specific variables is by leveraging environment variables.\n",
    "* Let us undertand how it can be handled using `os` module as part of the subsequent topics in this section. There are alternative ways as well.\n",
    "  * Using `configparser` by specifying phase specific values in the form of JSON, YAML etc."
   ]
  },
  {
   "cell_type": "code",
   "execution_count": null,
   "id": "75c9274d",
   "metadata": {},
   "outputs": [],
   "source": []
  }
 ],
 "metadata": {
  "kernelspec": {
   "display_name": "Python 3",
   "language": "python",
   "name": "python3"
  },
  "language_info": {
   "codemirror_mode": {
    "name": "ipython",
    "version": 3
   },
   "file_extension": ".py",
   "mimetype": "text/x-python",
   "name": "python",
   "nbconvert_exporter": "python",
   "pygments_lexer": "ipython3",
   "version": "3.6.12"
  }
 },
 "nbformat": 4,
 "nbformat_minor": 5
}
