{
 "cells": [
  {
   "cell_type": "markdown",
   "id": "0820e51a",
   "metadata": {},
   "source": [
    "## Using configparser for App Variables\n",
    "\n",
    "Let us understand how we can use `configparser` to pass the application variables.\n",
    "* Make sure you have `ini` file with all sections that are relevant for your application. You can also use other standard formats such as JSON, YML etc.\n",
    "* Create `configparser` object and read the `ini` file by passig the path as argument.\n",
    "* You can read specific section to build required URLs or objects to connect to external applications.\n",
    "* Now, we can pass the dict to `format` to replace the variables in the string with actual values from the dict."
   ]
  },
  {
   "cell_type": "markdown",
   "id": "0beed063",
   "metadata": {},
   "source": [
    "* Make sure `application.ini` is available. It is typically placed in a location which is accessible to the Linux user using which we deploy the application."
   ]
  },
  {
   "cell_type": "code",
   "execution_count": null,
   "id": "f65e4184",
   "metadata": {},
   "outputs": [],
   "source": [
    "!ls -ltr /home/${USER}/application.ini"
   ]
  },
  {
   "cell_type": "code",
   "execution_count": null,
   "id": "d59e7bbf",
   "metadata": {},
   "outputs": [],
   "source": [
    "!cat /home/${USER}/application.ini"
   ]
  },
  {
   "cell_type": "markdown",
   "id": "bade214a",
   "metadata": {},
   "source": [
    "* Reading the `ini` file using `configparser`."
   ]
  },
  {
   "cell_type": "code",
   "execution_count": null,
   "id": "bcab2517",
   "metadata": {},
   "outputs": [],
   "source": [
    "import configparser"
   ]
  },
  {
   "cell_type": "code",
   "execution_count": null,
   "id": "54316ce7",
   "metadata": {},
   "outputs": [],
   "source": [
    "config = configparser.ConfigParser()"
   ]
  },
  {
   "cell_type": "code",
   "execution_count": null,
   "id": "fae936d9",
   "metadata": {},
   "outputs": [],
   "source": [
    "# This will make sure that the case of keys in dict is not converted to lower\n",
    "config.optionxform = str"
   ]
  },
  {
   "cell_type": "code",
   "execution_count": null,
   "id": "5fbbb5a2",
   "metadata": {},
   "outputs": [],
   "source": [
    "import getpass\n",
    "username = getpass.getuser()"
   ]
  },
  {
   "cell_type": "code",
   "execution_count": null,
   "id": "214b944a",
   "metadata": {},
   "outputs": [],
   "source": [
    "config.read(f'/home/{username}/application.ini')"
   ]
  },
  {
   "cell_type": "markdown",
   "id": "95d2c4f5",
   "metadata": {},
   "source": [
    "* Reviewing `POSTGRES_DB` section. We can use `dict` to convert `section` object to dict."
   ]
  },
  {
   "cell_type": "code",
   "execution_count": null,
   "id": "c0434707",
   "metadata": {},
   "outputs": [],
   "source": [
    "type(config['POSTGRES_DB'])"
   ]
  },
  {
   "cell_type": "code",
   "execution_count": null,
   "id": "8dc1c473",
   "metadata": {},
   "outputs": [],
   "source": [
    "dict(config['POSTGRES_DB'])"
   ]
  },
  {
   "cell_type": "markdown",
   "id": "db2edee7",
   "metadata": {},
   "source": [
    "* Replacing the values in `connection_url` using `format`."
   ]
  },
  {
   "cell_type": "code",
   "execution_count": null,
   "id": "4f61ada8",
   "metadata": {},
   "outputs": [],
   "source": [
    "connection_url = 'postgresql://{DB_USER}:{DB_PASS}@{DB_HOST}:{DB_PORT}/{DB_NAME}'"
   ]
  },
  {
   "cell_type": "code",
   "execution_count": null,
   "id": "e1f43727",
   "metadata": {},
   "outputs": [],
   "source": [
    "connection_url.format(**dict(config['POSTGRES_DB']))"
   ]
  },
  {
   "cell_type": "code",
   "execution_count": null,
   "id": "9e1823a9",
   "metadata": {},
   "outputs": [],
   "source": []
  }
 ],
 "metadata": {
  "kernelspec": {
   "display_name": "Python 3",
   "language": "python",
   "name": "python3"
  },
  "language_info": {
   "codemirror_mode": {
    "name": "ipython",
    "version": 3
   },
   "file_extension": ".py",
   "mimetype": "text/x-python",
   "name": "python",
   "nbconvert_exporter": "python",
   "pygments_lexer": "ipython3",
   "version": "3.6.12"
  }
 },
 "nbformat": 4,
 "nbformat_minor": 5
}
