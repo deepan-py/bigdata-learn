{
 "cells": [
  {
   "cell_type": "markdown",
   "id": "e38e9011-bd5e-48d8-8b6c-2237217927b8",
   "metadata": {},
   "source": [
    "## Overview of dotenv\n",
    "\n",
    "Let us understand how to pass bunch of environment variables using `dotenv`.\n",
    "* We can update our profiles in Linux or export as part of the session in terminal and access those using `os` module.\n",
    "* Here are the steps to validate this.\n",
    "  * Go to Terminal\n",
    "  * Say `export FOO=bar`\n",
    "  * Launch Python CLI from the terminal and run the below code.\n",
    "\n",
    "```python\n",
    "import os\n",
    "os.environ.get('FOO')\n",
    "```\n",
    "\n",
    "* You can also try accessing it from Jupyter. But it did not work as Jupyter is not related to the terminal session."
   ]
  },
  {
   "cell_type": "code",
   "execution_count": null,
   "id": "62df43eb-2772-4c6a-8cc1-d1bef78f2400",
   "metadata": {},
   "outputs": [],
   "source": [
    "import os"
   ]
  },
  {
   "cell_type": "code",
   "execution_count": null,
   "id": "1c0b8b7c-0bca-4a16-944f-c483e0f8fb22",
   "metadata": {},
   "outputs": [],
   "source": [
    "os.environ.get('FOO')"
   ]
  },
  {
   "cell_type": "markdown",
   "id": "02f0b9db-237a-4a83-a8fd-062d63506df2",
   "metadata": {},
   "source": [
    "* It can become tedious to export all the environment variables related to **dev** or **qa** or **prod** in the session or to update the profile.\n",
    "* We can use `dotenv` module. Here are the steps you need to follow.\n",
    "  * Make sure `python-dotenv` module is installed.\n",
    "  * Create `.env` file in the home directory.\n",
    "  * Add all the relevant environment variables related to the application. We will see an example using database connectivity information.\n",
    "  * Import `dotenv` and then invoke `load_dotenv`. It will take care of loading all the environment variables."
   ]
  },
  {
   "cell_type": "code",
   "execution_count": null,
   "id": "6eba4ac4-50f6-462a-b4c9-7a51bbdbadb6",
   "metadata": {},
   "outputs": [],
   "source": [
    "# You can confirm if dotenv is installed or not by running this command\n",
    "!pip list|grep dotenv"
   ]
  },
  {
   "cell_type": "code",
   "execution_count": null,
   "id": "fe1eb92a-2109-4ea0-a4c3-0da0c7d7c9d5",
   "metadata": {},
   "outputs": [],
   "source": [
    "!rm /home/${USER}/.env"
   ]
  },
  {
   "cell_type": "code",
   "execution_count": null,
   "id": "3e3abee6-a686-4652-8a25-d01df2504220",
   "metadata": {},
   "outputs": [],
   "source": [
    "!touch /home/${USER}/.env"
   ]
  },
  {
   "cell_type": "code",
   "execution_count": null,
   "id": "855de5aa-84c7-4068-b290-eeb61d64ddf8",
   "metadata": {},
   "outputs": [],
   "source": [
    "!ls -ltr /home/${USER}/.env"
   ]
  },
  {
   "cell_type": "code",
   "execution_count": null,
   "id": "bd3851eb-994d-410a-a39c-baf44acb773e",
   "metadata": {},
   "outputs": [],
   "source": [
    "# There should not be export for the variables that are being added to .env\n",
    "!echo \"DB_HOST=pg.itversity.com\" >> /home/${USER}/.env"
   ]
  },
  {
   "cell_type": "code",
   "execution_count": null,
   "id": "997fbcb4-2b28-4985-b78d-f7b838a2c2c7",
   "metadata": {},
   "outputs": [],
   "source": [
    "!echo \"DB_PORT=5432\" >> /home/${USER}/.env"
   ]
  },
  {
   "cell_type": "code",
   "execution_count": null,
   "id": "ac2abaf5-3896-4d36-8dd5-13f4ef338da4",
   "metadata": {},
   "outputs": [],
   "source": [
    "!echo \"DB_NAME=retail_db\" >> /home/${USER}/.env"
   ]
  },
  {
   "cell_type": "code",
   "execution_count": null,
   "id": "b3633f4e-3af0-46e6-bf46-b9effbb8d1a9",
   "metadata": {},
   "outputs": [],
   "source": [
    "!echo \"DB_USER=retail_user\" >> /home/${USER}/.env"
   ]
  },
  {
   "cell_type": "code",
   "execution_count": null,
   "id": "86913478-7c88-4180-988c-95cd2e41ed3c",
   "metadata": {},
   "outputs": [],
   "source": [
    "!echo \"DB_PASS=retail_pass\" >> /home/${USER}/.env"
   ]
  },
  {
   "cell_type": "code",
   "execution_count": null,
   "id": "a0df71ac-969e-46b1-affd-ced52be9b831",
   "metadata": {},
   "outputs": [],
   "source": [
    "!cat /home/${USER}/.env"
   ]
  },
  {
   "cell_type": "code",
   "execution_count": null,
   "id": "54a2aca1-a973-419a-b56d-571768fd35e9",
   "metadata": {},
   "outputs": [],
   "source": [
    "import dotenv"
   ]
  },
  {
   "cell_type": "code",
   "execution_count": null,
   "id": "590931d9-d283-4e51-b52f-30bf243d34df",
   "metadata": {},
   "outputs": [],
   "source": [
    "dotenv.load_dotenv?"
   ]
  },
  {
   "cell_type": "code",
   "execution_count": null,
   "id": "2a2f135a-0aa2-45d2-8fc2-770cfac3d1f7",
   "metadata": {},
   "outputs": [],
   "source": [
    "# If .env is part of home directory with .env name, you don't need to specify dotenv_path\n",
    "dotenv.load_dotenv()"
   ]
  },
  {
   "cell_type": "code",
   "execution_count": null,
   "id": "a92b4eee-bfed-405c-ba4b-7e0bdff5732a",
   "metadata": {},
   "outputs": [],
   "source": [
    "os.environ.get('DB_HOST')"
   ]
  }
 ],
 "metadata": {
  "kernelspec": {
   "display_name": "Python 3",
   "language": "python",
   "name": "python3"
  },
  "language_info": {
   "codemirror_mode": {
    "name": "ipython",
    "version": 3
   },
   "file_extension": ".py",
   "mimetype": "text/x-python",
   "name": "python",
   "nbconvert_exporter": "python",
   "pygments_lexer": "ipython3",
   "version": "3.7.10"
  }
 },
 "nbformat": 4,
 "nbformat_minor": 5
}
