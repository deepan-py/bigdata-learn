{
 "cells": [
  {
   "cell_type": "markdown",
   "id": "e61e5885-efa2-4a5b-8971-ac73b2f0c7dd",
   "metadata": {},
   "source": [
    "## Adding Environment Variables\n",
    "\n",
    "Earlier we have understood how to access environment variables using Python. Now, let us go through the details about setting up environment variables.\n",
    "* As seen earlier, we might have to use different values in our application based on the phase such as development, testing, production etc.\n",
    "* First, you need to import `os` module."
   ]
  },
  {
   "cell_type": "code",
   "execution_count": null,
   "id": "8404fca2-2a9d-4ef2-88a8-059b7ee9113b",
   "metadata": {},
   "outputs": [],
   "source": [
    "import os"
   ]
  },
  {
   "cell_type": "markdown",
   "id": "b7a87669-9eae-41b3-bc53-f76e027f5834",
   "metadata": {},
   "source": [
    "* `os.environ` have a method called `setdefault`. It can be used to set the environment variables.\n",
    "* The variables are available only for that session."
   ]
  },
  {
   "cell_type": "code",
   "execution_count": null,
   "id": "64eeafa9-32fe-4e27-b4c6-a11851e0fadc",
   "metadata": {},
   "outputs": [],
   "source": [
    "os.environ.setdefault?"
   ]
  },
  {
   "cell_type": "code",
   "execution_count": null,
   "id": "1420793b-2c07-4962-90a5-d14e6c15468e",
   "metadata": {},
   "outputs": [],
   "source": [
    "os.environ.setdefault('DB_USER', 'itversity')"
   ]
  },
  {
   "cell_type": "markdown",
   "id": "18aaad2c-81c2-4f37-9295-925c5727b108",
   "metadata": {},
   "source": [
    "* If there is OS level environment variable with the same name or key, the OS level value will take prcedence.\n",
    "* In the below example `USER` is a OS level environment variable which returns logged in user. Even though we tried to set using `setdefault`, it does not have any effect."
   ]
  },
  {
   "cell_type": "code",
   "execution_count": null,
   "id": "a8afc40f-9b2b-463c-a0da-17a689854333",
   "metadata": {},
   "outputs": [],
   "source": [
    "os.environ.get('USER')"
   ]
  },
  {
   "cell_type": "code",
   "execution_count": null,
   "id": "2c983675-d159-4e85-a127-2be60d7023d6",
   "metadata": {},
   "outputs": [],
   "source": [
    "os.environ.setdefault('USER', 'itversity1')"
   ]
  },
  {
   "cell_type": "code",
   "execution_count": null,
   "id": "59fa5f9d-87c6-4c2c-9c11-7a50363b0ddf",
   "metadata": {},
   "outputs": [],
   "source": [
    "os.environ.get('USER')"
   ]
  },
  {
   "cell_type": "code",
   "execution_count": null,
   "id": "008ec86f-6dc1-4506-9c8d-3bbbabdc29eb",
   "metadata": {},
   "outputs": [],
   "source": []
  }
 ],
 "metadata": {
  "kernelspec": {
   "display_name": "Python 3",
   "language": "python",
   "name": "python3"
  },
  "language_info": {
   "codemirror_mode": {
    "name": "ipython",
    "version": 3
   },
   "file_extension": ".py",
   "mimetype": "text/x-python",
   "name": "python",
   "nbconvert_exporter": "python",
   "pygments_lexer": "ipython3",
   "version": "3.7.10"
  }
 },
 "nbformat": 4,
 "nbformat_minor": 5
}
