{
 "cells": [
  {
   "cell_type": "markdown",
   "metadata": {},
   "source": [
    "## Google form to Postgres\n",
    "\n",
    "Here are the high level steps to get the email data from Google form to Dynamodb.\n",
    "* Make sure to have table created in Dynamodb.\n",
    "* Create the form with all the relevant questions.\n",
    "* Convert the form to Google sheet.\n",
    "* Setup Project in Google Developer Console and download credentials.\n",
    "* Install required Python libraries\n",
    "* Read the data from Google Sheet\n",
    "* Apply all the transformations as per your requirements.\n",
    "* Make sure to have a target table in Postgres database.\n",
    "* Populate data to Postgres table."
   ]
  }
 ],
 "metadata": {
  "kernelspec": {
   "display_name": "Python 3",
   "language": "python",
   "name": "python3"
  },
  "language_info": {
   "codemirror_mode": {
    "name": "ipython",
    "version": 3
   },
   "file_extension": ".py",
   "mimetype": "text/x-python",
   "name": "python",
   "nbconvert_exporter": "python",
   "pygments_lexer": "ipython3",
   "version": "3.6.12"
  }
 },
 "nbformat": 4,
 "nbformat_minor": 4
}
