{
 "cells": [
  {
   "cell_type": "markdown",
   "metadata": {},
   "source": [
    "## Create Google API Credentials\n",
    "\n",
    "Let us understand how to create Google API Credentials.\n",
    "* You need to have a valid GCP account with a valid billing account.\n",
    "* Go to https://console.developers.google.com\n",
    "* Create new project or choose existing one.\n",
    "* I will be demonstrating using new project.\n",
    "* Here are the instructions to create a project.\n",
    "  * Click on the project select drop down.\n",
    "  * Click on New Project\n",
    "  * Give the project name - **googlesheetsdemo**\n",
    "  * Make sure to select the billing account.\n",
    "  * Click on **Create**. You will be redirected to **Credentials** page.\n",
    "* Here are the instructions to add credentials.\n",
    "  * Click on **ENABLE APIS AND SERVICES** to enable Google Sheets API.\n",
    "  * Search for **Google Sheets** and enable the API.\n",
    "  * Go to **Credentials** on the left side bar.\n",
    "* Configure the OAuth consent screen\n",
    "  * Click on **CONFIGURE CONSENT SCREEN**\n",
    "  * Choose User Type as **Internal**\n",
    "  * Click on Create button\n",
    "  * Enter App Name: **GSheets Demo**. Make sure you do not have **Google** in the App Name. It might throw some generic error.\n",
    "  * Select Appropriate Email under **User Support Email**\n",
    "  * Enter your email id under **Developer Contact Information**\n",
    "  * Click on **Save and Continue**\n",
    "* Add OAuth 2.0 Client ID\n",
    "  * Click on **CREATE CRDENTIALS** and then on **Create OAuth client ID**\n",
    "  * Select the **Application Type** as **Desktop Application**\n",
    "  * Provide a client name: **Google Sheets Demo Client**\n",
    "  * It will generate the credentials. You can download it using the GCP Console.\n",
    "  "
   ]
  },
  {
   "cell_type": "code",
   "execution_count": null,
   "metadata": {},
   "outputs": [],
   "source": []
  }
 ],
 "metadata": {
  "kernelspec": {
   "display_name": "Python 3",
   "language": "python",
   "name": "python3"
  },
  "language_info": {
   "codemirror_mode": {
    "name": "ipython",
    "version": 3
   },
   "file_extension": ".py",
   "mimetype": "text/x-python",
   "name": "python",
   "nbconvert_exporter": "python",
   "pygments_lexer": "ipython3",
   "version": "3.6.12"
  }
 },
 "nbformat": 4,
 "nbformat_minor": 4
}
