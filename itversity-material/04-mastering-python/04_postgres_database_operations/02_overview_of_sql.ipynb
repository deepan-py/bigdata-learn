{
 "cells": [
  {
   "cell_type": "markdown",
   "metadata": {},
   "source": [
    "## Overview of SQL\n",
    "\n",
    "SQL stands for Structured Query Language and it is broadly categorized into following:"
   ]
  },
  {
   "cell_type": "code",
   "execution_count": 1,
   "metadata": {
    "tags": [
     "remove-cell"
    ]
   },
   "outputs": [
    {
     "data": {
      "text/html": [
       "<iframe width=\"560\" height=\"315\" src=\"https://www.youtube.com/embed/0jxzmpZjRd4?rel=0&amp;controls=1&amp;showinfo=0\" frameborder=\"0\" allowfullscreen></iframe>\n"
      ],
      "text/plain": [
       "<IPython.core.display.HTML object>"
      ]
     },
     "metadata": {},
     "output_type": "display_data"
    }
   ],
   "source": [
    "%%HTML\n",
    "<iframe width=\"560\" height=\"315\" src=\"https://www.youtube.com/embed/0jxzmpZjRd4?rel=0&amp;controls=1&amp;showinfo=0\" frameborder=\"0\" allowfullscreen></iframe>"
   ]
  },
  {
   "cell_type": "markdown",
   "metadata": {},
   "source": [
    "* DDL - Data Definition Language\n",
    "  * Creating Database Objects such as Tables, Indexes etc.\n",
    "  * Define constraints such as not null, primary key, foreign key etc.\n",
    "* DML - Data Manipulation Language\n",
    "  * Inserting or Updating data in the tables\n",
    "  * Deleting data from the tables\n",
    "* DQL - Data Query Language\n",
    "  * Project the data\n",
    "  * Filter based up on the requirements\n",
    "  * Join multiple tables\n",
    "* TCL - Transaction Control Language\n",
    "  * Commit to persistently store the changes.\n",
    "  * Rollback to revert back changes to the prior state.\n",
    "\n",
    "Typically as part of applications we perform CRUD Operations which are nothing but DML and DQL."
   ]
  }
 ],
 "metadata": {
  "kernelspec": {
   "display_name": "Python 3",
   "language": "python",
   "name": "python3"
  },
  "language_info": {
   "codemirror_mode": {
    "name": "ipython",
    "version": 3
   },
   "file_extension": ".py",
   "mimetype": "text/x-python",
   "name": "python",
   "nbconvert_exporter": "python",
   "pygments_lexer": "ipython3",
   "version": "3.6.12"
  }
 },
 "nbformat": 4,
 "nbformat_minor": 4
}
