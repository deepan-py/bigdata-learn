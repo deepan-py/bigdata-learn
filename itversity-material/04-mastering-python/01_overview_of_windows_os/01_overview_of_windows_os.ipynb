{
 "cells": [
  {
   "cell_type": "markdown",
   "metadata": {},
   "source": [
    "# Overview of Windows Operating System \n",
    "\n",
    "* Getting System Details\n",
    "* Managing Windows System\n",
    "* Overview of Microsoft Office\n",
    "* Overview of Editors and IDEs\n",
    "* Power Shell and Command Prompt\n",
    "* Connecting to Linux Servers\n",
    "* Folders and Files"
   ]
  }
 ],
 "metadata": {
  "kernelspec": {
   "display_name": "Python 3",
   "language": "python",
   "name": "python3"
  },
  "language_info": {
   "codemirror_mode": {
    "name": "ipython",
    "version": 3
   },
   "file_extension": ".py",
   "mimetype": "text/x-python",
   "name": "python",
   "nbconvert_exporter": "python",
   "pygments_lexer": "ipython3",
   "version": "3.6.12"
  }
 },
 "nbformat": 4,
 "nbformat_minor": 4
}
