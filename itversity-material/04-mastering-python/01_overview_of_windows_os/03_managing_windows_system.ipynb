{
 "cells": [
  {
   "cell_type": "markdown",
   "metadata": {},
   "source": [
    "## Managing Windows System\n",
    "Let us understand how to manage system effectively. We can use tools like Control Panel and Task Manager.\n",
    "* Control Panel provides administrative capabilities in a Windows System.\n",
    "  * Managing users\n",
    "  * Manage installed softwares\n",
    "  * Configure Devices such as printers over network\n",
    "  * and many more\n",
    "* When system is slow, one can go to \"Task Manager\" and see if any applications are causing the slowness.\n",
    "* We can kill the processes that are not important."
   ]
  }
 ],
 "metadata": {
  "kernelspec": {
   "display_name": "Python 3",
   "language": "python",
   "name": "python3"
  },
  "language_info": {
   "codemirror_mode": {
    "name": "ipython",
    "version": 3
   },
   "file_extension": ".py",
   "mimetype": "text/x-python",
   "name": "python",
   "nbconvert_exporter": "python",
   "pygments_lexer": "ipython3",
   "version": "3.6.12"
  }
 },
 "nbformat": 4,
 "nbformat_minor": 4
}
