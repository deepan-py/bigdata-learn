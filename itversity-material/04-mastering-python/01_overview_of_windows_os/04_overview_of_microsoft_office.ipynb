{
 "cells": [
  {
   "cell_type": "markdown",
   "metadata": {},
   "source": [
    "## Overview of Microsoft Office\n",
    "As IT Professionals, it is important to have an idea about tools we typically use for effective communication. Microsoft provide multiple tools under the Microsoft Office umbrella.\n",
    "* Outlook - for email commmunication.\n",
    "* Teams - for interactive chats.\n",
    "* Word - to create required documents for design and support.\n",
    "* Powerpoint - to create effective presentations.\n",
    "* Excel - to create spreadsheets for simple metrics and reports.\n",
    "\n",
    "Most of the organizations started using Google Suite and we get similar products under the Google Suite as well."
   ]
  }
 ],
 "metadata": {
  "kernelspec": {
   "display_name": "Python 3",
   "language": "python",
   "name": "python3"
  },
  "language_info": {
   "codemirror_mode": {
    "name": "ipython",
    "version": 3
   },
   "file_extension": ".py",
   "mimetype": "text/x-python",
   "name": "python",
   "nbconvert_exporter": "python",
   "pygments_lexer": "ipython3",
   "version": "3.8.5"
  }
 },
 "nbformat": 4,
 "nbformat_minor": 4
}
