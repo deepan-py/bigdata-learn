{
 "cells": [
  {
   "cell_type": "markdown",
   "metadata": {},
   "source": [
    "## Getting System Details\n",
    "\n",
    "Let us understand how to get System Details for Windows.\n",
    "* A computer or server is combination of CPU, Memory, Storage etc connected over a motherboard.\n",
    "* One need to have idea about the computer they are using to quantify the performance.\n",
    "* In Windows, one can go to File explorer and then to \"This PC\", right click and then check the details.\n",
    "* We can also go to task manager to have better understanding of the system configuration."
   ]
  }
 ],
 "metadata": {
  "kernelspec": {
   "display_name": "Python 3",
   "language": "python",
   "name": "python3"
  },
  "language_info": {
   "codemirror_mode": {
    "name": "ipython",
    "version": 3
   },
   "file_extension": ".py",
   "mimetype": "text/x-python",
   "name": "python",
   "nbconvert_exporter": "python",
   "pygments_lexer": "ipython3",
   "version": "3.6.12"
  }
 },
 "nbformat": 4,
 "nbformat_minor": 4
}
