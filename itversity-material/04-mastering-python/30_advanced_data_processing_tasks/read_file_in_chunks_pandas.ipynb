{
 "cells": [
  {
   "cell_type": "markdown",
   "id": "00545ce5",
   "metadata": {},
   "source": [
    "## Read file data in chunks"
   ]
  },
  {
   "cell_type": "code",
   "execution_count": 1,
   "id": "15c70d68",
   "metadata": {},
   "outputs": [],
   "source": [
    "#importing pandas library as pd\n",
    "import pandas as pd"
   ]
  },
  {
   "cell_type": "code",
   "execution_count": null,
   "id": "24199f29",
   "metadata": {},
   "outputs": [],
   "source": [
    "#information about read_csv\n",
    "help(pd.read_csv) "
   ]
  },
  {
   "cell_type": "code",
   "execution_count": 3,
   "id": "273304c6",
   "metadata": {},
   "outputs": [],
   "source": [
    " #path to the orders file\n",
    "path = '/data/retail_db/orders/part-00000'"
   ]
  },
  {
   "cell_type": "code",
   "execution_count": 4,
   "id": "4142d2bf",
   "metadata": {},
   "outputs": [],
   "source": [
    "#defining header\n",
    "schema = [\"order_id\",\"order_date\",\"order_customer_id\",\"order_status\"] "
   ]
  },
  {
   "cell_type": "code",
   "execution_count": 5,
   "id": "19c0161d",
   "metadata": {},
   "outputs": [],
   "source": [
    "#Assigining header\n",
    "orders=pd.read_csv(path, delimiter=',', header=None, names=schema) "
   ]
  },
  {
   "cell_type": "code",
   "execution_count": 6,
   "id": "14753e79",
   "metadata": {},
   "outputs": [
    {
     "data": {
      "text/plain": [
       "pandas.core.frame.DataFrame"
      ]
     },
     "execution_count": 6,
     "metadata": {},
     "output_type": "execute_result"
    }
   ],
   "source": [
    "#type of orders\n",
    "type(orders) "
   ]
  },
  {
   "cell_type": "code",
   "execution_count": 7,
   "id": "59569355",
   "metadata": {},
   "outputs": [
    {
     "data": {
      "text/plain": [
       "68883"
      ]
     },
     "execution_count": 7,
     "metadata": {},
     "output_type": "execute_result"
    }
   ],
   "source": [
    "# length of orders\n",
    "len(orders) "
   ]
  },
  {
   "cell_type": "markdown",
   "id": "5996b8b4",
   "metadata": {},
   "source": [
    "### Using Chunksize\n",
    "\n",
    "* The chunksize splits the data into chunks of defined size when given an input of integer greater than 0.\n",
    "* Using chunksize just splits the file into chunks.\n",
    "* But to access a particular chunk,we need to use nrows and skiprows.\n",
    "* It is demonstrated after chunksize."
   ]
  },
  {
   "cell_type": "code",
   "execution_count": 8,
   "id": "fcc21efe",
   "metadata": {},
   "outputs": [],
   "source": [
    "# Usage of chunksize\n",
    "orders_chunk = pd.read_csv(path, delimiter=',', header=None, names=schema, chunksize=10 )"
   ]
  },
  {
   "cell_type": "code",
   "execution_count": 9,
   "id": "5e5fc96a",
   "metadata": {},
   "outputs": [
    {
     "data": {
      "text/plain": [
       "6889"
      ]
     },
     "execution_count": 9,
     "metadata": {},
     "output_type": "execute_result"
    }
   ],
   "source": [
    "# Here,we get 6889 chunks of each size 10, except for the last chunk\n",
    "len(list(orders_chunk))"
   ]
  },
  {
   "cell_type": "markdown",
   "id": "6fecad80",
   "metadata": {},
   "source": [
    "### Usage of nrows along with chunksize\n",
    "* `nrows` basically gives no. of rows that we want to see.\n",
    "* Here we are assigning nrows with a value that is multiple of chunksize to get required no. of chunks.\n",
    "* If `nrows < chunksize`, it gives given no. of rows from first chunk.\n",
    "* If `nrows = chunksize`, gives us the first chunk.\n",
    "* If `nrows = 2(chunksize)` we can get first two chunks.\n",
    "Note : nrows to be a multiple of chunksize to get proper chunks as output"
   ]
  },
  {
   "cell_type": "markdown",
   "id": "a22da9e8",
   "metadata": {},
   "source": [
    "The below code gives us first two chunks :"
   ]
  },
  {
   "cell_type": "code",
   "execution_count": 155,
   "id": "f814c0e2",
   "metadata": {},
   "outputs": [],
   "source": [
    "chunk_1_and_2 = pd.read_csv(path, delimiter=',', header=None, names=schema, chunksize=10 ,nrows=20)"
   ]
  },
  {
   "cell_type": "code",
   "execution_count": 152,
   "id": "1e791b30",
   "metadata": {},
   "outputs": [
    {
     "data": {
      "text/plain": [
       "pandas.io.parsers.TextFileReader"
      ]
     },
     "execution_count": 152,
     "metadata": {},
     "output_type": "execute_result"
    }
   ],
   "source": [
    "type(chunk_1_and_2)"
   ]
  },
  {
   "cell_type": "code",
   "execution_count": 153,
   "id": "755cd50d",
   "metadata": {},
   "outputs": [
    {
     "data": {
      "text/plain": [
       "2"
      ]
     },
     "execution_count": 153,
     "metadata": {},
     "output_type": "execute_result"
    }
   ],
   "source": [
    "len(list(chunk_1_and_2))"
   ]
  },
  {
   "cell_type": "code",
   "execution_count": 156,
   "id": "899257ce",
   "metadata": {},
   "outputs": [
    {
     "data": {
      "text/plain": [
       "[   order_id             order_date  order_customer_id     order_status\n",
       " 0         1  2013-07-25 00:00:00.0              11599           CLOSED\n",
       " 1         2  2013-07-25 00:00:00.0                256  PENDING_PAYMENT\n",
       " 2         3  2013-07-25 00:00:00.0              12111         COMPLETE\n",
       " 3         4  2013-07-25 00:00:00.0               8827           CLOSED\n",
       " 4         5  2013-07-25 00:00:00.0              11318         COMPLETE\n",
       " 5         6  2013-07-25 00:00:00.0               7130         COMPLETE\n",
       " 6         7  2013-07-25 00:00:00.0               4530         COMPLETE\n",
       " 7         8  2013-07-25 00:00:00.0               2911       PROCESSING\n",
       " 8         9  2013-07-25 00:00:00.0               5657  PENDING_PAYMENT\n",
       " 9        10  2013-07-25 00:00:00.0               5648  PENDING_PAYMENT,\n",
       "     order_id             order_date  order_customer_id     order_status\n",
       " 10        11  2013-07-25 00:00:00.0                918   PAYMENT_REVIEW\n",
       " 11        12  2013-07-25 00:00:00.0               1837           CLOSED\n",
       " 12        13  2013-07-25 00:00:00.0               9149  PENDING_PAYMENT\n",
       " 13        14  2013-07-25 00:00:00.0               9842       PROCESSING\n",
       " 14        15  2013-07-25 00:00:00.0               2568         COMPLETE\n",
       " 15        16  2013-07-25 00:00:00.0               7276  PENDING_PAYMENT\n",
       " 16        17  2013-07-25 00:00:00.0               2667         COMPLETE\n",
       " 17        18  2013-07-25 00:00:00.0               1205           CLOSED\n",
       " 18        19  2013-07-25 00:00:00.0               9488  PENDING_PAYMENT\n",
       " 19        20  2013-07-25 00:00:00.0               9198       PROCESSING]"
      ]
     },
     "execution_count": 156,
     "metadata": {},
     "output_type": "execute_result"
    }
   ],
   "source": [
    "list(chunk_1_and_2)"
   ]
  },
  {
   "cell_type": "markdown",
   "id": "04591323",
   "metadata": {},
   "source": [
    "* If we want to get a particular chunk by avoiding all the chunks:\n",
    "  * We have to use `nrows`, `skiprows` and  `chunksize` together.\n",
    "  * `nrows` will be equal to chunksize as we need output as particular chunk completely.\n",
    "  * `skiprows` should be `(n - 1) * chunksize` so that it skips all the lines above the required chunk.\n",
    "\n",
    "* Here you can see how to get 2nd chunk."
   ]
  },
  {
   "cell_type": "code",
   "execution_count": 136,
   "id": "bd3e2621",
   "metadata": {},
   "outputs": [],
   "source": [
    "chunk_2 = pd.read_csv(path, delimiter=',', header=None, names=schema, chunksize=10 ,skiprows=10,nrows=10)"
   ]
  },
  {
   "cell_type": "code",
   "execution_count": 133,
   "id": "8ea999c6",
   "metadata": {},
   "outputs": [
    {
     "data": {
      "text/plain": [
       "pandas.io.parsers.TextFileReader"
      ]
     },
     "execution_count": 133,
     "metadata": {},
     "output_type": "execute_result"
    }
   ],
   "source": [
    "type(chunk_2)"
   ]
  },
  {
   "cell_type": "code",
   "execution_count": 134,
   "id": "16d7fc44",
   "metadata": {},
   "outputs": [
    {
     "data": {
      "text/plain": [
       "1"
      ]
     },
     "execution_count": 134,
     "metadata": {},
     "output_type": "execute_result"
    }
   ],
   "source": [
    "len(list(chunk_2))"
   ]
  },
  {
   "cell_type": "code",
   "execution_count": 137,
   "id": "b7700459",
   "metadata": {},
   "outputs": [
    {
     "data": {
      "text/plain": [
       "[   order_id             order_date  order_customer_id     order_status\n",
       " 0        11  2013-07-25 00:00:00.0                918   PAYMENT_REVIEW\n",
       " 1        12  2013-07-25 00:00:00.0               1837           CLOSED\n",
       " 2        13  2013-07-25 00:00:00.0               9149  PENDING_PAYMENT\n",
       " 3        14  2013-07-25 00:00:00.0               9842       PROCESSING\n",
       " 4        15  2013-07-25 00:00:00.0               2568         COMPLETE\n",
       " 5        16  2013-07-25 00:00:00.0               7276  PENDING_PAYMENT\n",
       " 6        17  2013-07-25 00:00:00.0               2667         COMPLETE\n",
       " 7        18  2013-07-25 00:00:00.0               1205           CLOSED\n",
       " 8        19  2013-07-25 00:00:00.0               9488  PENDING_PAYMENT\n",
       " 9        20  2013-07-25 00:00:00.0               9198       PROCESSING]"
      ]
     },
     "execution_count": 137,
     "metadata": {},
     "output_type": "execute_result"
    }
   ],
   "source": [
    "list(chunk_2)"
   ]
  },
  {
   "cell_type": "markdown",
   "id": "07f0313d",
   "metadata": {},
   "source": [
    "* To get nth chunk\n",
    "\n",
    "```python\n",
    "skiprows=chunksize * (n-1),\n",
    "nrows=chunksize\n",
    "```"
   ]
  },
  {
   "cell_type": "markdown",
   "id": "f7ff45e4",
   "metadata": {},
   "source": [
    "Lets define a function to access the chunk we need:"
   ]
  },
  {
   "cell_type": "code",
   "execution_count": 158,
   "id": "7829c0d0",
   "metadata": {},
   "outputs": [],
   "source": [
    "def get_nth_chunk(path, size, n):\n",
    "    \"\"\"This function gets us the nth chunk by taking path,required chunksize and required chunk number as inputs \"\"\"\n",
    "    chunksize = size\n",
    "    nrows = size\n",
    "    skiprows = size * (n - 1)\n",
    "    chunk_n = pd.read_csv(path, delimiter=',', header=None, names=schema, \n",
    "                          chunksize=chunksize, nrows=nrows, skiprows=skiprows)\n",
    "    return list(chunk_n)"
   ]
  },
  {
   "cell_type": "code",
   "execution_count": 159,
   "id": "3bec54bf",
   "metadata": {},
   "outputs": [
    {
     "data": {
      "text/plain": [
       "[   order_id             order_date  order_customer_id     order_status\n",
       " 0        11  2013-07-25 00:00:00.0                918   PAYMENT_REVIEW\n",
       " 1        12  2013-07-25 00:00:00.0               1837           CLOSED\n",
       " 2        13  2013-07-25 00:00:00.0               9149  PENDING_PAYMENT\n",
       " 3        14  2013-07-25 00:00:00.0               9842       PROCESSING\n",
       " 4        15  2013-07-25 00:00:00.0               2568         COMPLETE\n",
       " 5        16  2013-07-25 00:00:00.0               7276  PENDING_PAYMENT\n",
       " 6        17  2013-07-25 00:00:00.0               2667         COMPLETE\n",
       " 7        18  2013-07-25 00:00:00.0               1205           CLOSED\n",
       " 8        19  2013-07-25 00:00:00.0               9488  PENDING_PAYMENT\n",
       " 9        20  2013-07-25 00:00:00.0               9198       PROCESSING]"
      ]
     },
     "execution_count": 159,
     "metadata": {},
     "output_type": "execute_result"
    }
   ],
   "source": [
    "# split the file in chunks of size 10 each and get 2nd chunk:\n",
    "get_nth_chunk('/data/retail_db/orders/part-00000', 10, 2)"
   ]
  }
 ],
 "metadata": {
  "kernelspec": {
   "display_name": "Python 3",
   "language": "python",
   "name": "python3"
  },
  "language_info": {
   "codemirror_mode": {
    "name": "ipython",
    "version": 3
   },
   "file_extension": ".py",
   "mimetype": "text/x-python",
   "name": "python",
   "nbconvert_exporter": "python",
   "pygments_lexer": "ipython3",
   "version": "3.6.12"
  }
 },
 "nbformat": 4,
 "nbformat_minor": 5
}
