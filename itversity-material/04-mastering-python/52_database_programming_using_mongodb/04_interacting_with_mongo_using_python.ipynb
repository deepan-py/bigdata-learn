{
 "cells": [
  {
   "cell_type": "code",
   "execution_count": 1,
   "id": "98aa051d-1bbb-4281-9f12-5dfb41364f3e",
   "metadata": {},
   "outputs": [],
   "source": [
    "import pymongo"
   ]
  },
  {
   "cell_type": "code",
   "execution_count": null,
   "id": "a761cb2d-98fc-4b86-8d21-f0871dd380e1",
   "metadata": {},
   "outputs": [],
   "source": [
    "pymongo.MongoClient?"
   ]
  },
  {
   "cell_type": "code",
   "execution_count": 2,
   "id": "3e592da4-90d6-448e-a3bc-b9baa040785b",
   "metadata": {},
   "outputs": [],
   "source": [
    "client = pymongo.MongoClient(\n",
    "    host='localhost', \n",
    "    username='itversity_scratch_user', \n",
    "    password='Itv3rs1ty', \n",
    "    authSource='admin'\n",
    ")"
   ]
  },
  {
   "cell_type": "code",
   "execution_count": 3,
   "id": "4f85e9b7-233d-4f1a-95d5-e4ed41e46317",
   "metadata": {},
   "outputs": [
    {
     "data": {
      "text/plain": [
       "[]"
      ]
     },
     "execution_count": 3,
     "metadata": {},
     "output_type": "execute_result"
    }
   ],
   "source": [
    "client.itversity_scratch_db.list_collection_names()"
   ]
  },
  {
   "cell_type": "code",
   "execution_count": 4,
   "id": "febea5aa-85e9-4125-9e73-5a08debc2e76",
   "metadata": {},
   "outputs": [
    {
     "data": {
      "text/plain": [
       "Collection(Database(MongoClient(host=['localhost:27017'], document_class=dict, tz_aware=False, connect=True, authsource='admin'), 'itversity_scratch_db'), 'customers')"
      ]
     },
     "execution_count": 4,
     "metadata": {},
     "output_type": "execute_result"
    }
   ],
   "source": [
    "client.itversity_scratch_db.create_collection('customers')"
   ]
  },
  {
   "cell_type": "code",
   "execution_count": 5,
   "id": "ae8b6d38-d8e3-4deb-bac8-6173dbf06953",
   "metadata": {},
   "outputs": [],
   "source": [
    "customers_collection = client.itversity_scratch_db.customers"
   ]
  },
  {
   "cell_type": "code",
   "execution_count": 6,
   "id": "880c08b2-3b9d-42bc-8234-c47305d74c51",
   "metadata": {},
   "outputs": [
    {
     "data": {
      "text/plain": [
       "pymongo.collection.Collection"
      ]
     },
     "execution_count": 6,
     "metadata": {},
     "output_type": "execute_result"
    }
   ],
   "source": [
    "type(customers_collection)"
   ]
  },
  {
   "cell_type": "code",
   "execution_count": 7,
   "id": "b15efbf0-cd29-485c-a7ac-dbb080e01342",
   "metadata": {},
   "outputs": [
    {
     "data": {
      "text/plain": [
       "Collection(Database(MongoClient(host=['localhost:27017'], document_class=dict, tz_aware=False, connect=True, authsource='admin'), 'itversity_scratch_db'), 'customers')"
      ]
     },
     "execution_count": 7,
     "metadata": {},
     "output_type": "execute_result"
    }
   ],
   "source": [
    "customers_collection"
   ]
  },
  {
   "cell_type": "code",
   "execution_count": 8,
   "id": "18b41b0f-ca7c-43f4-a6a3-b05fc7f08bb9",
   "metadata": {},
   "outputs": [
    {
     "data": {
      "text/plain": [
       "['customers']"
      ]
     },
     "execution_count": 8,
     "metadata": {},
     "output_type": "execute_result"
    }
   ],
   "source": [
    "client.itversity_scratch_db.list_collection_names()"
   ]
  },
  {
   "cell_type": "code",
   "execution_count": 9,
   "id": "9a92e484-3860-4383-a59b-d0aff0436294",
   "metadata": {},
   "outputs": [
    {
     "data": {
      "text/plain": [
       "<pymongo.results.InsertOneResult at 0x7fbd7e711fa0>"
      ]
     },
     "execution_count": 9,
     "metadata": {},
     "output_type": "execute_result"
    }
   ],
   "source": [
    "customers_collection.insert_one({\"fname\": \"Scott\", \"lname\": \"Tiger\", \"email\": \"stiger@example.com\"})"
   ]
  },
  {
   "cell_type": "code",
   "execution_count": 10,
   "id": "93c3cc4b-ecf8-404e-baf9-cd5486985e90",
   "metadata": {},
   "outputs": [
    {
     "data": {
      "text/plain": [
       "{'_id': ObjectId('60b5017f6f2b3621d43813cf'),\n",
       " 'fname': 'Scott',\n",
       " 'lname': 'Tiger',\n",
       " 'email': 'stiger@example.com'}"
      ]
     },
     "execution_count": 10,
     "metadata": {},
     "output_type": "execute_result"
    }
   ],
   "source": [
    "customers_collection.find_one()"
   ]
  },
  {
   "cell_type": "code",
   "execution_count": 11,
   "id": "031742ec-a4f9-437e-a4c6-e18fcf6c08f6",
   "metadata": {},
   "outputs": [
    {
     "data": {
      "text/plain": [
       "{'nIndexesWas': 1, 'ns': 'itversity_scratch_db.customers', 'ok': 1.0}"
      ]
     },
     "execution_count": 11,
     "metadata": {},
     "output_type": "execute_result"
    }
   ],
   "source": [
    "client.itversity_scratch_db.drop_collection('customers')"
   ]
  },
  {
   "cell_type": "code",
   "execution_count": 12,
   "id": "9e6d12cc-6040-48da-b24c-a7e8d8e77c4b",
   "metadata": {},
   "outputs": [
    {
     "data": {
      "text/plain": [
       "[]"
      ]
     },
     "execution_count": 12,
     "metadata": {},
     "output_type": "execute_result"
    }
   ],
   "source": [
    "client.itversity_scratch_db.list_collection_names()"
   ]
  },
  {
   "cell_type": "code",
   "execution_count": null,
   "id": "de320754-a424-4f9c-a483-3c4abefb726f",
   "metadata": {},
   "outputs": [],
   "source": []
  }
 ],
 "metadata": {
  "kernelspec": {
   "display_name": "Python 3",
   "language": "python",
   "name": "python3"
  },
  "language_info": {
   "codemirror_mode": {
    "name": "ipython",
    "version": 3
   },
   "file_extension": ".py",
   "mimetype": "text/x-python",
   "name": "python",
   "nbconvert_exporter": "python",
   "pygments_lexer": "ipython3",
   "version": "3.7.10"
  }
 },
 "nbformat": 4,
 "nbformat_minor": 5
}
