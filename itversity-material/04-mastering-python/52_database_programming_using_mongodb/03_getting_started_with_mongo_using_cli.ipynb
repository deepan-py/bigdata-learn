{
 "cells": [
  {
   "cell_type": "markdown",
   "id": "7f9ce9c8-6525-4904-b17e-b2d84d13d3d0",
   "metadata": {},
   "source": [
    "## Getting Started with Mongo using CLI\n",
    "\n",
    "Let us see how you can connect to Mongo using CLI as part of our labs.\n",
    "* Launch terminal or connect to terminal using SSH.\n",
    "* Use `mongosh` command to connect to the database. You need to pass username, authentication database and database name.\n",
    "\n",
    "```shell\n",
    "mongosh \\\n",
    "  -u itversity_scratch_user \\\n",
    "  --authenticationDatabase admin \\\n",
    "  itversity_scratch_db\n",
    "```\n",
    "\n",
    "* Enter the labs password when it prompts for the password.\n",
    "* If you are able to login successfully you will not see any error messages.\n",
    "* You can run following command to list the databases. It should return **itversity_scratch_db**.\n",
    "\n",
    "```monogodb\n",
    "show dbs;\n",
    "```\n",
    "\n",
    "* You can run this command to create a collection and insert one record into it.\n",
    "\n",
    "```mongodb\n",
    "db.customers.insertOne({\"fname\": \"Scott\", \"lname\": \"Tiger\", \"email\": \"stiger@example.com\"})\n",
    "db.customers.findOne({})\n",
    "```\n",
    "\n",
    "* You can also drop the collection by running the following command. You can validate by listing the collections to confirm the collection is dropped.\n",
    "\n",
    "```mongodb\n",
    "db.customers.drop()\n",
    "show collections;\n",
    "```"
   ]
  }
 ],
 "metadata": {
  "kernelspec": {
   "display_name": "Python 3",
   "language": "python",
   "name": "python3"
  },
  "language_info": {
   "codemirror_mode": {
    "name": "ipython",
    "version": 3
   },
   "file_extension": ".py",
   "mimetype": "text/x-python",
   "name": "python",
   "nbconvert_exporter": "python",
   "pygments_lexer": "ipython3",
   "version": "3.7.10"
  }
 },
 "nbformat": 4,
 "nbformat_minor": 5
}
