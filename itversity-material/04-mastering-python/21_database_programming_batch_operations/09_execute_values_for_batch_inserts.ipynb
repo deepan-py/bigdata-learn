{
 "cells": [
  {
   "cell_type": "code",
   "execution_count": null,
   "id": "542daa9e",
   "metadata": {},
   "outputs": [],
   "source": [
    "%run 02_function_get_database_connection.ipynb"
   ]
  },
  {
   "cell_type": "code",
   "execution_count": null,
   "id": "06c503dc",
   "metadata": {},
   "outputs": [],
   "source": [
    "%load_ext sql"
   ]
  },
  {
   "cell_type": "code",
   "execution_count": null,
   "id": "dfc6241a",
   "metadata": {},
   "outputs": [],
   "source": [
    "%env DATABASE_URL=postgresql://{username}_sms_user:{password}@{postgres_host}:{postgres_port}/{username}_sms_db"
   ]
  },
  {
   "cell_type": "code",
   "execution_count": null,
   "id": "23cbe43e",
   "metadata": {},
   "outputs": [],
   "source": [
    "%%sql\n",
    "\n",
    "DROP TABLE IF EXISTS courses"
   ]
  },
  {
   "cell_type": "code",
   "execution_count": null,
   "id": "522530a5",
   "metadata": {},
   "outputs": [],
   "source": [
    "%%sql\n",
    "\n",
    "CREATE TABLE courses (\n",
    "    course_id SERIAL PRIMARY KEY,\n",
    "    course_name VARCHAR(60),\n",
    "    course_author VARCHAR(40),\n",
    "    course_status VARCHAR(9) CHECK (course_status IN ('published', 'inactive', 'draft')),\n",
    "    course_published_dt DATE\n",
    ")"
   ]
  },
  {
   "cell_type": "code",
   "execution_count": 7,
   "id": "d1f1375c",
   "metadata": {},
   "outputs": [],
   "source": [
    "courses = [{'course_name': 'Programming using Python',\n",
    "  'course_author': 'Bob Dillon',\n",
    "  'course_status': 'published',\n",
    "  'course_publised_dt': '2020-09-30'},\n",
    " {'course_name': 'Data Engineering using Python',\n",
    "  'course_author': 'Bob Dillon',\n",
    "  'course_status': 'published',\n",
    "  'course_publised_dt': '2020-07-15'},\n",
    " {'course_name': 'Data Engineering using Scala',\n",
    "  'course_author': 'Elvis Presley',\n",
    "  'course_status': 'draft',\n",
    "  'course_publised_dt': None},\n",
    " {'course_name': 'Programming using Scala',\n",
    "  'course_author': 'Elvis Presley',\n",
    "  'course_status': 'published',\n",
    "  'course_publised_dt': '2020-05-12'},\n",
    " {'course_name': 'Programming using Java',\n",
    "  'course_author': 'Mike Jack',\n",
    "  'course_status': 'inactive',\n",
    "  'course_publised_dt': '2020-08-10'},\n",
    " {'course_name': 'Web Applications - Python Flask',\n",
    "  'course_author': 'Bob Dillon',\n",
    "  'course_status': 'inactive',\n",
    "  'course_publised_dt': '2020-07-20'},\n",
    " {'course_name': 'Web Applications - Java Spring',\n",
    "  'course_author': 'Mike Jack',\n",
    "  'course_status': 'draft',\n",
    "  'course_publised_dt': None},\n",
    " {'course_name': 'Pipeline Orchestration - Python',\n",
    "  'course_author': 'Bob Dillon',\n",
    "  'course_status': 'draft',\n",
    "  'course_publised_dt': None},\n",
    " {'course_name': 'Streaming Pipelines - Python',\n",
    "  'course_author': 'Bob Dillon',\n",
    "  'course_status': 'published',\n",
    "  'course_publised_dt': '2020-10-05'},\n",
    " {'course_name': 'Web Applications - Scala Play',\n",
    "  'course_author': 'Elvis Presley',\n",
    "  'course_status': 'inactive',\n",
    "  'course_publised_dt': '2020-09-30'},\n",
    " {'course_name': 'Web Applications - Python Django',\n",
    "  'course_author': 'Bob Dillon',\n",
    "  'course_status': 'published',\n",
    "  'course_publised_dt': '2020-06-23'},\n",
    " {'course_name': 'Server Automation - Ansible',\n",
    "  'course_author': 'Uncle Sam',\n",
    "  'course_status': 'published',\n",
    "  'course_publised_dt': '2020-07-05'}]"
   ]
  },
  {
   "cell_type": "code",
   "execution_count": 3,
   "id": "d93a0e1a",
   "metadata": {},
   "outputs": [],
   "source": [
    "import psycopg2\n",
    "from psycopg2.extras import execute_values"
   ]
  },
  {
   "cell_type": "code",
   "execution_count": 4,
   "id": "3a088280",
   "metadata": {},
   "outputs": [],
   "source": [
    "columns = courses[0].keys()\n",
    "query = \"INSERT INTO courses ({}) VALUES %s\".format(','.join(columns))"
   ]
  },
  {
   "cell_type": "code",
   "execution_count": 5,
   "id": "b1420934",
   "metadata": {},
   "outputs": [
    {
     "data": {
      "text/plain": [
       "'INSERT INTO courses (course_name,course_author,course_status,course_publised_dt) VALUES %s'"
      ]
     },
     "execution_count": 5,
     "metadata": {},
     "output_type": "execute_result"
    }
   ],
   "source": [
    "query"
   ]
  },
  {
   "cell_type": "code",
   "execution_count": 9,
   "id": "3051faa2",
   "metadata": {},
   "outputs": [],
   "source": [
    "values = [[value for value in course.values()] for course in courses]"
   ]
  },
  {
   "cell_type": "code",
   "execution_count": 10,
   "id": "0e2c5eec",
   "metadata": {},
   "outputs": [
    {
     "data": {
      "text/plain": [
       "[['Programming using Python', 'Bob Dillon', 'published', '2020-09-30'],\n",
       " ['Data Engineering using Python', 'Bob Dillon', 'published', '2020-07-15'],\n",
       " ['Data Engineering using Scala', 'Elvis Presley', 'draft', None],\n",
       " ['Programming using Scala', 'Elvis Presley', 'published', '2020-05-12'],\n",
       " ['Programming using Java', 'Mike Jack', 'inactive', '2020-08-10'],\n",
       " ['Web Applications - Python Flask', 'Bob Dillon', 'inactive', '2020-07-20'],\n",
       " ['Web Applications - Java Spring', 'Mike Jack', 'draft', None],\n",
       " ['Pipeline Orchestration - Python', 'Bob Dillon', 'draft', None],\n",
       " ['Streaming Pipelines - Python', 'Bob Dillon', 'published', '2020-10-05'],\n",
       " ['Web Applications - Scala Play', 'Elvis Presley', 'inactive', '2020-09-30'],\n",
       " ['Web Applications - Python Django', 'Bob Dillon', 'published', '2020-06-23'],\n",
       " ['Server Automation - Ansible', 'Uncle Sam', 'published', '2020-07-05']]"
      ]
     },
     "execution_count": 10,
     "metadata": {},
     "output_type": "execute_result"
    }
   ],
   "source": [
    "values"
   ]
  },
  {
   "cell_type": "code",
   "execution_count": null,
   "id": "c648c057",
   "metadata": {},
   "outputs": [],
   "source": [
    "execute_values(cursor, query, values)"
   ]
  },
  {
   "cell_type": "code",
   "execution_count": null,
   "id": "69ac53ac",
   "metadata": {},
   "outputs": [],
   "source": [
    "conn.commit()"
   ]
  }
 ],
 "metadata": {
  "kernelspec": {
   "display_name": "Python 3",
   "language": "python",
   "name": "python3"
  },
  "language_info": {
   "codemirror_mode": {
    "name": "ipython",
    "version": 3
   },
   "file_extension": ".py",
   "mimetype": "text/x-python",
   "name": "python",
   "nbconvert_exporter": "python",
   "pygments_lexer": "ipython3",
   "version": "3.6.12"
  }
 },
 "nbformat": 4,
 "nbformat_minor": 5
}
